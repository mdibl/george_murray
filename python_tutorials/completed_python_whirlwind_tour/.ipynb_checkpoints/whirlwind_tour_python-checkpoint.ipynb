{
 "cells": [
  {
   "cell_type": "code",
   "execution_count": 1,
   "metadata": {},
   "outputs": [
    {
     "name": "stdout",
     "output_type": "stream",
     "text": [
      "lower [0, 1, 2, 3, 4]\n",
      "upper [5, 6, 7, 8, 9]\n"
     ]
    }
   ],
   "source": [
    "#set the midpoint\n",
    "midpoint = 5\n",
    "\n",
    "#make two empty lists\n",
    "lower = []; upper = [];\n",
    "\n",
    "#split the numbers into lower and upper\n",
    "for i in range (10):\n",
    "    if (i<midpoint):\n",
    "        lower.append(i)\n",
    "    else:\n",
    "        upper.append(i)\n",
    "        \n",
    "print(\"lower\", lower)\n",
    "print(\"upper\", upper)"
   ]
  },
  {
   "cell_type": "code",
   "execution_count": null,
   "metadata": {},
   "outputs": [],
   "source": [
    "# assign 4 to the variable x\n",
    "x = 4 #x is an integer\n",
    "x = 'hello' #x is a string\n",
    "x = [1, 2, 3] #now x is a list"
   ]
  },
  {
   "cell_type": "code",
   "execution_count": 2,
   "metadata": {},
   "outputs": [
    {
     "name": "stdout",
     "output_type": "stream",
     "text": [
      "[1, 2, 3]\n"
     ]
    }
   ],
   "source": [
    "# two variables point to same object, modifying one will\n",
    "##change the other\n",
    "\n",
    "x = [1,2,3]\n",
    "y = x\n",
    "print(y)"
   ]
  },
  {
   "cell_type": "code",
   "execution_count": 3,
   "metadata": {},
   "outputs": [
    {
     "name": "stdout",
     "output_type": "stream",
     "text": [
      "[1, 2, 3, 4]\n"
     ]
    }
   ],
   "source": [
    "x.append(4) #append 4 to the list pointed to by x\n",
    "print(y) #y's list is modified as well"
   ]
  },
  {
   "cell_type": "code",
   "execution_count": 4,
   "metadata": {},
   "outputs": [
    {
     "name": "stdout",
     "output_type": "stream",
     "text": [
      "[1, 2, 3, 4]\n"
     ]
    }
   ],
   "source": [
    "x = 'something else'\n",
    "print(y) #remains unchaged if x becomes new object"
   ]
  },
  {
   "cell_type": "code",
   "execution_count": 5,
   "metadata": {},
   "outputs": [
    {
     "name": "stdout",
     "output_type": "stream",
     "text": [
      "x= 15\n",
      "y= 10\n"
     ]
    }
   ],
   "source": [
    "# variables point to objects\n",
    "x = 10\n",
    "y = x\n",
    "x += 5 #adding 5 to x's value doesn't change value of y\n",
    "print(\"x=\", x)\n",
    "print(\"y=\", y)"
   ]
  },
  {
   "cell_type": "code",
   "execution_count": 11,
   "metadata": {},
   "outputs": [
    {
     "data": {
      "text/plain": [
       "int"
      ]
     },
     "execution_count": 11,
     "metadata": {},
     "output_type": "execute_result"
    }
   ],
   "source": [
    "#types\n",
    "x = 4\n",
    "type(x)\n"
   ]
  },
  {
   "cell_type": "code",
   "execution_count": 12,
   "metadata": {},
   "outputs": [
    {
     "data": {
      "text/plain": [
       "str"
      ]
     },
     "execution_count": 12,
     "metadata": {},
     "output_type": "execute_result"
    }
   ],
   "source": [
    "y = 'hello'\n",
    "type(y)\n"
   ]
  },
  {
   "cell_type": "code",
   "execution_count": 13,
   "metadata": {},
   "outputs": [
    {
     "data": {
      "text/plain": [
       "float"
      ]
     },
     "execution_count": 13,
     "metadata": {},
     "output_type": "execute_result"
    }
   ],
   "source": [
    "z = 3.14159\n",
    "type(z)"
   ]
  },
  {
   "cell_type": "code",
   "execution_count": 14,
   "metadata": {},
   "outputs": [
    {
     "name": "stdout",
     "output_type": "stream",
     "text": [
      "[1, 2, 3, 100]\n"
     ]
    }
   ],
   "source": [
    "L = [1, 2, 3]\n",
    "L.append(100)\n",
    "print(L)"
   ]
  },
  {
   "cell_type": "code",
   "execution_count": 15,
   "metadata": {},
   "outputs": [
    {
     "name": "stdout",
     "output_type": "stream",
     "text": [
      "4.5 + 0.0 i\n"
     ]
    }
   ],
   "source": [
    "x = 4.5\n",
    "print(x.real, \"+\", x.imag, 'i')"
   ]
  },
  {
   "cell_type": "code",
   "execution_count": 16,
   "metadata": {},
   "outputs": [
    {
     "data": {
      "text/plain": [
       "False"
      ]
     },
     "execution_count": 16,
     "metadata": {},
     "output_type": "execute_result"
    }
   ],
   "source": [
    "# methods\n",
    "x = 4.5\n",
    "x.is_integer()"
   ]
  },
  {
   "cell_type": "code",
   "execution_count": 17,
   "metadata": {},
   "outputs": [
    {
     "data": {
      "text/plain": [
       "True"
      ]
     },
     "execution_count": 17,
     "metadata": {},
     "output_type": "execute_result"
    }
   ],
   "source": [
    "x = 4.0\n",
    "x.is_integer()"
   ]
  },
  {
   "cell_type": "code",
   "execution_count": 18,
   "metadata": {},
   "outputs": [
    {
     "data": {
      "text/plain": [
       "builtin_function_or_method"
      ]
     },
     "execution_count": 18,
     "metadata": {},
     "output_type": "execute_result"
    }
   ],
   "source": [
    "type(x.is_integer)"
   ]
  },
  {
   "cell_type": "code",
   "execution_count": 1,
   "metadata": {},
   "outputs": [
    {
     "data": {
      "text/plain": [
       "42.0"
      ]
     },
     "execution_count": 1,
     "metadata": {},
     "output_type": "execute_result"
    }
   ],
   "source": [
    "# operators\n",
    "(4+8) * (6.5 -3)"
   ]
  },
  {
   "cell_type": "code",
   "execution_count": 2,
   "metadata": {},
   "outputs": [
    {
     "name": "stdout",
     "output_type": "stream",
     "text": [
      "5.5\n"
     ]
    }
   ],
   "source": [
    "#true division\n",
    "print(11/2)"
   ]
  },
  {
   "cell_type": "code",
   "execution_count": 3,
   "metadata": {},
   "outputs": [
    {
     "name": "stdout",
     "output_type": "stream",
     "text": [
      "5\n"
     ]
    }
   ],
   "source": [
    "#floor division\n",
    "print(11 // 2)"
   ]
  },
  {
   "cell_type": "code",
   "execution_count": 4,
   "metadata": {},
   "outputs": [
    {
     "data": {
      "text/plain": [
       "'0b1010'"
      ]
     },
     "execution_count": 4,
     "metadata": {},
     "output_type": "execute_result"
    }
   ],
   "source": [
    "bin(10)"
   ]
  },
  {
   "cell_type": "code",
   "execution_count": 5,
   "metadata": {},
   "outputs": [
    {
     "data": {
      "text/plain": [
       "'0b1111101000'"
      ]
     },
     "execution_count": 5,
     "metadata": {},
     "output_type": "execute_result"
    }
   ],
   "source": [
    "bin(1000)"
   ]
  },
  {
   "cell_type": "code",
   "execution_count": 6,
   "metadata": {},
   "outputs": [
    {
     "data": {
      "text/plain": [
       "14"
      ]
     },
     "execution_count": 6,
     "metadata": {},
     "output_type": "execute_result"
    }
   ],
   "source": [
    "# or operator\n",
    "4 | 10"
   ]
  },
  {
   "cell_type": "code",
   "execution_count": 7,
   "metadata": {},
   "outputs": [
    {
     "data": {
      "text/plain": [
       "'0b1110'"
      ]
     },
     "execution_count": 7,
     "metadata": {},
     "output_type": "execute_result"
    }
   ],
   "source": [
    "bin(4|10)"
   ]
  },
  {
   "cell_type": "code",
   "execution_count": 8,
   "metadata": {},
   "outputs": [
    {
     "name": "stdout",
     "output_type": "stream",
     "text": [
      "26\n"
     ]
    }
   ],
   "source": [
    "# built-in update operators for all the arithmetic operations\n",
    "a = 24\n",
    "a += 2 \n",
    "print(a)"
   ]
  },
  {
   "cell_type": "code",
   "execution_count": 9,
   "metadata": {},
   "outputs": [
    {
     "data": {
      "text/plain": [
       "False"
      ]
     },
     "execution_count": 9,
     "metadata": {},
     "output_type": "execute_result"
    }
   ],
   "source": [
    "# comparison operators\n",
    "a = 24\n",
    "b = 25\n",
    "a == b"
   ]
  },
  {
   "cell_type": "code",
   "execution_count": 10,
   "metadata": {},
   "outputs": [
    {
     "data": {
      "text/plain": [
       "True"
      ]
     },
     "execution_count": 10,
     "metadata": {},
     "output_type": "execute_result"
    }
   ],
   "source": [
    "a < b"
   ]
  },
  {
   "cell_type": "code",
   "execution_count": 11,
   "metadata": {},
   "outputs": [
    {
     "data": {
      "text/plain": [
       "True"
      ]
     },
     "execution_count": 11,
     "metadata": {},
     "output_type": "execute_result"
    }
   ],
   "source": [
    "a <= b"
   ]
  },
  {
   "cell_type": "code",
   "execution_count": 12,
   "metadata": {},
   "outputs": [
    {
     "data": {
      "text/plain": [
       "False"
      ]
     },
     "execution_count": 12,
     "metadata": {},
     "output_type": "execute_result"
    }
   ],
   "source": [
    "a >= b"
   ]
  },
  {
   "cell_type": "code",
   "execution_count": 13,
   "metadata": {},
   "outputs": [
    {
     "data": {
      "text/plain": [
       "True"
      ]
     },
     "execution_count": 13,
     "metadata": {},
     "output_type": "execute_result"
    }
   ],
   "source": [
    "a != b"
   ]
  },
  {
   "cell_type": "code",
   "execution_count": 14,
   "metadata": {},
   "outputs": [
    {
     "data": {
      "text/plain": [
       "True"
      ]
     },
     "execution_count": 14,
     "metadata": {},
     "output_type": "execute_result"
    }
   ],
   "source": [
    "25 % 2 == 1"
   ]
  },
  {
   "cell_type": "code",
   "execution_count": 15,
   "metadata": {},
   "outputs": [
    {
     "data": {
      "text/plain": [
       "False"
      ]
     },
     "execution_count": 15,
     "metadata": {},
     "output_type": "execute_result"
    }
   ],
   "source": [
    "# is 66 odd?\n",
    "66 % 2 == 1"
   ]
  },
  {
   "cell_type": "code",
   "execution_count": 16,
   "metadata": {},
   "outputs": [
    {
     "data": {
      "text/plain": [
       "True"
      ]
     },
     "execution_count": 16,
     "metadata": {},
     "output_type": "execute_result"
    }
   ],
   "source": [
    "# check if a is between 15 and 30\n",
    "a = 25\n",
    "\n",
    "15 < a < 30"
   ]
  },
  {
   "cell_type": "code",
   "execution_count": 17,
   "metadata": {},
   "outputs": [
    {
     "data": {
      "text/plain": [
       "True"
      ]
     },
     "execution_count": 17,
     "metadata": {},
     "output_type": "execute_result"
    }
   ],
   "source": [
    "-1 == ~0"
   ]
  },
  {
   "cell_type": "code",
   "execution_count": 18,
   "metadata": {},
   "outputs": [
    {
     "data": {
      "text/plain": [
       "True"
      ]
     },
     "execution_count": 18,
     "metadata": {},
     "output_type": "execute_result"
    }
   ],
   "source": [
    "x = 4\n",
    "(x < 6) and (x > 2)"
   ]
  },
  {
   "cell_type": "code",
   "execution_count": 19,
   "metadata": {},
   "outputs": [
    {
     "data": {
      "text/plain": [
       "True"
      ]
     },
     "execution_count": 19,
     "metadata": {},
     "output_type": "execute_result"
    }
   ],
   "source": [
    "(x > 10) or (x % 2 == 0)"
   ]
  },
  {
   "cell_type": "code",
   "execution_count": 20,
   "metadata": {},
   "outputs": [
    {
     "data": {
      "text/plain": [
       "False"
      ]
     },
     "execution_count": 20,
     "metadata": {},
     "output_type": "execute_result"
    }
   ],
   "source": [
    "not (x < 6)"
   ]
  },
  {
   "cell_type": "code",
   "execution_count": 21,
   "metadata": {},
   "outputs": [
    {
     "data": {
      "text/plain": [
       "False"
      ]
     },
     "execution_count": 21,
     "metadata": {},
     "output_type": "execute_result"
    }
   ],
   "source": [
    "# (x > 1) xor (x < 10)\n",
    "(x > 1) != (x < 10)"
   ]
  },
  {
   "cell_type": "code",
   "execution_count": null,
   "metadata": {},
   "outputs": [],
   "source": [
    "# Boolean operators should be used when you want\n",
    "# to compute Boolean values (i.e., truth or falsehood)\n",
    "# of entire statements. Bitwise operations should\n",
    "# be used when you want to operate on individual\n",
    "# bits or components of the objects in question."
   ]
  },
  {
   "cell_type": "code",
   "execution_count": 22,
   "metadata": {},
   "outputs": [
    {
     "data": {
      "text/plain": [
       "True"
      ]
     },
     "execution_count": 22,
     "metadata": {},
     "output_type": "execute_result"
    }
   ],
   "source": [
    "# identity operators check object identity, different from equality\n",
    "a = [1, 2, 3]\n",
    "b = [1, 2, 3]\n",
    "a == b"
   ]
  },
  {
   "cell_type": "code",
   "execution_count": 23,
   "metadata": {},
   "outputs": [
    {
     "data": {
      "text/plain": [
       "False"
      ]
     },
     "execution_count": 23,
     "metadata": {},
     "output_type": "execute_result"
    }
   ],
   "source": [
    "a is b"
   ]
  },
  {
   "cell_type": "code",
   "execution_count": 24,
   "metadata": {},
   "outputs": [
    {
     "data": {
      "text/plain": [
       "True"
      ]
     },
     "execution_count": 24,
     "metadata": {},
     "output_type": "execute_result"
    }
   ],
   "source": [
    "a is not b"
   ]
  },
  {
   "cell_type": "code",
   "execution_count": 25,
   "metadata": {},
   "outputs": [
    {
     "data": {
      "text/plain": [
       "True"
      ]
     },
     "execution_count": 25,
     "metadata": {},
     "output_type": "execute_result"
    }
   ],
   "source": [
    "# a and b are not identical objects above, below they are:\n",
    "a = [1, 2, 3]\n",
    "b = a\n",
    "a is b"
   ]
  },
  {
   "cell_type": "code",
   "execution_count": 26,
   "metadata": {},
   "outputs": [
    {
     "data": {
      "text/plain": [
       "True"
      ]
     },
     "execution_count": 26,
     "metadata": {},
     "output_type": "execute_result"
    }
   ],
   "source": [
    "# membership operators check for membership within compound objects\n",
    "1 in [1, 2, 3]"
   ]
  },
  {
   "cell_type": "code",
   "execution_count": 27,
   "metadata": {},
   "outputs": [
    {
     "data": {
      "text/plain": [
       "False"
      ]
     },
     "execution_count": 27,
     "metadata": {},
     "output_type": "execute_result"
    }
   ],
   "source": [
    "2 not in [1, 2, 3]"
   ]
  },
  {
   "cell_type": "code",
   "execution_count": 28,
   "metadata": {},
   "outputs": [
    {
     "data": {
      "text/plain": [
       "int"
      ]
     },
     "execution_count": 28,
     "metadata": {},
     "output_type": "execute_result"
    }
   ],
   "source": [
    "# integers\n",
    "x = 1\n",
    "type(x)"
   ]
  },
  {
   "cell_type": "code",
   "execution_count": 29,
   "metadata": {},
   "outputs": [
    {
     "data": {
      "text/plain": [
       "1606938044258990275541962092341162602522202993782792835301376"
      ]
     },
     "execution_count": 29,
     "metadata": {},
     "output_type": "execute_result"
    }
   ],
   "source": [
    "2 ** 200"
   ]
  },
  {
   "cell_type": "code",
   "execution_count": 30,
   "metadata": {},
   "outputs": [
    {
     "data": {
      "text/plain": [
       "2.5"
      ]
     },
     "execution_count": 30,
     "metadata": {},
     "output_type": "execute_result"
    }
   ],
   "source": [
    "# division upcasts to floating point type\n",
    "5/2"
   ]
  },
  {
   "cell_type": "code",
   "execution_count": null,
   "metadata": {},
   "outputs": [],
   "source": [
    "### next up: floating - point numbers ###"
   ]
  },
  {
   "cell_type": "code",
   "execution_count": 1,
   "metadata": {},
   "outputs": [
    {
     "name": "stdout",
     "output_type": "stream",
     "text": [
      "True\n"
     ]
    }
   ],
   "source": [
    "x = 0.000005\n",
    "y = 5e-6\n",
    "print(x == y)"
   ]
  },
  {
   "cell_type": "code",
   "execution_count": 3,
   "metadata": {},
   "outputs": [
    {
     "name": "stdout",
     "output_type": "stream",
     "text": [
      "True\n"
     ]
    }
   ],
   "source": [
    "x = 1400000.00\n",
    "y = 1.4e6\n",
    "print(x == y)"
   ]
  },
  {
   "cell_type": "code",
   "execution_count": 4,
   "metadata": {},
   "outputs": [
    {
     "data": {
      "text/plain": [
       "1.0"
      ]
     },
     "execution_count": 4,
     "metadata": {},
     "output_type": "execute_result"
    }
   ],
   "source": [
    "float(1)"
   ]
  },
  {
   "cell_type": "code",
   "execution_count": 5,
   "metadata": {},
   "outputs": [
    {
     "data": {
      "text/plain": [
       "False"
      ]
     },
     "execution_count": 5,
     "metadata": {},
     "output_type": "execute_result"
    }
   ],
   "source": [
    "0.1 + 0.2 == 0.3"
   ]
  },
  {
   "cell_type": "code",
   "execution_count": 6,
   "metadata": {},
   "outputs": [
    {
     "name": "stdout",
     "output_type": "stream",
     "text": [
      "0.1 - 0.10000000000000001\n"
     ]
    }
   ],
   "source": [
    "print(\"0.1 - {0:.17f}\".format(0.1))"
   ]
  },
  {
   "cell_type": "code",
   "execution_count": 8,
   "metadata": {},
   "outputs": [
    {
     "name": "stdout",
     "output_type": "stream",
     "text": [
      "0.3 = 0.29999999999999999\n"
     ]
    }
   ],
   "source": [
    "print(\"0.3 = {0:.17f}\".format(0.3))"
   ]
  },
  {
   "cell_type": "code",
   "execution_count": null,
   "metadata": {},
   "outputs": [],
   "source": [
    "# never rely on exact equality tests with floating - point values\n",
    "# moving on to complex numbers"
   ]
  },
  {
   "cell_type": "code",
   "execution_count": 9,
   "metadata": {},
   "outputs": [
    {
     "data": {
      "text/plain": [
       "(1+2j)"
      ]
     },
     "execution_count": 9,
     "metadata": {},
     "output_type": "execute_result"
    }
   ],
   "source": [
    "complex(1, 2)"
   ]
  },
  {
   "cell_type": "code",
   "execution_count": 10,
   "metadata": {},
   "outputs": [
    {
     "data": {
      "text/plain": [
       "(1+2j)"
      ]
     },
     "execution_count": 10,
     "metadata": {},
     "output_type": "execute_result"
    }
   ],
   "source": [
    "1+2j"
   ]
  },
  {
   "cell_type": "code",
   "execution_count": 11,
   "metadata": {},
   "outputs": [],
   "source": [
    "c = 3 + 4j"
   ]
  },
  {
   "cell_type": "code",
   "execution_count": 12,
   "metadata": {},
   "outputs": [
    {
     "data": {
      "text/plain": [
       "3.0"
      ]
     },
     "execution_count": 12,
     "metadata": {},
     "output_type": "execute_result"
    }
   ],
   "source": [
    "c.real #real part of c"
   ]
  },
  {
   "cell_type": "code",
   "execution_count": 13,
   "metadata": {},
   "outputs": [
    {
     "data": {
      "text/plain": [
       "4.0"
      ]
     },
     "execution_count": 13,
     "metadata": {},
     "output_type": "execute_result"
    }
   ],
   "source": [
    "c.imag #imaginary part"
   ]
  },
  {
   "cell_type": "code",
   "execution_count": 14,
   "metadata": {},
   "outputs": [
    {
     "data": {
      "text/plain": [
       "(3-4j)"
      ]
     },
     "execution_count": 14,
     "metadata": {},
     "output_type": "execute_result"
    }
   ],
   "source": [
    "c. conjugate() # complex conjugate"
   ]
  },
  {
   "cell_type": "code",
   "execution_count": 15,
   "metadata": {},
   "outputs": [
    {
     "data": {
      "text/plain": [
       "5.0"
      ]
     },
     "execution_count": 15,
     "metadata": {},
     "output_type": "execute_result"
    }
   ],
   "source": [
    "abs(c) #magnitude, i.e. sqrt(c.real ** 2 + c.imag **2)"
   ]
  },
  {
   "cell_type": "code",
   "execution_count": 27,
   "metadata": {},
   "outputs": [
    {
     "name": "stdout",
     "output_type": "stream",
     "text": [
      "What do you like? spam\n"
     ]
    }
   ],
   "source": [
    "message = \"What do you like?\"\n",
    "response = 'spam'\n",
    "print(message +\" \"+ response)"
   ]
  },
  {
   "cell_type": "code",
   "execution_count": 28,
   "metadata": {},
   "outputs": [
    {
     "data": {
      "text/plain": [
       "4"
      ]
     },
     "execution_count": 28,
     "metadata": {},
     "output_type": "execute_result"
    }
   ],
   "source": [
    "# length of string\n",
    "len(response)"
   ]
  },
  {
   "cell_type": "code",
   "execution_count": 29,
   "metadata": {},
   "outputs": [
    {
     "data": {
      "text/plain": [
       "'SPAM'"
      ]
     },
     "execution_count": 29,
     "metadata": {},
     "output_type": "execute_result"
    }
   ],
   "source": [
    "# Make upper-case. See also str.lower()\n",
    "response.upper()"
   ]
  },
  {
   "cell_type": "code",
   "execution_count": 30,
   "metadata": {},
   "outputs": [
    {
     "data": {
      "text/plain": [
       "'What do you like?'"
      ]
     },
     "execution_count": 30,
     "metadata": {},
     "output_type": "execute_result"
    }
   ],
   "source": [
    "#Capitalize. See also str.title()\n",
    "message.capitalize()"
   ]
  },
  {
   "cell_type": "code",
   "execution_count": 31,
   "metadata": {},
   "outputs": [
    {
     "data": {
      "text/plain": [
       "'What do you like?spam'"
      ]
     },
     "execution_count": 31,
     "metadata": {},
     "output_type": "execute_result"
    }
   ],
   "source": [
    "# concatenation with +\n",
    "message + response"
   ]
  },
  {
   "cell_type": "code",
   "execution_count": 32,
   "metadata": {},
   "outputs": [
    {
     "data": {
      "text/plain": [
       "'spamspamspamspamspam'"
      ]
     },
     "execution_count": 32,
     "metadata": {},
     "output_type": "execute_result"
    }
   ],
   "source": [
    "# multiplication is multiple concatentation\n",
    "5 * response"
   ]
  },
  {
   "cell_type": "code",
   "execution_count": 33,
   "metadata": {},
   "outputs": [
    {
     "data": {
      "text/plain": [
       "'W'"
      ]
     },
     "execution_count": 33,
     "metadata": {},
     "output_type": "execute_result"
    }
   ],
   "source": [
    "# access individual characters (zero-based indexing)\n",
    "message[0]"
   ]
  },
  {
   "cell_type": "code",
   "execution_count": 34,
   "metadata": {},
   "outputs": [
    {
     "data": {
      "text/plain": [
       "NoneType"
      ]
     },
     "execution_count": 34,
     "metadata": {},
     "output_type": "execute_result"
    }
   ],
   "source": [
    "type(None)"
   ]
  },
  {
   "cell_type": "code",
   "execution_count": 35,
   "metadata": {},
   "outputs": [
    {
     "name": "stdout",
     "output_type": "stream",
     "text": [
      "abc\n"
     ]
    }
   ],
   "source": [
    "# none is frequently used as the default value of a function\n",
    "return_value = print('abc')"
   ]
  },
  {
   "cell_type": "code",
   "execution_count": 36,
   "metadata": {},
   "outputs": [
    {
     "name": "stdout",
     "output_type": "stream",
     "text": [
      "None\n"
     ]
    }
   ],
   "source": [
    "print(return_value)"
   ]
  },
  {
   "cell_type": "code",
   "execution_count": 38,
   "metadata": {},
   "outputs": [
    {
     "data": {
      "text/plain": [
       "True"
      ]
     },
     "execution_count": 38,
     "metadata": {},
     "output_type": "execute_result"
    }
   ],
   "source": [
    "# Moving on to the Boolean Type\n",
    "result = (4 < 5)\n",
    "result"
   ]
  },
  {
   "cell_type": "code",
   "execution_count": 39,
   "metadata": {},
   "outputs": [
    {
     "data": {
      "text/plain": [
       "bool"
      ]
     },
     "execution_count": 39,
     "metadata": {},
     "output_type": "execute_result"
    }
   ],
   "source": [
    "type(result)"
   ]
  },
  {
   "cell_type": "code",
   "execution_count": 40,
   "metadata": {},
   "outputs": [
    {
     "name": "stdout",
     "output_type": "stream",
     "text": [
      "True False\n"
     ]
    }
   ],
   "source": [
    "print(True, False)"
   ]
  },
  {
   "cell_type": "code",
   "execution_count": 41,
   "metadata": {},
   "outputs": [
    {
     "data": {
      "text/plain": [
       "True"
      ]
     },
     "execution_count": 41,
     "metadata": {},
     "output_type": "execute_result"
    }
   ],
   "source": [
    "bool(2014)"
   ]
  },
  {
   "cell_type": "code",
   "execution_count": 42,
   "metadata": {},
   "outputs": [
    {
     "data": {
      "text/plain": [
       "False"
      ]
     },
     "execution_count": 42,
     "metadata": {},
     "output_type": "execute_result"
    }
   ],
   "source": [
    "bool(0)"
   ]
  },
  {
   "cell_type": "code",
   "execution_count": 43,
   "metadata": {},
   "outputs": [
    {
     "data": {
      "text/plain": [
       "True"
      ]
     },
     "execution_count": 43,
     "metadata": {},
     "output_type": "execute_result"
    }
   ],
   "source": [
    "bool(3.14159)"
   ]
  },
  {
   "cell_type": "code",
   "execution_count": 44,
   "metadata": {},
   "outputs": [
    {
     "data": {
      "text/plain": [
       "False"
      ]
     },
     "execution_count": 44,
     "metadata": {},
     "output_type": "execute_result"
    }
   ],
   "source": [
    "bool(None)"
   ]
  },
  {
   "cell_type": "code",
   "execution_count": 45,
   "metadata": {},
   "outputs": [
    {
     "data": {
      "text/plain": [
       "False"
      ]
     },
     "execution_count": 45,
     "metadata": {},
     "output_type": "execute_result"
    }
   ],
   "source": [
    "bool(\"\")"
   ]
  },
  {
   "cell_type": "code",
   "execution_count": 46,
   "metadata": {},
   "outputs": [
    {
     "data": {
      "text/plain": [
       "True"
      ]
     },
     "execution_count": 46,
     "metadata": {},
     "output_type": "execute_result"
    }
   ],
   "source": [
    "bool(\"abc\")"
   ]
  },
  {
   "cell_type": "code",
   "execution_count": 47,
   "metadata": {},
   "outputs": [],
   "source": [
    "# compound types act as containers for other types\n",
    "# Lists: ordered and mutable\n",
    "L = [2, 3, 5, 7]"
   ]
  },
  {
   "cell_type": "code",
   "execution_count": 48,
   "metadata": {},
   "outputs": [
    {
     "data": {
      "text/plain": [
       "4"
      ]
     },
     "execution_count": 48,
     "metadata": {},
     "output_type": "execute_result"
    }
   ],
   "source": [
    "len(L)"
   ]
  },
  {
   "cell_type": "code",
   "execution_count": 49,
   "metadata": {},
   "outputs": [],
   "source": [
    "#append a value to the end of the list\n",
    "L.append(11)"
   ]
  },
  {
   "cell_type": "code",
   "execution_count": 50,
   "metadata": {},
   "outputs": [
    {
     "data": {
      "text/plain": [
       "[2, 3, 5, 7, 11]"
      ]
     },
     "execution_count": 50,
     "metadata": {},
     "output_type": "execute_result"
    }
   ],
   "source": [
    "L"
   ]
  },
  {
   "cell_type": "code",
   "execution_count": 51,
   "metadata": {},
   "outputs": [
    {
     "data": {
      "text/plain": [
       "[2, 3, 5, 7, 11, 13, 17, 19]"
      ]
     },
     "execution_count": 51,
     "metadata": {},
     "output_type": "execute_result"
    }
   ],
   "source": [
    "# addition conatenates lists\n",
    "L + [13, 17, 19]"
   ]
  },
  {
   "cell_type": "code",
   "execution_count": 52,
   "metadata": {},
   "outputs": [
    {
     "data": {
      "text/plain": [
       "[1, 2, 3, 4, 5, 6]"
      ]
     },
     "execution_count": 52,
     "metadata": {},
     "output_type": "execute_result"
    }
   ],
   "source": [
    "# sort() method sorts in-place\n",
    "L = [2, 5, 1, 6, 3, 4]\n",
    "L.sort()\n",
    "L"
   ]
  },
  {
   "cell_type": "code",
   "execution_count": 53,
   "metadata": {},
   "outputs": [],
   "source": [
    "# lists can contain mixed types\n",
    "L = [1, 'two', 3.14, [0, 3, 5]]"
   ]
  },
  {
   "cell_type": "code",
   "execution_count": 54,
   "metadata": {},
   "outputs": [
    {
     "data": {
      "text/plain": [
       "[1, 'two', 3.14, [0, 3, 5]]"
      ]
     },
     "execution_count": 54,
     "metadata": {},
     "output_type": "execute_result"
    }
   ],
   "source": [
    "L"
   ]
  },
  {
   "cell_type": "code",
   "execution_count": 55,
   "metadata": {},
   "outputs": [
    {
     "data": {
      "text/plain": [
       "1"
      ]
     },
     "execution_count": 55,
     "metadata": {},
     "output_type": "execute_result"
    }
   ],
   "source": [
    "# list indexing and slicing\n",
    "L[0]"
   ]
  },
  {
   "cell_type": "code",
   "execution_count": 56,
   "metadata": {},
   "outputs": [
    {
     "data": {
      "text/plain": [
       "'two'"
      ]
     },
     "execution_count": 56,
     "metadata": {},
     "output_type": "execute_result"
    }
   ],
   "source": [
    "L[1]"
   ]
  },
  {
   "cell_type": "code",
   "execution_count": 57,
   "metadata": {},
   "outputs": [],
   "source": [
    "L = [2, 3, 5, 7, 11]"
   ]
  },
  {
   "cell_type": "code",
   "execution_count": 58,
   "metadata": {},
   "outputs": [
    {
     "data": {
      "text/plain": [
       "2"
      ]
     },
     "execution_count": 58,
     "metadata": {},
     "output_type": "execute_result"
    }
   ],
   "source": [
    "L[0]"
   ]
  },
  {
   "cell_type": "code",
   "execution_count": 59,
   "metadata": {},
   "outputs": [
    {
     "data": {
      "text/plain": [
       "3"
      ]
     },
     "execution_count": 59,
     "metadata": {},
     "output_type": "execute_result"
    }
   ],
   "source": [
    "L[1]"
   ]
  },
  {
   "cell_type": "code",
   "execution_count": 60,
   "metadata": {},
   "outputs": [
    {
     "data": {
      "text/plain": [
       "11"
      ]
     },
     "execution_count": 60,
     "metadata": {},
     "output_type": "execute_result"
    }
   ],
   "source": [
    "L[-1]"
   ]
  },
  {
   "cell_type": "code",
   "execution_count": 61,
   "metadata": {},
   "outputs": [
    {
     "data": {
      "text/plain": [
       "7"
      ]
     },
     "execution_count": 61,
     "metadata": {},
     "output_type": "execute_result"
    }
   ],
   "source": [
    "L[-2]"
   ]
  },
  {
   "cell_type": "code",
   "execution_count": 63,
   "metadata": {},
   "outputs": [
    {
     "data": {
      "text/plain": [
       "[2, 3, 5]"
      ]
     },
     "execution_count": 63,
     "metadata": {},
     "output_type": "execute_result"
    }
   ],
   "source": [
    "# Indexing is a means of fetching a single value from the list.\n",
    "# Slicing is a means of accessing multiple values in sub-lists.\n",
    "L[0:3]"
   ]
  },
  {
   "cell_type": "code",
   "execution_count": 64,
   "metadata": {},
   "outputs": [
    {
     "data": {
      "text/plain": [
       "[2, 3, 5]"
      ]
     },
     "execution_count": 64,
     "metadata": {},
     "output_type": "execute_result"
    }
   ],
   "source": [
    "L[:3]"
   ]
  },
  {
   "cell_type": "code",
   "execution_count": 65,
   "metadata": {},
   "outputs": [
    {
     "data": {
      "text/plain": [
       "[5, 7, 11]"
      ]
     },
     "execution_count": 65,
     "metadata": {},
     "output_type": "execute_result"
    }
   ],
   "source": [
    "L[-3:]"
   ]
  },
  {
   "cell_type": "code",
   "execution_count": 66,
   "metadata": {},
   "outputs": [
    {
     "data": {
      "text/plain": [
       "[2, 5, 11]"
      ]
     },
     "execution_count": 66,
     "metadata": {},
     "output_type": "execute_result"
    }
   ],
   "source": [
    "#step size of slicing can be indicated\n",
    "L[::2]"
   ]
  },
  {
   "cell_type": "code",
   "execution_count": 67,
   "metadata": {},
   "outputs": [
    {
     "data": {
      "text/plain": [
       "[11, 7, 5, 3, 2]"
      ]
     },
     "execution_count": 67,
     "metadata": {},
     "output_type": "execute_result"
    }
   ],
   "source": [
    "L[::-1]"
   ]
  },
  {
   "cell_type": "code",
   "execution_count": 68,
   "metadata": {},
   "outputs": [
    {
     "name": "stdout",
     "output_type": "stream",
     "text": [
      "[100, 3, 5, 7, 11]\n"
     ]
    }
   ],
   "source": [
    "L[0] = 100\n",
    "print(L)"
   ]
  },
  {
   "cell_type": "code",
   "execution_count": 69,
   "metadata": {},
   "outputs": [],
   "source": [
    "L[1:3] = [55, 56]"
   ]
  },
  {
   "cell_type": "code",
   "execution_count": 70,
   "metadata": {},
   "outputs": [
    {
     "name": "stdout",
     "output_type": "stream",
     "text": [
      "[100, 55, 56, 7, 11]\n"
     ]
    }
   ],
   "source": [
    "print(L)"
   ]
  },
  {
   "cell_type": "code",
   "execution_count": 71,
   "metadata": {},
   "outputs": [],
   "source": [
    "# Moving on to Tuples\n",
    "t = (1, 2, 3)"
   ]
  },
  {
   "cell_type": "code",
   "execution_count": 72,
   "metadata": {},
   "outputs": [
    {
     "name": "stdout",
     "output_type": "stream",
     "text": [
      "(1, 2, 3)\n"
     ]
    }
   ],
   "source": [
    "print(t)"
   ]
  },
  {
   "cell_type": "code",
   "execution_count": 73,
   "metadata": {},
   "outputs": [
    {
     "name": "stdout",
     "output_type": "stream",
     "text": [
      "(4, 5, 6)\n"
     ]
    }
   ],
   "source": [
    "t = 4, 5, 6\n",
    "print(t)"
   ]
  },
  {
   "cell_type": "code",
   "execution_count": 74,
   "metadata": {},
   "outputs": [
    {
     "data": {
      "text/plain": [
       "3"
      ]
     },
     "execution_count": 74,
     "metadata": {},
     "output_type": "execute_result"
    }
   ],
   "source": [
    "len(t)"
   ]
  },
  {
   "cell_type": "code",
   "execution_count": 75,
   "metadata": {},
   "outputs": [
    {
     "data": {
      "text/plain": [
       "5"
      ]
     },
     "execution_count": 75,
     "metadata": {},
     "output_type": "execute_result"
    }
   ],
   "source": [
    "t[1]"
   ]
  },
  {
   "cell_type": "code",
   "execution_count": 76,
   "metadata": {},
   "outputs": [
    {
     "data": {
      "text/plain": [
       "(1, 8)"
      ]
     },
     "execution_count": 76,
     "metadata": {},
     "output_type": "execute_result"
    }
   ],
   "source": [
    "x = 0.125\n",
    "x.as_integer_ratio()"
   ]
  },
  {
   "cell_type": "code",
   "execution_count": 77,
   "metadata": {},
   "outputs": [
    {
     "name": "stdout",
     "output_type": "stream",
     "text": [
      "0.125\n"
     ]
    }
   ],
   "source": [
    "numerator, denominator = x.as_integer_ratio()\n",
    "print(numerator / denominator)"
   ]
  },
  {
   "cell_type": "code",
   "execution_count": 78,
   "metadata": {},
   "outputs": [],
   "source": [
    "# Dictionaries: flexible mappings of keys to values\n",
    "numbers = {'one':1, 'two':2, 'three':3}"
   ]
  },
  {
   "cell_type": "code",
   "execution_count": 80,
   "metadata": {},
   "outputs": [
    {
     "data": {
      "text/plain": [
       "2"
      ]
     },
     "execution_count": 80,
     "metadata": {},
     "output_type": "execute_result"
    }
   ],
   "source": [
    "# access a dictionary value via the key\n",
    "numbers['two']"
   ]
  },
  {
   "cell_type": "code",
   "execution_count": 81,
   "metadata": {},
   "outputs": [
    {
     "name": "stdout",
     "output_type": "stream",
     "text": [
      "{'one': 1, 'two': 2, 'three': 3, 'ninety': 90}\n"
     ]
    }
   ],
   "source": [
    "# set a new key:value pair\n",
    "numbers['ninety'] = 90\n",
    "print(numbers)"
   ]
  },
  {
   "cell_type": "code",
   "execution_count": 82,
   "metadata": {},
   "outputs": [],
   "source": [
    "# Sets: unordered collections of unique items\n",
    "primes = {2, 3, 5, 7}\n",
    "odds = {1, 3, 5, 7, 9}"
   ]
  },
  {
   "cell_type": "code",
   "execution_count": 84,
   "metadata": {},
   "outputs": [
    {
     "data": {
      "text/plain": [
       "{1, 2, 3, 5, 7, 9}"
      ]
     },
     "execution_count": 84,
     "metadata": {},
     "output_type": "execute_result"
    }
   ],
   "source": [
    "# unions: items appearing in either\n",
    "primes | odds\n",
    "primes.union(odds)"
   ]
  },
  {
   "cell_type": "code",
   "execution_count": 85,
   "metadata": {},
   "outputs": [
    {
     "data": {
      "text/plain": [
       "{3, 5, 7}"
      ]
     },
     "execution_count": 85,
     "metadata": {},
     "output_type": "execute_result"
    }
   ],
   "source": [
    "#intersection: items appearing in both\n",
    "primes & odds\n",
    "primes.intersection(odds)"
   ]
  },
  {
   "cell_type": "code",
   "execution_count": 86,
   "metadata": {},
   "outputs": [
    {
     "data": {
      "text/plain": [
       "{2}"
      ]
     },
     "execution_count": 86,
     "metadata": {},
     "output_type": "execute_result"
    }
   ],
   "source": [
    "#difference: items in primes but not in odds\n",
    "primes - odds\n",
    "primes.difference(odds)"
   ]
  },
  {
   "cell_type": "code",
   "execution_count": 87,
   "metadata": {},
   "outputs": [
    {
     "data": {
      "text/plain": [
       "{1, 2, 9}"
      ]
     },
     "execution_count": 87,
     "metadata": {},
     "output_type": "execute_result"
    }
   ],
   "source": [
    "# symmetric difference: items appearing in only one set\n",
    "primes ^ odds\n",
    "primes.symmetric_difference(odds)"
   ]
  },
  {
   "cell_type": "code",
   "execution_count": 2,
   "metadata": {},
   "outputs": [
    {
     "name": "stdout",
     "output_type": "stream",
     "text": [
      "-15 is negative\n"
     ]
    }
   ],
   "source": [
    "# Next Up: Control Flow Statements: Execute code blocks conditionally &/ Repeatedly\n",
    "# Conditional Statements\n",
    "x = -15\n",
    "\n",
    "if x ==0:\n",
    "    print(x, \"is zero\")\n",
    "elif x > 0:\n",
    "    print(x, \"is positive\")\n",
    "elif x < 0:\n",
    "    print(x, \"is negative\")\n",
    "else:\n",
    "    print(x, \"is unlike anything I've ever seen . . .\")\n"
   ]
  },
  {
   "cell_type": "code",
   "execution_count": 3,
   "metadata": {},
   "outputs": [
    {
     "name": "stdout",
     "output_type": "stream",
     "text": [
      "2 3 5 7 "
     ]
    }
   ],
   "source": [
    "# for loops\n",
    "for N in [2, 3, 5, 7]:\n",
    "    print(N, end=' ') # print all on same line"
   ]
  },
  {
   "cell_type": "code",
   "execution_count": 4,
   "metadata": {},
   "outputs": [
    {
     "name": "stdout",
     "output_type": "stream",
     "text": [
      "0 1 2 3 4 5 6 7 8 9 "
     ]
    }
   ],
   "source": [
    "# object to the right of \"in\" can be any Python iterator \n",
    "# iterator - generalized sequence\n",
    "for i in range(10):\n",
    "    print(i, end=' ')"
   ]
  },
  {
   "cell_type": "code",
   "execution_count": 5,
   "metadata": {},
   "outputs": [
    {
     "data": {
      "text/plain": [
       "[5, 6, 7, 8, 9]"
      ]
     },
     "execution_count": 5,
     "metadata": {},
     "output_type": "execute_result"
    }
   ],
   "source": [
    "# range from 5 to 10\n",
    "list(range(5, 10))"
   ]
  },
  {
   "cell_type": "code",
   "execution_count": 6,
   "metadata": {},
   "outputs": [
    {
     "data": {
      "text/plain": [
       "[0, 2, 4, 6, 8]"
      ]
     },
     "execution_count": 6,
     "metadata": {},
     "output_type": "execute_result"
    }
   ],
   "source": [
    "# range form 0 to 10 by 2\n",
    "list(range(0, 10, 2))"
   ]
  },
  {
   "cell_type": "code",
   "execution_count": 7,
   "metadata": {},
   "outputs": [
    {
     "name": "stdout",
     "output_type": "stream",
     "text": [
      "0 1 2 3 4 5 6 7 8 9 "
     ]
    }
   ],
   "source": [
    "# while loops\n",
    "i = 0\n",
    "while i < 10:\n",
    "    print(i, end=' ')\n",
    "    i += 1"
   ]
  },
  {
   "cell_type": "code",
   "execution_count": 8,
   "metadata": {},
   "outputs": [
    {
     "name": "stdout",
     "output_type": "stream",
     "text": [
      "1 3 5 7 9 11 13 15 17 19 "
     ]
    }
   ],
   "source": [
    "# using break and continue to fint-tune your loops\n",
    "# break: breaks-out of the loop entirely\n",
    "# continue: skips the remainder of the curren loop and goes to the next iteration\n",
    "# used in both while and for loops\n",
    "\n",
    "for n in range(20):\n",
    "    # if the remainder of n / 2 is 0, skip the rest of the loop\n",
    "    if n % 2 == 0:\n",
    "        continue\n",
    "    print(n, end=' ')"
   ]
  },
  {
   "cell_type": "code",
   "execution_count": 11,
   "metadata": {},
   "outputs": [
    {
     "name": "stdout",
     "output_type": "stream",
     "text": [
      "[1, 1, 2, 3, 5, 8, 13, 21, 34, 55, 89, 144, 233, 377, 610, 987, 1597, 2584, 4181, 6765]\n"
     ]
    }
   ],
   "source": [
    "# fill a list with Fibonacci numbers up to a certain value:\n",
    "\n",
    "a, b = 0, 1\n",
    "amax = 10000\n",
    "L = []\n",
    "\n",
    "while True:\n",
    "    (a, b) = (b, a + b)\n",
    "    if a > amax:\n",
    "        break\n",
    "    L.append(a)\n",
    "    \n",
    "print(L)"
   ]
  },
  {
   "cell_type": "code",
   "execution_count": 14,
   "metadata": {},
   "outputs": [
    {
     "name": "stdout",
     "output_type": "stream",
     "text": [
      "[1, 3, 5, 6, 8]\n"
     ]
    }
   ],
   "source": [
    "# Sieve of Eratosthenes: Algorithm for finding prime numbers.\n",
    "\n",
    "L = [1, 3, 5, 6, 8]\n",
    "nmax = 30\n",
    "\n",
    "for n in range(2, nmax):\n",
    "    for factor in L:\n",
    "        if n % factor == 0:\n",
    "            break\n",
    "        else: # no break\n",
    "            L.append(n)\n",
    "print(L)"
   ]
  },
  {
   "cell_type": "code",
   "execution_count": 1,
   "metadata": {},
   "outputs": [
    {
     "name": "stdout",
     "output_type": "stream",
     "text": [
      "abc\n"
     ]
    }
   ],
   "source": [
    "### Defining and Using Functions ###\n",
    "print('abc')"
   ]
  },
  {
   "cell_type": "code",
   "execution_count": 2,
   "metadata": {},
   "outputs": [
    {
     "name": "stdout",
     "output_type": "stream",
     "text": [
      "1 2 3\n"
     ]
    }
   ],
   "source": [
    "print(1, 2, 3)"
   ]
  },
  {
   "cell_type": "code",
   "execution_count": 3,
   "metadata": {},
   "outputs": [
    {
     "name": "stdout",
     "output_type": "stream",
     "text": [
      "1--2--3\n"
     ]
    }
   ],
   "source": [
    "print(1, 2, 3, sep='--')"
   ]
  },
  {
   "cell_type": "code",
   "execution_count": 4,
   "metadata": {},
   "outputs": [],
   "source": [
    "# defining functions\n",
    "def fibonacci(N):\n",
    "    L = []\n",
    "    a, b = 0, 1\n",
    "    while len(L) < N:\n",
    "        a, b = b, a + b\n",
    "        L.append(a)\n",
    "    return L"
   ]
  },
  {
   "cell_type": "code",
   "execution_count": 5,
   "metadata": {},
   "outputs": [
    {
     "data": {
      "text/plain": [
       "[1, 1, 2, 3, 5, 8, 13, 21, 34, 55]"
      ]
     },
     "execution_count": 5,
     "metadata": {},
     "output_type": "execute_result"
    }
   ],
   "source": [
    "fibonacci(10)"
   ]
  },
  {
   "cell_type": "code",
   "execution_count": 7,
   "metadata": {},
   "outputs": [],
   "source": [
    "def real_imag_conj(val):\n",
    "    return val.real, val.imag, val.conjugate()\n",
    "\n",
    "r, i, c = real_imag_conj(3 + 4j)"
   ]
  },
  {
   "cell_type": "code",
   "execution_count": 8,
   "metadata": {},
   "outputs": [],
   "source": [
    "# default argument values\n",
    "def fibonacci(N, a=0, b=1):\n",
    "    L = []\n",
    "    while len(L) < N:\n",
    "        a, b = b, a + b\n",
    "        L.append(a)\n",
    "    return(L)"
   ]
  },
  {
   "cell_type": "code",
   "execution_count": 9,
   "metadata": {},
   "outputs": [
    {
     "data": {
      "text/plain": [
       "[1, 1, 2, 3, 5, 8, 13, 21, 34, 55]"
      ]
     },
     "execution_count": 9,
     "metadata": {},
     "output_type": "execute_result"
    }
   ],
   "source": [
    "fibonacci(10)"
   ]
  },
  {
   "cell_type": "code",
   "execution_count": 10,
   "metadata": {},
   "outputs": [
    {
     "data": {
      "text/plain": [
       "[2, 2, 4, 6, 10, 16, 26, 42, 68, 110]"
      ]
     },
     "execution_count": 10,
     "metadata": {},
     "output_type": "execute_result"
    }
   ],
   "source": [
    "fibonacci(10, 0, 2)"
   ]
  },
  {
   "cell_type": "code",
   "execution_count": 11,
   "metadata": {},
   "outputs": [
    {
     "data": {
      "text/plain": [
       "[3, 4, 7, 11, 18, 29, 47, 76, 123, 199]"
      ]
     },
     "execution_count": 11,
     "metadata": {},
     "output_type": "execute_result"
    }
   ],
   "source": [
    "#if names provided order of arguments does not matter\n",
    "fibonacci(10, b=3, a=1)"
   ]
  },
  {
   "cell_type": "code",
   "execution_count": 14,
   "metadata": {},
   "outputs": [],
   "source": [
    "#args and kwargss, flexible arguments\n",
    "#used if you don't know how many arguments the user will pass\n",
    "def catch_all(*args, **kwargs):\n",
    "    print(\"args =\", args)\n",
    "    print(\"kwargs = \", kwargs)"
   ]
  },
  {
   "cell_type": "code",
   "execution_count": 15,
   "metadata": {},
   "outputs": [
    {
     "name": "stdout",
     "output_type": "stream",
     "text": [
      "args = (1, 2, 3)\n",
      "kwargs =  {'a': 4, 'b': 5}\n"
     ]
    }
   ],
   "source": [
    "catch_all(1, 2, 3, a=4, b=5)"
   ]
  },
  {
   "cell_type": "code",
   "execution_count": 16,
   "metadata": {},
   "outputs": [
    {
     "name": "stdout",
     "output_type": "stream",
     "text": [
      "args = ('a',)\n",
      "kwargs =  {'keyword': 2}\n"
     ]
    }
   ],
   "source": [
    "catch_all('a', keyword=2)"
   ]
  },
  {
   "cell_type": "code",
   "execution_count": 17,
   "metadata": {},
   "outputs": [],
   "source": [
    "# * means expand this as a sequence\n",
    "# ** means expand this as a dictionary"
   ]
  },
  {
   "cell_type": "code",
   "execution_count": 18,
   "metadata": {},
   "outputs": [],
   "source": [
    "inputs = (1, 2, 3)"
   ]
  },
  {
   "cell_type": "code",
   "execution_count": 19,
   "metadata": {},
   "outputs": [],
   "source": [
    "keywords = {'pi' : 3.14}"
   ]
  },
  {
   "cell_type": "code",
   "execution_count": 20,
   "metadata": {},
   "outputs": [
    {
     "data": {
      "text/plain": [
       "3"
      ]
     },
     "execution_count": 20,
     "metadata": {},
     "output_type": "execute_result"
    }
   ],
   "source": [
    "# anonymous (lambda) functions\n",
    "add = lambda x, y: x + y\n",
    "add(1, 2)"
   ]
  },
  {
   "cell_type": "code",
   "execution_count": 21,
   "metadata": {},
   "outputs": [],
   "source": [
    "#lambda statement is roughly equivalent to:\n",
    "def add(x, y):\n",
    "    return x + y"
   ]
  },
  {
   "cell_type": "code",
   "execution_count": 22,
   "metadata": {},
   "outputs": [],
   "source": [
    "# everything is an object in python, even functions.\n",
    "# this means functions can be passed as arguments to functions\n",
    "data = [{'first':'Guido', 'last':'Van Rossum', 'YOB':1956},\n",
    "        {'first':'Grace', 'last':'Hopper',     'YOB':1906},\n",
    "        {'first':'Alan',  'last':'Turing',     'YOB':1912}]"
   ]
  },
  {
   "cell_type": "code",
   "execution_count": 23,
   "metadata": {},
   "outputs": [
    {
     "data": {
      "text/plain": [
       "[1, 2, 3, 4, 5, 6]"
      ]
     },
     "execution_count": 23,
     "metadata": {},
     "output_type": "execute_result"
    }
   ],
   "source": [
    "sorted([2,4,3,5,1,6])"
   ]
  },
  {
   "cell_type": "code",
   "execution_count": 24,
   "metadata": {},
   "outputs": [
    {
     "data": {
      "text/plain": [
       "[{'first': 'Alan', 'last': 'Turing', 'YOB': 1912},\n",
       " {'first': 'Grace', 'last': 'Hopper', 'YOB': 1906},\n",
       " {'first': 'Guido', 'last': 'Van Rossum', 'YOB': 1956}]"
      ]
     },
     "execution_count": 24,
     "metadata": {},
     "output_type": "execute_result"
    }
   ],
   "source": [
    "#sort alphabetically by first name\n",
    "sorted(data, key=lambda item: item['first'])"
   ]
  },
  {
   "cell_type": "code",
   "execution_count": 25,
   "metadata": {},
   "outputs": [
    {
     "data": {
      "text/plain": [
       "[{'first': 'Grace', 'last': 'Hopper', 'YOB': 1906},\n",
       " {'first': 'Alan', 'last': 'Turing', 'YOB': 1912},\n",
       " {'first': 'Guido', 'last': 'Van Rossum', 'YOB': 1956}]"
      ]
     },
     "execution_count": 25,
     "metadata": {},
     "output_type": "execute_result"
    }
   ],
   "source": [
    "#sort by year of birth\n",
    "sorted(data, key=lambda item: item['YOB'])"
   ]
  },
  {
   "cell_type": "code",
   "execution_count": 26,
   "metadata": {},
   "outputs": [
    {
     "name": "stdout",
     "output_type": "stream",
     "text": [
      "this gets exectued first\n"
     ]
    }
   ],
   "source": [
    "# runtime errors\n",
    "# catching exceptions: try and except\n",
    "try:\n",
    "    print(\"this gets exectued first\")\n",
    "except:\n",
    "    print(\"this gets executed only if there is an error\")"
   ]
  },
  {
   "cell_type": "code",
   "execution_count": 27,
   "metadata": {},
   "outputs": [
    {
     "name": "stdout",
     "output_type": "stream",
     "text": [
      "let's try something:\n",
      "something bad happened!\n"
     ]
    }
   ],
   "source": [
    "try:\n",
    "    print(\"let's try something:\")\n",
    "    x = 1/0 # ZeroDivisionError\n",
    "except: \n",
    "    print(\"something bad happened!\")"
   ]
  },
  {
   "cell_type": "code",
   "execution_count": 28,
   "metadata": {},
   "outputs": [],
   "source": [
    "def safe_divide(a, b):\n",
    "    try: \n",
    "        return a/b\n",
    "    except:\n",
    "        return 1E100"
   ]
  },
  {
   "cell_type": "code",
   "execution_count": 29,
   "metadata": {},
   "outputs": [
    {
     "data": {
      "text/plain": [
       "0.5"
      ]
     },
     "execution_count": 29,
     "metadata": {},
     "output_type": "execute_result"
    }
   ],
   "source": [
    "safe_divide(1,2)"
   ]
  },
  {
   "cell_type": "code",
   "execution_count": 30,
   "metadata": {},
   "outputs": [
    {
     "data": {
      "text/plain": [
       "1e+100"
      ]
     },
     "execution_count": 30,
     "metadata": {},
     "output_type": "execute_result"
    }
   ],
   "source": [
    "safe_divide(2,0)"
   ]
  },
  {
   "cell_type": "code",
   "execution_count": 31,
   "metadata": {},
   "outputs": [
    {
     "data": {
      "text/plain": [
       "1e+100"
      ]
     },
     "execution_count": 31,
     "metadata": {},
     "output_type": "execute_result"
    }
   ],
   "source": [
    "safe_divide (1, '2') #produces an output we probably didn't intend"
   ]
  },
  {
   "cell_type": "code",
   "execution_count": 32,
   "metadata": {},
   "outputs": [],
   "source": [
    "def safe_divide(a, b):\n",
    "    try:\n",
    "        return a/b\n",
    "    except ZeroDivisionError:\n",
    "        return 1E100"
   ]
  },
  {
   "cell_type": "code",
   "execution_count": 33,
   "metadata": {},
   "outputs": [
    {
     "data": {
      "text/plain": [
       "1e+100"
      ]
     },
     "execution_count": 33,
     "metadata": {},
     "output_type": "execute_result"
    }
   ],
   "source": [
    "safe_divide(1,0)"
   ]
  },
  {
   "cell_type": "code",
   "execution_count": 34,
   "metadata": {},
   "outputs": [
    {
     "ename": "TypeError",
     "evalue": "unsupported operand type(s) for /: 'int' and 'str'",
     "output_type": "error",
     "traceback": [
      "\u001b[0;31m---------------------------------------------------------------------------\u001b[0m",
      "\u001b[0;31mTypeError\u001b[0m                                 Traceback (most recent call last)",
      "\u001b[0;32m<ipython-input-34-cbb3eb91a66d>\u001b[0m in \u001b[0;36m<module>\u001b[0;34m\u001b[0m\n\u001b[0;32m----> 1\u001b[0;31m \u001b[0msafe_divide\u001b[0m\u001b[0;34m(\u001b[0m\u001b[0;36m1\u001b[0m\u001b[0;34m,\u001b[0m \u001b[0;34m'2'\u001b[0m\u001b[0;34m)\u001b[0m\u001b[0;34m\u001b[0m\u001b[0;34m\u001b[0m\u001b[0m\n\u001b[0m",
      "\u001b[0;32m<ipython-input-32-47af4e1e079a>\u001b[0m in \u001b[0;36msafe_divide\u001b[0;34m(a, b)\u001b[0m\n\u001b[1;32m      1\u001b[0m \u001b[0;32mdef\u001b[0m \u001b[0msafe_divide\u001b[0m\u001b[0;34m(\u001b[0m\u001b[0ma\u001b[0m\u001b[0;34m,\u001b[0m \u001b[0mb\u001b[0m\u001b[0;34m)\u001b[0m\u001b[0;34m:\u001b[0m\u001b[0;34m\u001b[0m\u001b[0;34m\u001b[0m\u001b[0m\n\u001b[1;32m      2\u001b[0m     \u001b[0;32mtry\u001b[0m\u001b[0;34m:\u001b[0m\u001b[0;34m\u001b[0m\u001b[0;34m\u001b[0m\u001b[0m\n\u001b[0;32m----> 3\u001b[0;31m         \u001b[0;32mreturn\u001b[0m \u001b[0ma\u001b[0m\u001b[0;34m/\u001b[0m\u001b[0mb\u001b[0m\u001b[0;34m\u001b[0m\u001b[0;34m\u001b[0m\u001b[0m\n\u001b[0m\u001b[1;32m      4\u001b[0m     \u001b[0;32mexcept\u001b[0m \u001b[0mZeroDivisionError\u001b[0m\u001b[0;34m:\u001b[0m\u001b[0;34m\u001b[0m\u001b[0;34m\u001b[0m\u001b[0m\n\u001b[1;32m      5\u001b[0m         \u001b[0;32mreturn\u001b[0m \u001b[0;36m1E100\u001b[0m\u001b[0;34m\u001b[0m\u001b[0;34m\u001b[0m\u001b[0m\n",
      "\u001b[0;31mTypeError\u001b[0m: unsupported operand type(s) for /: 'int' and 'str'"
     ]
    }
   ],
   "source": [
    "safe_divide(1, '2')"
   ]
  },
  {
   "cell_type": "code",
   "execution_count": null,
   "metadata": {},
   "outputs": [],
   "source": [
    "# now we're catching zero-division errors only and letter all other errors pass through unmodified\n",
    "# let's use error catchin on our fibonacci function"
   ]
  },
  {
   "cell_type": "code",
   "execution_count": 36,
   "metadata": {},
   "outputs": [],
   "source": [
    "def fibonacci(N):\n",
    "    if N < 0:\n",
    "        raise ValueError(\"N must be non-negative\")\n",
    "    L = []\n",
    "    a, b = 0, 1\n",
    "    while len(L) < N:\n",
    "        a, b = b, a + b\n",
    "        L.append(a)\n",
    "    return(L)"
   ]
  },
  {
   "cell_type": "code",
   "execution_count": 37,
   "metadata": {},
   "outputs": [
    {
     "data": {
      "text/plain": [
       "[1, 1, 2, 3, 5, 8, 13, 21, 34, 55]"
      ]
     },
     "execution_count": 37,
     "metadata": {},
     "output_type": "execute_result"
    }
   ],
   "source": [
    "fibonacci(10)"
   ]
  },
  {
   "cell_type": "code",
   "execution_count": 38,
   "metadata": {},
   "outputs": [
    {
     "ename": "ValueError",
     "evalue": "N must be non-negative",
     "output_type": "error",
     "traceback": [
      "\u001b[0;31m---------------------------------------------------------------------------\u001b[0m",
      "\u001b[0;31mValueError\u001b[0m                                Traceback (most recent call last)",
      "\u001b[0;32m<ipython-input-38-f1ae0a8066f0>\u001b[0m in \u001b[0;36m<module>\u001b[0;34m\u001b[0m\n\u001b[0;32m----> 1\u001b[0;31m \u001b[0mfibonacci\u001b[0m\u001b[0;34m(\u001b[0m\u001b[0;34m-\u001b[0m\u001b[0;36m10\u001b[0m\u001b[0;34m)\u001b[0m\u001b[0;34m\u001b[0m\u001b[0;34m\u001b[0m\u001b[0m\n\u001b[0m",
      "\u001b[0;32m<ipython-input-36-169f923cdb5e>\u001b[0m in \u001b[0;36mfibonacci\u001b[0;34m(N)\u001b[0m\n\u001b[1;32m      1\u001b[0m \u001b[0;32mdef\u001b[0m \u001b[0mfibonacci\u001b[0m\u001b[0;34m(\u001b[0m\u001b[0mN\u001b[0m\u001b[0;34m)\u001b[0m\u001b[0;34m:\u001b[0m\u001b[0;34m\u001b[0m\u001b[0;34m\u001b[0m\u001b[0m\n\u001b[1;32m      2\u001b[0m     \u001b[0;32mif\u001b[0m \u001b[0mN\u001b[0m \u001b[0;34m<\u001b[0m \u001b[0;36m0\u001b[0m\u001b[0;34m:\u001b[0m\u001b[0;34m\u001b[0m\u001b[0;34m\u001b[0m\u001b[0m\n\u001b[0;32m----> 3\u001b[0;31m         \u001b[0;32mraise\u001b[0m \u001b[0mValueError\u001b[0m\u001b[0;34m(\u001b[0m\u001b[0;34m\"N must be non-negative\"\u001b[0m\u001b[0;34m)\u001b[0m\u001b[0;34m\u001b[0m\u001b[0;34m\u001b[0m\u001b[0m\n\u001b[0m\u001b[1;32m      4\u001b[0m     \u001b[0mL\u001b[0m \u001b[0;34m=\u001b[0m \u001b[0;34m[\u001b[0m\u001b[0;34m]\u001b[0m\u001b[0;34m\u001b[0m\u001b[0;34m\u001b[0m\u001b[0m\n\u001b[1;32m      5\u001b[0m     \u001b[0ma\u001b[0m\u001b[0;34m,\u001b[0m \u001b[0mb\u001b[0m \u001b[0;34m=\u001b[0m \u001b[0;36m0\u001b[0m\u001b[0;34m,\u001b[0m \u001b[0;36m1\u001b[0m\u001b[0;34m\u001b[0m\u001b[0;34m\u001b[0m\u001b[0m\n",
      "\u001b[0;31mValueError\u001b[0m: N must be non-negative"
     ]
    }
   ],
   "source": [
    "fibonacci(-10)"
   ]
  },
  {
   "cell_type": "code",
   "execution_count": 39,
   "metadata": {},
   "outputs": [
    {
     "name": "stdout",
     "output_type": "stream",
     "text": [
      "trying this ...\n",
      "Bad value: need to do something else\n"
     ]
    }
   ],
   "source": [
    "# can we handle this with a try ... except block?\n",
    "N = -10\n",
    "try:\n",
    "    print(\"trying this ...\")\n",
    "    print(fibonacci(N))\n",
    "except ValueError:\n",
    "    print(\"Bad value: need to do something else\")"
   ]
  },
  {
   "cell_type": "code",
   "execution_count": 40,
   "metadata": {},
   "outputs": [
    {
     "name": "stdout",
     "output_type": "stream",
     "text": [
      "Error class is:  <class 'ZeroDivisionError'>\n",
      "Error message is: division by zero\n"
     ]
    }
   ],
   "source": [
    "# accessing the error message\n",
    "try:\n",
    "    x = 1/0\n",
    "except ZeroDivisionError as err:\n",
    "    print(\"Error class is: \", type(err))\n",
    "    print(\"Error message is:\", err)"
   ]
  },
  {
   "cell_type": "code",
   "execution_count": 41,
   "metadata": {},
   "outputs": [
    {
     "ename": "MySpecialError",
     "evalue": "here's the message",
     "output_type": "error",
     "traceback": [
      "\u001b[0;31m---------------------------------------------------------------------------\u001b[0m",
      "\u001b[0;31mMySpecialError\u001b[0m                            Traceback (most recent call last)",
      "\u001b[0;32m<ipython-input-41-0625a536be86>\u001b[0m in \u001b[0;36m<module>\u001b[0;34m\u001b[0m\n\u001b[1;32m      4\u001b[0m     \u001b[0;32mpass\u001b[0m\u001b[0;34m\u001b[0m\u001b[0;34m\u001b[0m\u001b[0m\n\u001b[1;32m      5\u001b[0m \u001b[0;34m\u001b[0m\u001b[0m\n\u001b[0;32m----> 6\u001b[0;31m \u001b[0;32mraise\u001b[0m \u001b[0mMySpecialError\u001b[0m\u001b[0;34m(\u001b[0m\u001b[0;34m\"here's the message\"\u001b[0m\u001b[0;34m)\u001b[0m\u001b[0;34m\u001b[0m\u001b[0;34m\u001b[0m\u001b[0m\n\u001b[0m",
      "\u001b[0;31mMySpecialError\u001b[0m: here's the message"
     ]
    }
   ],
   "source": [
    "# with this function you can further customize the exception handling f(x)\n",
    "# Defining Custom Exceptions #\n",
    "class MySpecialError(ValueError):\n",
    "    pass\n",
    "\n",
    "raise MySpecialError(\"here's the message\")"
   ]
  },
  {
   "cell_type": "code",
   "execution_count": 42,
   "metadata": {},
   "outputs": [
    {
     "name": "stdout",
     "output_type": "stream",
     "text": [
      "do something\n",
      "do something else\n"
     ]
    }
   ],
   "source": [
    "# you could then use a try...except block that only catches this type\n",
    "\n",
    "try:\n",
    "    print(\"do something\")\n",
    "    raise MySpecialError(\"[informative error message here]\")\n",
    "except MySpecialError:\n",
    "    print(\"do something else\")"
   ]
  },
  {
   "cell_type": "code",
   "execution_count": 43,
   "metadata": {},
   "outputs": [
    {
     "name": "stdout",
     "output_type": "stream",
     "text": [
      "try something here\n",
      "this happens only if it succeeds\n",
      "this happens no matter what\n"
     ]
    }
   ],
   "source": [
    "## try...except...else...finally ##\n",
    "try:\n",
    "    print(\"try something here\")\n",
    "except:\n",
    "    print(\"this happens only if it fails\")\n",
    "else:\n",
    "    print(\"this happens only if it succeeds\")\n",
    "finally:\n",
    "    print(\"this happens no matter what\")"
   ]
  },
  {
   "cell_type": "code",
   "execution_count": null,
   "metadata": {},
   "outputs": [],
   "source": [
    "# finally is usually used for cleanup after operation completes"
   ]
  },
  {
   "cell_type": "code",
   "execution_count": null,
   "metadata": {},
   "outputs": [],
   "source": [
    "### Iterators ###"
   ]
  },
  {
   "cell_type": "code",
   "execution_count": 44,
   "metadata": {},
   "outputs": [
    {
     "name": "stdout",
     "output_type": "stream",
     "text": [
      "0 1 2 3 4 5 6 7 8 9 "
     ]
    }
   ],
   "source": [
    "for i in range(10):\n",
    "    print(i, end=' ')"
   ]
  },
  {
   "cell_type": "code",
   "execution_count": 48,
   "metadata": {},
   "outputs": [
    {
     "name": "stdout",
     "output_type": "stream",
     "text": [
      "3 5 7 9 11 "
     ]
    }
   ],
   "source": [
    "# iterating over lists\n",
    "for value in [2, 4, 6, 8, 10]:\n",
    "    # do some operation\n",
    "    print(value + 1, end=' ')"
   ]
  },
  {
   "cell_type": "code",
   "execution_count": 49,
   "metadata": {},
   "outputs": [
    {
     "data": {
      "text/plain": [
       "<list_iterator at 0x109cc4940>"
      ]
     },
     "execution_count": 49,
     "metadata": {},
     "output_type": "execute_result"
    }
   ],
   "source": [
    "# iter function to check for iterator interface\n",
    "iter([2, 4, 6, 7, 10])"
   ]
  },
  {
   "cell_type": "code",
   "execution_count": 50,
   "metadata": {},
   "outputs": [],
   "source": [
    "I = iter([2, 4, 6, 8, 10])"
   ]
  },
  {
   "cell_type": "code",
   "execution_count": 51,
   "metadata": {},
   "outputs": [
    {
     "name": "stdout",
     "output_type": "stream",
     "text": [
      "2\n"
     ]
    }
   ],
   "source": [
    "print(next(I))"
   ]
  },
  {
   "cell_type": "code",
   "execution_count": 52,
   "metadata": {},
   "outputs": [
    {
     "name": "stdout",
     "output_type": "stream",
     "text": [
      "4\n"
     ]
    }
   ],
   "source": [
    "print(next(I))"
   ]
  },
  {
   "cell_type": "code",
   "execution_count": 53,
   "metadata": {},
   "outputs": [
    {
     "name": "stdout",
     "output_type": "stream",
     "text": [
      "6\n"
     ]
    }
   ],
   "source": [
    "print(next(I))"
   ]
  },
  {
   "cell_type": "code",
   "execution_count": null,
   "metadata": {},
   "outputs": [],
   "source": [
    "# this allows Python to treat things as lists that are not lists"
   ]
  },
  {
   "cell_type": "code",
   "execution_count": null,
   "metadata": {},
   "outputs": [],
   "source": [
    "# range(): a list is not always a list"
   ]
  },
  {
   "cell_type": "code",
   "execution_count": 54,
   "metadata": {},
   "outputs": [
    {
     "data": {
      "text/plain": [
       "range(0, 10)"
      ]
     },
     "execution_count": 54,
     "metadata": {},
     "output_type": "execute_result"
    }
   ],
   "source": [
    "range(10)"
   ]
  },
  {
   "cell_type": "code",
   "execution_count": 55,
   "metadata": {},
   "outputs": [
    {
     "data": {
      "text/plain": [
       "<range_iterator at 0x109a4d810>"
      ]
     },
     "execution_count": 55,
     "metadata": {},
     "output_type": "execute_result"
    }
   ],
   "source": [
    "iter(range(10))"
   ]
  },
  {
   "cell_type": "code",
   "execution_count": 56,
   "metadata": {},
   "outputs": [
    {
     "name": "stdout",
     "output_type": "stream",
     "text": [
      "0 1 2 3 4 5 6 7 8 9 "
     ]
    }
   ],
   "source": [
    "# Python knows to treat range as though it were a list. \n",
    "for i in range(10):\n",
    "    print(i, end=' ')"
   ]
  },
  {
   "cell_type": "code",
   "execution_count": 57,
   "metadata": {},
   "outputs": [
    {
     "name": "stdout",
     "output_type": "stream",
     "text": [
      "0, 1, 2, 3, 4, 5, 6, 7, 8, 9, "
     ]
    }
   ],
   "source": [
    "N = 10 ** 12\n",
    "for i in range(N):\n",
    "    if i >= 10: break\n",
    "    print(i, end=', ')"
   ]
  },
  {
   "cell_type": "code",
   "execution_count": 58,
   "metadata": {},
   "outputs": [
    {
     "name": "stdout",
     "output_type": "stream",
     "text": [
      "0, 1, 2, 3, 4, 5, 6, 7, 8, 9, "
     ]
    }
   ],
   "source": [
    "from itertools import count\n",
    "\n",
    "for i in count():\n",
    "    if i >= 10:\n",
    "        break\n",
    "    print(i, end=', ')"
   ]
  },
  {
   "cell_type": "code",
   "execution_count": 1,
   "metadata": {},
   "outputs": [
    {
     "name": "stdout",
     "output_type": "stream",
     "text": [
      "0 2\n",
      "1 4\n",
      "2 6\n",
      "3 8\n",
      "4 10\n"
     ]
    }
   ],
   "source": [
    "# enumerate, iterate values keep track of index\n",
    "L = [2, 4, 6, 8, 10]\n",
    "for i, val in enumerate(L):\n",
    "    print(i, val)"
   ]
  },
  {
   "cell_type": "code",
   "execution_count": 2,
   "metadata": {},
   "outputs": [
    {
     "name": "stdout",
     "output_type": "stream",
     "text": [
      "2 3\n",
      "4 6\n",
      "6 9\n",
      "8 12\n",
      "10 15\n"
     ]
    }
   ],
   "source": [
    "# Zip - zips together iterables:\n",
    "L = [2, 4, 6, 8, 10]\n",
    "R = [3, 6, 9, 12, 15]\n",
    "for lval, rval in zip(L, R):\n",
    "    print(lval, rval)"
   ]
  },
  {
   "cell_type": "code",
   "execution_count": 3,
   "metadata": {},
   "outputs": [
    {
     "name": "stdout",
     "output_type": "stream",
     "text": [
      "0 1 4 9 16 25 36 49 64 81 "
     ]
    }
   ],
   "source": [
    "# map and filter\n",
    "# find the first 10 square numbers\n",
    "square = lambda x: x **2\n",
    "for val in map(square, range(10)):\n",
    "    print(val, end=' ')"
   ]
  },
  {
   "cell_type": "code",
   "execution_count": 4,
   "metadata": {},
   "outputs": [
    {
     "name": "stdout",
     "output_type": "stream",
     "text": [
      "0 2 4 6 8 "
     ]
    }
   ],
   "source": [
    "#filter only passes through values which filter evaluates to True:\n",
    "# find values up to 10 for which x % 2 is zero\n",
    "is_even = lambda x: x % 2 == 0\n",
    "for val in filter(is_even, range(10)):\n",
    "    print(val, end=' ')"
   ]
  },
  {
   "cell_type": "code",
   "execution_count": 5,
   "metadata": {},
   "outputs": [
    {
     "name": "stdout",
     "output_type": "stream",
     "text": [
      "0 1 2 3 4 5 6 7 8 9\n"
     ]
    }
   ],
   "source": [
    "# Iterators as function arguments\n",
    "print(*range(10))"
   ]
  },
  {
   "cell_type": "code",
   "execution_count": 6,
   "metadata": {},
   "outputs": [
    {
     "name": "stdout",
     "output_type": "stream",
     "text": [
      "0 1 4 9 16 25 36 49 64 81\n"
     ]
    }
   ],
   "source": [
    "print(*map(lambda x: x ** 2, range(10)))"
   ]
  },
  {
   "cell_type": "code",
   "execution_count": 7,
   "metadata": {},
   "outputs": [],
   "source": [
    "L1 = (1, 2, 3, 4)\n",
    "L2 = ('a', 'b', 'c', 'd')"
   ]
  },
  {
   "cell_type": "code",
   "execution_count": 8,
   "metadata": {},
   "outputs": [
    {
     "name": "stdout",
     "output_type": "stream",
     "text": [
      "(1, 'a') (2, 'b') (3, 'c') (4, 'd')\n"
     ]
    }
   ],
   "source": [
    "z = zip(L1, L2)\n",
    "print(*z)"
   ]
  },
  {
   "cell_type": "code",
   "execution_count": 9,
   "metadata": {},
   "outputs": [
    {
     "name": "stdout",
     "output_type": "stream",
     "text": [
      "(1, 2, 3, 4) ('a', 'b', 'c', 'd')\n"
     ]
    }
   ],
   "source": [
    "z = zip(L1, L2)\n",
    "new_L1, new_L2 = zip(*z)\n",
    "print(new_L1, new_L2)"
   ]
  },
  {
   "cell_type": "code",
   "execution_count": 10,
   "metadata": {},
   "outputs": [
    {
     "name": "stdout",
     "output_type": "stream",
     "text": [
      "(0, 1, 2) (0, 2, 1) (1, 0, 2) (1, 2, 0) (2, 0, 1) (2, 1, 0)\n"
     ]
    }
   ],
   "source": [
    "# Specialized Iterators: Itertools\n",
    "# Permutation Function\n",
    "from itertools import permutations\n",
    "p = permutations(range(3))\n",
    "print(*p)"
   ]
  },
  {
   "cell_type": "code",
   "execution_count": 11,
   "metadata": {},
   "outputs": [
    {
     "name": "stdout",
     "output_type": "stream",
     "text": [
      "(0, 1) (0, 2) (0, 3) (1, 2) (1, 3) (2, 3)\n"
     ]
    }
   ],
   "source": [
    "# Combinations Function\n",
    "from itertools import combinations\n",
    "c = combinations(range(4), 2)\n",
    "print(*c)"
   ]
  },
  {
   "cell_type": "code",
   "execution_count": 12,
   "metadata": {},
   "outputs": [
    {
     "name": "stdout",
     "output_type": "stream",
     "text": [
      "('a', 0) ('a', 1) ('a', 2) ('b', 0) ('b', 1) ('b', 2)\n"
     ]
    }
   ],
   "source": [
    "# Product - iterates over all sets of pairs between two or more iterables:\n",
    "from itertools import product \n",
    "p = product('ab', range(3))\n",
    "print(*p)"
   ]
  },
  {
   "cell_type": "code",
   "execution_count": 1,
   "metadata": {},
   "outputs": [
    {
     "data": {
      "text/plain": [
       "[1, 2, 4, 5, 7, 8, 10, 11, 13, 14, 16, 17, 19]"
      ]
     },
     "execution_count": 1,
     "metadata": {},
     "output_type": "execute_result"
    }
   ],
   "source": [
    "### List Comprehensions ###\n",
    "[i for i in range(20) if i % 3 > 0]"
   ]
  },
  {
   "cell_type": "code",
   "execution_count": 2,
   "metadata": {},
   "outputs": [
    {
     "data": {
      "text/plain": [
       "[0, 1, 4, 9, 16, 25, 36, 49, 64, 81, 100, 121]"
      ]
     },
     "execution_count": 2,
     "metadata": {},
     "output_type": "execute_result"
    }
   ],
   "source": [
    "# list comprehensions, a way to compress a list-building\n",
    "# for-loop into a single short readable line\n",
    "L = []\n",
    "for n in range(12):\n",
    "    L.append(n ** 2)\n",
    "L"
   ]
  },
  {
   "cell_type": "code",
   "execution_count": 3,
   "metadata": {},
   "outputs": [
    {
     "data": {
      "text/plain": [
       "[0, 1, 4, 9, 16, 25, 36, 49, 64, 81, 100, 121]"
      ]
     },
     "execution_count": 3,
     "metadata": {},
     "output_type": "execute_result"
    }
   ],
   "source": [
    "[n ** 2 for n in range(12)]"
   ]
  },
  {
   "cell_type": "code",
   "execution_count": 4,
   "metadata": {},
   "outputs": [
    {
     "data": {
      "text/plain": [
       "[(0, 0), (0, 1), (0, 2), (1, 0), (1, 1), (1, 2)]"
      ]
     },
     "execution_count": 4,
     "metadata": {},
     "output_type": "execute_result"
    }
   ],
   "source": [
    "# Multiple Iteration\n",
    "[(i, j) for i in range(2) for j in range(3)]"
   ]
  },
  {
   "cell_type": "code",
   "execution_count": 5,
   "metadata": {},
   "outputs": [
    {
     "data": {
      "text/plain": [
       "[1, 2, 4, 5, 7, 8, 10, 11, 13, 14, 16, 17, 19]"
      ]
     },
     "execution_count": 5,
     "metadata": {},
     "output_type": "execute_result"
    }
   ],
   "source": [
    "# conditionals on the iterator\n",
    "[val for val in range(20) if val % 3 > 0]"
   ]
  },
  {
   "cell_type": "code",
   "execution_count": 6,
   "metadata": {},
   "outputs": [
    {
     "data": {
      "text/plain": [
       "[1, 2, 4, 5, 7, 8, 10, 11, 13, 14, 16, 17, 19]"
      ]
     },
     "execution_count": 6,
     "metadata": {},
     "output_type": "execute_result"
    }
   ],
   "source": [
    "# same thing as a loop\n",
    "L = []\n",
    "for val in range(20):\n",
    "    if val % 3:\n",
    "        L.append(val)\n",
    "L"
   ]
  },
  {
   "cell_type": "code",
   "execution_count": 7,
   "metadata": {},
   "outputs": [
    {
     "data": {
      "text/plain": [
       "10"
      ]
     },
     "execution_count": 7,
     "metadata": {},
     "output_type": "execute_result"
    }
   ],
   "source": [
    "# conditionals on the value\n",
    "val = -10\n",
    "val if val >= 0 else -val"
   ]
  },
  {
   "cell_type": "code",
   "execution_count": 8,
   "metadata": {},
   "outputs": [
    {
     "data": {
      "text/plain": [
       "[1, -2, -4, 5, 7, -8, -10, 11, 13, -14, -16, 17, 19]"
      ]
     },
     "execution_count": 8,
     "metadata": {},
     "output_type": "execute_result"
    }
   ],
   "source": [
    "[val if val % 2 else -val\n",
    "for val in range(20) if val % 3]"
   ]
  },
  {
   "cell_type": "code",
   "execution_count": 9,
   "metadata": {},
   "outputs": [
    {
     "data": {
      "text/plain": [
       "{0, 1, 4, 9, 16, 25, 36, 49, 64, 81, 100, 121}"
      ]
     },
     "execution_count": 9,
     "metadata": {},
     "output_type": "execute_result"
    }
   ],
   "source": [
    "# set comprehension\n",
    "{n**2 for n in range(12)}"
   ]
  },
  {
   "cell_type": "code",
   "execution_count": 10,
   "metadata": {},
   "outputs": [
    {
     "data": {
      "text/plain": [
       "{0, 1, 2}"
      ]
     },
     "execution_count": 10,
     "metadata": {},
     "output_type": "execute_result"
    }
   ],
   "source": [
    "{a % 3 for a in range(1000)}"
   ]
  },
  {
   "cell_type": "code",
   "execution_count": 11,
   "metadata": {},
   "outputs": [
    {
     "data": {
      "text/plain": [
       "{0: 0, 1: 1, 2: 4, 3: 9, 4: 16, 5: 25}"
      ]
     },
     "execution_count": 11,
     "metadata": {},
     "output_type": "execute_result"
    }
   ],
   "source": [
    "# dictionary comprehension\n",
    "{n:n**2 for n in range(6)}"
   ]
  },
  {
   "cell_type": "code",
   "execution_count": 12,
   "metadata": {},
   "outputs": [
    {
     "data": {
      "text/plain": [
       "<generator object <genexpr> at 0x1083392a0>"
      ]
     },
     "execution_count": 12,
     "metadata": {},
     "output_type": "execute_result"
    }
   ],
   "source": [
    "# generator expression\n",
    "(n**2 for n in range(12))"
   ]
  },
  {
   "cell_type": "code",
   "execution_count": 13,
   "metadata": {},
   "outputs": [
    {
     "data": {
      "text/plain": [
       "[0, 1, 4, 9, 16, 25, 36, 49, 64, 81, 100, 121]"
      ]
     },
     "execution_count": 13,
     "metadata": {},
     "output_type": "execute_result"
    }
   ],
   "source": [
    "# list comprehensions use square brackets\n",
    "# generator expressions use parentheses\n",
    "[n ** 2 for n in range(12)]"
   ]
  },
  {
   "cell_type": "code",
   "execution_count": 14,
   "metadata": {},
   "outputs": [
    {
     "data": {
      "text/plain": [
       "<generator object <genexpr> at 0x108339228>"
      ]
     },
     "execution_count": 14,
     "metadata": {},
     "output_type": "execute_result"
    }
   ],
   "source": [
    "(n ** 2 for n in range(12))"
   ]
  },
  {
   "cell_type": "code",
   "execution_count": 15,
   "metadata": {},
   "outputs": [
    {
     "data": {
      "text/plain": [
       "[0, 1, 4, 9, 16, 25, 36, 49, 64, 81, 100, 121]"
      ]
     },
     "execution_count": 15,
     "metadata": {},
     "output_type": "execute_result"
    }
   ],
   "source": [
    "# print generator expression contents by passing to list constructor\n",
    "G = (n ** 2 for n in range(12))\n",
    "list(G)"
   ]
  },
  {
   "cell_type": "code",
   "execution_count": 16,
   "metadata": {},
   "outputs": [
    {
     "data": {
      "text/plain": [
       "count(0)"
      ]
     },
     "execution_count": 16,
     "metadata": {},
     "output_type": "execute_result"
    }
   ],
   "source": [
    "# list is a collection of values\n",
    "# generator is a recipe for producing values\n",
    "from itertools import count\n",
    "count()"
   ]
  },
  {
   "cell_type": "code",
   "execution_count": 17,
   "metadata": {},
   "outputs": [
    {
     "name": "stdout",
     "output_type": "stream",
     "text": [
      "0 1 2 3 4 5 6 7 8 9 10 "
     ]
    }
   ],
   "source": [
    "for i in count():\n",
    "    print(i, end=' ')\n",
    "    if i >= 10: break"
   ]
  },
  {
   "cell_type": "code",
   "execution_count": 18,
   "metadata": {},
   "outputs": [
    {
     "name": "stdout",
     "output_type": "stream",
     "text": [
      "1 11 13 17 19 23 29 31 37 41 "
     ]
    }
   ],
   "source": [
    "factors = [2, 3, 5, 7]\n",
    "G = (i for i in count() if all (i % n > 0 for n in factors))\n",
    "for val in G:\n",
    "    print(val, end=' ')\n",
    "    if val > 40: break"
   ]
  },
  {
   "cell_type": "code",
   "execution_count": 19,
   "metadata": {},
   "outputs": [
    {
     "name": "stdout",
     "output_type": "stream",
     "text": [
      "0 1 4 9 16 25 36 49 64 81 100 121 \n",
      "0 1 4 9 16 25 36 49 64 81 100 121 "
     ]
    }
   ],
   "source": [
    "# list can be iterated multiple times\n",
    "# generator expression is single-use\n",
    "\n",
    "L = [n ** 2 for n in range(12)]\n",
    "for val in L:\n",
    "    print(val, end=' ')\n",
    "print()\n",
    "\n",
    "for val in L:\n",
    "    print(val, end=' ')"
   ]
  },
  {
   "cell_type": "code",
   "execution_count": 20,
   "metadata": {},
   "outputs": [
    {
     "data": {
      "text/plain": [
       "[0, 1, 4, 9, 16, 25, 36, 49, 64, 81, 100, 121]"
      ]
     },
     "execution_count": 20,
     "metadata": {},
     "output_type": "execute_result"
    }
   ],
   "source": [
    "G = (n ** 2 for n in range(12))\n",
    "list(G)"
   ]
  },
  {
   "cell_type": "code",
   "execution_count": 21,
   "metadata": {},
   "outputs": [
    {
     "data": {
      "text/plain": [
       "[]"
      ]
     },
     "execution_count": 21,
     "metadata": {},
     "output_type": "execute_result"
    }
   ],
   "source": [
    "list(G)"
   ]
  },
  {
   "cell_type": "code",
   "execution_count": 22,
   "metadata": {},
   "outputs": [
    {
     "name": "stdout",
     "output_type": "stream",
     "text": [
      "0 1 4 9 16 25 36 \n",
      "doing something in between\n",
      "49 64 81 100 121 "
     ]
    }
   ],
   "source": [
    "G = (n**2 for n in range(12))\n",
    "for n in G:\n",
    "    print(n, end=' ')\n",
    "    if n > 30: break\n",
    "        \n",
    "print(\"\\ndoing something in between\")\n",
    "\n",
    "for n in G:\n",
    "    print(n, end=' ')"
   ]
  },
  {
   "cell_type": "code",
   "execution_count": 23,
   "metadata": {},
   "outputs": [
    {
     "name": "stdout",
     "output_type": "stream",
     "text": [
      "[0, 1, 4, 9, 16, 25, 36, 49, 64, 81, 100, 121]\n",
      "[0, 1, 4, 9, 16, 25, 36, 49, 64, 81, 100, 121]\n"
     ]
    }
   ],
   "source": [
    "# generator functions: using yield\n",
    "# below: 2 ways to construct the same lists\n",
    "L1 = [n ** 2 for n in range(12)]\n",
    "\n",
    "L2 = []\n",
    "for n in range(12):\n",
    "    L2.append(n ** 2)\n",
    "print(L1)\n",
    "print(L2)"
   ]
  },
  {
   "cell_type": "code",
   "execution_count": 24,
   "metadata": {},
   "outputs": [
    {
     "name": "stdout",
     "output_type": "stream",
     "text": [
      "0 1 4 9 16 25 36 49 64 81 100 121\n",
      "0 1 4 9 16 25 36 49 64 81 100 121\n"
     ]
    }
   ],
   "source": [
    "# below: 2 ways to construct the same generators\n",
    "G1 = (n ** 2 for n in range(12))\n",
    "\n",
    "def gen():\n",
    "    for n in range(12):\n",
    "        yield n ** 2\n",
    "        \n",
    "G2 = gen()\n",
    "print(*G1)\n",
    "print(*G2)"
   ]
  },
  {
   "cell_type": "code",
   "execution_count": null,
   "metadata": {},
   "outputs": [],
   "source": [
    "# Example: Prime Number Generator #"
   ]
  },
  {
   "cell_type": "code",
   "execution_count": 25,
   "metadata": {},
   "outputs": [
    {
     "name": "stdout",
     "output_type": "stream",
     "text": [
      "[2, 3, 4, 5, 6, 7, 8, 9, 10, 11, 12, 13, 14, 15, 16, 17, 18, 19, 20, 21, 22, 23, 24, 25, 26, 27, 28, 29, 30, 31, 32, 33, 34, 35, 36, 37, 38, 39]\n"
     ]
    }
   ],
   "source": [
    "# generate a list of candidates\n",
    "L = [n for n in range(2, 40)]\n",
    "print(L)"
   ]
  },
  {
   "cell_type": "code",
   "execution_count": 26,
   "metadata": {},
   "outputs": [
    {
     "name": "stdout",
     "output_type": "stream",
     "text": [
      "[2, 4, 5, 7, 8, 10, 11, 13, 14, 16, 17, 19, 20, 22, 23, 25, 26, 28, 29, 31, 32, 34, 35, 37, 38]\n"
     ]
    }
   ],
   "source": [
    "# remove all multiples of the first value\n",
    "L = [n for n in L if n == L[0] or n % L[1] > 0]\n",
    "print(L)"
   ]
  },
  {
   "cell_type": "code",
   "execution_count": 27,
   "metadata": {},
   "outputs": [
    {
     "name": "stdout",
     "output_type": "stream",
     "text": [
      "[2, 4, 5, 7, 10, 11, 13, 14, 17, 19, 22, 23, 25, 26, 29, 31, 34, 35, 37, 38]\n"
     ]
    }
   ],
   "source": [
    "# remove all multiples of the second value\n",
    "L = [n for n in L if n == L[1] or n % L[1] > 0]\n",
    "print(L)"
   ]
  },
  {
   "cell_type": "code",
   "execution_count": 28,
   "metadata": {},
   "outputs": [
    {
     "name": "stdout",
     "output_type": "stream",
     "text": [
      "[2, 4, 5, 7, 11, 13, 14, 17, 19, 22, 23, 26, 29, 31, 34, 37, 38]\n"
     ]
    }
   ],
   "source": [
    "# remove all multiples of the third value\n",
    "L = [n for n in L if n == L[2] or n % L[2] > 0]\n",
    "print(L)"
   ]
  },
  {
   "cell_type": "code",
   "execution_count": 29,
   "metadata": {},
   "outputs": [
    {
     "name": "stdout",
     "output_type": "stream",
     "text": [
      "2 3 5 7 11 13 17 19 23 29 31 37 41 43 47 53 59 61 67 71 73 79 83 89 97\n"
     ]
    }
   ],
   "source": [
    "# encapsulating this process in a generator function:\n",
    "def gen_primes(N):\n",
    "    \"\"\"Generate primes up to N\"\"\"\n",
    "    primes = set()\n",
    "    for n in range(2, N):\n",
    "        if all(n % p > 0 for p in primes):\n",
    "            primes.add(n)\n",
    "            yield n\n",
    "            \n",
    "print(*gen_primes(100))"
   ]
  },
  {
   "cell_type": "code",
   "execution_count": null,
   "metadata": {},
   "outputs": [],
   "source": [
    "# Loading Modules: the Import Statement"
   ]
  },
  {
   "cell_type": "code",
   "execution_count": 30,
   "metadata": {},
   "outputs": [
    {
     "data": {
      "text/plain": [
       "-1.0"
      ]
     },
     "execution_count": 30,
     "metadata": {},
     "output_type": "execute_result"
    }
   ],
   "source": [
    "# Import built-in math module and compute cosine\n",
    "import math\n",
    "math.cos(math.pi)"
   ]
  },
  {
   "cell_type": "code",
   "execution_count": 31,
   "metadata": {},
   "outputs": [
    {
     "data": {
      "text/plain": [
       "-1.0"
      ]
     },
     "execution_count": 31,
     "metadata": {},
     "output_type": "execute_result"
    }
   ],
   "source": [
    "# Explicit module import by alias\n",
    "import numpy as np\n",
    "np.cos(np.pi)"
   ]
  },
  {
   "cell_type": "code",
   "execution_count": 32,
   "metadata": {},
   "outputs": [
    {
     "data": {
      "text/plain": [
       "-1.0"
      ]
     },
     "execution_count": 32,
     "metadata": {},
     "output_type": "execute_result"
    }
   ],
   "source": [
    "# Explicit import of module contents\n",
    "from math import cos, pi\n",
    "cos(pi)"
   ]
  },
  {
   "cell_type": "code",
   "execution_count": 33,
   "metadata": {},
   "outputs": [
    {
     "data": {
      "text/plain": [
       "1.0"
      ]
     },
     "execution_count": 33,
     "metadata": {},
     "output_type": "execute_result"
    }
   ],
   "source": [
    "# Implicit import of module contents\n",
    "from math import *\n",
    "sin(pi) ** 2 + cos(pi) ** 2"
   ]
  },
  {
   "cell_type": "code",
   "execution_count": 34,
   "metadata": {},
   "outputs": [
    {
     "name": "stdout",
     "output_type": "stream",
     "text": [
      "Help on built-in function sum in module builtins:\n",
      "\n",
      "sum(iterable, start=0, /)\n",
      "    Return the sum of a 'start' value (default: 0) plus an iterable of numbers\n",
      "    \n",
      "    When the iterable is empty, return the start value.\n",
      "    This function is intended specifically for use with numeric values and may\n",
      "    reject non-numeric types.\n",
      "\n"
     ]
    }
   ],
   "source": [
    "help(sum)"
   ]
  },
  {
   "cell_type": "code",
   "execution_count": 35,
   "metadata": {},
   "outputs": [
    {
     "data": {
      "text/plain": [
       "9"
      ]
     },
     "execution_count": 35,
     "metadata": {},
     "output_type": "execute_result"
    }
   ],
   "source": [
    "sum(range(5), -1)"
   ]
  },
  {
   "cell_type": "raw",
   "metadata": {},
   "source": []
  },
  {
   "cell_type": "code",
   "execution_count": 37,
   "metadata": {},
   "outputs": [
    {
     "data": {
      "text/plain": [
       "10"
      ]
     },
     "execution_count": 37,
     "metadata": {},
     "output_type": "execute_result"
    }
   ],
   "source": [
    "from numpy import *\n",
    "sum(range(5), -1)"
   ]
  },
  {
   "cell_type": "code",
   "execution_count": 38,
   "metadata": {},
   "outputs": [
    {
     "data": {
      "text/plain": [
       "True"
      ]
     },
     "execution_count": 38,
     "metadata": {},
     "output_type": "execute_result"
    }
   ],
   "source": [
    "x = 'a string'\n",
    "y = \"a string\"\n",
    "x == y"
   ]
  },
  {
   "cell_type": "code",
   "execution_count": null,
   "metadata": {},
   "outputs": [],
   "source": [
    "# multi - line strings\n",
    "multiline = \"\"\"\n",
    "one\n",
    "two\n",
    "three\n",
    "\"\"\""
   ]
  },
  {
   "cell_type": "code",
   "execution_count": 39,
   "metadata": {},
   "outputs": [
    {
     "data": {
      "text/plain": [
       "'THE QUICK BROWN FOX.'"
      ]
     },
     "execution_count": 39,
     "metadata": {},
     "output_type": "execute_result"
    }
   ],
   "source": [
    "# formatting strings: adjusting case\n",
    "fox = \"tHe qUICk bROWn fOx.\"\n",
    "fox.upper()"
   ]
  },
  {
   "cell_type": "code",
   "execution_count": 40,
   "metadata": {},
   "outputs": [
    {
     "data": {
      "text/plain": [
       "'the quick brown fox.'"
      ]
     },
     "execution_count": 40,
     "metadata": {},
     "output_type": "execute_result"
    }
   ],
   "source": [
    "fox.lower()"
   ]
  },
  {
   "cell_type": "code",
   "execution_count": 41,
   "metadata": {},
   "outputs": [
    {
     "data": {
      "text/plain": [
       "'The Quick Brown Fox.'"
      ]
     },
     "execution_count": 41,
     "metadata": {},
     "output_type": "execute_result"
    }
   ],
   "source": [
    "fox.title()"
   ]
  },
  {
   "cell_type": "code",
   "execution_count": 42,
   "metadata": {},
   "outputs": [
    {
     "data": {
      "text/plain": [
       "'The quick brown fox.'"
      ]
     },
     "execution_count": 42,
     "metadata": {},
     "output_type": "execute_result"
    }
   ],
   "source": [
    "fox.capitalize()"
   ]
  },
  {
   "cell_type": "code",
   "execution_count": 43,
   "metadata": {},
   "outputs": [
    {
     "data": {
      "text/plain": [
       "'ThE QuicK BrowN FoX.'"
      ]
     },
     "execution_count": 43,
     "metadata": {},
     "output_type": "execute_result"
    }
   ],
   "source": [
    "fox.swapcase()"
   ]
  },
  {
   "cell_type": "code",
   "execution_count": 44,
   "metadata": {},
   "outputs": [
    {
     "data": {
      "text/plain": [
       "'this is the content'"
      ]
     },
     "execution_count": 44,
     "metadata": {},
     "output_type": "execute_result"
    }
   ],
   "source": [
    "# Formatting strings: Adding and removing spaces\n",
    "line = '      this is the content      '\n",
    "line.strip()"
   ]
  },
  {
   "cell_type": "code",
   "execution_count": 45,
   "metadata": {},
   "outputs": [
    {
     "data": {
      "text/plain": [
       "'      this is the content'"
      ]
     },
     "execution_count": 45,
     "metadata": {},
     "output_type": "execute_result"
    }
   ],
   "source": [
    "line.rstrip()"
   ]
  },
  {
   "cell_type": "code",
   "execution_count": 46,
   "metadata": {},
   "outputs": [
    {
     "data": {
      "text/plain": [
       "'this is the content      '"
      ]
     },
     "execution_count": 46,
     "metadata": {},
     "output_type": "execute_result"
    }
   ],
   "source": [
    "line.lstrip()"
   ]
  },
  {
   "cell_type": "code",
   "execution_count": 47,
   "metadata": {},
   "outputs": [
    {
     "data": {
      "text/plain": [
       "'435'"
      ]
     },
     "execution_count": 47,
     "metadata": {},
     "output_type": "execute_result"
    }
   ],
   "source": [
    "num = \"0000000000435\"\n",
    "num.strip('0')"
   ]
  },
  {
   "cell_type": "code",
   "execution_count": 48,
   "metadata": {},
   "outputs": [
    {
     "data": {
      "text/plain": [
       "'     this is the content      '"
      ]
     },
     "execution_count": 48,
     "metadata": {},
     "output_type": "execute_result"
    }
   ],
   "source": [
    "line = \"this is the content\"\n",
    "line.center(30)"
   ]
  },
  {
   "cell_type": "code",
   "execution_count": 49,
   "metadata": {},
   "outputs": [
    {
     "data": {
      "text/plain": [
       "'this is the content           '"
      ]
     },
     "execution_count": 49,
     "metadata": {},
     "output_type": "execute_result"
    }
   ],
   "source": [
    "line.ljust(30)"
   ]
  },
  {
   "cell_type": "code",
   "execution_count": 50,
   "metadata": {},
   "outputs": [
    {
     "data": {
      "text/plain": [
       "'           this is the content'"
      ]
     },
     "execution_count": 50,
     "metadata": {},
     "output_type": "execute_result"
    }
   ],
   "source": [
    "line.rjust(30)"
   ]
  },
  {
   "cell_type": "code",
   "execution_count": 51,
   "metadata": {},
   "outputs": [
    {
     "data": {
      "text/plain": [
       "'0000000435'"
      ]
     },
     "execution_count": 51,
     "metadata": {},
     "output_type": "execute_result"
    }
   ],
   "source": [
    "'435'.rjust(10, '0')"
   ]
  },
  {
   "cell_type": "code",
   "execution_count": 52,
   "metadata": {},
   "outputs": [
    {
     "data": {
      "text/plain": [
       "'0000000435'"
      ]
     },
     "execution_count": 52,
     "metadata": {},
     "output_type": "execute_result"
    }
   ],
   "source": [
    "'435'.zfill(10)"
   ]
  },
  {
   "cell_type": "code",
   "execution_count": 53,
   "metadata": {},
   "outputs": [
    {
     "data": {
      "text/plain": [
       "16"
      ]
     },
     "execution_count": 53,
     "metadata": {},
     "output_type": "execute_result"
    }
   ],
   "source": [
    "# finding and replacing substrings\n",
    "line = 'the quick brown fox jumped over a lazy dog'\n",
    "line.find('fox')"
   ]
  },
  {
   "cell_type": "code",
   "execution_count": 54,
   "metadata": {},
   "outputs": [
    {
     "data": {
      "text/plain": [
       "16"
      ]
     },
     "execution_count": 54,
     "metadata": {},
     "output_type": "execute_result"
    }
   ],
   "source": [
    "line.index('fox')"
   ]
  },
  {
   "cell_type": "code",
   "execution_count": 55,
   "metadata": {},
   "outputs": [
    {
     "data": {
      "text/plain": [
       "-1"
      ]
     },
     "execution_count": 55,
     "metadata": {},
     "output_type": "execute_result"
    }
   ],
   "source": [
    "line.find('bear')"
   ]
  },
  {
   "cell_type": "code",
   "execution_count": 56,
   "metadata": {},
   "outputs": [
    {
     "ename": "ValueError",
     "evalue": "substring not found",
     "output_type": "error",
     "traceback": [
      "\u001b[0;31m---------------------------------------------------------------------------\u001b[0m",
      "\u001b[0;31mValueError\u001b[0m                                Traceback (most recent call last)",
      "\u001b[0;32m<ipython-input-56-adf599eb4c79>\u001b[0m in \u001b[0;36m<module>\u001b[0;34m\u001b[0m\n\u001b[0;32m----> 1\u001b[0;31m \u001b[0mline\u001b[0m\u001b[0;34m.\u001b[0m\u001b[0mindex\u001b[0m\u001b[0;34m(\u001b[0m\u001b[0;34m'bear'\u001b[0m\u001b[0;34m)\u001b[0m\u001b[0;34m\u001b[0m\u001b[0;34m\u001b[0m\u001b[0m\n\u001b[0m",
      "\u001b[0;31mValueError\u001b[0m: substring not found"
     ]
    }
   ],
   "source": [
    "line.index('bear')"
   ]
  },
  {
   "cell_type": "code",
   "execution_count": 57,
   "metadata": {},
   "outputs": [
    {
     "data": {
      "text/plain": [
       "35"
      ]
     },
     "execution_count": 57,
     "metadata": {},
     "output_type": "execute_result"
    }
   ],
   "source": [
    "line.rfind('a')"
   ]
  },
  {
   "cell_type": "code",
   "execution_count": 58,
   "metadata": {},
   "outputs": [
    {
     "data": {
      "text/plain": [
       "True"
      ]
     },
     "execution_count": 58,
     "metadata": {},
     "output_type": "execute_result"
    }
   ],
   "source": [
    "line.endswith('dog')"
   ]
  },
  {
   "cell_type": "code",
   "execution_count": 59,
   "metadata": {},
   "outputs": [
    {
     "data": {
      "text/plain": [
       "False"
      ]
     },
     "execution_count": 59,
     "metadata": {},
     "output_type": "execute_result"
    }
   ],
   "source": [
    "line.startswith('fox')"
   ]
  },
  {
   "cell_type": "code",
   "execution_count": 60,
   "metadata": {},
   "outputs": [
    {
     "data": {
      "text/plain": [
       "'the quick red fox jumped over a lazy dog'"
      ]
     },
     "execution_count": 60,
     "metadata": {},
     "output_type": "execute_result"
    }
   ],
   "source": [
    "line.replace('brown', 'red')"
   ]
  },
  {
   "cell_type": "code",
   "execution_count": 61,
   "metadata": {},
   "outputs": [
    {
     "data": {
      "text/plain": [
       "'the quick br--wn f--x jumped --ver a lazy d--g'"
      ]
     },
     "execution_count": 61,
     "metadata": {},
     "output_type": "execute_result"
    }
   ],
   "source": [
    "line.replace('o', '--')"
   ]
  },
  {
   "cell_type": "code",
   "execution_count": 62,
   "metadata": {},
   "outputs": [
    {
     "data": {
      "text/plain": [
       "('the quick brown ', 'fox', ' jumped over a lazy dog')"
      ]
     },
     "execution_count": 62,
     "metadata": {},
     "output_type": "execute_result"
    }
   ],
   "source": [
    "# splitting and partitioning strings\n",
    "line.partition('fox')"
   ]
  },
  {
   "cell_type": "code",
   "execution_count": 63,
   "metadata": {},
   "outputs": [
    {
     "data": {
      "text/plain": [
       "['the', 'quick', 'brown', 'fox', 'jumped', 'over', 'a', 'lazy', 'dog']"
      ]
     },
     "execution_count": 63,
     "metadata": {},
     "output_type": "execute_result"
    }
   ],
   "source": [
    "line.split()"
   ]
  },
  {
   "cell_type": "code",
   "execution_count": 64,
   "metadata": {},
   "outputs": [
    {
     "data": {
      "text/plain": [
       "['matsushima-ya', 'aah matsushima-ya', 'matsushima-ya']"
      ]
     },
     "execution_count": 64,
     "metadata": {},
     "output_type": "execute_result"
    }
   ],
   "source": [
    "haiku = \"\"\"matsushima-ya\n",
    "aah matsushima-ya\n",
    "matsushima-ya\"\"\"\n",
    "\n",
    "haiku.splitlines()"
   ]
  },
  {
   "cell_type": "code",
   "execution_count": 65,
   "metadata": {},
   "outputs": [
    {
     "data": {
      "text/plain": [
       "'1--2--3'"
      ]
     },
     "execution_count": 65,
     "metadata": {},
     "output_type": "execute_result"
    }
   ],
   "source": [
    "'--'.join(['1', '2', '3'])"
   ]
  },
  {
   "cell_type": "code",
   "execution_count": 66,
   "metadata": {},
   "outputs": [
    {
     "name": "stdout",
     "output_type": "stream",
     "text": [
      "matsushima-ya\n",
      "aah matsushima-ya\n",
      "matsushima-ya\n"
     ]
    }
   ],
   "source": [
    "print(\"\\n\".join(['matsushima-ya', 'aah matsushima-ya', 'matsushima-ya']))"
   ]
  },
  {
   "cell_type": "code",
   "execution_count": 67,
   "metadata": {},
   "outputs": [
    {
     "data": {
      "text/plain": [
       "'3.14159'"
      ]
     },
     "execution_count": 67,
     "metadata": {},
     "output_type": "execute_result"
    }
   ],
   "source": [
    "# format strings\n",
    "pi = 3.14159\n",
    "str(pi)"
   ]
  },
  {
   "cell_type": "code",
   "execution_count": 68,
   "metadata": {},
   "outputs": [
    {
     "data": {
      "text/plain": [
       "'The value of pi is 3.14159'"
      ]
     },
     "execution_count": 68,
     "metadata": {},
     "output_type": "execute_result"
    }
   ],
   "source": [
    "\"The value of pi is \" + str(pi)"
   ]
  },
  {
   "cell_type": "code",
   "execution_count": 69,
   "metadata": {},
   "outputs": [
    {
     "data": {
      "text/plain": [
       "'The value of pi is 3.14159'"
      ]
     },
     "execution_count": 69,
     "metadata": {},
     "output_type": "execute_result"
    }
   ],
   "source": [
    "\"The value of pi is {}\".format(pi)"
   ]
  },
  {
   "cell_type": "code",
   "execution_count": 70,
   "metadata": {},
   "outputs": [
    {
     "data": {
      "text/plain": [
       "'First letter: A. Last letter: Z.'"
      ]
     },
     "execution_count": 70,
     "metadata": {},
     "output_type": "execute_result"
    }
   ],
   "source": [
    "\"\"\"First letter: {0}. Last letter: {1}.\"\"\".format('A', 'Z')"
   ]
  },
  {
   "cell_type": "code",
   "execution_count": 72,
   "metadata": {},
   "outputs": [
    {
     "data": {
      "text/plain": [
       "'First letter: A. Last letter: Z.'"
      ]
     },
     "execution_count": 72,
     "metadata": {},
     "output_type": "execute_result"
    }
   ],
   "source": [
    "\"\"\"First letter: {first}. Last letter: {last}.\"\"\".format(last='Z', first='A')"
   ]
  },
  {
   "cell_type": "code",
   "execution_count": 74,
   "metadata": {},
   "outputs": [
    {
     "data": {
      "text/plain": [
       "'pi = 3.142'"
      ]
     },
     "execution_count": 74,
     "metadata": {},
     "output_type": "execute_result"
    }
   ],
   "source": [
    "\"pi = {0:.3f}\".format(pi)"
   ]
  },
  {
   "cell_type": "code",
   "execution_count": 75,
   "metadata": {},
   "outputs": [
    {
     "data": {
      "text/plain": [
       "['the', 'quick', 'brown', 'fox', 'jumped', 'over', 'a', 'lazy', 'dog']"
      ]
     },
     "execution_count": 75,
     "metadata": {},
     "output_type": "execute_result"
    }
   ],
   "source": [
    "# Flexible Pattern Matching with Regular Expressions\n",
    "import re\n",
    "regex = re.compile('\\s+')\n",
    "regex.split(line)"
   ]
  },
  {
   "cell_type": "code",
   "execution_count": 76,
   "metadata": {},
   "outputs": [
    {
     "name": "stdout",
     "output_type": "stream",
     "text": [
      "'    ' matches\n",
      "'abc  ' does not match\n",
      "',    abc' does not match\n"
     ]
    }
   ],
   "source": [
    "for s in [\"    \", \"abc  \", \", \" \"   abc\"]:\n",
    "    if regex.match(s):\n",
    "        print(repr(s), \"matches\")\n",
    "    else:\n",
    "        print(repr(s), \"does not match\")"
   ]
  },
  {
   "cell_type": "code",
   "execution_count": 77,
   "metadata": {},
   "outputs": [
    {
     "data": {
      "text/plain": [
       "'the quick brown fox jumped over a lazy dog'"
      ]
     },
     "execution_count": 77,
     "metadata": {},
     "output_type": "execute_result"
    }
   ],
   "source": [
    "line"
   ]
  },
  {
   "cell_type": "code",
   "execution_count": 78,
   "metadata": {},
   "outputs": [
    {
     "data": {
      "text/plain": [
       "16"
      ]
     },
     "execution_count": 78,
     "metadata": {},
     "output_type": "execute_result"
    }
   ],
   "source": [
    "line.index('fox')"
   ]
  },
  {
   "cell_type": "code",
   "execution_count": 79,
   "metadata": {},
   "outputs": [
    {
     "data": {
      "text/plain": [
       "16"
      ]
     },
     "execution_count": 79,
     "metadata": {},
     "output_type": "execute_result"
    }
   ],
   "source": [
    "regex = re.compile('fox')\n",
    "match = regex.search(line)\n",
    "match.start()"
   ]
  },
  {
   "cell_type": "code",
   "execution_count": 80,
   "metadata": {},
   "outputs": [
    {
     "data": {
      "text/plain": [
       "'the quick brown BEAR jumped over a lazy dog'"
      ]
     },
     "execution_count": 80,
     "metadata": {},
     "output_type": "execute_result"
    }
   ],
   "source": [
    "line.replace('fox', 'BEAR')"
   ]
  },
  {
   "cell_type": "code",
   "execution_count": 81,
   "metadata": {},
   "outputs": [
    {
     "data": {
      "text/plain": [
       "'the quick brown BEAR jumped over a lazy dog'"
      ]
     },
     "execution_count": 81,
     "metadata": {},
     "output_type": "execute_result"
    }
   ],
   "source": [
    "regex.sub('BEAR', line)"
   ]
  },
  {
   "cell_type": "code",
   "execution_count": 82,
   "metadata": {},
   "outputs": [],
   "source": [
    "# a more sophisticated example\n",
    "email = re.compile('\\w+@\\w+\\.[a-z]{3}')"
   ]
  },
  {
   "cell_type": "code",
   "execution_count": 83,
   "metadata": {},
   "outputs": [
    {
     "data": {
      "text/plain": [
       "['guido@python.org', 'guido@google.com']"
      ]
     },
     "execution_count": 83,
     "metadata": {},
     "output_type": "execute_result"
    }
   ],
   "source": [
    "text = \"To email Guido, try guido@python.org or the older address guido@google.com.\"\n",
    "email.findall(text)"
   ]
  },
  {
   "cell_type": "code",
   "execution_count": 84,
   "metadata": {},
   "outputs": [
    {
     "data": {
      "text/plain": [
       "'To email Guido, try --@--.-- or the older address --@--.--.'"
      ]
     },
     "execution_count": 84,
     "metadata": {},
     "output_type": "execute_result"
    }
   ],
   "source": [
    "email.sub('--@--.--', text)"
   ]
  },
  {
   "cell_type": "code",
   "execution_count": 85,
   "metadata": {},
   "outputs": [
    {
     "data": {
      "text/plain": [
       "['ion']"
      ]
     },
     "execution_count": 85,
     "metadata": {},
     "output_type": "execute_result"
    }
   ],
   "source": [
    "# basics of regular expression syntax\n",
    "# simple strings are matched directly\n",
    "regex = re.compile('ion')\n",
    "regex.findall('Great Expectations')"
   ]
  },
  {
   "cell_type": "code",
   "execution_count": 86,
   "metadata": {},
   "outputs": [
    {
     "data": {
      "text/plain": [
       "['$']"
      ]
     },
     "execution_count": 86,
     "metadata": {},
     "output_type": "execute_result"
    }
   ],
   "source": [
    "# certain characters have special meanings in expressions\n",
    "# these special meanings can be escaped with a \\\n",
    "regex = re.compile(r'\\$')\n",
    "regex.findall(\"the cost is $20\")"
   ]
  },
  {
   "cell_type": "code",
   "execution_count": 87,
   "metadata": {},
   "outputs": [
    {
     "name": "stdout",
     "output_type": "stream",
     "text": [
      "a\tb\tc\n"
     ]
    }
   ],
   "source": [
    "print('a\\tb\\tc')"
   ]
  },
  {
   "cell_type": "code",
   "execution_count": 88,
   "metadata": {},
   "outputs": [
    {
     "name": "stdout",
     "output_type": "stream",
     "text": [
      "a\\tb\\tc\n"
     ]
    }
   ],
   "source": [
    "print(r'a\\tb\\tc')"
   ]
  },
  {
   "cell_type": "code",
   "execution_count": 89,
   "metadata": {},
   "outputs": [
    {
     "data": {
      "text/plain": [
       "['e f', 'x i', 's 9', 's o']"
      ]
     },
     "execution_count": 89,
     "metadata": {},
     "output_type": "execute_result"
    }
   ],
   "source": [
    "# special characters can match character groups\n",
    "regex = re.compile(r'\\w\\s\\w')\n",
    "regex.findall('the fox is 9 years old')"
   ]
  },
  {
   "cell_type": "code",
   "execution_count": 90,
   "metadata": {},
   "outputs": [
    {
     "data": {
      "text/plain": [
       "['c', 'ns', 'q', '', 'nt', '', 'l']"
      ]
     },
     "execution_count": 90,
     "metadata": {},
     "output_type": "execute_result"
    }
   ],
   "source": [
    "# square brackets match custom character groups\n",
    "regex = re.compile('[aeiou]')\n",
    "regex.split('consequential')"
   ]
  },
  {
   "cell_type": "code",
   "execution_count": 91,
   "metadata": {},
   "outputs": [
    {
     "data": {
      "text/plain": [
       "['G2', 'H6']"
      ]
     },
     "execution_count": 91,
     "metadata": {},
     "output_type": "execute_result"
    }
   ],
   "source": [
    "regex = re.compile('[A-Z][0-9]')\n",
    "regex.findall('1043879, G2, H6')"
   ]
  },
  {
   "cell_type": "code",
   "execution_count": 92,
   "metadata": {},
   "outputs": [
    {
     "data": {
      "text/plain": [
       "['The', 'qui', 'bro', 'fox']"
      ]
     },
     "execution_count": 92,
     "metadata": {},
     "output_type": "execute_result"
    }
   ],
   "source": [
    "regex = re.compile(r'\\w{3}')\n",
    "regex.findall(\"The quick brown fox.\")"
   ]
  },
  {
   "cell_type": "code",
   "execution_count": 93,
   "metadata": {},
   "outputs": [
    {
     "data": {
      "text/plain": [
       "['The', 'quick', 'brown', 'fox']"
      ]
     },
     "execution_count": 93,
     "metadata": {},
     "output_type": "execute_result"
    }
   ],
   "source": [
    "regex = re.compile(r'\\w+')\n",
    "regex.findall(\"The quick brown fox.\")"
   ]
  },
  {
   "cell_type": "code",
   "execution_count": null,
   "metadata": {},
   "outputs": [],
   "source": [
    "# parentheses indicate groups to extract\n"
   ]
  },
  {
   "cell_type": "code",
   "execution_count": 4,
   "metadata": {},
   "outputs": [
    {
     "data": {
      "text/plain": [
       "array([1, 2, 3, 4, 5, 6, 7, 8, 9])"
      ]
     },
     "execution_count": 4,
     "metadata": {},
     "output_type": "execute_result"
    }
   ],
   "source": [
    "### Preview of Data Science Tools ###\n",
    "import numpy as np\n",
    "x = np.arange(1, 10)\n",
    "x"
   ]
  },
  {
   "cell_type": "code",
   "execution_count": 5,
   "metadata": {},
   "outputs": [
    {
     "data": {
      "text/plain": [
       "array([ 1,  4,  9, 16, 25, 36, 49, 64, 81])"
      ]
     },
     "execution_count": 5,
     "metadata": {},
     "output_type": "execute_result"
    }
   ],
   "source": [
    "x ** 2"
   ]
  },
  {
   "cell_type": "code",
   "execution_count": 6,
   "metadata": {},
   "outputs": [],
   "source": [
    "# the same can be accomplished in a more verbose fashion using python functions"
   ]
  },
  {
   "cell_type": "code",
   "execution_count": 7,
   "metadata": {},
   "outputs": [
    {
     "data": {
      "text/plain": [
       "[1, 4, 9, 16, 25, 36, 49, 64, 81]"
      ]
     },
     "execution_count": 7,
     "metadata": {},
     "output_type": "execute_result"
    }
   ],
   "source": [
    "[val ** 2 for val in range(1, 10)]"
   ]
  },
  {
   "cell_type": "code",
   "execution_count": 8,
   "metadata": {},
   "outputs": [
    {
     "data": {
      "text/plain": [
       "array([[1, 2, 3],\n",
       "       [4, 5, 6],\n",
       "       [7, 8, 9]])"
      ]
     },
     "execution_count": 8,
     "metadata": {},
     "output_type": "execute_result"
    }
   ],
   "source": [
    "M = x.reshape((3, 3))\n",
    "M"
   ]
  },
  {
   "cell_type": "code",
   "execution_count": 9,
   "metadata": {},
   "outputs": [
    {
     "data": {
      "text/plain": [
       "array([[1, 4, 7],\n",
       "       [2, 5, 8],\n",
       "       [3, 6, 9]])"
      ]
     },
     "execution_count": 9,
     "metadata": {},
     "output_type": "execute_result"
    }
   ],
   "source": [
    "M.T"
   ]
  },
  {
   "cell_type": "code",
   "execution_count": 10,
   "metadata": {},
   "outputs": [],
   "source": [
    "# transpose (above)"
   ]
  },
  {
   "cell_type": "code",
   "execution_count": 11,
   "metadata": {},
   "outputs": [
    {
     "data": {
      "text/plain": [
       "array([ 38,  92, 146])"
      ]
     },
     "execution_count": 11,
     "metadata": {},
     "output_type": "execute_result"
    }
   ],
   "source": [
    "np.dot(M, [5, 6, 7])"
   ]
  },
  {
   "cell_type": "code",
   "execution_count": 12,
   "metadata": {},
   "outputs": [],
   "source": [
    "# matrix-vector product (above)"
   ]
  },
  {
   "cell_type": "code",
   "execution_count": 13,
   "metadata": {},
   "outputs": [
    {
     "data": {
      "text/plain": [
       "array([ 1.61168440e+01, -1.11684397e+00, -9.75918483e-16])"
      ]
     },
     "execution_count": 13,
     "metadata": {},
     "output_type": "execute_result"
    }
   ],
   "source": [
    "# eigenvalue decomposition (below)\n",
    "np.linalg.eigvals(M)"
   ]
  },
  {
   "cell_type": "code",
   "execution_count": 14,
   "metadata": {},
   "outputs": [
    {
     "data": {
      "text/html": [
       "<div>\n",
       "<style scoped>\n",
       "    .dataframe tbody tr th:only-of-type {\n",
       "        vertical-align: middle;\n",
       "    }\n",
       "\n",
       "    .dataframe tbody tr th {\n",
       "        vertical-align: top;\n",
       "    }\n",
       "\n",
       "    .dataframe thead th {\n",
       "        text-align: right;\n",
       "    }\n",
       "</style>\n",
       "<table border=\"1\" class=\"dataframe\">\n",
       "  <thead>\n",
       "    <tr style=\"text-align: right;\">\n",
       "      <th></th>\n",
       "      <th>label</th>\n",
       "      <th>value</th>\n",
       "    </tr>\n",
       "  </thead>\n",
       "  <tbody>\n",
       "    <tr>\n",
       "      <th>0</th>\n",
       "      <td>A</td>\n",
       "      <td>1</td>\n",
       "    </tr>\n",
       "    <tr>\n",
       "      <th>1</th>\n",
       "      <td>B</td>\n",
       "      <td>2</td>\n",
       "    </tr>\n",
       "    <tr>\n",
       "      <th>2</th>\n",
       "      <td>C</td>\n",
       "      <td>3</td>\n",
       "    </tr>\n",
       "    <tr>\n",
       "      <th>3</th>\n",
       "      <td>A</td>\n",
       "      <td>4</td>\n",
       "    </tr>\n",
       "    <tr>\n",
       "      <th>4</th>\n",
       "      <td>B</td>\n",
       "      <td>5</td>\n",
       "    </tr>\n",
       "    <tr>\n",
       "      <th>5</th>\n",
       "      <td>C</td>\n",
       "      <td>6</td>\n",
       "    </tr>\n",
       "  </tbody>\n",
       "</table>\n",
       "</div>"
      ],
      "text/plain": [
       "  label  value\n",
       "0     A      1\n",
       "1     B      2\n",
       "2     C      3\n",
       "3     A      4\n",
       "4     B      5\n",
       "5     C      6"
      ]
     },
     "execution_count": 14,
     "metadata": {},
     "output_type": "execute_result"
    }
   ],
   "source": [
    "# Pandas\n",
    "import pandas as pd\n",
    "df = pd.DataFrame({'label': ['A', 'B', 'C', 'A', 'B', 'C'],\n",
    "                   'value': [1, 2, 3, 4, 5, 6]})\n",
    "df"
   ]
  },
  {
   "cell_type": "code",
   "execution_count": 15,
   "metadata": {},
   "outputs": [
    {
     "data": {
      "text/plain": [
       "0    A\n",
       "1    B\n",
       "2    C\n",
       "3    A\n",
       "4    B\n",
       "5    C\n",
       "Name: label, dtype: object"
      ]
     },
     "execution_count": 15,
     "metadata": {},
     "output_type": "execute_result"
    }
   ],
   "source": [
    "# select columns by name\n",
    "df['label']"
   ]
  },
  {
   "cell_type": "code",
   "execution_count": 17,
   "metadata": {},
   "outputs": [
    {
     "data": {
      "text/plain": [
       "0    a\n",
       "1    b\n",
       "2    c\n",
       "3    a\n",
       "4    b\n",
       "5    c\n",
       "Name: label, dtype: object"
      ]
     },
     "execution_count": 17,
     "metadata": {},
     "output_type": "execute_result"
    }
   ],
   "source": [
    "# apply string operations across string entries\n",
    "df['label'].str.lower()"
   ]
  },
  {
   "cell_type": "code",
   "execution_count": 18,
   "metadata": {},
   "outputs": [
    {
     "data": {
      "text/plain": [
       "21"
      ]
     },
     "execution_count": 18,
     "metadata": {},
     "output_type": "execute_result"
    }
   ],
   "source": [
    "# apply aggregates across numerical entries\n",
    "df['value'].sum()"
   ]
  },
  {
   "cell_type": "code",
   "execution_count": 19,
   "metadata": {},
   "outputs": [
    {
     "data": {
      "text/html": [
       "<div>\n",
       "<style scoped>\n",
       "    .dataframe tbody tr th:only-of-type {\n",
       "        vertical-align: middle;\n",
       "    }\n",
       "\n",
       "    .dataframe tbody tr th {\n",
       "        vertical-align: top;\n",
       "    }\n",
       "\n",
       "    .dataframe thead th {\n",
       "        text-align: right;\n",
       "    }\n",
       "</style>\n",
       "<table border=\"1\" class=\"dataframe\">\n",
       "  <thead>\n",
       "    <tr style=\"text-align: right;\">\n",
       "      <th></th>\n",
       "      <th>value</th>\n",
       "    </tr>\n",
       "    <tr>\n",
       "      <th>label</th>\n",
       "      <th></th>\n",
       "    </tr>\n",
       "  </thead>\n",
       "  <tbody>\n",
       "    <tr>\n",
       "      <th>A</th>\n",
       "      <td>5</td>\n",
       "    </tr>\n",
       "    <tr>\n",
       "      <th>B</th>\n",
       "      <td>7</td>\n",
       "    </tr>\n",
       "    <tr>\n",
       "      <th>C</th>\n",
       "      <td>9</td>\n",
       "    </tr>\n",
       "  </tbody>\n",
       "</table>\n",
       "</div>"
      ],
      "text/plain": [
       "       value\n",
       "label       \n",
       "A          5\n",
       "B          7\n",
       "C          9"
      ]
     },
     "execution_count": 19,
     "metadata": {},
     "output_type": "execute_result"
    }
   ],
   "source": [
    "# database-style joins and groupings\n",
    "df.groupby('label').sum()"
   ]
  },
  {
   "cell_type": "code",
   "execution_count": 20,
   "metadata": {},
   "outputs": [],
   "source": [
    "# Matplotlib #"
   ]
  },
  {
   "cell_type": "code",
   "execution_count": 23,
   "metadata": {},
   "outputs": [],
   "source": [
    "%matplotlib notebook\n",
    "import matplotlib.pyplot as plt\n",
    "plt.style.use('ggplot') # make graphs in the style of R's ggplot"
   ]
  },
  {
   "cell_type": "code",
   "execution_count": 24,
   "metadata": {},
   "outputs": [
    {
     "data": {
      "application/javascript": [
       "/* Put everything inside the global mpl namespace */\n",
       "window.mpl = {};\n",
       "\n",
       "\n",
       "mpl.get_websocket_type = function() {\n",
       "    if (typeof(WebSocket) !== 'undefined') {\n",
       "        return WebSocket;\n",
       "    } else if (typeof(MozWebSocket) !== 'undefined') {\n",
       "        return MozWebSocket;\n",
       "    } else {\n",
       "        alert('Your browser does not have WebSocket support.' +\n",
       "              'Please try Chrome, Safari or Firefox ≥ 6. ' +\n",
       "              'Firefox 4 and 5 are also supported but you ' +\n",
       "              'have to enable WebSockets in about:config.');\n",
       "    };\n",
       "}\n",
       "\n",
       "mpl.figure = function(figure_id, websocket, ondownload, parent_element) {\n",
       "    this.id = figure_id;\n",
       "\n",
       "    this.ws = websocket;\n",
       "\n",
       "    this.supports_binary = (this.ws.binaryType != undefined);\n",
       "\n",
       "    if (!this.supports_binary) {\n",
       "        var warnings = document.getElementById(\"mpl-warnings\");\n",
       "        if (warnings) {\n",
       "            warnings.style.display = 'block';\n",
       "            warnings.textContent = (\n",
       "                \"This browser does not support binary websocket messages. \" +\n",
       "                    \"Performance may be slow.\");\n",
       "        }\n",
       "    }\n",
       "\n",
       "    this.imageObj = new Image();\n",
       "\n",
       "    this.context = undefined;\n",
       "    this.message = undefined;\n",
       "    this.canvas = undefined;\n",
       "    this.rubberband_canvas = undefined;\n",
       "    this.rubberband_context = undefined;\n",
       "    this.format_dropdown = undefined;\n",
       "\n",
       "    this.image_mode = 'full';\n",
       "\n",
       "    this.root = $('<div/>');\n",
       "    this._root_extra_style(this.root)\n",
       "    this.root.attr('style', 'display: inline-block');\n",
       "\n",
       "    $(parent_element).append(this.root);\n",
       "\n",
       "    this._init_header(this);\n",
       "    this._init_canvas(this);\n",
       "    this._init_toolbar(this);\n",
       "\n",
       "    var fig = this;\n",
       "\n",
       "    this.waiting = false;\n",
       "\n",
       "    this.ws.onopen =  function () {\n",
       "            fig.send_message(\"supports_binary\", {value: fig.supports_binary});\n",
       "            fig.send_message(\"send_image_mode\", {});\n",
       "            if (mpl.ratio != 1) {\n",
       "                fig.send_message(\"set_dpi_ratio\", {'dpi_ratio': mpl.ratio});\n",
       "            }\n",
       "            fig.send_message(\"refresh\", {});\n",
       "        }\n",
       "\n",
       "    this.imageObj.onload = function() {\n",
       "            if (fig.image_mode == 'full') {\n",
       "                // Full images could contain transparency (where diff images\n",
       "                // almost always do), so we need to clear the canvas so that\n",
       "                // there is no ghosting.\n",
       "                fig.context.clearRect(0, 0, fig.canvas.width, fig.canvas.height);\n",
       "            }\n",
       "            fig.context.drawImage(fig.imageObj, 0, 0);\n",
       "        };\n",
       "\n",
       "    this.imageObj.onunload = function() {\n",
       "        fig.ws.close();\n",
       "    }\n",
       "\n",
       "    this.ws.onmessage = this._make_on_message_function(this);\n",
       "\n",
       "    this.ondownload = ondownload;\n",
       "}\n",
       "\n",
       "mpl.figure.prototype._init_header = function() {\n",
       "    var titlebar = $(\n",
       "        '<div class=\"ui-dialog-titlebar ui-widget-header ui-corner-all ' +\n",
       "        'ui-helper-clearfix\"/>');\n",
       "    var titletext = $(\n",
       "        '<div class=\"ui-dialog-title\" style=\"width: 100%; ' +\n",
       "        'text-align: center; padding: 3px;\"/>');\n",
       "    titlebar.append(titletext)\n",
       "    this.root.append(titlebar);\n",
       "    this.header = titletext[0];\n",
       "}\n",
       "\n",
       "\n",
       "\n",
       "mpl.figure.prototype._canvas_extra_style = function(canvas_div) {\n",
       "\n",
       "}\n",
       "\n",
       "\n",
       "mpl.figure.prototype._root_extra_style = function(canvas_div) {\n",
       "\n",
       "}\n",
       "\n",
       "mpl.figure.prototype._init_canvas = function() {\n",
       "    var fig = this;\n",
       "\n",
       "    var canvas_div = $('<div/>');\n",
       "\n",
       "    canvas_div.attr('style', 'position: relative; clear: both; outline: 0');\n",
       "\n",
       "    function canvas_keyboard_event(event) {\n",
       "        return fig.key_event(event, event['data']);\n",
       "    }\n",
       "\n",
       "    canvas_div.keydown('key_press', canvas_keyboard_event);\n",
       "    canvas_div.keyup('key_release', canvas_keyboard_event);\n",
       "    this.canvas_div = canvas_div\n",
       "    this._canvas_extra_style(canvas_div)\n",
       "    this.root.append(canvas_div);\n",
       "\n",
       "    var canvas = $('<canvas/>');\n",
       "    canvas.addClass('mpl-canvas');\n",
       "    canvas.attr('style', \"left: 0; top: 0; z-index: 0; outline: 0\")\n",
       "\n",
       "    this.canvas = canvas[0];\n",
       "    this.context = canvas[0].getContext(\"2d\");\n",
       "\n",
       "    var backingStore = this.context.backingStorePixelRatio ||\n",
       "\tthis.context.webkitBackingStorePixelRatio ||\n",
       "\tthis.context.mozBackingStorePixelRatio ||\n",
       "\tthis.context.msBackingStorePixelRatio ||\n",
       "\tthis.context.oBackingStorePixelRatio ||\n",
       "\tthis.context.backingStorePixelRatio || 1;\n",
       "\n",
       "    mpl.ratio = (window.devicePixelRatio || 1) / backingStore;\n",
       "\n",
       "    var rubberband = $('<canvas/>');\n",
       "    rubberband.attr('style', \"position: absolute; left: 0; top: 0; z-index: 1;\")\n",
       "\n",
       "    var pass_mouse_events = true;\n",
       "\n",
       "    canvas_div.resizable({\n",
       "        start: function(event, ui) {\n",
       "            pass_mouse_events = false;\n",
       "        },\n",
       "        resize: function(event, ui) {\n",
       "            fig.request_resize(ui.size.width, ui.size.height);\n",
       "        },\n",
       "        stop: function(event, ui) {\n",
       "            pass_mouse_events = true;\n",
       "            fig.request_resize(ui.size.width, ui.size.height);\n",
       "        },\n",
       "    });\n",
       "\n",
       "    function mouse_event_fn(event) {\n",
       "        if (pass_mouse_events)\n",
       "            return fig.mouse_event(event, event['data']);\n",
       "    }\n",
       "\n",
       "    rubberband.mousedown('button_press', mouse_event_fn);\n",
       "    rubberband.mouseup('button_release', mouse_event_fn);\n",
       "    // Throttle sequential mouse events to 1 every 20ms.\n",
       "    rubberband.mousemove('motion_notify', mouse_event_fn);\n",
       "\n",
       "    rubberband.mouseenter('figure_enter', mouse_event_fn);\n",
       "    rubberband.mouseleave('figure_leave', mouse_event_fn);\n",
       "\n",
       "    canvas_div.on(\"wheel\", function (event) {\n",
       "        event = event.originalEvent;\n",
       "        event['data'] = 'scroll'\n",
       "        if (event.deltaY < 0) {\n",
       "            event.step = 1;\n",
       "        } else {\n",
       "            event.step = -1;\n",
       "        }\n",
       "        mouse_event_fn(event);\n",
       "    });\n",
       "\n",
       "    canvas_div.append(canvas);\n",
       "    canvas_div.append(rubberband);\n",
       "\n",
       "    this.rubberband = rubberband;\n",
       "    this.rubberband_canvas = rubberband[0];\n",
       "    this.rubberband_context = rubberband[0].getContext(\"2d\");\n",
       "    this.rubberband_context.strokeStyle = \"#000000\";\n",
       "\n",
       "    this._resize_canvas = function(width, height) {\n",
       "        // Keep the size of the canvas, canvas container, and rubber band\n",
       "        // canvas in synch.\n",
       "        canvas_div.css('width', width)\n",
       "        canvas_div.css('height', height)\n",
       "\n",
       "        canvas.attr('width', width * mpl.ratio);\n",
       "        canvas.attr('height', height * mpl.ratio);\n",
       "        canvas.attr('style', 'width: ' + width + 'px; height: ' + height + 'px;');\n",
       "\n",
       "        rubberband.attr('width', width);\n",
       "        rubberband.attr('height', height);\n",
       "    }\n",
       "\n",
       "    // Set the figure to an initial 600x600px, this will subsequently be updated\n",
       "    // upon first draw.\n",
       "    this._resize_canvas(600, 600);\n",
       "\n",
       "    // Disable right mouse context menu.\n",
       "    $(this.rubberband_canvas).bind(\"contextmenu\",function(e){\n",
       "        return false;\n",
       "    });\n",
       "\n",
       "    function set_focus () {\n",
       "        canvas.focus();\n",
       "        canvas_div.focus();\n",
       "    }\n",
       "\n",
       "    window.setTimeout(set_focus, 100);\n",
       "}\n",
       "\n",
       "mpl.figure.prototype._init_toolbar = function() {\n",
       "    var fig = this;\n",
       "\n",
       "    var nav_element = $('<div/>')\n",
       "    nav_element.attr('style', 'width: 100%');\n",
       "    this.root.append(nav_element);\n",
       "\n",
       "    // Define a callback function for later on.\n",
       "    function toolbar_event(event) {\n",
       "        return fig.toolbar_button_onclick(event['data']);\n",
       "    }\n",
       "    function toolbar_mouse_event(event) {\n",
       "        return fig.toolbar_button_onmouseover(event['data']);\n",
       "    }\n",
       "\n",
       "    for(var toolbar_ind in mpl.toolbar_items) {\n",
       "        var name = mpl.toolbar_items[toolbar_ind][0];\n",
       "        var tooltip = mpl.toolbar_items[toolbar_ind][1];\n",
       "        var image = mpl.toolbar_items[toolbar_ind][2];\n",
       "        var method_name = mpl.toolbar_items[toolbar_ind][3];\n",
       "\n",
       "        if (!name) {\n",
       "            // put a spacer in here.\n",
       "            continue;\n",
       "        }\n",
       "        var button = $('<button/>');\n",
       "        button.addClass('ui-button ui-widget ui-state-default ui-corner-all ' +\n",
       "                        'ui-button-icon-only');\n",
       "        button.attr('role', 'button');\n",
       "        button.attr('aria-disabled', 'false');\n",
       "        button.click(method_name, toolbar_event);\n",
       "        button.mouseover(tooltip, toolbar_mouse_event);\n",
       "\n",
       "        var icon_img = $('<span/>');\n",
       "        icon_img.addClass('ui-button-icon-primary ui-icon');\n",
       "        icon_img.addClass(image);\n",
       "        icon_img.addClass('ui-corner-all');\n",
       "\n",
       "        var tooltip_span = $('<span/>');\n",
       "        tooltip_span.addClass('ui-button-text');\n",
       "        tooltip_span.html(tooltip);\n",
       "\n",
       "        button.append(icon_img);\n",
       "        button.append(tooltip_span);\n",
       "\n",
       "        nav_element.append(button);\n",
       "    }\n",
       "\n",
       "    var fmt_picker_span = $('<span/>');\n",
       "\n",
       "    var fmt_picker = $('<select/>');\n",
       "    fmt_picker.addClass('mpl-toolbar-option ui-widget ui-widget-content');\n",
       "    fmt_picker_span.append(fmt_picker);\n",
       "    nav_element.append(fmt_picker_span);\n",
       "    this.format_dropdown = fmt_picker[0];\n",
       "\n",
       "    for (var ind in mpl.extensions) {\n",
       "        var fmt = mpl.extensions[ind];\n",
       "        var option = $(\n",
       "            '<option/>', {selected: fmt === mpl.default_extension}).html(fmt);\n",
       "        fmt_picker.append(option)\n",
       "    }\n",
       "\n",
       "    // Add hover states to the ui-buttons\n",
       "    $( \".ui-button\" ).hover(\n",
       "        function() { $(this).addClass(\"ui-state-hover\");},\n",
       "        function() { $(this).removeClass(\"ui-state-hover\");}\n",
       "    );\n",
       "\n",
       "    var status_bar = $('<span class=\"mpl-message\"/>');\n",
       "    nav_element.append(status_bar);\n",
       "    this.message = status_bar[0];\n",
       "}\n",
       "\n",
       "mpl.figure.prototype.request_resize = function(x_pixels, y_pixels) {\n",
       "    // Request matplotlib to resize the figure. Matplotlib will then trigger a resize in the client,\n",
       "    // which will in turn request a refresh of the image.\n",
       "    this.send_message('resize', {'width': x_pixels, 'height': y_pixels});\n",
       "}\n",
       "\n",
       "mpl.figure.prototype.send_message = function(type, properties) {\n",
       "    properties['type'] = type;\n",
       "    properties['figure_id'] = this.id;\n",
       "    this.ws.send(JSON.stringify(properties));\n",
       "}\n",
       "\n",
       "mpl.figure.prototype.send_draw_message = function() {\n",
       "    if (!this.waiting) {\n",
       "        this.waiting = true;\n",
       "        this.ws.send(JSON.stringify({type: \"draw\", figure_id: this.id}));\n",
       "    }\n",
       "}\n",
       "\n",
       "\n",
       "mpl.figure.prototype.handle_save = function(fig, msg) {\n",
       "    var format_dropdown = fig.format_dropdown;\n",
       "    var format = format_dropdown.options[format_dropdown.selectedIndex].value;\n",
       "    fig.ondownload(fig, format);\n",
       "}\n",
       "\n",
       "\n",
       "mpl.figure.prototype.handle_resize = function(fig, msg) {\n",
       "    var size = msg['size'];\n",
       "    if (size[0] != fig.canvas.width || size[1] != fig.canvas.height) {\n",
       "        fig._resize_canvas(size[0], size[1]);\n",
       "        fig.send_message(\"refresh\", {});\n",
       "    };\n",
       "}\n",
       "\n",
       "mpl.figure.prototype.handle_rubberband = function(fig, msg) {\n",
       "    var x0 = msg['x0'] / mpl.ratio;\n",
       "    var y0 = (fig.canvas.height - msg['y0']) / mpl.ratio;\n",
       "    var x1 = msg['x1'] / mpl.ratio;\n",
       "    var y1 = (fig.canvas.height - msg['y1']) / mpl.ratio;\n",
       "    x0 = Math.floor(x0) + 0.5;\n",
       "    y0 = Math.floor(y0) + 0.5;\n",
       "    x1 = Math.floor(x1) + 0.5;\n",
       "    y1 = Math.floor(y1) + 0.5;\n",
       "    var min_x = Math.min(x0, x1);\n",
       "    var min_y = Math.min(y0, y1);\n",
       "    var width = Math.abs(x1 - x0);\n",
       "    var height = Math.abs(y1 - y0);\n",
       "\n",
       "    fig.rubberband_context.clearRect(\n",
       "        0, 0, fig.canvas.width, fig.canvas.height);\n",
       "\n",
       "    fig.rubberband_context.strokeRect(min_x, min_y, width, height);\n",
       "}\n",
       "\n",
       "mpl.figure.prototype.handle_figure_label = function(fig, msg) {\n",
       "    // Updates the figure title.\n",
       "    fig.header.textContent = msg['label'];\n",
       "}\n",
       "\n",
       "mpl.figure.prototype.handle_cursor = function(fig, msg) {\n",
       "    var cursor = msg['cursor'];\n",
       "    switch(cursor)\n",
       "    {\n",
       "    case 0:\n",
       "        cursor = 'pointer';\n",
       "        break;\n",
       "    case 1:\n",
       "        cursor = 'default';\n",
       "        break;\n",
       "    case 2:\n",
       "        cursor = 'crosshair';\n",
       "        break;\n",
       "    case 3:\n",
       "        cursor = 'move';\n",
       "        break;\n",
       "    }\n",
       "    fig.rubberband_canvas.style.cursor = cursor;\n",
       "}\n",
       "\n",
       "mpl.figure.prototype.handle_message = function(fig, msg) {\n",
       "    fig.message.textContent = msg['message'];\n",
       "}\n",
       "\n",
       "mpl.figure.prototype.handle_draw = function(fig, msg) {\n",
       "    // Request the server to send over a new figure.\n",
       "    fig.send_draw_message();\n",
       "}\n",
       "\n",
       "mpl.figure.prototype.handle_image_mode = function(fig, msg) {\n",
       "    fig.image_mode = msg['mode'];\n",
       "}\n",
       "\n",
       "mpl.figure.prototype.updated_canvas_event = function() {\n",
       "    // Called whenever the canvas gets updated.\n",
       "    this.send_message(\"ack\", {});\n",
       "}\n",
       "\n",
       "// A function to construct a web socket function for onmessage handling.\n",
       "// Called in the figure constructor.\n",
       "mpl.figure.prototype._make_on_message_function = function(fig) {\n",
       "    return function socket_on_message(evt) {\n",
       "        if (evt.data instanceof Blob) {\n",
       "            /* FIXME: We get \"Resource interpreted as Image but\n",
       "             * transferred with MIME type text/plain:\" errors on\n",
       "             * Chrome.  But how to set the MIME type?  It doesn't seem\n",
       "             * to be part of the websocket stream */\n",
       "            evt.data.type = \"image/png\";\n",
       "\n",
       "            /* Free the memory for the previous frames */\n",
       "            if (fig.imageObj.src) {\n",
       "                (window.URL || window.webkitURL).revokeObjectURL(\n",
       "                    fig.imageObj.src);\n",
       "            }\n",
       "\n",
       "            fig.imageObj.src = (window.URL || window.webkitURL).createObjectURL(\n",
       "                evt.data);\n",
       "            fig.updated_canvas_event();\n",
       "            fig.waiting = false;\n",
       "            return;\n",
       "        }\n",
       "        else if (typeof evt.data === 'string' && evt.data.slice(0, 21) == \"data:image/png;base64\") {\n",
       "            fig.imageObj.src = evt.data;\n",
       "            fig.updated_canvas_event();\n",
       "            fig.waiting = false;\n",
       "            return;\n",
       "        }\n",
       "\n",
       "        var msg = JSON.parse(evt.data);\n",
       "        var msg_type = msg['type'];\n",
       "\n",
       "        // Call the  \"handle_{type}\" callback, which takes\n",
       "        // the figure and JSON message as its only arguments.\n",
       "        try {\n",
       "            var callback = fig[\"handle_\" + msg_type];\n",
       "        } catch (e) {\n",
       "            console.log(\"No handler for the '\" + msg_type + \"' message type: \", msg);\n",
       "            return;\n",
       "        }\n",
       "\n",
       "        if (callback) {\n",
       "            try {\n",
       "                // console.log(\"Handling '\" + msg_type + \"' message: \", msg);\n",
       "                callback(fig, msg);\n",
       "            } catch (e) {\n",
       "                console.log(\"Exception inside the 'handler_\" + msg_type + \"' callback:\", e, e.stack, msg);\n",
       "            }\n",
       "        }\n",
       "    };\n",
       "}\n",
       "\n",
       "// from http://stackoverflow.com/questions/1114465/getting-mouse-location-in-canvas\n",
       "mpl.findpos = function(e) {\n",
       "    //this section is from http://www.quirksmode.org/js/events_properties.html\n",
       "    var targ;\n",
       "    if (!e)\n",
       "        e = window.event;\n",
       "    if (e.target)\n",
       "        targ = e.target;\n",
       "    else if (e.srcElement)\n",
       "        targ = e.srcElement;\n",
       "    if (targ.nodeType == 3) // defeat Safari bug\n",
       "        targ = targ.parentNode;\n",
       "\n",
       "    // jQuery normalizes the pageX and pageY\n",
       "    // pageX,Y are the mouse positions relative to the document\n",
       "    // offset() returns the position of the element relative to the document\n",
       "    var x = e.pageX - $(targ).offset().left;\n",
       "    var y = e.pageY - $(targ).offset().top;\n",
       "\n",
       "    return {\"x\": x, \"y\": y};\n",
       "};\n",
       "\n",
       "/*\n",
       " * return a copy of an object with only non-object keys\n",
       " * we need this to avoid circular references\n",
       " * http://stackoverflow.com/a/24161582/3208463\n",
       " */\n",
       "function simpleKeys (original) {\n",
       "  return Object.keys(original).reduce(function (obj, key) {\n",
       "    if (typeof original[key] !== 'object')\n",
       "        obj[key] = original[key]\n",
       "    return obj;\n",
       "  }, {});\n",
       "}\n",
       "\n",
       "mpl.figure.prototype.mouse_event = function(event, name) {\n",
       "    var canvas_pos = mpl.findpos(event)\n",
       "\n",
       "    if (name === 'button_press')\n",
       "    {\n",
       "        this.canvas.focus();\n",
       "        this.canvas_div.focus();\n",
       "    }\n",
       "\n",
       "    var x = canvas_pos.x * mpl.ratio;\n",
       "    var y = canvas_pos.y * mpl.ratio;\n",
       "\n",
       "    this.send_message(name, {x: x, y: y, button: event.button,\n",
       "                             step: event.step,\n",
       "                             guiEvent: simpleKeys(event)});\n",
       "\n",
       "    /* This prevents the web browser from automatically changing to\n",
       "     * the text insertion cursor when the button is pressed.  We want\n",
       "     * to control all of the cursor setting manually through the\n",
       "     * 'cursor' event from matplotlib */\n",
       "    event.preventDefault();\n",
       "    return false;\n",
       "}\n",
       "\n",
       "mpl.figure.prototype._key_event_extra = function(event, name) {\n",
       "    // Handle any extra behaviour associated with a key event\n",
       "}\n",
       "\n",
       "mpl.figure.prototype.key_event = function(event, name) {\n",
       "\n",
       "    // Prevent repeat events\n",
       "    if (name == 'key_press')\n",
       "    {\n",
       "        if (event.which === this._key)\n",
       "            return;\n",
       "        else\n",
       "            this._key = event.which;\n",
       "    }\n",
       "    if (name == 'key_release')\n",
       "        this._key = null;\n",
       "\n",
       "    var value = '';\n",
       "    if (event.ctrlKey && event.which != 17)\n",
       "        value += \"ctrl+\";\n",
       "    if (event.altKey && event.which != 18)\n",
       "        value += \"alt+\";\n",
       "    if (event.shiftKey && event.which != 16)\n",
       "        value += \"shift+\";\n",
       "\n",
       "    value += 'k';\n",
       "    value += event.which.toString();\n",
       "\n",
       "    this._key_event_extra(event, name);\n",
       "\n",
       "    this.send_message(name, {key: value,\n",
       "                             guiEvent: simpleKeys(event)});\n",
       "    return false;\n",
       "}\n",
       "\n",
       "mpl.figure.prototype.toolbar_button_onclick = function(name) {\n",
       "    if (name == 'download') {\n",
       "        this.handle_save(this, null);\n",
       "    } else {\n",
       "        this.send_message(\"toolbar_button\", {name: name});\n",
       "    }\n",
       "};\n",
       "\n",
       "mpl.figure.prototype.toolbar_button_onmouseover = function(tooltip) {\n",
       "    this.message.textContent = tooltip;\n",
       "};\n",
       "mpl.toolbar_items = [[\"Home\", \"Reset original view\", \"fa fa-home icon-home\", \"home\"], [\"Back\", \"Back to previous view\", \"fa fa-arrow-left icon-arrow-left\", \"back\"], [\"Forward\", \"Forward to next view\", \"fa fa-arrow-right icon-arrow-right\", \"forward\"], [\"\", \"\", \"\", \"\"], [\"Pan\", \"Pan axes with left mouse, zoom with right\", \"fa fa-arrows icon-move\", \"pan\"], [\"Zoom\", \"Zoom to rectangle\", \"fa fa-square-o icon-check-empty\", \"zoom\"], [\"\", \"\", \"\", \"\"], [\"Download\", \"Download plot\", \"fa fa-floppy-o icon-save\", \"download\"]];\n",
       "\n",
       "mpl.extensions = [\"eps\", \"jpeg\", \"pdf\", \"png\", \"ps\", \"raw\", \"svg\", \"tif\"];\n",
       "\n",
       "mpl.default_extension = \"png\";var comm_websocket_adapter = function(comm) {\n",
       "    // Create a \"websocket\"-like object which calls the given IPython comm\n",
       "    // object with the appropriate methods. Currently this is a non binary\n",
       "    // socket, so there is still some room for performance tuning.\n",
       "    var ws = {};\n",
       "\n",
       "    ws.close = function() {\n",
       "        comm.close()\n",
       "    };\n",
       "    ws.send = function(m) {\n",
       "        //console.log('sending', m);\n",
       "        comm.send(m);\n",
       "    };\n",
       "    // Register the callback with on_msg.\n",
       "    comm.on_msg(function(msg) {\n",
       "        //console.log('receiving', msg['content']['data'], msg);\n",
       "        // Pass the mpl event to the overridden (by mpl) onmessage function.\n",
       "        ws.onmessage(msg['content']['data'])\n",
       "    });\n",
       "    return ws;\n",
       "}\n",
       "\n",
       "mpl.mpl_figure_comm = function(comm, msg) {\n",
       "    // This is the function which gets called when the mpl process\n",
       "    // starts-up an IPython Comm through the \"matplotlib\" channel.\n",
       "\n",
       "    var id = msg.content.data.id;\n",
       "    // Get hold of the div created by the display call when the Comm\n",
       "    // socket was opened in Python.\n",
       "    var element = $(\"#\" + id);\n",
       "    var ws_proxy = comm_websocket_adapter(comm)\n",
       "\n",
       "    function ondownload(figure, format) {\n",
       "        window.open(figure.imageObj.src);\n",
       "    }\n",
       "\n",
       "    var fig = new mpl.figure(id, ws_proxy,\n",
       "                           ondownload,\n",
       "                           element.get(0));\n",
       "\n",
       "    // Call onopen now - mpl needs it, as it is assuming we've passed it a real\n",
       "    // web socket which is closed, not our websocket->open comm proxy.\n",
       "    ws_proxy.onopen();\n",
       "\n",
       "    fig.parent_element = element.get(0);\n",
       "    fig.cell_info = mpl.find_output_cell(\"<div id='\" + id + \"'></div>\");\n",
       "    if (!fig.cell_info) {\n",
       "        console.error(\"Failed to find cell for figure\", id, fig);\n",
       "        return;\n",
       "    }\n",
       "\n",
       "    var output_index = fig.cell_info[2]\n",
       "    var cell = fig.cell_info[0];\n",
       "\n",
       "};\n",
       "\n",
       "mpl.figure.prototype.handle_close = function(fig, msg) {\n",
       "    var width = fig.canvas.width/mpl.ratio\n",
       "    fig.root.unbind('remove')\n",
       "\n",
       "    // Update the output cell to use the data from the current canvas.\n",
       "    fig.push_to_output();\n",
       "    var dataURL = fig.canvas.toDataURL();\n",
       "    // Re-enable the keyboard manager in IPython - without this line, in FF,\n",
       "    // the notebook keyboard shortcuts fail.\n",
       "    IPython.keyboard_manager.enable()\n",
       "    $(fig.parent_element).html('<img src=\"' + dataURL + '\" width=\"' + width + '\">');\n",
       "    fig.close_ws(fig, msg);\n",
       "}\n",
       "\n",
       "mpl.figure.prototype.close_ws = function(fig, msg){\n",
       "    fig.send_message('closing', msg);\n",
       "    // fig.ws.close()\n",
       "}\n",
       "\n",
       "mpl.figure.prototype.push_to_output = function(remove_interactive) {\n",
       "    // Turn the data on the canvas into data in the output cell.\n",
       "    var width = this.canvas.width/mpl.ratio\n",
       "    var dataURL = this.canvas.toDataURL();\n",
       "    this.cell_info[1]['text/html'] = '<img src=\"' + dataURL + '\" width=\"' + width + '\">';\n",
       "}\n",
       "\n",
       "mpl.figure.prototype.updated_canvas_event = function() {\n",
       "    // Tell IPython that the notebook contents must change.\n",
       "    IPython.notebook.set_dirty(true);\n",
       "    this.send_message(\"ack\", {});\n",
       "    var fig = this;\n",
       "    // Wait a second, then push the new image to the DOM so\n",
       "    // that it is saved nicely (might be nice to debounce this).\n",
       "    setTimeout(function () { fig.push_to_output() }, 1000);\n",
       "}\n",
       "\n",
       "mpl.figure.prototype._init_toolbar = function() {\n",
       "    var fig = this;\n",
       "\n",
       "    var nav_element = $('<div/>')\n",
       "    nav_element.attr('style', 'width: 100%');\n",
       "    this.root.append(nav_element);\n",
       "\n",
       "    // Define a callback function for later on.\n",
       "    function toolbar_event(event) {\n",
       "        return fig.toolbar_button_onclick(event['data']);\n",
       "    }\n",
       "    function toolbar_mouse_event(event) {\n",
       "        return fig.toolbar_button_onmouseover(event['data']);\n",
       "    }\n",
       "\n",
       "    for(var toolbar_ind in mpl.toolbar_items){\n",
       "        var name = mpl.toolbar_items[toolbar_ind][0];\n",
       "        var tooltip = mpl.toolbar_items[toolbar_ind][1];\n",
       "        var image = mpl.toolbar_items[toolbar_ind][2];\n",
       "        var method_name = mpl.toolbar_items[toolbar_ind][3];\n",
       "\n",
       "        if (!name) { continue; };\n",
       "\n",
       "        var button = $('<button class=\"btn btn-default\" href=\"#\" title=\"' + name + '\"><i class=\"fa ' + image + ' fa-lg\"></i></button>');\n",
       "        button.click(method_name, toolbar_event);\n",
       "        button.mouseover(tooltip, toolbar_mouse_event);\n",
       "        nav_element.append(button);\n",
       "    }\n",
       "\n",
       "    // Add the status bar.\n",
       "    var status_bar = $('<span class=\"mpl-message\" style=\"text-align:right; float: right;\"/>');\n",
       "    nav_element.append(status_bar);\n",
       "    this.message = status_bar[0];\n",
       "\n",
       "    // Add the close button to the window.\n",
       "    var buttongrp = $('<div class=\"btn-group inline pull-right\"></div>');\n",
       "    var button = $('<button class=\"btn btn-mini btn-primary\" href=\"#\" title=\"Stop Interaction\"><i class=\"fa fa-power-off icon-remove icon-large\"></i></button>');\n",
       "    button.click(function (evt) { fig.handle_close(fig, {}); } );\n",
       "    button.mouseover('Stop Interaction', toolbar_mouse_event);\n",
       "    buttongrp.append(button);\n",
       "    var titlebar = this.root.find($('.ui-dialog-titlebar'));\n",
       "    titlebar.prepend(buttongrp);\n",
       "}\n",
       "\n",
       "mpl.figure.prototype._root_extra_style = function(el){\n",
       "    var fig = this\n",
       "    el.on(\"remove\", function(){\n",
       "\tfig.close_ws(fig, {});\n",
       "    });\n",
       "}\n",
       "\n",
       "mpl.figure.prototype._canvas_extra_style = function(el){\n",
       "    // this is important to make the div 'focusable\n",
       "    el.attr('tabindex', 0)\n",
       "    // reach out to IPython and tell the keyboard manager to turn it's self\n",
       "    // off when our div gets focus\n",
       "\n",
       "    // location in version 3\n",
       "    if (IPython.notebook.keyboard_manager) {\n",
       "        IPython.notebook.keyboard_manager.register_events(el);\n",
       "    }\n",
       "    else {\n",
       "        // location in version 2\n",
       "        IPython.keyboard_manager.register_events(el);\n",
       "    }\n",
       "\n",
       "}\n",
       "\n",
       "mpl.figure.prototype._key_event_extra = function(event, name) {\n",
       "    var manager = IPython.notebook.keyboard_manager;\n",
       "    if (!manager)\n",
       "        manager = IPython.keyboard_manager;\n",
       "\n",
       "    // Check for shift+enter\n",
       "    if (event.shiftKey && event.which == 13) {\n",
       "        this.canvas_div.blur();\n",
       "        event.shiftKey = false;\n",
       "        // Send a \"J\" for go to next cell\n",
       "        event.which = 74;\n",
       "        event.keyCode = 74;\n",
       "        manager.command_mode();\n",
       "        manager.handle_keydown(event);\n",
       "    }\n",
       "}\n",
       "\n",
       "mpl.figure.prototype.handle_save = function(fig, msg) {\n",
       "    fig.ondownload(fig, null);\n",
       "}\n",
       "\n",
       "\n",
       "mpl.find_output_cell = function(html_output) {\n",
       "    // Return the cell and output element which can be found *uniquely* in the notebook.\n",
       "    // Note - this is a bit hacky, but it is done because the \"notebook_saving.Notebook\"\n",
       "    // IPython event is triggered only after the cells have been serialised, which for\n",
       "    // our purposes (turning an active figure into a static one), is too late.\n",
       "    var cells = IPython.notebook.get_cells();\n",
       "    var ncells = cells.length;\n",
       "    for (var i=0; i<ncells; i++) {\n",
       "        var cell = cells[i];\n",
       "        if (cell.cell_type === 'code'){\n",
       "            for (var j=0; j<cell.output_area.outputs.length; j++) {\n",
       "                var data = cell.output_area.outputs[j];\n",
       "                if (data.data) {\n",
       "                    // IPython >= 3 moved mimebundle to data attribute of output\n",
       "                    data = data.data;\n",
       "                }\n",
       "                if (data['text/html'] == html_output) {\n",
       "                    return [cell, data, j];\n",
       "                }\n",
       "            }\n",
       "        }\n",
       "    }\n",
       "}\n",
       "\n",
       "// Register the function which deals with the matplotlib target/channel.\n",
       "// The kernel may be null if the page has been refreshed.\n",
       "if (IPython.notebook.kernel != null) {\n",
       "    IPython.notebook.kernel.comm_manager.register_target('matplotlib', mpl.mpl_figure_comm);\n",
       "}\n"
      ],
      "text/plain": [
       "<IPython.core.display.Javascript object>"
      ]
     },
     "metadata": {},
     "output_type": "display_data"
    },
    {
     "data": {
      "text/html": [
       "<img src=\"data:image/png;base64,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\" width=\"640\">"
      ],
      "text/plain": [
       "<IPython.core.display.HTML object>"
      ]
     },
     "metadata": {},
     "output_type": "display_data"
    }
   ],
   "source": [
    "x = np.linspace(0, 10) # range of values from 0 to 10\n",
    "y = np.sin(x) # sine of these values\n",
    "plt.plot(x, y); # plot as a line"
   ]
  },
  {
   "cell_type": "code",
   "execution_count": 26,
   "metadata": {},
   "outputs": [
    {
     "data": {
      "application/javascript": [
       "/* Put everything inside the global mpl namespace */\n",
       "window.mpl = {};\n",
       "\n",
       "\n",
       "mpl.get_websocket_type = function() {\n",
       "    if (typeof(WebSocket) !== 'undefined') {\n",
       "        return WebSocket;\n",
       "    } else if (typeof(MozWebSocket) !== 'undefined') {\n",
       "        return MozWebSocket;\n",
       "    } else {\n",
       "        alert('Your browser does not have WebSocket support.' +\n",
       "              'Please try Chrome, Safari or Firefox ≥ 6. ' +\n",
       "              'Firefox 4 and 5 are also supported but you ' +\n",
       "              'have to enable WebSockets in about:config.');\n",
       "    };\n",
       "}\n",
       "\n",
       "mpl.figure = function(figure_id, websocket, ondownload, parent_element) {\n",
       "    this.id = figure_id;\n",
       "\n",
       "    this.ws = websocket;\n",
       "\n",
       "    this.supports_binary = (this.ws.binaryType != undefined);\n",
       "\n",
       "    if (!this.supports_binary) {\n",
       "        var warnings = document.getElementById(\"mpl-warnings\");\n",
       "        if (warnings) {\n",
       "            warnings.style.display = 'block';\n",
       "            warnings.textContent = (\n",
       "                \"This browser does not support binary websocket messages. \" +\n",
       "                    \"Performance may be slow.\");\n",
       "        }\n",
       "    }\n",
       "\n",
       "    this.imageObj = new Image();\n",
       "\n",
       "    this.context = undefined;\n",
       "    this.message = undefined;\n",
       "    this.canvas = undefined;\n",
       "    this.rubberband_canvas = undefined;\n",
       "    this.rubberband_context = undefined;\n",
       "    this.format_dropdown = undefined;\n",
       "\n",
       "    this.image_mode = 'full';\n",
       "\n",
       "    this.root = $('<div/>');\n",
       "    this._root_extra_style(this.root)\n",
       "    this.root.attr('style', 'display: inline-block');\n",
       "\n",
       "    $(parent_element).append(this.root);\n",
       "\n",
       "    this._init_header(this);\n",
       "    this._init_canvas(this);\n",
       "    this._init_toolbar(this);\n",
       "\n",
       "    var fig = this;\n",
       "\n",
       "    this.waiting = false;\n",
       "\n",
       "    this.ws.onopen =  function () {\n",
       "            fig.send_message(\"supports_binary\", {value: fig.supports_binary});\n",
       "            fig.send_message(\"send_image_mode\", {});\n",
       "            if (mpl.ratio != 1) {\n",
       "                fig.send_message(\"set_dpi_ratio\", {'dpi_ratio': mpl.ratio});\n",
       "            }\n",
       "            fig.send_message(\"refresh\", {});\n",
       "        }\n",
       "\n",
       "    this.imageObj.onload = function() {\n",
       "            if (fig.image_mode == 'full') {\n",
       "                // Full images could contain transparency (where diff images\n",
       "                // almost always do), so we need to clear the canvas so that\n",
       "                // there is no ghosting.\n",
       "                fig.context.clearRect(0, 0, fig.canvas.width, fig.canvas.height);\n",
       "            }\n",
       "            fig.context.drawImage(fig.imageObj, 0, 0);\n",
       "        };\n",
       "\n",
       "    this.imageObj.onunload = function() {\n",
       "        fig.ws.close();\n",
       "    }\n",
       "\n",
       "    this.ws.onmessage = this._make_on_message_function(this);\n",
       "\n",
       "    this.ondownload = ondownload;\n",
       "}\n",
       "\n",
       "mpl.figure.prototype._init_header = function() {\n",
       "    var titlebar = $(\n",
       "        '<div class=\"ui-dialog-titlebar ui-widget-header ui-corner-all ' +\n",
       "        'ui-helper-clearfix\"/>');\n",
       "    var titletext = $(\n",
       "        '<div class=\"ui-dialog-title\" style=\"width: 100%; ' +\n",
       "        'text-align: center; padding: 3px;\"/>');\n",
       "    titlebar.append(titletext)\n",
       "    this.root.append(titlebar);\n",
       "    this.header = titletext[0];\n",
       "}\n",
       "\n",
       "\n",
       "\n",
       "mpl.figure.prototype._canvas_extra_style = function(canvas_div) {\n",
       "\n",
       "}\n",
       "\n",
       "\n",
       "mpl.figure.prototype._root_extra_style = function(canvas_div) {\n",
       "\n",
       "}\n",
       "\n",
       "mpl.figure.prototype._init_canvas = function() {\n",
       "    var fig = this;\n",
       "\n",
       "    var canvas_div = $('<div/>');\n",
       "\n",
       "    canvas_div.attr('style', 'position: relative; clear: both; outline: 0');\n",
       "\n",
       "    function canvas_keyboard_event(event) {\n",
       "        return fig.key_event(event, event['data']);\n",
       "    }\n",
       "\n",
       "    canvas_div.keydown('key_press', canvas_keyboard_event);\n",
       "    canvas_div.keyup('key_release', canvas_keyboard_event);\n",
       "    this.canvas_div = canvas_div\n",
       "    this._canvas_extra_style(canvas_div)\n",
       "    this.root.append(canvas_div);\n",
       "\n",
       "    var canvas = $('<canvas/>');\n",
       "    canvas.addClass('mpl-canvas');\n",
       "    canvas.attr('style', \"left: 0; top: 0; z-index: 0; outline: 0\")\n",
       "\n",
       "    this.canvas = canvas[0];\n",
       "    this.context = canvas[0].getContext(\"2d\");\n",
       "\n",
       "    var backingStore = this.context.backingStorePixelRatio ||\n",
       "\tthis.context.webkitBackingStorePixelRatio ||\n",
       "\tthis.context.mozBackingStorePixelRatio ||\n",
       "\tthis.context.msBackingStorePixelRatio ||\n",
       "\tthis.context.oBackingStorePixelRatio ||\n",
       "\tthis.context.backingStorePixelRatio || 1;\n",
       "\n",
       "    mpl.ratio = (window.devicePixelRatio || 1) / backingStore;\n",
       "\n",
       "    var rubberband = $('<canvas/>');\n",
       "    rubberband.attr('style', \"position: absolute; left: 0; top: 0; z-index: 1;\")\n",
       "\n",
       "    var pass_mouse_events = true;\n",
       "\n",
       "    canvas_div.resizable({\n",
       "        start: function(event, ui) {\n",
       "            pass_mouse_events = false;\n",
       "        },\n",
       "        resize: function(event, ui) {\n",
       "            fig.request_resize(ui.size.width, ui.size.height);\n",
       "        },\n",
       "        stop: function(event, ui) {\n",
       "            pass_mouse_events = true;\n",
       "            fig.request_resize(ui.size.width, ui.size.height);\n",
       "        },\n",
       "    });\n",
       "\n",
       "    function mouse_event_fn(event) {\n",
       "        if (pass_mouse_events)\n",
       "            return fig.mouse_event(event, event['data']);\n",
       "    }\n",
       "\n",
       "    rubberband.mousedown('button_press', mouse_event_fn);\n",
       "    rubberband.mouseup('button_release', mouse_event_fn);\n",
       "    // Throttle sequential mouse events to 1 every 20ms.\n",
       "    rubberband.mousemove('motion_notify', mouse_event_fn);\n",
       "\n",
       "    rubberband.mouseenter('figure_enter', mouse_event_fn);\n",
       "    rubberband.mouseleave('figure_leave', mouse_event_fn);\n",
       "\n",
       "    canvas_div.on(\"wheel\", function (event) {\n",
       "        event = event.originalEvent;\n",
       "        event['data'] = 'scroll'\n",
       "        if (event.deltaY < 0) {\n",
       "            event.step = 1;\n",
       "        } else {\n",
       "            event.step = -1;\n",
       "        }\n",
       "        mouse_event_fn(event);\n",
       "    });\n",
       "\n",
       "    canvas_div.append(canvas);\n",
       "    canvas_div.append(rubberband);\n",
       "\n",
       "    this.rubberband = rubberband;\n",
       "    this.rubberband_canvas = rubberband[0];\n",
       "    this.rubberband_context = rubberband[0].getContext(\"2d\");\n",
       "    this.rubberband_context.strokeStyle = \"#000000\";\n",
       "\n",
       "    this._resize_canvas = function(width, height) {\n",
       "        // Keep the size of the canvas, canvas container, and rubber band\n",
       "        // canvas in synch.\n",
       "        canvas_div.css('width', width)\n",
       "        canvas_div.css('height', height)\n",
       "\n",
       "        canvas.attr('width', width * mpl.ratio);\n",
       "        canvas.attr('height', height * mpl.ratio);\n",
       "        canvas.attr('style', 'width: ' + width + 'px; height: ' + height + 'px;');\n",
       "\n",
       "        rubberband.attr('width', width);\n",
       "        rubberband.attr('height', height);\n",
       "    }\n",
       "\n",
       "    // Set the figure to an initial 600x600px, this will subsequently be updated\n",
       "    // upon first draw.\n",
       "    this._resize_canvas(600, 600);\n",
       "\n",
       "    // Disable right mouse context menu.\n",
       "    $(this.rubberband_canvas).bind(\"contextmenu\",function(e){\n",
       "        return false;\n",
       "    });\n",
       "\n",
       "    function set_focus () {\n",
       "        canvas.focus();\n",
       "        canvas_div.focus();\n",
       "    }\n",
       "\n",
       "    window.setTimeout(set_focus, 100);\n",
       "}\n",
       "\n",
       "mpl.figure.prototype._init_toolbar = function() {\n",
       "    var fig = this;\n",
       "\n",
       "    var nav_element = $('<div/>')\n",
       "    nav_element.attr('style', 'width: 100%');\n",
       "    this.root.append(nav_element);\n",
       "\n",
       "    // Define a callback function for later on.\n",
       "    function toolbar_event(event) {\n",
       "        return fig.toolbar_button_onclick(event['data']);\n",
       "    }\n",
       "    function toolbar_mouse_event(event) {\n",
       "        return fig.toolbar_button_onmouseover(event['data']);\n",
       "    }\n",
       "\n",
       "    for(var toolbar_ind in mpl.toolbar_items) {\n",
       "        var name = mpl.toolbar_items[toolbar_ind][0];\n",
       "        var tooltip = mpl.toolbar_items[toolbar_ind][1];\n",
       "        var image = mpl.toolbar_items[toolbar_ind][2];\n",
       "        var method_name = mpl.toolbar_items[toolbar_ind][3];\n",
       "\n",
       "        if (!name) {\n",
       "            // put a spacer in here.\n",
       "            continue;\n",
       "        }\n",
       "        var button = $('<button/>');\n",
       "        button.addClass('ui-button ui-widget ui-state-default ui-corner-all ' +\n",
       "                        'ui-button-icon-only');\n",
       "        button.attr('role', 'button');\n",
       "        button.attr('aria-disabled', 'false');\n",
       "        button.click(method_name, toolbar_event);\n",
       "        button.mouseover(tooltip, toolbar_mouse_event);\n",
       "\n",
       "        var icon_img = $('<span/>');\n",
       "        icon_img.addClass('ui-button-icon-primary ui-icon');\n",
       "        icon_img.addClass(image);\n",
       "        icon_img.addClass('ui-corner-all');\n",
       "\n",
       "        var tooltip_span = $('<span/>');\n",
       "        tooltip_span.addClass('ui-button-text');\n",
       "        tooltip_span.html(tooltip);\n",
       "\n",
       "        button.append(icon_img);\n",
       "        button.append(tooltip_span);\n",
       "\n",
       "        nav_element.append(button);\n",
       "    }\n",
       "\n",
       "    var fmt_picker_span = $('<span/>');\n",
       "\n",
       "    var fmt_picker = $('<select/>');\n",
       "    fmt_picker.addClass('mpl-toolbar-option ui-widget ui-widget-content');\n",
       "    fmt_picker_span.append(fmt_picker);\n",
       "    nav_element.append(fmt_picker_span);\n",
       "    this.format_dropdown = fmt_picker[0];\n",
       "\n",
       "    for (var ind in mpl.extensions) {\n",
       "        var fmt = mpl.extensions[ind];\n",
       "        var option = $(\n",
       "            '<option/>', {selected: fmt === mpl.default_extension}).html(fmt);\n",
       "        fmt_picker.append(option)\n",
       "    }\n",
       "\n",
       "    // Add hover states to the ui-buttons\n",
       "    $( \".ui-button\" ).hover(\n",
       "        function() { $(this).addClass(\"ui-state-hover\");},\n",
       "        function() { $(this).removeClass(\"ui-state-hover\");}\n",
       "    );\n",
       "\n",
       "    var status_bar = $('<span class=\"mpl-message\"/>');\n",
       "    nav_element.append(status_bar);\n",
       "    this.message = status_bar[0];\n",
       "}\n",
       "\n",
       "mpl.figure.prototype.request_resize = function(x_pixels, y_pixels) {\n",
       "    // Request matplotlib to resize the figure. Matplotlib will then trigger a resize in the client,\n",
       "    // which will in turn request a refresh of the image.\n",
       "    this.send_message('resize', {'width': x_pixels, 'height': y_pixels});\n",
       "}\n",
       "\n",
       "mpl.figure.prototype.send_message = function(type, properties) {\n",
       "    properties['type'] = type;\n",
       "    properties['figure_id'] = this.id;\n",
       "    this.ws.send(JSON.stringify(properties));\n",
       "}\n",
       "\n",
       "mpl.figure.prototype.send_draw_message = function() {\n",
       "    if (!this.waiting) {\n",
       "        this.waiting = true;\n",
       "        this.ws.send(JSON.stringify({type: \"draw\", figure_id: this.id}));\n",
       "    }\n",
       "}\n",
       "\n",
       "\n",
       "mpl.figure.prototype.handle_save = function(fig, msg) {\n",
       "    var format_dropdown = fig.format_dropdown;\n",
       "    var format = format_dropdown.options[format_dropdown.selectedIndex].value;\n",
       "    fig.ondownload(fig, format);\n",
       "}\n",
       "\n",
       "\n",
       "mpl.figure.prototype.handle_resize = function(fig, msg) {\n",
       "    var size = msg['size'];\n",
       "    if (size[0] != fig.canvas.width || size[1] != fig.canvas.height) {\n",
       "        fig._resize_canvas(size[0], size[1]);\n",
       "        fig.send_message(\"refresh\", {});\n",
       "    };\n",
       "}\n",
       "\n",
       "mpl.figure.prototype.handle_rubberband = function(fig, msg) {\n",
       "    var x0 = msg['x0'] / mpl.ratio;\n",
       "    var y0 = (fig.canvas.height - msg['y0']) / mpl.ratio;\n",
       "    var x1 = msg['x1'] / mpl.ratio;\n",
       "    var y1 = (fig.canvas.height - msg['y1']) / mpl.ratio;\n",
       "    x0 = Math.floor(x0) + 0.5;\n",
       "    y0 = Math.floor(y0) + 0.5;\n",
       "    x1 = Math.floor(x1) + 0.5;\n",
       "    y1 = Math.floor(y1) + 0.5;\n",
       "    var min_x = Math.min(x0, x1);\n",
       "    var min_y = Math.min(y0, y1);\n",
       "    var width = Math.abs(x1 - x0);\n",
       "    var height = Math.abs(y1 - y0);\n",
       "\n",
       "    fig.rubberband_context.clearRect(\n",
       "        0, 0, fig.canvas.width, fig.canvas.height);\n",
       "\n",
       "    fig.rubberband_context.strokeRect(min_x, min_y, width, height);\n",
       "}\n",
       "\n",
       "mpl.figure.prototype.handle_figure_label = function(fig, msg) {\n",
       "    // Updates the figure title.\n",
       "    fig.header.textContent = msg['label'];\n",
       "}\n",
       "\n",
       "mpl.figure.prototype.handle_cursor = function(fig, msg) {\n",
       "    var cursor = msg['cursor'];\n",
       "    switch(cursor)\n",
       "    {\n",
       "    case 0:\n",
       "        cursor = 'pointer';\n",
       "        break;\n",
       "    case 1:\n",
       "        cursor = 'default';\n",
       "        break;\n",
       "    case 2:\n",
       "        cursor = 'crosshair';\n",
       "        break;\n",
       "    case 3:\n",
       "        cursor = 'move';\n",
       "        break;\n",
       "    }\n",
       "    fig.rubberband_canvas.style.cursor = cursor;\n",
       "}\n",
       "\n",
       "mpl.figure.prototype.handle_message = function(fig, msg) {\n",
       "    fig.message.textContent = msg['message'];\n",
       "}\n",
       "\n",
       "mpl.figure.prototype.handle_draw = function(fig, msg) {\n",
       "    // Request the server to send over a new figure.\n",
       "    fig.send_draw_message();\n",
       "}\n",
       "\n",
       "mpl.figure.prototype.handle_image_mode = function(fig, msg) {\n",
       "    fig.image_mode = msg['mode'];\n",
       "}\n",
       "\n",
       "mpl.figure.prototype.updated_canvas_event = function() {\n",
       "    // Called whenever the canvas gets updated.\n",
       "    this.send_message(\"ack\", {});\n",
       "}\n",
       "\n",
       "// A function to construct a web socket function for onmessage handling.\n",
       "// Called in the figure constructor.\n",
       "mpl.figure.prototype._make_on_message_function = function(fig) {\n",
       "    return function socket_on_message(evt) {\n",
       "        if (evt.data instanceof Blob) {\n",
       "            /* FIXME: We get \"Resource interpreted as Image but\n",
       "             * transferred with MIME type text/plain:\" errors on\n",
       "             * Chrome.  But how to set the MIME type?  It doesn't seem\n",
       "             * to be part of the websocket stream */\n",
       "            evt.data.type = \"image/png\";\n",
       "\n",
       "            /* Free the memory for the previous frames */\n",
       "            if (fig.imageObj.src) {\n",
       "                (window.URL || window.webkitURL).revokeObjectURL(\n",
       "                    fig.imageObj.src);\n",
       "            }\n",
       "\n",
       "            fig.imageObj.src = (window.URL || window.webkitURL).createObjectURL(\n",
       "                evt.data);\n",
       "            fig.updated_canvas_event();\n",
       "            fig.waiting = false;\n",
       "            return;\n",
       "        }\n",
       "        else if (typeof evt.data === 'string' && evt.data.slice(0, 21) == \"data:image/png;base64\") {\n",
       "            fig.imageObj.src = evt.data;\n",
       "            fig.updated_canvas_event();\n",
       "            fig.waiting = false;\n",
       "            return;\n",
       "        }\n",
       "\n",
       "        var msg = JSON.parse(evt.data);\n",
       "        var msg_type = msg['type'];\n",
       "\n",
       "        // Call the  \"handle_{type}\" callback, which takes\n",
       "        // the figure and JSON message as its only arguments.\n",
       "        try {\n",
       "            var callback = fig[\"handle_\" + msg_type];\n",
       "        } catch (e) {\n",
       "            console.log(\"No handler for the '\" + msg_type + \"' message type: \", msg);\n",
       "            return;\n",
       "        }\n",
       "\n",
       "        if (callback) {\n",
       "            try {\n",
       "                // console.log(\"Handling '\" + msg_type + \"' message: \", msg);\n",
       "                callback(fig, msg);\n",
       "            } catch (e) {\n",
       "                console.log(\"Exception inside the 'handler_\" + msg_type + \"' callback:\", e, e.stack, msg);\n",
       "            }\n",
       "        }\n",
       "    };\n",
       "}\n",
       "\n",
       "// from http://stackoverflow.com/questions/1114465/getting-mouse-location-in-canvas\n",
       "mpl.findpos = function(e) {\n",
       "    //this section is from http://www.quirksmode.org/js/events_properties.html\n",
       "    var targ;\n",
       "    if (!e)\n",
       "        e = window.event;\n",
       "    if (e.target)\n",
       "        targ = e.target;\n",
       "    else if (e.srcElement)\n",
       "        targ = e.srcElement;\n",
       "    if (targ.nodeType == 3) // defeat Safari bug\n",
       "        targ = targ.parentNode;\n",
       "\n",
       "    // jQuery normalizes the pageX and pageY\n",
       "    // pageX,Y are the mouse positions relative to the document\n",
       "    // offset() returns the position of the element relative to the document\n",
       "    var x = e.pageX - $(targ).offset().left;\n",
       "    var y = e.pageY - $(targ).offset().top;\n",
       "\n",
       "    return {\"x\": x, \"y\": y};\n",
       "};\n",
       "\n",
       "/*\n",
       " * return a copy of an object with only non-object keys\n",
       " * we need this to avoid circular references\n",
       " * http://stackoverflow.com/a/24161582/3208463\n",
       " */\n",
       "function simpleKeys (original) {\n",
       "  return Object.keys(original).reduce(function (obj, key) {\n",
       "    if (typeof original[key] !== 'object')\n",
       "        obj[key] = original[key]\n",
       "    return obj;\n",
       "  }, {});\n",
       "}\n",
       "\n",
       "mpl.figure.prototype.mouse_event = function(event, name) {\n",
       "    var canvas_pos = mpl.findpos(event)\n",
       "\n",
       "    if (name === 'button_press')\n",
       "    {\n",
       "        this.canvas.focus();\n",
       "        this.canvas_div.focus();\n",
       "    }\n",
       "\n",
       "    var x = canvas_pos.x * mpl.ratio;\n",
       "    var y = canvas_pos.y * mpl.ratio;\n",
       "\n",
       "    this.send_message(name, {x: x, y: y, button: event.button,\n",
       "                             step: event.step,\n",
       "                             guiEvent: simpleKeys(event)});\n",
       "\n",
       "    /* This prevents the web browser from automatically changing to\n",
       "     * the text insertion cursor when the button is pressed.  We want\n",
       "     * to control all of the cursor setting manually through the\n",
       "     * 'cursor' event from matplotlib */\n",
       "    event.preventDefault();\n",
       "    return false;\n",
       "}\n",
       "\n",
       "mpl.figure.prototype._key_event_extra = function(event, name) {\n",
       "    // Handle any extra behaviour associated with a key event\n",
       "}\n",
       "\n",
       "mpl.figure.prototype.key_event = function(event, name) {\n",
       "\n",
       "    // Prevent repeat events\n",
       "    if (name == 'key_press')\n",
       "    {\n",
       "        if (event.which === this._key)\n",
       "            return;\n",
       "        else\n",
       "            this._key = event.which;\n",
       "    }\n",
       "    if (name == 'key_release')\n",
       "        this._key = null;\n",
       "\n",
       "    var value = '';\n",
       "    if (event.ctrlKey && event.which != 17)\n",
       "        value += \"ctrl+\";\n",
       "    if (event.altKey && event.which != 18)\n",
       "        value += \"alt+\";\n",
       "    if (event.shiftKey && event.which != 16)\n",
       "        value += \"shift+\";\n",
       "\n",
       "    value += 'k';\n",
       "    value += event.which.toString();\n",
       "\n",
       "    this._key_event_extra(event, name);\n",
       "\n",
       "    this.send_message(name, {key: value,\n",
       "                             guiEvent: simpleKeys(event)});\n",
       "    return false;\n",
       "}\n",
       "\n",
       "mpl.figure.prototype.toolbar_button_onclick = function(name) {\n",
       "    if (name == 'download') {\n",
       "        this.handle_save(this, null);\n",
       "    } else {\n",
       "        this.send_message(\"toolbar_button\", {name: name});\n",
       "    }\n",
       "};\n",
       "\n",
       "mpl.figure.prototype.toolbar_button_onmouseover = function(tooltip) {\n",
       "    this.message.textContent = tooltip;\n",
       "};\n",
       "mpl.toolbar_items = [[\"Home\", \"Reset original view\", \"fa fa-home icon-home\", \"home\"], [\"Back\", \"Back to previous view\", \"fa fa-arrow-left icon-arrow-left\", \"back\"], [\"Forward\", \"Forward to next view\", \"fa fa-arrow-right icon-arrow-right\", \"forward\"], [\"\", \"\", \"\", \"\"], [\"Pan\", \"Pan axes with left mouse, zoom with right\", \"fa fa-arrows icon-move\", \"pan\"], [\"Zoom\", \"Zoom to rectangle\", \"fa fa-square-o icon-check-empty\", \"zoom\"], [\"\", \"\", \"\", \"\"], [\"Download\", \"Download plot\", \"fa fa-floppy-o icon-save\", \"download\"]];\n",
       "\n",
       "mpl.extensions = [\"eps\", \"jpeg\", \"pdf\", \"png\", \"ps\", \"raw\", \"svg\", \"tif\"];\n",
       "\n",
       "mpl.default_extension = \"png\";var comm_websocket_adapter = function(comm) {\n",
       "    // Create a \"websocket\"-like object which calls the given IPython comm\n",
       "    // object with the appropriate methods. Currently this is a non binary\n",
       "    // socket, so there is still some room for performance tuning.\n",
       "    var ws = {};\n",
       "\n",
       "    ws.close = function() {\n",
       "        comm.close()\n",
       "    };\n",
       "    ws.send = function(m) {\n",
       "        //console.log('sending', m);\n",
       "        comm.send(m);\n",
       "    };\n",
       "    // Register the callback with on_msg.\n",
       "    comm.on_msg(function(msg) {\n",
       "        //console.log('receiving', msg['content']['data'], msg);\n",
       "        // Pass the mpl event to the overridden (by mpl) onmessage function.\n",
       "        ws.onmessage(msg['content']['data'])\n",
       "    });\n",
       "    return ws;\n",
       "}\n",
       "\n",
       "mpl.mpl_figure_comm = function(comm, msg) {\n",
       "    // This is the function which gets called when the mpl process\n",
       "    // starts-up an IPython Comm through the \"matplotlib\" channel.\n",
       "\n",
       "    var id = msg.content.data.id;\n",
       "    // Get hold of the div created by the display call when the Comm\n",
       "    // socket was opened in Python.\n",
       "    var element = $(\"#\" + id);\n",
       "    var ws_proxy = comm_websocket_adapter(comm)\n",
       "\n",
       "    function ondownload(figure, format) {\n",
       "        window.open(figure.imageObj.src);\n",
       "    }\n",
       "\n",
       "    var fig = new mpl.figure(id, ws_proxy,\n",
       "                           ondownload,\n",
       "                           element.get(0));\n",
       "\n",
       "    // Call onopen now - mpl needs it, as it is assuming we've passed it a real\n",
       "    // web socket which is closed, not our websocket->open comm proxy.\n",
       "    ws_proxy.onopen();\n",
       "\n",
       "    fig.parent_element = element.get(0);\n",
       "    fig.cell_info = mpl.find_output_cell(\"<div id='\" + id + \"'></div>\");\n",
       "    if (!fig.cell_info) {\n",
       "        console.error(\"Failed to find cell for figure\", id, fig);\n",
       "        return;\n",
       "    }\n",
       "\n",
       "    var output_index = fig.cell_info[2]\n",
       "    var cell = fig.cell_info[0];\n",
       "\n",
       "};\n",
       "\n",
       "mpl.figure.prototype.handle_close = function(fig, msg) {\n",
       "    var width = fig.canvas.width/mpl.ratio\n",
       "    fig.root.unbind('remove')\n",
       "\n",
       "    // Update the output cell to use the data from the current canvas.\n",
       "    fig.push_to_output();\n",
       "    var dataURL = fig.canvas.toDataURL();\n",
       "    // Re-enable the keyboard manager in IPython - without this line, in FF,\n",
       "    // the notebook keyboard shortcuts fail.\n",
       "    IPython.keyboard_manager.enable()\n",
       "    $(fig.parent_element).html('<img src=\"' + dataURL + '\" width=\"' + width + '\">');\n",
       "    fig.close_ws(fig, msg);\n",
       "}\n",
       "\n",
       "mpl.figure.prototype.close_ws = function(fig, msg){\n",
       "    fig.send_message('closing', msg);\n",
       "    // fig.ws.close()\n",
       "}\n",
       "\n",
       "mpl.figure.prototype.push_to_output = function(remove_interactive) {\n",
       "    // Turn the data on the canvas into data in the output cell.\n",
       "    var width = this.canvas.width/mpl.ratio\n",
       "    var dataURL = this.canvas.toDataURL();\n",
       "    this.cell_info[1]['text/html'] = '<img src=\"' + dataURL + '\" width=\"' + width + '\">';\n",
       "}\n",
       "\n",
       "mpl.figure.prototype.updated_canvas_event = function() {\n",
       "    // Tell IPython that the notebook contents must change.\n",
       "    IPython.notebook.set_dirty(true);\n",
       "    this.send_message(\"ack\", {});\n",
       "    var fig = this;\n",
       "    // Wait a second, then push the new image to the DOM so\n",
       "    // that it is saved nicely (might be nice to debounce this).\n",
       "    setTimeout(function () { fig.push_to_output() }, 1000);\n",
       "}\n",
       "\n",
       "mpl.figure.prototype._init_toolbar = function() {\n",
       "    var fig = this;\n",
       "\n",
       "    var nav_element = $('<div/>')\n",
       "    nav_element.attr('style', 'width: 100%');\n",
       "    this.root.append(nav_element);\n",
       "\n",
       "    // Define a callback function for later on.\n",
       "    function toolbar_event(event) {\n",
       "        return fig.toolbar_button_onclick(event['data']);\n",
       "    }\n",
       "    function toolbar_mouse_event(event) {\n",
       "        return fig.toolbar_button_onmouseover(event['data']);\n",
       "    }\n",
       "\n",
       "    for(var toolbar_ind in mpl.toolbar_items){\n",
       "        var name = mpl.toolbar_items[toolbar_ind][0];\n",
       "        var tooltip = mpl.toolbar_items[toolbar_ind][1];\n",
       "        var image = mpl.toolbar_items[toolbar_ind][2];\n",
       "        var method_name = mpl.toolbar_items[toolbar_ind][3];\n",
       "\n",
       "        if (!name) { continue; };\n",
       "\n",
       "        var button = $('<button class=\"btn btn-default\" href=\"#\" title=\"' + name + '\"><i class=\"fa ' + image + ' fa-lg\"></i></button>');\n",
       "        button.click(method_name, toolbar_event);\n",
       "        button.mouseover(tooltip, toolbar_mouse_event);\n",
       "        nav_element.append(button);\n",
       "    }\n",
       "\n",
       "    // Add the status bar.\n",
       "    var status_bar = $('<span class=\"mpl-message\" style=\"text-align:right; float: right;\"/>');\n",
       "    nav_element.append(status_bar);\n",
       "    this.message = status_bar[0];\n",
       "\n",
       "    // Add the close button to the window.\n",
       "    var buttongrp = $('<div class=\"btn-group inline pull-right\"></div>');\n",
       "    var button = $('<button class=\"btn btn-mini btn-primary\" href=\"#\" title=\"Stop Interaction\"><i class=\"fa fa-power-off icon-remove icon-large\"></i></button>');\n",
       "    button.click(function (evt) { fig.handle_close(fig, {}); } );\n",
       "    button.mouseover('Stop Interaction', toolbar_mouse_event);\n",
       "    buttongrp.append(button);\n",
       "    var titlebar = this.root.find($('.ui-dialog-titlebar'));\n",
       "    titlebar.prepend(buttongrp);\n",
       "}\n",
       "\n",
       "mpl.figure.prototype._root_extra_style = function(el){\n",
       "    var fig = this\n",
       "    el.on(\"remove\", function(){\n",
       "\tfig.close_ws(fig, {});\n",
       "    });\n",
       "}\n",
       "\n",
       "mpl.figure.prototype._canvas_extra_style = function(el){\n",
       "    // this is important to make the div 'focusable\n",
       "    el.attr('tabindex', 0)\n",
       "    // reach out to IPython and tell the keyboard manager to turn it's self\n",
       "    // off when our div gets focus\n",
       "\n",
       "    // location in version 3\n",
       "    if (IPython.notebook.keyboard_manager) {\n",
       "        IPython.notebook.keyboard_manager.register_events(el);\n",
       "    }\n",
       "    else {\n",
       "        // location in version 2\n",
       "        IPython.keyboard_manager.register_events(el);\n",
       "    }\n",
       "\n",
       "}\n",
       "\n",
       "mpl.figure.prototype._key_event_extra = function(event, name) {\n",
       "    var manager = IPython.notebook.keyboard_manager;\n",
       "    if (!manager)\n",
       "        manager = IPython.keyboard_manager;\n",
       "\n",
       "    // Check for shift+enter\n",
       "    if (event.shiftKey && event.which == 13) {\n",
       "        this.canvas_div.blur();\n",
       "        event.shiftKey = false;\n",
       "        // Send a \"J\" for go to next cell\n",
       "        event.which = 74;\n",
       "        event.keyCode = 74;\n",
       "        manager.command_mode();\n",
       "        manager.handle_keydown(event);\n",
       "    }\n",
       "}\n",
       "\n",
       "mpl.figure.prototype.handle_save = function(fig, msg) {\n",
       "    fig.ondownload(fig, null);\n",
       "}\n",
       "\n",
       "\n",
       "mpl.find_output_cell = function(html_output) {\n",
       "    // Return the cell and output element which can be found *uniquely* in the notebook.\n",
       "    // Note - this is a bit hacky, but it is done because the \"notebook_saving.Notebook\"\n",
       "    // IPython event is triggered only after the cells have been serialised, which for\n",
       "    // our purposes (turning an active figure into a static one), is too late.\n",
       "    var cells = IPython.notebook.get_cells();\n",
       "    var ncells = cells.length;\n",
       "    for (var i=0; i<ncells; i++) {\n",
       "        var cell = cells[i];\n",
       "        if (cell.cell_type === 'code'){\n",
       "            for (var j=0; j<cell.output_area.outputs.length; j++) {\n",
       "                var data = cell.output_area.outputs[j];\n",
       "                if (data.data) {\n",
       "                    // IPython >= 3 moved mimebundle to data attribute of output\n",
       "                    data = data.data;\n",
       "                }\n",
       "                if (data['text/html'] == html_output) {\n",
       "                    return [cell, data, j];\n",
       "                }\n",
       "            }\n",
       "        }\n",
       "    }\n",
       "}\n",
       "\n",
       "// Register the function which deals with the matplotlib target/channel.\n",
       "// The kernel may be null if the page has been refreshed.\n",
       "if (IPython.notebook.kernel != null) {\n",
       "    IPython.notebook.kernel.comm_manager.register_target('matplotlib', mpl.mpl_figure_comm);\n",
       "}\n"
      ],
      "text/plain": [
       "<IPython.core.display.Javascript object>"
      ]
     },
     "metadata": {},
     "output_type": "display_data"
    },
    {
     "data": {
      "text/html": [
       "<img src=\"data:image/png;base64,iVBORw0KGgoAAAANSUhEUgAABQAAAAPACAYAAABq3NR5AAAgAElEQVR4XuzdCXhU1fn48Tf7xhKWhLCFHRRxQRBQFKm7WFBba1urP624izsqIP4VFbHuirhr/VVbrb+6K4pSdxQUARVE9h0SSFgSsicz/+eOZpJJJsnM5G7n3O88T58Kufec837el3B5c+89cX6/3y98EEAAAQQQQAABBBBAAAEEEEAAAQQQQEBLgTgagFrmlaAQQAABBBBAAAEEEEAAAQQQQAABBBAICNAApBAQQAABBBBAAAEEEEAAAQQQQAABBBDQWIAGoMbJJTQEEEAAAQQQQAABBBBAAAEEEEAAAQRoAFIDCCCAAAIIIIAAAggggAACCCCAAAIIaCxAA1Dj5BIaAggggAACCCCAAAIIIIAAAggggAACNACpAQQQQAABBBBAAAEEEEAAAQQQQAABBDQWoAGocXIJDQEEEEAAAQQQQAABBBBAAAEEEEAAARqA1AACCCCAAAIIIIAAAggggAACCCCAAAIaC9AA1Di5hIYAAggggAACCCCAAAIIIIAAAggggAANQGoAAQQQQAABBBBAAAEEEEAAAQQQQAABjQVoAGqcXEJDAAEEEEAAAQQQQAABBBBAAAEEEECABiA1gAACCCCAAAIIIIAAAggggAACCCCAgMYCNAA1Ti6hIYAAAggggAACCCCAAAIIIIAAAgggQAOQGkAAAQQQQAABBBBAAAEEEEAAAQQQQEBjARqAGieX0BBAAAEEEEAAAQQQQAABBBBAAAEEEKABSA0ggAACCCCAAAIIIIAAAggggAACCCCgsQANQI2TS2gIIIAAAggggAACCCCAAAIIIIAAAgjQAKQGEEAAAQQQQAABBBBAAAEEEEAAAQQQ0FiABqDGySU0BBBAAAEEEEAAAQQQQAABBBBAAAEEaABSAwgggAACCCCAAAIIIIAAAggggAACCGgsQANQ4+QSGgIIIIAAAggggAACCCCAAAIIIIAAAjQAqQEEEEAAAQQQQAABBBBAAAEEEEAAAQQ0FqABqHFyCQ0BBBBAAAEEEEAAAQQQQAABBBBAAAEagNQAAggggAACCCCAAAIIIIAAAggggAACGgvQANQ4uYSGAAIIIIAAAggggAACCCCAAAIIIIAADUBqAAEEEEAAAQQQQAABBBBAAAEEEEAAAY0FaABqnFxCQwABBBBAAAEEEEAAAQQQQAABBBBAgAYgNYAAAggggAACCCCAAAIIIIAAAggggIDGAjQANU4uoSGAAAIIIIAAAggggAACCCCAAAIIIEADkBpAAAEEEEAAAQQQQAABBBBAAAEEEEBAYwEagBonl9AQQAABBBBAAAEEEEAAAQQQQAABBBCgAUgNIIAAAggggAACCCCAAAIIIIAAAgggoLEADUCNk0toCCCAAAIIIIAAAggggAACCCCAAAII0ACkBhBAAAEEEEAAAQQQQAABBBBAAAEEENBYgAagxsklNAQQQAABBBBAAAEEEEAAAQQQQAABBGgAUgMIIIAAAggggAACCCCAAAIIIIAAAghoLEADUOPkEhoCCCCAAAIIIIAAAggggAACCCCAAAI0AKkBBBBAAAEEEEAAAQQQQAABBBBAAAEENBagAahxcgkNAQQQQAABBBBAAAEEEEAAAQQQQAABGoDUAAIIIIAAAggggAACCCCAAAIIIIAAAhoL0ADUOLmEhgACCCCAAAIIIIAAAggggAACCCCAAA1AagABBBBAAAEEEEAAAQQQQAABBBBAAAGNBWgAapxcQkMAAQQQQAABBBBAAAEEEEAAAQQQQIAGIDWAAAIIIIAAAggggAACCCCAAAIIIICAxgI0ADVOLqEhgAACCCCAAAIIIIAAAggggAACCCBAA5AaQAABBBBAAAEEEEAAAQQQQAABBBBAQGMBGoAaJ5fQEEAAAQQQQAABBBBAAAEEEEAAAQQQoAFIDSCAAAIIIIAAAggggAACCCCAAAIIIKCxAA1AjZNLaAgggAACCCCAAAIIIIAAAggggAACCNAApAYQQAABBBBAAAEEEEAAAQQQQAABBBDQWIAGoMbJJTQEEEAAAQQQQAABBBBAAAEEEEAAAQRoAFIDCCCAAAIIIIAAAggggAACCCCAAAIIaCxAA1Dj5BIaAggggAACCCCAAAIIIIAAAggggAACNACpAQQQQAABBBBAAAEEEEAAAQQQQAABBDQWoAGocXIJDQEEEEAAAQQQQAABBBBAAAEEEEAAARqA1AACCCCAAAIIIIAAAggggAACCCCAAAIaC9AA1Di5hIYAAggggAACCCCAAAIIIIAAAggggAANQGoAAQQQQAABBBBAAAEEEEAAAQQQQAABjQVoAGqcXEJDAAEEEEAAAQQQQAABBBBAAAEEEECABiA1gAACCCCAAAIIIIAAAggggAACCCCAgMYCNAA1Ti6hIYAAAggggAACCCCAAAIIIIAAAgggQAOQGkAAAQQQQAABBBBAAAEEEEAAAQQQQEBjARqAGieX0BBAAAEEEEAAAQQQQAABBBBAAAEEEKABSA0ggAACCCCAAAIIIIAAAggggAACCCCgsQANQI2TS2gIIIAAAggggAACCCCAAAIIIIAAAgjQAKQGEEAAAQQQQAABBBBAAAEEEEAAAQQQ0FiABqDGySU0BBBAAAEEEEAAAQQQQAABBBBAAAEEaABSAwgggAACCCCAAAIIIIAAAggggAACCGgsQANQ4+QSGgIIIIAAAggggAACCCCAAAIIIIAAAjQAqQEEEEAAAQQQQAABBBBAAAEEEEAAAQQ0FqABqHFyCQ0BBBBAAAEEEEAAAQQQQAABBBBAAAEagNQAAggggAACCCCAAAIIIIAAAggggAACGgvQANQ4uYSGAAIIIIAAAggggAACCCCAAAIIIIAADUBqAAEEEEAAAQQQQAABBBBAAAEEEEAAAY0FaABqnFxCQwABBBBAAAEEEEAAAQQQQAABBBBAgAYgNYAAAggggAACCCCAAAIIIIAAAggggIDGAjQANU4uoSGAAAIIIIAAAggggAACCCCAAAIIIEADkBpAAAEEEEAAAQQQQAABBBBAAAEEEEBAYwEagBonl9AQQAABBBBAAAEEEEAAAQQQQAABBBCgAUgNIIAAAggggAACCCCAAAIIIIAAAgggoLEADUCNk0toCCCAAAIIIIAAAggggAACCCCAAAII0ACkBhBAAAEEEEAAAQQQQAABBBBAAAEEENBYgAagxsklNAQQQAABBBBAAAEEEEAAAQQQQAABBGgAUgMIIIAAAggggAACCCCAAAIIIIAAAghoLEADUOPkEhoCCCCAAAIIIIAAAggggAACCCCAAAI0AKkBBBBAAAEEEEAAAQQQQAABBBBAAAEENBagAahxcgkNAQQQQAABBBBAAAEEEEAAAQQQQAABGoDUAAIIIIAAAggggAACCCCAAAIIIIAAAhoL0ADUOLmEhgACCCCAAAIIIIAAAggggAACCCCAAA1AagABBBBAAAEEEEAAAQQQQAABBBBAAAGNBWgAapxcQkMAAQQQQAABBBBAAAEEEEAAAQQQQIAGIDWAAAIIIIAAAggggAACCCCAAAIIIICAxgI0ADVOLqEhgAACCCCAAAIIIIAAAggggAACCCBAA5AaQAABBBBAAAEEEEAAAQQQQAABBBBAQGMBGoAaJ5fQEEAAAQQQQAABBBBAAAEEEEAAAQQQoAFIDSCAAAIIIIAAAggggAACCCCAAAIIIKCxAA1AjZNLaAgggAACCCCAAAIIIIAAAggggAACCNAApAYQQAABBBBAAAEEEEAAAQQQQAABBBDQWIAGoMbJJTQEEEAAAQQQQAABBBBAAAEEEEAAAQRoAFIDCCCAAAIIIIAAAggggAACCCCAAAIIaCxAA1Dj5BIaAggggAACCCCAAAIIIIAAAggggAACNACpAQQQQAABBBBAAAEEEEAAAQQQQAABBDQWoAGocXIJDQEEEEAAAQQQQAABBBBAAAEEEEAAARqA1AACCCCAAAIIIIAAAggggAACCCCAAAIaC9AA1Di5hIYAAggggAACCCCAAAIIIIAAAggggAANQGoAAQQQQAABBBBAAAEEEEAAAQQQQAABjQVoAGqcXEJDAAEEEEAAAQQQQAABBBBAAAEEEECABiA1gAACCCCAAAIIIIAAAggggAACCCCAgMYCNAA1Ti6hIYAAAggggAACCCCAAAIIIIAAAgggQAOQGkAAAQQQQAABBBBAAAEEEEAAAQQQQEBjARqAGieX0BBAAAEEEEAAAQQQQAABBBBAAAEEEKABSA0ggAACCCCAAAIIIIAAAggggAACCCCgsQANQI2TS2gIIIAAAggggAACCCCAAAIIIIAAAgjQAKQGEEAAAQQQQAABBBBAAAEEEEAAAQQQ0FiABqDGySU0BBBAAAEEEEAAAQQQQAABBBBAAAEEaABSA44L+P1+8fl8jq8jkgUkJCQEDqupqYnkcI5BwNUC1LOr08PiYhCgpmNA4xTXClDPrk0NC4tRgJqOEY7TXCmgYj3Hx8dLXFycKz1ZlD0CNADtcWaWZgSMZlp+fr7rjYxvmDk5OYF15uXlKdO0dD0sC3REgHp2hJ1JLRSgpi3EZWjbBahn28mZ0GIBatpiYIa3VUDVeu7SpYvUNi5tBWMy1wjQAHRNKry7EBqA3s09kTsnoOqFi3NizOx2AWra7RlifdEIUM/RaHGsCgLUtApZYo2RCqhazzQAI82wvsfRANQ3t8pERgNQmVSxUI0EVL1w0SgFhGKyADVtMijDOSpAPTvKz+QWCFDTFqAypGMCqtYzDUDHSsY1E9MAdE0qvLsQGoDezT2ROyeg6oWLc2LM7HYBatrtGWJ90QhQz9FocawKAtS0CllijZEKqFrPNAAjzbC+x9EA1De3ykRGA1CZVLFQjQRUvXDRKAWEYrIANW0yKMM5KkA9O8rP5BYIUNMWoDKkYwKq1jMNQMdKxjUT0wB0TSq8uxAagN7NPZE7J6DqhYtzYszsdgFq2u0ZYn3RCFDP0WhxrAoC1LQKWWKNkQqoWs80ACPNsL7H0QDUN7fKREYDUJlUsVCNBFS9cNEoBYRisgA1bTIowzkqQD07ys/kFghQ0xagMqRjAqrWMw1Ax0rGNRPTAHRNKry7EBqA3s09kTsnoOqFi3NizOx2AWra7RlifdEIUM/RaHGsCgLUtApZYo2RCqhazzQAI82wvsfRANQ3t8pERgNQmVSxUI0EVL1w0SgFhGKyADVtMijDOSpAPTvKz+QWCFDTFqAypGMCqtYzDUDHSsY1E9MAdE0qvLsQGoDezT2ROyeg6oWLc2LM7HYBatrtGWJ90QhQz9FocawKAtS0CllijZEKqFrPNAAjzbC+x9EA1De3ykRGA1CZVLFQjQRUvXDRKAWEYrIANW0yKMM5KkA9O8rP5BYIUNMWoDKkYwKq1jMNQMdKxjUT0wB0TSq8uxAagN7NPZE7J6DqhYtzYszsdgFq2u0ZYn3RCFDP0WhxrAoC1LQKWWKNkQqoWs80ACPNsL7H0QDUN7fKREYDUJlUsVCNBFS9cNEoBYRisgA1bTIowzkqQD07ys/kFghQ0xagMqRjAqrWMw1Ax0rGNRPTAHRNKry7EBqA3s09kTsnoOqFi3NizOx2AWra7RlifdEIUM/RaHGsCgLUtApZYo2RCqhazzQAI82wvsfRANQ3t8pERgNQmVSxUI0EVL1w0SgFhGKyADVtMijDOSpAPTvKz+QWCFDTFqAypGMCqtYzDUDHSsY1E9MAdE0qvLsQGoDezT2ROyeg6oWLc2LM7HYBatrtGWJ90QhQz9FocawKAtS0CllijZEKqFrPNAAjzbC+x9EA1De3ykRGA1CZVLFQjQRUvXDRKAWEYrIANW0yKMM5KkA9O8rP5BYIUNMWoDKkYwKq1jMNQMdKxjUT0wB0TSq8uxAagN7NPZE7J6DqhYtzYszsdgFq2u0ZYn3RCFDP0WhxrAoC1LQKWWKNkQqoWs80ACPNsL7H0QA0Kbf79u2TtWvXBv63bt26wP+Ki4sDox977LFy5ZVXmjRT3TALFiyQTz/9VDZt2iQlJSWSmZkpBxxwgJx88skycODAiOarqKiQefPmyddffy15eXlSXV0tnTt3lqFDh8q4ceMC/231hwag1cKMj0BjAVUvXMglAk0JUNPUhk4C1LNO2SQWQ4Capg50ElC1nmkA6lSFscVCAzA2t0ZnnX322U2OZHYDsLKyUh588EFZsmRJ2Dnj4uLkD3/4g5x11lnNRmc0/O655x7Zvn172OPS09Pl6quvlsMPP9wkpfDD0AC0lJfBEQgroOqFC+lEgAYgNeAFAb5HeyHL3oqRmvZWvnWPVtV6pgGoe2W2HB8NwJaNIjqifgOwU6dO0qNHD/n+++8D55rdAHz00Uflyy+/DIx90EEHBe7U69Chg2zevFneeOMNyc/PD3zt0ksvleOPPz7s+svLy2Xq1Kmybdu2wNeN40aPHi3JycmyfPlyefPNN8U4JiUlRe666y7p1atXRA6xHEQDMBY1zkGgdQKqXri0LmrO1lmAmtY5u96LjXr2Xs51j5ia1j3D3opP1XqmAeitOg0XLQ1Ak2rg1VdflX79+gX+ZzyKu3PnTpk0aZLpDcCffvpJbr/99sC4w4YNkxtvvDFwS33tp6ioSKZMmSIFBQWSkZEhjz32WOD/G36M9f7nP/8J/Pa5554rEyZMCDlk9erVctttt4nRnDOajMZ/W/WhAWiVLOMi0LSAqhcu5BSBpgSoaWpDJwHqWadsEoshQE1TBzoJqFrPNAB1qsLYYqEBGJtbi2dZ1QCcNWuWLF26NPCX6Jw5c8S427Dhx3g34COPPBL47fPOO0/Gjx8fcojxnr+LL7448N7A7t27ywMPPBDSRKw9+Omnn5b58+cHfmk8Kty3b98W447lABqAsahxjhMC/rJSkT0FIhXlIimpIh06S1xauhNLafWcql64tDpwBtBWgJrWNrWeDIx69mTatQ6amtY6vZ4LTtV6pgHouVJtFDANQItqwIoGoPFI7sSJE6WqqkoOO+wwmTZtWtjVGw0+47iysjIZNGiQ3HnnnSHH/fDDD4HHeo3POeecI2eccUbYcYy7AKdPnx742plnnil//vOfLdGiAWgJK4OaJOD3+0VW/Si+T+aKLFso4vPVjWzcfTt0lMSPHScy6GAx3r+pykfVCxdVfFmn/QLUtP3mzGidAPVsnS0jOyNATTvjzqzWCKhazzQArakHlUalAWhRtqxoABrv5rvjjjtabNwZB8ycOTPwDsKEhAR58cUXJTExMRjpv//9b3nttdcCvzYagU3tGGw05i644AIxdgo+8MADZcaMGZZo0QC0hJVBTRDwb1onvucfEtm+ueXRuuVK/IXXSVyvfi0f64IjVL1wcQEdS3CpADXt0sSwrJgEqOeY2DjJxQLUtIuTw9KiFlC1nmkARp1q7U6gAWhRSq1oAH7wwQfy/PPPB1Y8efJkGTFiRJOr//vf/y7vv/9+4OvGjsHGpiS1H+PXCxcuDPzSOC7cOwJrjzXeMbhp0yZp166dPPvss5Zo0QC0hJVBWyng/2mp+B6f9cvjvpF+UlIl/oqpEjd4aKRnOHacqhcujoExsesFqGnXp4gFRiFAPUeBxaFKCFDTSqSJRUYooGo90wCMMMEaH0YD0KLkWtEA/Oc//ylvvfVWYMXGuwCNDUea+rz99tvy0ksvBb5sPCpsPDJc+7nllltkzZo1gR1+jbsDm/sY7/5bsmRJ4BBj/qSkpIjECgsLWzzO2CzFuEPRaADu2rWrxeOdPsD4Rp+dnR1YhpFfX/1HQZ1eHPObKuDftFaq/zYluuZf7QpSUiXx5nskrld/U9dk9mDUs9mijOe0ADXtdAaY30wB6tlMTcZygwA17YYssAazBFSt56ysrMC/v/l4V4AGoEW5t6IBaNyB9+GHHwZW/NBDDwU28GjqYxxXe8fe9ddfL6NGjQoeavx669at0r59e3nmmWeaFTDm+frrrwPHPPfcc9K2bduIxM4+++wWj3viiSfCbmLS4okcgICFAsY7//Ku/KNUb1of8yxJvfpJlzmvKPVOwJiD5UQEEEAAAQQQQAABBBBAAAHXC9AAtChFVjQAjYbZJ598Eljx7NmzxbiFt6nPxx9/LE8++WTgy5MmTZIxY8YED73qqqskPz8/0Hwzxmzu89hjj8nnn38eOCSahh0NQIsKi2EtFyj/frHsmnZZq+fJmvWkpB4yvNXjMAACCCCAAAIIIIAAAggggAACrRWgAdhawSbOt6IBqNIdgDwCbFFhMazlAtWPzxL/dwuC8/hFZF9SGylOSpf9iWlSkZAsif4aSfJVS0Z1uXSq2CtpNZWN1hU3/GhJvHyK5euNdQJVH12INV7O01+AmtY/x16KkHr2Ura9ESs17Y08eyVKVeuZR4C9UqFNx0kD0KIasKIBqNI7AKNhZROQaLQ41koBf1mp7LrpMvmhfV/5KbOvbM7oIlvTu0hZYmqz07apKpGeJTulf/EWGVC0RYbsXSuZNWUS//C/JC4t3colxzy2qi8vjjlgTtRegJrWPsWeCpB69lS6PREsNe2JNHsmSFXrmU1APFOiTQZKA9CiGrCiAWjWLsAPPPCALFq0KBA5uwBHXgCqfqOPPELvHplXXCmfbyySL9YVyuYS456/1n3i/D4ZWLRZRgwdIMcekitZGZFtntO6WaM7m3qOzouj3S9ATbs/R6wwcgHqOXIrjlRDgJpWI0+sMjIBVeuZBmBk+dX5KBqAFmXXigbg8uXL5Y477gis+JxzzpEzzjijydXPnDlTvv/++8AuP8ZOv4mJicFj//3vf8trr70W+PVdd90lAwcODDuOcWfeBRdcIBUVFXLggQfKjBkzLNHiDkBLWBm0BQGf3y+Lt+2Xt1buluU7yyzzihORw7tlyIn9M2VE9zaSEG/8jvMfVS9cnJdjBW4VoKbdmhnWFYsA9RyLGue4WYCadnN2WFu0AqrWMw3AaDOt3/E0AC3KqRUNwLKyMpk4caJUV1fLYYcdJtOmTQu7euPrxnHG8UZzz2jy1f8YjUGjQWh8mmskrl69WqZPnx44zmg2Gsda8aEBaIUqYzYlYDT+jLv9/m95oWwtavzuvubk0qrLJaWmUmriE6QqLlHKE1Oigu7eLlnOOqiTjOndThIdbgSqeuESFTgHe0qAmvZUurUPlnrWPsWeC5Ca9lzKtQ5Y1XqmAah1WUYUHA3AiJiiP8iKBqCxilmzZsnSpUsDd/YZO/QaO/k2/CxYsEAeeeSRwG+fe+65MmHChJBDjAbhRRddJKWlpdK9e3d58MEHJS6u8V1JTz/9tMyfPz9w7t133y39+/ePHiKCM2gARoDEIaYI/JhfIn9fslPW7a5odryMqlIZsnedHLBvk+SW5EmP0p3SobJIEv2+kPMq4pNkV2qm5KV1lnVtusuadrnyU/s+LTYGc9okyQWHZ8uoHm3C/tkzJdgWBlH1wsUOG+ZQU4CaVjNvrDq8APVMZegmQE3rllFvx6NqPdMA9HbdGtHTALSoBmJpAH766afy+OOPB1Z01llnydlnn91odfUfAx4+fLhMnjxZjG9AtZ+ioiKZMmWKFBQUSEZGhsyePVvatGnTaJz6jwGHaxIad//ddtttYjTnBg8eLLfffrtFUhKYIz8/37LxzRpY1W/0ZsWv8jj7yqvlmcX58sWm4ibDaJuSIEfntpWjv39bBn7zniRIbO8CrIpLkOWZ/WTRgSfIlxl9pbQqtGlYfwFDuqTLxcOypXeH5jcZscKeerZClTGdFKCmndRnbrMFqGezRRnPaQFq2ukMML+ZAqrWMw1AM6tAzbFoAJqUt59//lny8vJCGnEvvfRS4NeDBg2S448/PmSmsWPHNpo5kgagcdLDDz8sX331VeD8gw46SE477TTp0KGDbN68WV5//fVgM+3iiy+WE088MWyExuPBRqNwx44dga+fcMIJctRRR0lycrKsWLFC3njjDSkvLw/82niEuHfv3iZJNR6GBqBltAwsIl9sLJKnF+dLUUVNWI9e7VPkjMEd5Zhe7SQpIU78P/8gvgd+efS9NZ/4yTOlot9BsmBTkbyzao9s2BP+rsOEOJE/DOkkZx3UOTC/XR9VL1zs8mEe9QSoafVyxoqbFqCeqQ7dBKhp3TLq7XhUrWcagN6uWyN6GoAm1cCcOXPks88+i3i0V199tdGxkTYAKysrxdjJ13gUONzHeJz397//fdg7COsfbzQsjUeKa5uADcdKS0uTq6++WoYNGxZxXLEcSAMwFjXOaUmgvNonT32bJx+vLwp7aI92yfI/Q7MCG3PUfwTe7/eL7/arRLZvbmmKpr/evZfE3/ZocFxjzO+2l8grPxbImsLysOf1ykyR647qKn1suhtQ1QuX2JPCmboLUNO6Z9hb8VHP3sq3F6Klpr2QZe/EqGo90wD0To02FSkNQJNqwM4GYO2Sv/zySzGahps2bZKSkhJp3759YLfeU045pcmdfRuGa9zlN2/ePFm4cGHgDkbj/YDGewWHDh0q48aNk6ysLJOEmh6GBqDlxJ6bYMu+Crn3i22yeV/jTT7aJMfLuYdmyUn9M5vckde/aZ347psqUhG+WdcsaEqqxN84S+J69Wt0mNEINB5D/t+lO6WgtLrR15Pi42TisGw5ZUCm5e8GVPXCxXPFTMARC1DTEVNxoAIC1LMCSWKJUQlQ01FxcbDLBVStZxqALi8sG5ZHA9AGZKZoXoAGIBVipsDibfvlvi+3i3EHYMPPqJ5t5LIjcqRDWmKLU/p/Wiq+x2dF1wQ0mn9XTJW4wUObHb+i2ievLi+U138qFF+YVw2Ozm0rk0blSHpSQovrjPUAVS9cYo2X8/QXoKb1z7GXIqSevZRtb8RKTXsjz16JUtV6pgHolQptOk4agNSA4wI0AB1PgTYLeG/VHnn2u/xGTbW0xHi5YmSOHNOrbVR31gXuBEOX7EIAACAASURBVHz+ocgeBzYe+/3rtWHv/GsKeP3ucnl04Y6w7wc0Hgm+5dju0qVNsiX5UfXCxRIMBtVCgJrWIo0E8asA9UwpOClQUFolm/dWyKa9FbKjuEqKKqplX3mNVNT4JT5OJD4uTjKS4qVjeqJ0TEsU47UqfTumSre2yU0+XUFNO5lR5jZbQNV6pgFodiWoNx4NQPVypt2KaQBql1LbAzIerX1h6S55c+XuRnP36ZAiNx3dXbq1i62RZowtq5eL75P3RJYuFPHVu7MwIUHiDhslcb8ZJzJwSFTNxdqFVtX45R/LdsrbP+9ptPZ2KQkyZUx3OSg73XRTVS9cTIdgQG0EqGltUkkgIkI9UwZ2ChhPTRhPUCzbUSLf55XKzpKqmKZPSYiTIV3SZWjXDBnWrU3ItRc1HRMpJ7lUQNV6pgHo0oKycVk0AG3EZqrwAjQAqYzWCPj8fnnym3yZt3Zvo2GO7d1OrhyZIymJ8a2ZIniuv6xUZG+hSHmZSGqaSGYniUszpzm3aGuxPPr1DtlfGfrocmJ8nFw/uquMzm1nSgy1g6h64WIqAoNpJUBNa5VOzwdDPXu+BCwHMH7AaTT7Plm/TxZuLZby6jDvJGnlKvp3TJXf9G0nY3q1k8z0ZMnJyQmMaLx33Ff/B6qtnIfTEbBbQNXv0TQA7a4U981HA9B9OfHcimgAei7lpgVc4/PL7IU75JMNjXf6/dPBneRPB3eO6a480xYY5UB5xZVy12dbZUuDzUviROTSI7rIqQM7RDli04ereuFiGgADaSdATWuXUk8HRD17Ov2WBl9V45PPNhbJ2yv3yKZ9FZbOVTu4scnZcX3by0VjBknvThk0AG1RZxIrBVT9Hk0D0MqqUGNsGoBq5EnrVdIA1Dq9lgVn3Pn3yNc75NMGzT/j3TRXjeoauNBU8VNaVSP3f7ldvtte0mj55x7aWf4wpLMpYal64WJK8AyipQA1rWVaPRsU9ezZ1FsWuHHd9NmGInnp+11SUFrd4jzG+5NzM1OkZ/vkwHv+2qcmSGpivBhvRqnx+6W4okZ2l1VL/v4q2binQgrLWh7TmPS4gVnyhwPaSbe2SS2ugQMQcKuAqt+jaQC6taLsWxcNQPusmakJARqAlEa0AsZjK099my/vrwl97Nd40nfy6O5yZG7baId01fHGnY1PL86XDxrEZyzSrCagqhcurkoUi3GVADXtqnSwmFYKUM+tBOT0EIEV+aXyzHf5YTcdqz3Q+AHqIV3S5fBubeTQnHQxNiOLizOeQYjss7e8Wpbnl8qS7SXy3fb9sre8pskTjblO7Jcp5xzSWTLTEiObgKMQcJGAqt+jaQC6qIgcWgoNQIfgmbZOgAYg1RCtwIvLdsl/VhSGnGY8XmJsmDG8e5toh3Pl8UaT85UfC+SVH0PjNBb7P4dlye8P6tSqdat64dKqoDlZawFqWuv0ei446tlzKbck4P2VNfKPpbvCvie5dkJjB99TBmTK0b3aSQeTmnHGDzK/zyuRT9YXyVdbiqXaF/79ghnJ8XLB0Gw5oV/7wM7CfBBQRUDV79E0AFWpMOvWSQPQOltGjlCABmCEUBwWEHh31W55ZvHOEA3jzr9pY3rIME2af/WDCxev8fULhmbJmYNjbwKqeuHCHwMEmhKgpqkNnQSoZ52y6UwsS3eUBF6VsqeJR3MHZ6UFfph4eLcMS5tvxmPC763aI++v2SMlDTY6q5U5MCtNrh7VNWTXYGfUmBWByARU/R5NAzCy/Op8FA1AnbOrSGw0ABVJlAuWuXjbfpn52Vap/4Nk4zGSyaO7yehe5u6S64Jwg0swLpyNR4Ibfi4Z3kVOGxTbxiCqXri4KS+sxV0C1LS78sFqWidAPbfOz8tnG3fb/fP7XfL6T7vDMuS2T5bzh2bLsG4ZUT3i21rTsmq/fLCxXF7+botUVPsaDZeaGCcXDesSuBswmkePW7suzkcgFgFVv0fTAIwl23qdQwNQr3wqGQ0NQCXTZvuiN+wplykfbpLy6tDHSCaNzJET+2favh67J3zn593y7Hehdz4aD8vcdEw3OSo3+uanqhcudrsznzoC1LQ6uWKlLQtQzy0bcURjgcLSKvnbF9tlVUFZ2AbbuYdmybiBHSTB+OmpzZ/amt61v0L+9v6PgZ2Iw32O7NkmsJlbRnKCzStkOgQiF1D1ezQNwMhzrOuRNAB1zaxCcdEAVChZDi11b1m1XP/BRilssGvdnw/uLH86xJxdcR0KLapp31q5W55fEtoENN59OOP4nnJQdnpUY6l64RJVkBzsKQFq2lPp1j5Y6ln7FJse4Lrd5TLz061hd+Md2jVDrhiRI9ltnNt5t2FNL9lWLE98kyd5+6saWXRrmyzTju0uPdunmO7EgAiYIaDq92gagGZkX+0xaACqnT8tVk8DUIs0WhaE8SLp//fxlsDOcvU/Y3u3k2uP6uq5x0SMjUFe/qEgxMJ4ifY9J/aS3MzIL5RVvXCxrNAYWHkBalr5FBJAPQHqmXKIRuDrzcXy4FfbpbIm9CkJ4x3JxiYbvx3UwfHrpXA1XV7tk+e/2xl2k5LUxPjAdd6RPdtGQ8GxCNgioOr3aBqAtpSHqyehAejq9HhjcTQAvZHnWKP8+5Kd8ubK0PfYGC+uvuP4npKUEB/rsMqeZ+wO/MQ3+Y0uljunJ8r9p/SOeAc/VS9clE0cC7dcgJq2nJgJbBSgnm3EVnyqD9bskSe/yZeG++x2aZMkNx7dTQZ0SnNFhM3V9KItxTJ7UZ4UV9SErNV4UPmvh2fL6Qd2dEUMLAKBWgFVv0fTAKSGaQBSA44L0AB0PAWuXcCCzUVy7xfbQ9bXKT1RHjy1t2SmJrp23VYvzLgrctbn2+TbbftDpjqgc5rcdUJkjVFVL1ystmV8dQWoaXVzx8obC1DPVEUkAv9ZUSgvLtvV6NAh2Wly85ge0i7FPe/Ra6mmd+6vknu+2Crrdlc0imf8oA6BRqAT7y6MJA8c4z2BlurZrSI0AN2aGfvWRQPQPmtmakKABiClEU4gf3+lXDt3o5RW1e0UlxgfJ7NOzJWBnd3x02wnM2fsoHfrfzfLqoLykGUYu+cZG6O0tIOeqhcuTpozt7sFqGl354fVRSdAPUfn5bWjjacB/vl9gfzfisJGoRvXAZcdkSNJCfZv9NFcHiKpaePa5slv8+Tj9Y03CDmmV1u59qhuYlwL8kHAaYFI6tnpNYabnwagG7Ni75poANrrzWxhBGgAUhYNBYw73G6Zv1lW7grdxe7yEV3klAEdAPtVYF95tUz+YKPsLKkOMblkeBc5bVDzTqpeuJB8BJoSoKapDZ0EqGedsml+LOHeB2zM8seDO4mxQVpLPwQ0f0UtjxhpTRvNzddW7JYXv298Z6OxQ/ANo7u7rrnZcvQcoZtApPXstrhpALotI/avhwag/ebM2ECABiAl0VAg3IXt2D7t5NojvbfpR0vVsX53uUz5cJNU1Hvxt/HD8RnH9ZRDcjKaPF3VC5eWPPi6dwWoae/mXsfIqWcds2pOTK+tKJR/hHnsd+KwbJlwgHvflRdtTX+6YZ/MXrhDquseBAkAHtG9jdx8TDdPvgfanApiFDMEoq1nM+Y0YwwagGYoqj0GDUC186fF6mkAapFG04L4eVeZTP1ok/jqvc06p02SPDSut6QnueddNqYFbMJACzYVyb1fhr4rsX1Kgjx8Wh/pmBb+XYmqXriYwMUQmgpQ05om1qNhUc8eTXwLYb+/eo88+W1+o6OuHJkjJ/XPdDVaLDW9bEeJzPxsa6PdjYd2zZBpx3aXZA9uBufqJHtocbHUsxt4aAC6IQvOroEGoLP+zC4iNAApg1qB0qqawHv/8vdXBVGMu9nuOamXDOK9f80WykvLdjV6F9CQLulyx3E9w740W9ULF/60INCUADVNbegkQD3rlE1zYjF2yr3ni20hPyA1Rr7siC5y6kD3vx4l1ppenl8qd366RcqrQ/c5HtnDuBOwOxuDmFNejBKlQKz1HOU0ph9OA9B0UuUGpAGoXMr0WzANQP1yGmtEjy/Kk3lr94acfs4hneWPB3eOdUjPnOfz+2Xmp1tl8faSkJiN9wGdc0hWIwdVL1w8k1ACjVqAmo6ajBNcLEA9uzg5DixtVUGZTJ+/udGdcBceni2nH+jex37rU7WmplfuLJUZn2yVsgbPAx/Xt71cNSpH4uPYGMSBsvT0lK2pZyfhaAA6qe+OuWkAuiMPnl4FDUBPpz8Y/I/5JTJ9/pYQjMFZaXLXCbn8dDfCEimqqJHr5m6QgtK6TUGMS+Lbj+sph3UNfR+gqhcuEVJwmAcFqGkPJl3jkKlnjZMbZWj5+ytl8gebxPg7vv6nqR/wRTm8bYe3tqZXF5TJbR9vkdKq0JcCnn5AB/nr4dmu3PjENlwmsl2gtfVs+4J/nZAGoFPy7pmXBqB7cuHZldAA9Gzqg4FXVPvkmrkbZEdx3aO/qYlx8uhpfaRLm2SAohAw3qE47aNNUm9PEGmfmiCPjOsjHeq9D1DVC5coKDjUYwLUtMcSrnm41LPmCY4wvPJqn9w8b5Ns3FsRcsYJ/drLpJE5SjW9zKjpFfmlcvsnWxrdCXneoVly1pBOEapyGAKtFzCjnlu/iuhHoAEYvZluZ9AA1C2jCsZDA1DBpJm85BeW7JQ3Vu4OGfXi4dny20FqPNZiMkerh3v9p0L536W7QsYZ1i1Dbh3bI/iPBVUvXFqNwwDaClDT2qbWk4FRz55Me0jQfr9f7l+wXb7cVBzy+4d3zZBbxvaQROMlyQp9zKrpb7YWy6zPG78LcfLobnJM73YKibBUlQXMqme7DWgA2i3uvvloALovJ55bEQ1Az6U8JOA1hWVy07zQXX8P6Jwmd5/Io7+xVkZT7wOs/6JwVS9cYjXhPP0FqGn9c+ylCKlnL2U7fKzhfpjXs32y3HtyL0lPSlAOyMya/mT9Pnn46x0hBskJcTLzhFwZyKZxytWGigs2s57tjJ8GoJ3a7pyLBqA78+KpVdEA9FS6Q4Kt9vll8gcbZcOeukdbjJ9oPzyut/Rsn+JdGBMiN94VdPV7G2RPWd37AFMS4uShcX2ke7tkUfXCxQQahtBUgJrWNLEeDYt69mjifw172Y4SmfHJlpAdfzOS4uX+U3pLt3ZqvhrF7Jp+a+VueX7JzpBCyUxNCBhlZSR5u4CI3nIBs+vZ8gX/OgENQLuk3TsPDUD35sYzK6MB6JlUNwr0nZ93y7PfhV68/eWQznI2u/6aUhRLtu8P7JpX/zOgU6r87aRekpSYIDk5OYEv5eXlic8X+lJtUxbAIAjYKKDqxbiNREylkAD1rFCyTF5qYWmVXDN3oxTX2/TDeNh3+tgeMrx7G5Nns284s2vaeET6iW/yZd7avSFB9OmQIrNO7CVpSfH2BcdMnhMwu57tAqQBaJe0e+ehAeje3HhmZTQAPZPqkED3llfLFW+vl5J6u7n1ykyRB07pLUkJar3Xxs0ZfPKbPHl/TejF8Z8P6SznHJpNA9DNiWNtUQuoejEedaCc4AkB6tkTaW4UpPEKD2On2x/ySkO+9pdDO8vZQzorjWJFTRtPkhh3Sjb0Gp3bVm48uptSm6QonVwPLt6KeraDkQagHcrunoMGoLvz44nV0QD0RJobBTl74Q6Zv25fyO/fc2KuHJid7k0Qi6I2dhC8bu4G2V5vh2XjveEPjesrRw3uHZiVOwAtwmdYWwVUvRi3FYnJlBGgnpVJlakLfW1FofxjWegmXiN7tJGpY7or38yyqqb3V9TIjfM2yfbiypBcTByWLRMOYDM5UwuUwYICVtWz1cQ0AK0Wdv/4NADdnyPtV0gDUPsUNwpwVcEvG3/U/4zt3U6uG93Nexg2RGx4T/kwdKOVfh1T5aW/jpLE+HgagDbkgCmsF1D1Ytx6GWZQUYB6VjFrrVvz6l//rq7x143TKT1RHhnXR9qmqLfpR0MNK2t6R3Fl4J3S+yvrXmdiPExy1wm5MpgfLLeuMDk7rICV9WwlOQ1AK3XVGJsGoBp50nqVNAC1Tm+j4IzHW4zm35rC8uDXUhPj5YkJfaVjWqK3MGyM9p/f75JXlxeGzHjVmH7yPyN70QC0MQ9MZZ2Aqhfj1okwssoC1LPK2Yt+7aVVNXLd3I2St78qeLLxMhSjgTWkix5PRlhd04u37Zc7Pw1973GHtER5+NTeksn1ZfRFyRnNClhdz1bx0wC0SladcWkAqpMrbVdKA1Db1IYN7KO1e+WxRXkhX7tgaJacObiTtyBsjraqxifXzt0oW4vqHpFJSYyXf54/QlIqi9gExOZ8MJ35AqpejJsvwYg6CFDPOmQx8hgeW7hDPmrwWpSzh3SSvxyaFfkgLj/SjpoO98NOo4F6x3E9JcF4/wkfBEwSsKOeTVpqyDA0AK1QVWtMGoBq5UvL1dIA1DKtYYMqq/LJZW+vk73lNcGvd2+XHHi8hY0/rK+Dn3f98ihwvaeLZGiPTLl9bFcRf/3ftX4tzICA2QKqXoyb7cB4eghQz3rkMZIolu0oCWz8Uf8zqHOazDoxV6umlR01XePzyx2fbJFlDTZRMTY/+9PBam+iEkktcYx9AnbUsxXR0AC0QlWtMWkAqpUvLVdLA1DLtIYN6pUfC+TlHwpCvnb7cT1laNcM7yA4HOmz3+XLOz/vCVnFFSNz5OT+mQ6vjOkRaJ2AqhfjrYuas3UVoJ51zWxoXMYPRq9+b73sLKkOfsF4Lcqjp/WWLm2StUKwq6b3lVfLde9vlMLSOlPj5r9ZJ/aSA7LStDIlGOcE7KpnsyOkAWi2qHrj0QBUL2farZgGoHYpDRvQ3vJqufSt9WLsSlv7GdYtQ/7fb3p6A8AlURr+V727QXaW1L1nKCMpXh4f35d35LgkRywjNgFVL8Zji5azdBegnnXP8C/xPfVtnsxdvTck2EuP6CLjBnbQDsDOmjaeeJj6UejmZ13aJMnD43pLepL6G6poVxwKBmRnPZvJQwPQTE01x6IBqGbetFo1DUCt0tlkMA0vco03sRgXYr07pHoDwEVRhnvcaGyfdnLdUezC7KI0sZQoBVS9GI8yTA73iAD1rH+iV+SXyrT5m0MCHZKdJneekCvxcfq9r87umv73jwXyrwZPnYzt3U6uG821jv5/uqyP0O56NisiGoBmSao7Dg1AdXOnzcppAGqTyiYD2V5UKZPeXS819V4zd1zfdnLNkVyEOZX9h77aIZ9u2Bcy/UyNdht0ypV5nRNQ9WLcOTFmdrMA9ezm7LR+bRXVPrlm7gbZUVx3N35yQpw8elof6dpWr0d/a7XsrmnjfYDT52+Wn3aVhSTs+qO6yrF92rc+iYzgaQG769ksbBqAZkmqOw4NQHVzp83KaQBqk8omA7n3i22yYHNx8OtJ8XHyxIS+kpWRpH/wLo1wX4VPLn97nZRU1m3I0rN9sjw8ro8kslOeS7PGspoTUPVinKwiEE6Aeta7Lv71wy7594+FIUFOHJYtEw7oqG3gTtT0zv1Vcu3cDVJSVff6GeO1J7N/20c6pXMNqm2x2RCYE/VsRlg0AM1QVHsMGoBq50+L1dMA1CKNTQaxprBMJn+wKeTrvxvcUc4fmq134C6Pzrhw+Xx7tdz339UhKz1/aJb8bnAnl6+e5SHQWEDVi3FyiQANQG/VwI7iysC7eKt8dY9F6Ljrb8OsOvU9+vONRfLAgu0hyxneLUOmj+0hcRo+au2tP03ORetUPbc2YhqArRVU/3wagOrnUPkIaAAqn8JmA5jx8RZZsqMkeEyb5Hh5akI/aZPCS5idzLxx4ZKV3UXOf/FbWbVzf3ApKQlxMmc8d2c6mRvmjk1A1Yvx2KLlLN0FqGc9M+z3++XOT7fKd9vrrouMm+4fOlX/dyI7WdMPLtgun20sCimqa47sKsf15VFgPf+kWR+Vk/XcmuhoALZGT49zaQDqkUelo6ABqHT6ml38qoIyuWle6N1/3GHmjnzXXrgs375PLvznd1Lv9Ywypnc7uYGXZLsjUawiYgFVL8YjDpADPSVAPeuZ7oVbimXW59tCgptwQAeZOKyLngHXi8rJmi6uqJGr3l0ve8rrXnuSkRwvs0/jUWDtC8+iAJ2s59aERAOwNXp6nEsDUI88Kh0FDUCl09fs4m//eIssrXf3X/vUBHn69H6Smhivb9CKRFb/wmX6m0tk3pq9ISv/20m95ICsNEWiYZkIiKh6MU7uEAgnQD3rVxfl1T6Z9M562VVaHQyuQ1qiPD6+j6Qn6f9UhNM1vWhrsdz9WWjzlUeB9ftzZldETtdzrHHSAIxVTp/zaADqk0tlI6EBqGzqml34z7vK5OYPQ+/+u/DwbDn9QH1fcK1SJutfuKzauFUufXNtyEuyB3RKlXtP7iXxvB9HpbR6eq2qXox7OmkE36QA9axfcby4bJf8Z0Xoxh/G3fbGXfde+LihpsM9CnzdUV1lLLsCe6EETY3RDfUcS0A0AGNR0+scGoB65VPJaGgAKpm2Fhd928dbZFm9u/8yf737L4W7/1q0s+OAhhcub6wokOeX7AyZmvfj2JEJ5jBLQNWLcbPiZxy9BKhnvfJp7EZ7xTvrQzb+OLhLutx5fE/PbEThhpou+vVR4L31HgVul5IQePex8f98EIhUwA31HOla6x9HAzAWNb3OoQGoVz6VjIYGoJJpa3bRK3eVypQPN4ccw91/7spzwwuXiqoaufq9DbK9uDK4UOPRpCfG95W0JB7Zdlf2WE04AVUvxskmAtSz/jVg7EJr7EZb+0mIE3n4tD6S2z5F/+B/jdAt36PDvYfxhH7t5apRXT2TCwJtvYBb6jnaSGgARium3/E0APXLqXIR0QBULmUtLvi2/26WZXmldY2k1AR56vR+wt1/LdLZdkC4C5fF2/YHdies/znroE5y3mFZtq2LiRCIVUDVi/FY4+U8vQWoZ33yu6awTCZ/EPpKlNMGdZBLhuu/8Uf9LLqppmd9vlUWbtkfUmR3n5grB2Wn61N4RGKpgJvqOZpAaQBGo6XnsTQA9cyrUlHRAFQqXS0uNtyF7kXDsmX8Abz7r0U8Gw8Id+Hi9/tlxidbQzZuSU6Ikycm9JXO6Uk2ro6pEIheQNWL8egj5QwvCFDPemTZ+Ht12keb5addZcGAMpLi5ckJfaVdaqIeQUYYhZtquqC0Sq58Z4MYG7PUfnq0S5aHx/WRJOP2TD4ItCDgpnqOJlk0AKPR0vNYGoB65lWpqGgAKpWuFhd7z+fb5OstxcHjOnD3X4tmThzQ1IXLln0VgUeBff66VfFojBMZYs5oBVS9GI82To73hgD1rEeewz1uev7QLPnd4E56BBhFFG6r6Xd+3i3Pfhf67uNzD+0sfxjSOYqoONSrAm6r50jzQAMwUil9j6MBqG9ulYmMBqAyqWpxoVuLKmTSOxukXu9Izj8sS353kPcudFvEcviA5i5cnvwmT95fsze4wvg4kUfG9ZHcTO+8q8jh9DB9DAKqXozHECqneECAelY/yVU1frn6vfWyvbgqGEx2RmJgw4nkBO+9W9dtNV3j88uN8zbKut0VwfwYTz089ts+0qVNsvoFSASWCritniMNlgZgpFL6HkcDUN/cKhMZDUBlUtXiQh9buEM+WrcveJzxmMuzZ/aT9CR2VmsRz+YDmrtw2VNWLZe+tU4qaupauSN6tJFbju1h8yqZDoHIBVS9GI88Qo70kgD1rH62567eI099mx8SyA2ju8mY3u3UDy6GCNxY02sLywNNwPpPPYzq2UamjuF6J4YUe+oUN9ZzJAmgARiJkt7H0ADUO79KREcDUIk0tbjIwtIqueSt9VJd7yrq94M7yv8MzW7xXA6wX6ClC5d/fr9LXl1eGLKwWSfmymBekG1/spgxIoGWajqiQTgIAZcIUM8uSUSMy6io9smlb68X4wdqtZ8BnVLlvpN7SVycN98x59aafnpxvry3ak9Ipmcc11MO65oRY/Y5zQsCbq3nluxpALYkpP/XaQDqn2PXR0gD0PUpimiBLyzZKW+s3B08Nik+Tp45o590SPPWS64jwnLBQS1duJRW1chlb62XfRU1wdUO6pwmfzsp17P/eHFB2lhCMwIt1TR4CKgkQD2rlK3Ga31r5W55fkno++VmnpArQ7p4d5dZt9b0/ooaufyd9VJU73rH2BDkkdP6SKLxDhQ+CIQRcGs9t5QsGoAtCen/dRqA+ufY9RHSAHR9ilpc4P7KGrnojXVSVm83tZP7Z8oVI3NaPJcDnBGI5MLl3VW75ZnFof+AmTqmu4zq2daZRTMrAjQAqQGPCETyPdojFMqFWVblk0veWhfSUDosJ11mHJ+rXCxmLtjNNf3h2r0yZ1FeSLgTh2XLhAM6mknAWBoJuLmem2OmAahREcYYCg3AGOE4zTwBGoDmWTo10n9WFMqLy3YFpzd+YPr4+L7StS0vUXYqJy3NG8mFi/EC80nvrpe8/XUvMDd+Kv7oaX0kgZ+Kt0TM120WiKSmbV4S0yEQswD1HDOd4yf+3/ICeen7gpB13HtyLzHuovfyx801HW5DkPSkeHlifF/J5EkWL5dtk7G7uZ5pAFKyzQnQAKQ+HBegAeh4Clq1AOOdfxe/uU5213vPzejctnLTMd1bNS4nWysQ6YXL5xuL5IEF20MWM2lkjpzYP9PaBTI6AlEKRFrTUQ7L4Qg4IkA9O8Le6kmNJyKMu/9KKn3BsY7o3kamj2VTCbfX9MpdpTLlw80hNXBCv/Zy1aiura4LBtBPwO313JQ4dwDqV4vRRkQDMFoxjjddgAag6aS2DhiuQXT/Kb1kQCdv/6Tb1iTEMFmkFy4+v18mf7BJ1u0uD86SnZEoj4/vJ0kJvBsnBnpOsUgg0pq2aHqGRcBUAerZVE7bBgu3gdZDp/aWvh1TbVuDWydSoaYf+mq7fLqhKEhoXOU8PK639O5A/txaV06tS4V6DmdDA9CpinHPvDQA3ZMLz66EBqDaqb/xg42yJbBAqQAAIABJREFUurCuOTQ4K01mndRL7aA8sPpoLlyW7iiR2z/eEqJy+YgucsqADh6QIkRVBKKpaVViYp3eFaCe1ct9cUWNXPTmOimv9z5knoioy6MKNV1YWiVXvLNeyqv9wYUf3jVDbjuup3oFyYotFVChnmkAWloCyg5OA1DZ1OmzcBqA6uZyVUGZ3DRvU0gANx3TTUbntlM3KI+sPJoLF7/fL9M+2iw/7SoL6nRKT5QnJ/SV5IR4j4gRptsFoqlpt8fC+hCgntWrgZd/2CWv/FgYXLjxqlzjnbk926eoF4wFK1alpl/5oUBe/jH0HY4zjusph3XNsECFIVUVUKWeG/pyB6CqFWfeumkAmmfJSDEK0ACMEc4Fp9335Tb5clNxcCVZ6Yny1On92CDCBblpaQnRXrj8kFcit/439C7AS4Z3kdMGcRdgS9Z83R6BaGvanlUxCwKxCVDPsbk5dVZpVU3gfcj76737b0zvdnLD6G5OLcl186pS08Yuzpe/vU72lNcEDft0SJEHT+0t8XG8+sR1heXQglSpZxqADhWIi6elAeji5HhlaTQA1cx0QWlV4GLXV/eUhJw/NEt+N7iTmgF5bNWxXLjcMn+zLM8vDUp1SEuUpyb0lZRE7gL0WPm4MtxYatqVgbAoBESEelarDF5fUSj/u2xXyKKNu/96ZXL3Xy2KSjX94dq9MmdRXkg+rzmyqxzXt71ahclqLRNQqZ7rI3AHoGUloczANACVSZW+C6UBqGZu/7F0p7z20+7g4lMS4uT5M/tLm5QENQPy2KpjuXBZkV8q0+aH7pA3cVi2TDigo8f0CNeNArHUtBvjYE0IGALUszp1UFHtk4vfWif76t0xNqpnG5k6hp1/62dRpZqu8fnlmrkbZMu+ymAIndONDdD4oac6fzKtXalK9UwD0NpaUG10GoCqZUzD9dIAVC+pxsXuxDfWSnG9R11OHZApl43IUS8Yj6441guX//ffzfJ9Xt1dgO1TE+Tp0/tJKncBerSS3BN2rDXtnghYCQJ1AtSzOtXw7qrd8szinSELfuCU3tK/EzvHqtoANNa9eNt+ufPTrSF5Pe+wLDnrIJ50UedPp3UrVfV7NHcAWlcTqoxMA1CVTGm8ThqA6iV3/rq9Mnth6KMRc8b3kR7teNRFlWzGeuGyclepTPkw9C7AC4ZmyZk8+q1K6rVdZ6w1rS0IgSktQD27N33+slKRPQUiFeVSlZQil31TKYVlde+LG9o1Q25n19hGCVStpo0N0Ix3H/9Y79Un6UnxgVeftEtNdG+BsjJbBFSr51oUGoC2lIerJ6EB6Or0eGNxNADVy/PkDzbKmsLy4MK52FUvh625cJnx8RZZsqMkGHS7lAR55gzuAlSvCvRacWtqWi8JotFBgHp2VxaNZpCs+lF8n8wVWbZQxOcLLHB+zhHy+AF/CFns3SfmykHZ6e4KwAWrUbGm1xaWyw0fbAzRO/PAjnL+gW2CTWBJSRXp0Fni0si5C8rMtiWoWM8GDg1A20rEtRPRALQgNQUFBTJ37lxZunSpGP+dmJgoOTk5cuSRR8rJJ58sKSmx3SW1c+dOmTRpUlQrzsrKkjlz5jQ65/bbb5effvoporFeffXViI6L9SAagLHKOXNeuIuhacd2l5E92jqzIGaNSaA1Fy6rC8rkxnmbQua9aFi2jOddgDHlgpPMEWhNTZuzAkZBwDwB6tk8y9aO5N+0TnzPPySyPfTud5/EyTUjbpBt6dnBKQaXbpO7T+otcb36tXZa7c5XtaYfXLBdPttYFMxHsr9aHl/0N+lYvq8uR/HxIkNHSfzYcSKDDpY4dgvWrn4bBqRqPdMA1L40WwyQBmCLRNEdsGTJEnn00UeltLTuHVn1R+jWrZtMnTo10H2P9hNLA/DQQw+VW265pdFUNACj1eeF3LVisxfukPnr6i56jJciG++AS4iPix6VMxwTaO2Fyx2fbJHvttfdBdjJ2BH49L6SlMCOwI4l1eMTt7amPc5H+C4ToJ7dkRD/T0vF9/iswOO+DT+LOx0odx/815Dfnv7Ds3J4yWaJv2KqxA0e6o4gXLIKVWt6R3GlXPH2evnlns9fPqduXSAXr30rvGy3XIm/8DqawC6pO6uWoWo90wC0qiLUGZcGoIm52rhxo9x6661SUVEhqampcsYZZ8iQIUOksrJSFixYIP/9738Ds3Xv3l1mzZoVOCaaT3V1tWzfvr3FU95880358ssvA8ddffXVcvTRRzc6p7YB2K9fP7n88subHTM3N7fFOVtzAHcAtkbP3nP3V9bIha+vlYoaf3Dicw7pLH88uLO9C2G2Vgu09sJl5c5SmfJR6N0QV47MkZP6Z7Z6bQyAQCwCra3pWObkHASsEqCerZKNfNzAnX/3TQ3b/DNG+X+HXirLO9Td6ddr/w55cPFDEvhxaEqqxN84iyZQPW5Va9poAs/5YIV81GV4MJpEX7U8tuheya7YG76gjPzTBI78D5uCR6pazzQAFSw2k5dMA9BE0BkzZsiKFSskISFBjP8eOHBgyOhvv/22vPTSS4HfO/vss+Wss84ycfZfhvL5fIGG3p49eyQtLU2efvrpsI8c1zYABw8eLMZ/O/mhAeikfnRzN9zpzrjp77kz+0vHNF6GHJ2k80ebceFyy0ebZPnOsmAwOW2S5PHxfbkb1Pn0enIFZtS0J+EI2pUC1LOzaTHe+ee7/apGj/3Wrmpdm+5y4/BrQhY56ed/y3F539X9XvdeEn/bozwO+quIijVd2wQukBS5YuTNUh1fd717wvZFcsXq15ouVJrAzv4htnh2FevZIKEBaHFhKDA8DUCTkrR27VqZNm1aYLQTTjhBLrnkkkYjG825G264QbZt2yYZGRnyzDPPBN4PaOZn2bJlcvfddweGHDt2rFxxxRVhh6cBGL26qt/oo480/BnGxfBV722QLfsqgwcc2bOtTBnT3awpGMdGATPqeemOErn94y0hq77+qK5ybJ/2NkbCVAj8ImBGTWOJgFsEqGdnM+H/+QfxPTC9yUU8dOCf5YsudY/4ZlYUyVMLZ0mSv2434MD3pckzJW7Qwc4G45LZVavphk3g5/pPkPd61D1VFe+vkdnf3C9dywqbFqYJ7JLqM38ZqtVzrQANQPNrQbURaQCalLGXX35Z3njjjcBoM2fOlAEDBoQd2Xg891//+lfga9OnT5dDDjnEpBX8Mozx/sHax3+NJp9xh1+4Dw3A6NlV/UYffaThz1iRXyrT5oc+8nnH8T3l0JwMs6ZgHBsFzKhn4+J48gebZO3uuncj5bZPlkdO6yPxvADbxmwyVeAf2vHxgQ23jE9eXl7gjng+CKgqQD07m7maJ+8R+e6rsIvYlZIpl4+6WXxxCcGvn7P+fTlr8yeNjo8bNlriL7vZ2WBcMrtqNd2wCbwnuY1cPnKKVCYkB0XH5C+Ra1e+0qwwTWCXFKDJy1CtnmvDpwFociEoOBwNQJOSdtttt8nKlSsDj9u+8MILgceAw31Wr14daPwZH+MRYONRYLM+ZWVlgTsPjXcQGrv/PvbYY00+dkADMHp1Vb/RRx9p+DMe+HK7fL6pbhe0bm2TZM74vjR6zAK2eRyz6nnhlmKZ9fm2kNVPHdNdRvVkV2ibU+r56cyqac9DAuAKAerZuTT4y0rFd+05xnt1wi7ihX6nyds9jw1+LaWmUp7+eqa0ra57JUbwi/HxEv/wvyQuLd25gFwys2o1Ha4J/I++p8qbub8Jisb5ffLQtw9Jbml+k8o0gV1SgCYvQ7V6pgFocgEoPBwNQJOSN3HiRCkuLpZevXrJfffd1+So+/fvlwsvvDDw9VGjRsn1119v0gpEPvnkE3niiScC4/3+97+XP/7xj02OXdsAbN++vXTu3DnwWLLxLr62bdtK3759ZeTIkTJ69GjTH1EOtyDeAWhaCVg2UHFFjVzw+lqp9tVt/nHh4dly+oEdLZuTga0VMOvCxef3yzXvbZDN9R4NH9ApVe47uRfvPbI2hYzeQMCsmgYWATcIUM/OZcG/fbP4bpsUdgGlCSly8ZG3SFli3UZ+ze4Ia9ydfMccieva07mAXDKzSjXdVBO4ODFdLhs1JST/o3b9IDet+OUd72E/NIFdUoHmLkOleq4fOXcAmlsHKo5GA9CErBm7/J577rmBkQ4//HCZMmVKs6Oed955gbv0jMeEjceFzfrUbkJijGc8Clz7KFS48WsbgM3N3aNHj0CD0vj/aD+Fhc28D+PXwTIzMwN3ShoNwF27dkU7he3HG9/os7OzA/Pu3LnTU4+Xvfvzbnnq27ygeWJ8nPzvWQOkXYq577C0PakentDMev50/T55YEHoXYB3HJ8rQ7u18bAwodstYGZN27125kOgoQD17FxN+NavkpqZN4RdwHvdR8tzA04Pfs24A2zOonslp3x3kwtOuOUBie87yLmAXDKzSjVtNIGrbw3/HvVXep8or/Y+MUT14W8eaPYuwMQ7n5C4bjSBXVKKpixDpXquH7DxlGBTTyqaAsMgrhegAWhCioqKiuSiiy4KjHTUUUfJtdde2+yoF198sezbt0969uwpDzzwgAkrECkoKJArr7xSjHdyDRo0SO68885mxzWahcY3rqFDhwbuWjTu/DMeId6wYYN89NFHgTsCjY9xh+CsWbMCdwlG84nk0WbjbsVOnTpFMyzHOiTwl//9Rlbv3B+c/cQDsuXu8UMcWg3Tuk2g2ueTs55dKNv21b0LcESvDjLn7LoXpLttzawHAQQQQACBcAJVm9dL3uWNX9Hjkzi5asRk2ZGeFTxt5K4f5eYVLzYLmfPE/0lSbh+wFRKoWLVcdl5/QdgVlySkBu4CLEmqe6z7mPylct3Kl5uMMPvBFyRlENfNCpUAS0VAWwEagCak1mi+1e62O2bMGJk0KfxjA7VTXX755WLcIWfcgjt79mwTViDy+uuvyyuv/PISWqPBeOKJoT+ZajhJSUlJYCficJ/q6mp56qmn5LPPPgt8ecSIETJ58uSo1kkDMCouVx+8Kr9Yzv3HtyFrnH3WoTKqD81bVyfO5sW9/v02mfXhqpBZX/qfI2RQF94FaHMqmA4BBBBAoBUCvtL9su2Px4v4Qnf0XdphoNx56C8/8K/93LHsSRmyd33TsyUkSPdX/ivx6dwR34qU2H5qU03g2oU0vAsw3u+TR7+5X7qVFYRdK01g21PIhAgg0IQADUATSsMNdwBed911gbv2kpKS5Omnn26yuRdpuMZjuUbTr/ZOwCeffFI6doz8fW88AhyptPuPe+qbHfLuqj3BhXZOT5RnzxwgCfFx7l88K2xSwOxHFyprfDLx9TWyt7zuH0xj+7SXG47uThYQsEXA7Jq2ZdFMgkATAtSzs6VR/fgs8X+3IGQRdw+5QBZ3Hhz8vdz9O+ShxQ9Jc1dDccOPlsTLm381kLOR2je7SjVtvAOw+uo/NbkRTHFimlw6apqUJ6YEAY/b8a1MWvV/jUETEiTxkZfZCMa+UrNlJpXquT4IjwDbUh6unoQGoAnpcfodgGvXrpVp06YFIjFzY5G3335bXnrpl5faXn311XL00UeboNV4CDYBsYTVlEGNps5fX18r+yvrdsI7e0gn+cuhdY+/mDIRg9guYMXLi//9Y4H864e6n34bPeKnT+8nWRlJtsfHhN4TsKKmvadIxG4RoJ6dzYT/5x/E98D04CLyUjvKlSNvEn9cfPD3Ll31mpy8Y1GzC42fPFPiBh3sbDAumV21mg63C3B9yhf7nipv1NsROMFXI3O+uVeyy+t+aG4czy7ALilAk5ehWj3Xhs8mICYXgoLD0QA0KWlO7gL83HPPybx58wKR3HzzzTJs2DBTolqyZIncc889gbGMTU4mTJhgyrgNB6EBaAmrKYN+sbFI7l+wPWSspyb0lZy2yaaMzyDOCVhx4VJUUSMT31grlTV1u0WfcWBH+evhv2yewwcBKwWsqGkr18vYCDQnQD07Wx/GO7V9t18lsn1zYCEv9DtN3u55bHBR6dVl8szXMyWtprLphXbvJfG3PSpxcTwxYSCpVtMNm8ANE703KUMuGzVVKhPqrolP3va1XLrmjZBDaQI7+2fZqtlVq+daBxqAVlWEOuPSADQpV7fddpusXLlSUlJS5IUXXmhyd53Vq1fL9Om//ETxrLPOkkjeldfcEo339V166aVSXFwc2LDDeFTXrJ19aACGyqv6jb41JX7bfzfLsrzS4BAHd0mXu07Ibc2QnOsSAavq2dgteu7qvcEo0xLj5bkz+0lGcoJLImcZugpYVdO6ehGXuwWoZ+fz49+0Tnz3TZWKqhq56MhbQjZ9+O2WL+TCde80vciUVIm/cZbE9ernfCAuWYFqNd2wCRyO8fl+4+XdnscEv5Toq5YnFt4jnSqLfvk9msAuqT7zl6FaPdMANL8GVB2RBqBJmfvXv/4lb775ZmC0mTNnyoABA8KObBxjHGt8brnlFjn00ENbtYJvvvlG7r///sAY48aNkwsuCL9jVSyT1H8E+KqrrpJjjqn7Cy6W8Zo6hzsAzdQ0b6yd+6vkkrfWSd29XCLXHdVVjPe68VFfwKoLlx3FlXLFO+vFV69wzh+aJb8bzKYx6leNuyOwqqbdHTWr01WAenZHZv0/LZV5/5knT/Q7I2RBcxb9TbqWFYZfpNH8u2KqxA0e6o4gXLIKFWu6tgksFeVhFQuT28nlo6ZIdXxi8Ounbf1CJq59R4QmsEsqz5plqFjPhgR3AFpTDyqNSgPQpGzVfw/fCSecIJdcckmjkX0+n9xwww2BjTWMHXifeeYZSUys+wsjlqUYzT+jCWh87r33Xundu3cswzQ6p+EmII8//rh07tzZlLEbDkID0BLWVg/a8H1uGUnx8vff9ZeUxLr337R6EgZwTMDKC5e/fbFNvtpcHIytU1qiPHV6P0lK4DEoxxLugYmtrGkP8BGiywSoZ3ckxLgL7Nq3VsnGkrr1HF74s0z/8fnwCzTu+Prrtdz5F0ZH1Zo2msC+x2dJU03ApwacKfO6HxmMOLmmSp5c+qB0vPhqmsDu+GNsySpUrWcagJaUg1KD0gA0MV21jwEbj+DOmDFDBg4cGDJ6/Tvqwj3+u2LFisB5xufYY4+VK6+8stnV7d+/P9BoNB4Dzs3NDd4J2FJIy5cvlz59+jS5U7Ax3lNPPSWfffZZYCjjnYLGuwWt+tAAtEo29nGNC94r3tkg24vr3m1zcv9MuWJkTuyDcqarBKy8cFlVUCY3zdsUEu81R3aV4/py96irikCzxVhZ05pREY4CAtSzO5K0uqBMbmzw99ktP/5dhhWurFtgQoLEHTZK4n4zTmTgEN7510TqVK7pwJ2Azz8UfCdk/RB3pnaQK0fcJDXxda86+UPPeDl3TOi/A91R0azCLAFV65kGoFkVoO44NABNzN2GDRvk1ltvFWNX4NTUVDnzzDPloIMOCvz6q6++kvnz5wdm69q1a2BzjbS0tJDZo20AGht/GBuAGJ/zzjtPxo8fH1E0c+bMkUWLFsnw4cNl8ODB0q1bN0lPT5fy8nJZv369fPTRR4G7FI2P8V5B45Hm7GzrXuJPAzCitNl6ULgL3ntOypUDs9JtXQeTWSdg9YXL1A83yU+7yoIB9MpMkUfG9eYfRtal1PMjW13TngcGwFYB6tlW7iYnm71wh8xfty/49eyMJHnypByJ37dbpLxMJDVNJLOTxKVxfdRSxlSvaeOH47J6ufg+eU9k6UIRny8Y8mMHnC0f5wwP/jojOV6eO6O/pCXx1ExLdaHq11WtZxqAqlaceeumAWieZWCkxYsXy+zZs6WsrO4fvvWnMJp/U6dOlZycxndSRdsANN4huGbNmsCuWsbmH5mZmRFFYzQAa+/ua+4E467Ca6+9Vnr06BHRuLEeRAMwVjnrznv62zx5r95GDjltkuTJCX1p3lhHbvvIVl+4fLO1WGZ+9ssPEmo/dxzfUw7NybA9Vib0hoDVNe0NRaJ0iwD17HwmSqtq5K+vr5Xy6rqX2v7l0M5y9hBrXonjfMTWrkCnmvaXlYrsLQw2gbfEt5Or5u8IAZw4LFsmHNDRWlRGd0xA1XqmAehYybhmYhqAFqRi165dMnfuXDF20d29e3fgPX9Gw2/UqFFyyimnBHYKDveJpgG4Y8cOueaaawLDHHbYYTJt2rSII9m6dat8//33YuxIbPx3UVGRGI8TJyUlBe7469evX2CtI0aMCDQXrf7QALRaOLrxq33+wAVvUUVN8MQ/HdxJ/nxIVnQDcbSrBay+cPH5/TLp3Q2yrajuMfIjureR6WOt/YGCq9FZnKUCVte0pYtncAQaCFDPzpfEB2v2yBPf5AcXEh8n8uwZ/aRTepLzi1NwBbrX9MzPtso3W/cHM9M5/Zf3HycahcNHOwFV65kGoHalGHVANACjJuMEswVoAJot2rrxvt26X+76bGvIIMbdf13bJrduYM52lYAdFy7vrdojTy+u+8eTcQn8BLXkqjrQaTF21LROXsTibgHq2fn8XP/+Blm3uyK4kJE92si0Y/khVqyZ0b2mV+4slSkfbQ7hue6orjK2D+8/jrVm3HyeqvVMA9DNVWXP2mgA2uPMLM0I0AB0V3nc+8U2WVBvB9dBnVPl3pPN2V3aXZF6ezV2XLiUVflk4htrpaSq7j054w/oIBcN6+JtfKK3RMCOmrZk4QyKQBgB6tnZslhbWC43fLAxZBG3ju0hw7u3cXZhCs/uhZo2NkAzNkKr/fTOTJGHef+xwlXb9NJVrWcagFqWY1RB0QCMiouDrRCgAWiFamxjllTWyAWvr5XKmrr33Vx6RBcZN7BDbANylmsF7Lpwef67fHnr5z1Bh/SkeHnuzH6SnlS3W55rkViYUgJ21bRSKCxWWQHq2dnUPb4oT+at3RtchPE459On95MEHueMOTFeqOmFW4pl1ueh7z++7Tc95PBuNI5jLhyXnqhqPdMAdGlB2bgsGoA2YjNVeAEagO6pjPnr9srshXnBBSXEibzw+wHSLoVmjXuyZM5K7Lpwyd9fKZe9vV58dT1luXh4tvx2EC/GNieTjFIrYFdNI46AHQLUsx3K4ecw7l433oVcVl139/qfD+4sfzqEzT9akxUv1LTx/uMr39kg24vr3n98SJd0ufOE3NbQca4LBVStZxqALiwmm5dEA9BmcKZrLEAD0D1Vccv8zbI8vzS4oBE92sgtvO/GPQkycSV2Xrjc/dlWWVTvxdjd2ibJnPF9JT6OF2ObmFLPD2VnTXseGwDLBahny4mbnOCjtXvlsUV1Pww1bvoz7v7LymDzj9ZkxSs1/eHavTKnXv0YZg+c0lv6d0ptDR/nukxA1XqmAeiyQnJgOTQAHUBnylABGoDuqIiC0iq56I11Uu9GLbnpmG4yOredOxbIKkwVsPPC5cf8Epk+f0vI+nmXkqnpZDCRwK71OTk5AYu8vDzx+eru3gEIAdUEqGfnMjb5g42yprA8uIAjumfI9LE9nVuQJjN7paYra3xy8ZvrZG95TTBzR/dqKzce3V2TTBKGIaBqPdMApH5pAFIDjgvQAHQ8BYEFvLVytzy/ZGdwMRlJ8fLC7/tLckK8OxbIKkwVsPPCxe/3y7VzN8rGvXW7KR7WNUNmHMc/qExNqscHs7OmPU5N+DYIUM82IIeZYuOecrlmbujmH9OO7S4je7R1ZkEazeqlmv7P8kJ58ftdwexxF6lGhfxrKKrWMw1A/Wox2ohoAEYrxvGmC9AANJ00pgEb/sT7uL7t5Zoju8Y0Fie5X8DuC5eGj1QZQo/9to/0bJ/ifixWqISA3TWtBAqLVFaAenYmdc8uzpd3VtVtXNUxLVGePYPNP8zIhpdqen9FjUx8c62UV9c9V/O7wR3l/KHZZlAyhgsEVK1nGoAuKB6Hl0AD0OEEML0IDUDnq8DYqOGSt9aHLIRdy5zPi5UrsPvCpaLaJxPfXCfFFXWPxJw6IFMuG/HLI5t8EGitgN013dr1cj4CzQlQz/bXR1WNXy58Y60U1ft76g8HdZJzD8uyfzEazui1mn7q2zyZu7puJ+mM5Hh5/sz+kprIkzU6lLeq9UwDUIfqa10MNABb58fZJgjQADQBsZVD/GdFoby4rO5RhbYpCfLC7/pLovHMAh8tBZy4cDFqzKi12o9xEfz33/WT9CR2mdayyGwOyomatjlEpvOQAPVsf7IXbimWWZ9vC5n4yQl9pWvbZPsXo+GMXqvpbUWVcsU7oT9cv+yILnLqwA4aZtd7IalazzQAvVerDSOmAUgNOC5AA9DxFMi1czfIhj1172c7uX+mXDGSO7Ocz4x1K3DiwmVXSZVc8tY68dXbaYaLYety7LWRnahprxkTr30C1LN91rUzNdyx/sCsNLnnpF72L0TTGb1Y03d+skUWby8JZrRHu2SZ/ds+Eh/HD9hVL3NV65kGoOqV1/r10wBsvSEjtFKABmArAVt5+taiCrnynQ0ho9x5fE85JCejlSNzupsFnLpwafgPrF7tU+SR03pLHBfDbi4XJdbmVE0rgcMilROgnu1N2b7yavnr62ulpt4PqK4cmSMn9c+0dyEaz+bFml62o0Ru+3hLSFZ5xY4eRa5qPdMA1KP+WhMFDcDW6HGuKQI0AE1hjHmQV34skJd/KAie3yE1QZ47s78k8PhvzKYqnOjUhcvSHSVye4OL4btPzJWDstNVYGONLhZwqqZdTMLSFBagnu1N3js/75Znv9sZnDQ5IS7wKpSMZF5RYVYmvFjTfr9frn5vg2zeVxlkHNo1Q24/rqdZrIzjkICq9UwD0KGCcdG0NABdlAyvLoUGoHOZNy5MJr27QbYW1V2YnDaog1wyvItzi2JmWwScunDx+f2Bd+LsKK4KxjmmVzu54ehutsTNJPoKOFXT+ooSmZMC1LO9+tfN3SDr670KZUzvdnLDaP5eMjMLXq3pD9fulTmL8kIoH/ttH+nZPsVMXsayWUDVeqYBaHOhuHASYmzeAAAgAElEQVQ6GoAuTIrXlkQD0LmMb9xTLtfM3RiygHtOypUDs7gby7ms2DOzkxcub63cLc8vqbvTwtgQ77kz+ktmWqI9wTOLlgJO1rSWoATlqAD1bB//hj3lcm2Da6EZx/WUw7ryKhQzs+DVmq6o9snEN9dJcb3dpU8ZkCmXj+Bd22bWl91jqVrPNADtrhT3zUcD0H058dyKaAA6l/KGu7J2Tk+UZ87ox8uJnUuJbTM7eeFiXARf+MZaqaz3sqVzD+0sfxjS2bb4mUg/ASdrWj9NInJagHq2LwPPfZcvb/+8Jzhhp7RfroV4FYq5OfByTTe83jYeMX/+zP7SNoVHzM2tMvtGU7WeaQDaVyNunYkGoFsz46F10QB0JtnG479XvLNBthfXPf57xoEd5a+HZzuzIGa1VcDpC5dHv94h/12/Lxiz0Xx++nT+wWVrEWg2mdM1rRkn4TgsQD3bk4Bqnz/wA6l95TXBCc86qJOcd1iWPQvw0CxerunC0iq5+M11IZvMnD80S343uJOHKkCvUFWtZxqAetVhLNHQAIxFjXNMFaABaCpnxINt2lsReDFx/c99J/eSgZ3TIh6DA9UVcPrCZU1hmUz+YFMI4LRju8vIHm3VRWXljgo4XdOOBs/k2glQz/ak9JutxTLzs20hk80Z30d6tOP9bGZnwOs1/cCC7fL5xqIga5c2SfLE+L7caWp2odk0nqr1TAPQpgJx8TQ0AF2cHK8sjQagM5l+5YcCefnHut1/jTuwnj2jn8TFxTmzIGa1VcANFy43vL9R1u4uD8bNzni2loB2k7mhprVDJSDHBKhne+jv+XyrfL1lf3CyQZ1T5d6Te9szucdm8XpN/7yrTG7+MPQHn7eO7SHDu7fxWCXoEa6q9UwDUI/6a00UNABbo8e5pgjQADSFMepBjLv/jLsAaz/jB3WQi9j9N2pHVU9ww4XL/HV7ZfbC0J3xnprQV3LaJqvKyrodFHBDTTsYPlNrJkA9/3/2zgM6qmp74196QkgjAVIhFRQEpYgURQRUREGa/n1PEQtir/gQUERs+LA9K1ZEwfKUJiiKBbEgooDSpCSEQCAQkgAJCemT/7rD485MmJAp9965597vrvXWw5lz9t7nt79JTvacon5Cy6vrMW5RDqRtwCef23u1xZCsGPWdm9CD2TUtHb1z/1d52G1323SPxHA8elGKCdUg/pBF1TMLgOJrz9sRsADoLUH295oAC4BeI3TbQEFZDW5fluvQ7+mL26FzG97+6zZMQTvoYeIi3Ywnnb1UXmORKfLsJUEFpYOw9aBpHWBgCAYhQD2rn8hvco7itbW2L6EC/f3w/qhMtOTFDKrAp6aBxpqT9ty8wS8+VdGb2kZF1TMLgGorQ//2WQDUf44MHyELgNqneMHWEkg3kp18okMDrLeR8cY77XPhK496mbi8ta4QX+6w3b4YExaId3n7oq9kIbRfvWhaaIgMXjcEqGf1U/Hwd3uxpfC47Kh3SktM6Z+svmOTeqCmgSrpi89FOaiotX3xOfLMVriBF/AJ96kQVc8sAAonNcUDZgFQcaQ06C4BFgDdJeZ9+8Znrw3JisbtveK9N0wLwhDQy8Ql70gV7l2e58Btav8knJfCy0CEEZNOAtWLpnWCg2EIToB6VjeBxcdrMX7xLtg2/wIPXZCIvu0i1XVsYuvU9Inkv7O+EMu22774jAj2x7sjMxES6G9idYg3dFH1zAKgeFpTOmIWAJUmSntuE2AB0G1kXnU4VF6LWz7f5WBjxsAUnJMQ7pVddhaLgJ4mLpNW5GFHse0ykJ6J4ZjGM3HEEpQOotWTpnWAgyEIToB6VjeBi/8uwdw/bTshWgT54/3RmQgOYBFGLfLU9Amy+8tqcEejY3ju7ZOAgelRaqGnXRUIiKpnFgBVEINgJlkAFCxhRgyXBUBts/r5tsOYs+GQ7FT65nHu6CxIZ9/wMQ8BPU1cGl8GIknx7REZiGsRZJ6EcKReE9CTpr0eDA2YngD1rK4E7l++G7l2lzEMSo/CPX0S1HVqcuvUtE0A07/fi78O2rafZ8WG4rkhvH1apI+IqHpmAVAklakTKwuA6nClVTcIsADoBiwFmk7+Zg+2FVXKljjpVQCqgCb0NHGRzsS5YWEOKutsZ+L8o2scrukSJyBZhuwrAnrStK8Y0K9xCFDP6uUyv7Qad32x28HB44NScHY8d0KoRx2gpm10f8s/hpk/7XfA/dyQ9siKDVMzBbStIAFR9cwCoIIiENQUC4CCJs5IYbMAqF02D1fWWQ8ftj/zZtqAZPRMaqldEPSkCwJ6m7i8vvYgVuQcldm0bhGIN6/M4MU0ulCLGEHoTdNiUGOUeiVAPauXmQ83FuHTLSWyA14+pR5re8vUtI1GvaUBEz7fheLjdfKL0hZgaSswHzEIiKpnFgDF0JeaUbIAqCZd2naJAAuALmFSpNHX2Ucw+/dC2ZZ05s0HozMRxDNvFOErkhG9TVxySqow8WvHy0CmX5SM7oksToukK1/GqjdN+5IFfYtPgHpWJ4cNDQ24bWkuDpbXyg6GnxGDm3u0VcchrcoEqGlHMXy6pRgfbiyWXwwO8MN7IzPRMiSAqhGAgKh6ZgFQAHGpHCILgCoDpvnmCbAA2DwjpVo8/kM+1hdUyOb6t4/ExPMTlTJPOwIR0OPEpfGZTH1SWmJy/2SBqDJUXxLQo6Z9yYO+xSZAPauTvx3FlZi0Yo+DcW69VId1Y6vUtCORo5V1uHlJDuxOP8GEnm1xeccYbRJCL14REFXPLAB6lXZDdGYB0BBpFHsQLABqk7/KWgvGLshGrcW2AfjBfom4IDVSmwDoRVcE9Dhx+WrnEbzxh22FaoAfMGdkJqLDAnXFjsHok4AeNa1PUoxKBALUszpZeuuPg/hyp+24icSIYLw+LA1+frwITR3iNqvU9KmEZ/28H6v3HpPfaB8dgpeGplKPaotRAfui6pkFQAWSL7gJFgAFT6ARwmcBUJssrtl7DM/8bDtwWCquzBuThfBgbjXQJgP68qLHiUtFTT1uXJSD6npbkfr6c1pjdOdYfcFjNLokoEdN6xIUgxKCAPWsfJqkc9ek3zGl1fWycV44pTznpixS06eS+etABaavzHd4Y9al7dExjpeBaKdMzzyJqmcWAD3Lt5F6sQBopGwKOhYWALVJ3EtrCrAyt0x2dnZ8Czw+qJ02zulFdwT0OnF5ac0BrMwtlXklRARh9rB0fhuuOwXpLyC9alp/pBiRCASoZ+WztKGgHDN+2Odg+I3h6UiICFbeGS2eQoCaPlUUloYG3N7oTMpB6VG4h5eB6P4TJKqeWQDUvbRUD5AFQNUR00FzBFgAbI6Q9+9L33qPW5SDY3bfet/Ssw2u6NjKe+O0ICQBvU5cthUdx+Rv9jowfWJQCrrGhwvJmUFrR0CvmtaOAD0ZiQD1rHw2G3/BlBUbiueGpCrviBadEqCmnQtjwdYSzPurSH5Tugxk7qhM7tDR+edIVD2zAKhzYWkQHguAGkCmi9MTYAFQfYVsPXQcU791LKq8fWUG2rQMUt85PeiSgF4nLtINjXd/uRv5pTUytwGpkbi/Hy+r0aWQdBSUXjWtI0QMRSAC1LOyyaqtt2DcwhxU1Fpkwzd1b4Mrz+QXocqSbtoaNe2czRHpMpDFObA7/QS3ndsWl3XgZSBaadMTP6LqmQVAT7JtrD4sABorn0KOhgVA9dP23oZDWLLtsOwoLSYE/xmapr5jetAtAT1PXD7fdhhzNhyS2Unfhr8/OhMtgnhepW4FpYPA9KxpHeBhCIIRoJ6VTdgf+8rx5I+O23/fHZmBuBb8IlRZ0iwAesLzmZ/2YU1+ucM8/cXLeBmIJyy16iPqz2gWALVSiH79sACo39yYJjIWANVPtXS+SMEx24qqq8+KxbVnt1bfMT3oloCeJy5Hq+pw0yLHb8PvPC8el2RG65YnA/M9AT1r2vd0GIFoBKhnZTP24q8FWLXbdg5yp9ZhmHlJe2Wd0NppCVDTTeNxdj7lc0PaIyuWl4Ho9WMlqp5ZANSrorSLiwVA7VjTUxMEWABUVxr7Sqtx5xe7HZxwUqEucxGs633i8vSP+7B2n+3b8DNbh+EZ/rEmgrR8FqPeNe0zMHQsJAHqWbm01fxv++9xu+2/PAdZOb6uWqKmmyYlXQZy6+e7cKiiTm50cUYU7uqd4CpettOYgKh6ZgFQY6Ho0B0LgDpMitlCYgFQ3Ywv2lqC9+0OF24VFog5IzN4q6q62HVvXe8Tl7X5x/D0T/sdOL4+LB1JkbytUffi8lGAete0j7DQraAEqGflEtf494kfAGn7byy3/yoH2QVL1PTpIX26pRgfbiyWG4UG+uG9UTz+xAVp+aSJqHpmAdAnctGVUxYAdZUOcwbDAqC6eZ/8zR5sK6qUnQzJisbtveLVdUrruieg94lLnaXBug241O7m6jGdYzH2HG5d1724fBSg3jXtIyx0KygB6lm5xD2/ugA/5dm2/3ZuE4anL+b2X+UIu2aJmj49p5LjtRi/ZBcsDbZ2d/SKx6VZPP7ENYVp20pUPbMAqK1O9OiNBUA9ZsVkMbEAqF7CS6vqrLfe2c0l8OiAZPRIaqmeU1oWgoAIE5d31xdi6fYjMs/YsEC8PSIDAf7S+g0+JOBIQARNM2ck4CoB6tlVUqdvV11nwfULc1BVZ7v999Zz22Iob1hVBrAbVqjp5mE1Pv6kY1woZl2a2nxHttCcgKh6ZgFQc6noziELgLpLifkCYgFQvZx/t+soXvntoOwgNNAf88dkIijAXz2ntCwEAREmLnlHqnDv8jwHno8NTEG3hHAhGDNIbQmIoGltidCbyASoZ2Wytyb/GJ6xO05C+v5ozshMxIQFKuOAVlwmQE03j+r3fcfw1I+Ox5+8ekUaUqJCmu/MFpoSEFXPLABqKhNdOmMBUJdpMVdQLACql+/G3yT2SYnA5P5J6jmkZWEIiDJxuX/5buQeqZa5XtA+Ag+eTw0LIzQNAxVF0xoioSuBCVDPyiTv2V/245c9x2RjXdq2wJOD2yljnFbcIkBNN4+rXjr+ZHEOjlbVy41HntkKN3Rv03xnttCUgKh6ZgFQU5no0hkLgLpMi7mCYgFQnXzX1ltw3YJsVNXZNgDf2ycBA9Oj1HFIq0IREGXi8sWOw3h73SGZbZC/H+aOzkTL4ACheDNY9QmIomn1SdCDEQhQz95nUdr+O3ZBNqrrbfOg23u1xZCsGO+N04LbBKhp15C9t+EQlmw7LDeOCQ3AuyMzefyJa/g0ayWqnlkA1EwiunXEAqBuU2OewFgAVCfXfx2owPSV+bJx6dS090dnIiqU217UIS6WVVEmLmVVdbhxcQ7sjm8C/4ATS2taRSuKprXiQT9iE6Cevc/f6r1lmPVzgWxI2v47dxTnQd6T9cwCNe0at72l1bj7i90OjR+5MBnnJvP8btcIatNKVD2zAKiNPvTshQVAPWfHJLGxAKhOouesL8TndhcoZMWG4rkhPEhYHdriWRVp4iKd3ySd43Ty6RAbimepZfFEp3LEImlaZRQ0bwAC1LP3Sfz3z/vx617b746z41vg8UHc/us9Wc8sUNOuc/vX13nYWVIld+id0hJT+ie7boAtVScgqp5ZAFRdGrp3wAKg7lNk/ABZAFQnx3cuy8W+shrZ+D+6xOGarnHqOKNV4QiINHH5Y185nvxxnwNjHootnORUD1gkTasOgw6EJ0A9e5dC6dZfaftvjd323zvPi8clmdHeGWZvjwlQ066j+zr7CGb/Xih3CPAD3uPqVdcBatBSVD2zAKiBOHTuggVAnSfIDOGxAKh8lgvLazDh81wHw88NaY+s2DDlndGikAREmrg4OxR7VKdWGNeNh2ILKT6VghZJ0yohoFkDEaCevUvmmr3H8MzPtttUpe2/74/KRCSPQfEOrBe9qWnX4VXU1OOGRTkOBeybe7TB8DNauW6ELVUlIKqeWQBUVRZCGGcBUIg0GTtIFgCVz+/ynUfw5h+2bw6jQgKsFyf4+0knAfIhAUC0icsph2KHBeLdERk8FJtilgmIpmmmjgROR4B69k4fz68uwE95ZbKRrvEt8AS3/3oH1cve1LR7AF9YXYAf7TTcPjoELw1NhR/n8u6BVKm1qHpmAVAlQQhklgVAgZJl1FBZAFQ+s0/8kI91BRWy4QFpkbi/b6LyjmhRWAKiTVz2Hq3G3V86Hoo9Y2AKzkkIFzYHDFxZAqJpWtnR05rRCFDPnme0tt6C6xfm4HitRTZy67ltMbQDb//1nKr3Palp9xhuPFiBR7+3XeYn9X5+SCoyY0PdM8TWqhAQVc8sAKoiB6GMsgAoVLqMGSwLgMrmtabegms/czz3ZmK/RPRPjVTWEa0JTUDEicsDX+3GrsPVMveL0iJxHwvbQutQyeBF1LSS46ctYxGgnj3P5/r95Xh8le3cWGnvw5xRmWgVFui5Ufb0mgA17R5CS0MDbv18Fw5V1Mkdh3aIxq3nxrtniK1VISCqnlkAVEUOQhllAVCodBkzWBYAlc3rhoJyzPjBNvG1nnszOguRIQHKOqI1oQmIOHH5fNthzNlwSOYeGuiP90dnQvp/PiQgoqaZNRJoigD17Lk2XvntAL7bVSobOCMuDP++tL3nBtlTEQLUtPsYP95UhE82l8gdWwb7Wy8DCQ7gvMd9msr2EFXPLAAqqwMRrbEAKGLWDBYzC4DKJvTtdYX4YscRTnyVxWo4ayJOXA5X1uHmxTmwNNjSwdWthpOmxwMSUdMeD5YdDU+AevYsxdKlUdLlCWXV9bKBm7q3wZVn8vIEz4gq14uadp+ls0v9HuyXiAu4q8d9mAr3EFXPLAAqLAQBzbEAKGDSjBYyC4DKZvT2pbtQcKxWNnpt1zhc3SVOWSe0JjwBUScu01fm468DtvMteySG49GLUoTPBwfgPQFRNe39yGnBiASoZ8+yurmwAo9853hu2ltXpqNty2DPDLKXYgSoac9QPvLdXmwuPC537pYQjscGct7jGU3leomqZxYAldOAqJZYABQ1cwaKmwVA5ZJ54FgNblua62DwhctSkdGKBwYrR9kYlkSduKzaXYoXfz0gJ0Ha4v7eyExE82wnYwjTi1GIqmkvhsyuBiZAPXuW3Lf+OIgvdx6VO6fHhODFoWmeGWMvRQlQ057hdDbveXckz7T0jKZyvUTVMwuAymlAVEssAIqaOQPFzQKgcsn8YsdhvL3OdkZaTGiA9eBrfz/pCGw+JGAjIOrEpbLWgnELs1Fdb9sHPL5HGww7g9u7zK5vUTVt9rxx/M4JUM/uK0O6NGH84l0oqbRdmnDt2XG4+izugnCfpvI9qGnPmFbXnbjVuqrOdqs1t7V7xlLJXqLqmQVAJVUgpi0WAMXMm6GiZgFQuXTOWJmPDXbbIwemR+HePgnKOaAlwxAQdeIiJeCF1QX4Ma9MzkVWbCieG5JqmNxwIJ4REFnTno2YvYxMgHp2P7s7iisxacUeh46vXpGGlKgQ942xh+IEqGnPkb60pgArc23znrSYEPyHK1s9B6pAT1H1zAKgAskX3AQLgIIn0AjhswCoTBalbwiv/SwbtXY3JEw6PxH92kcq44BWDEVA1ImLlITGN11Lr702LA3Jkfwjz1AidXMwImvazaGyuQkIUM/uJ3nuhkNYvO2w3DE5MhivDUt33xB7qEKAmvYcq3T2sXQGsv3z8uVpaB/NeY/nVL3rKaqeWQD0Lu9G6M0CoBGyKPgYWABUJoHr9pfjiVX7ZGPS2WjzxmShZXCAMg5oxVAERJ24SEmQbnm8aXEOjlbZbnm8+qxYXHt2a0PliINxj4DImnZvpGxtBgLUs3tZbmhosJ6BfLDcdgnaVZ1jcd05/L3gHkn1WlPTnrOV5j3jl+zCYbvt7aM6tcK4bm08N8qeXhEQVc8sAHqVdkN0ZgHQEGkUexAsACqTv3fWFWLZjiOysU6twzDzkvbKGKcVwxEQdeJyMhHvrC/Esu02vbcJD4J006Mfz7s0nFZdHZDomnZ1nGxnDgLUs3t5zjtShXuX5zl04iVo7jFUuzU17R3hxitcY1sE4p0RGTzn2zusHvcWVc8sAHqccsN0ZAHQMKkUdyAsACqTu7u+yEV+aY1s7Nqucbi6Cw++Voau8ayIOnE5mYmckipM/Nrxj71nLm6HM9u0MF6yOCKXCIiuaZcGyUamIUA9u5fqjzYV4b+bS+RO/FLIPX5atKamvaPsrMj9xKAUdI0P984we3tEQFQ9swDoUboN1YkFQEOlU8zBsADofd6Kj9fi5sW7HAzNurQ9OsaFeW+cFgxJQNSJy8lkSNu97vpiN/aV2Yrel2ZG447z4g2ZLw6qeQKia7r5EbKFmQhQz+5l+54vdmNPabXc6cozYnBTj7buGWFrVQlQ097jvffL3cg7atP5oPQo3MPL/rwH64EFUfXMAqAHyTZYFxYADZZQEYfDAqD3Wft+11G8/NtB2VB4sD/mjc5CgHQQIB8ScEJA1ImL/VA+21KM+RuL5ZdaBvtj7qhMBAX4M+cmJGAETZswbRxyEwSoZ9elsb+sBncsy3XowBXhrvPTqiU17T3pxX+XYO6fRbKhsEB/vD86EyGBnPd4T9c9C6LqmQVA9/JsxNYsABoxq4KNiQVA7xP2/C8F+GlPmWyoT0oEJvdP8t4wLRiWgKgTF/uEFJbXYMLnjn/0TemfhN4pEYbNGwfWNAEjaJr5JYGTBKhn17WwcGsJPvjLVhSJCQ3AnFGZPBvNdYSatKSmvcdccrzWehmIpcFma2K/RPRPjfTeOC24RUBUPbMA6FaaDdmYBUBDplWsQbEA6F2+LA0NuGFhDkqrbTei3t6rLYZkxXhnmL0NTUDUiUvjpEz5Zg/+LqqUXz6/fQT+dT6L34YWbxODM4qmzZg7jvlUAtSz66qYtGIPdhTbfg8MyYrG7b14HITrBLVpSU0rw3n693vx18HjsrEeieF49KIUZYzTissERNUzC4Aup9iwDVkAVDi1xcXFWL58Of78809I/w4MDER8fDz69OmDSy+9FCEhIR57XLVqFV5//XWX+t9xxx0YMGDAadtWV1djxYoVWLNmDQ4ePIi6ujrExcWhW7duGDp0qPXfWjwsAHpHOfdwFe7/yvEyBOk21LYtg70zzN6GJiDqxKVxUr7aeQRv/FEovxwc4IcPRmchLIjbYQwtYCeDM4qmzZY3jtc5AerZNWUcrazDDYtyYLcgCtMvSkb3xJauGWArzQhQ08qg/iG3FP9Zc0A2Jp32896oTESHBirjgFZcIiCqnlkAdCm9hm7EAqCC6d2wYQNefvllHD9u+1bG3nxiYiKmTJkC6YPnyaNkAVAq+D3zzDMoKChwGkqLFi1wzz33oHv37p6E6lYfFgDdwnVK40VbS/C+3daX+JZBePPKDO+MsrfhCYg6cWmcmNKqE3/82W+HeaBvAi5MizJ8DjlARwJG0TTzSgISAerZNR18m3MUr661nYEsnYk2bwzPgnWNnratqGlleFfWWjBuYTaq621l7/E92mDYGa2UcUArLhEQVc8sALqUXkM3YgFQofTm5eVh2rRpkFbVhYaGYsSIETjrrLNQU1OD1atX4/vvv7d6SkpKwsyZM61t3H3sC4APP/wwYmKa3uIZGxuL8HDn18JXVVVZC5H79++3hjBo0CD069cPwcHB2LJlC5YsWQKpjbRa8cknn0T79u3dDdWt9iwAuoXrlMbTvt+LTXZbAS7LisZt3PriHVQT9BZ14uIsNTNW5mPDgQr5rXOTWuKRAckmyCKHaE/ASJpmZkmAenZNA0+u2oc/9pfLjfu1i8CkC3gMhGv0tG1FTSvH+4XVBfgxz3b2d2arUDx/WapyDmipWQKi6pkFwGZTa/gGLAAqlOIZM2Zg69atCAgIgPTvDh06OFheunQp5s+fb33t6quvxpgxY9z2bF8AfPXVV9GmTRu3bUgdPv30UyxYsMDa97rrrsPw4cMd7OzcuRPTp0+HVJjr3Lmz9d9qPiwAek63us6Caz/LRq3d8ifp8g/pEhA+JHA6AqJOXJyNaWVuKV6y2w4jXYY3d1QWIkICKAITETCSpk2UNg61CQLUc/PSqKqzYOyCbNTYrYS6v28CBnAFePPwfNCCmlYO+oaCcsz4YZ+DwdeuSENylOdHTSkXnTksiapnFgDNoc/TjZIFQAU0kJOTg6lTp1otDR48GBMmTDjFqsViwcSJE62r7qSVeW+//bb1fEB3HiUKgNI5f7fccgsqKiqsqxGff/556zaTxs9bb72F7777zvqytFU4PT3dnVDdassCoFu4HBr/eaACj63Ml1+TzgGZNyYLLYNZ+PCcqjl6ijpxcZadipp6jFuY41AIv/O8eFySGW2OZHKUVgJG0jRTSgLUc/Ma+C3/GGb+dGI3i/VngB+sZ8Dyy5/m2fmiBTWtHPV6SwNuXpyDI1W2CwD/r0ss/tm1tXJOaOm0BETVMwuAFDYLgApo4OOPP8bixYutlp566ilkZWU5tSptrf3oo4+s7z3yyCPo2rWrW96VKABu2rTJuq1Xev75z39atyo7e6RVgFKM0jNy5Ej84x//cCtWdxqzAOgOLce27204hCXbDssvdowLw6xL1d2y7Xm07KknAqJOXJpiOPOnffgt37YNrGt8CzwxqJ2ekDMWlQkYTdMq46J5nROgnptPkLTyW1oBfvLp0rYFnhzMn/vNk/NNC2paWe7vrCvEsh1HZKOJEUF4fVg6/Pz8lHVEa04JiKpnFgApaBYAFdCAtEV227Zt1jPz5s6da90G3FxRTdoCLG0FdudRogD43//+FwsXLrS6lQqBjbcqn4xHKsrdcMMN1jMNzzzzTOu2ZrUeFgA9J3vvl7uRd7RaNsBv/zxnabaeok5cmsrT6j1lmPWL7VIjaSXInJGZiAlzb6W12XRgpPEaTdNGyg3H4j4B6vn0zKQVUNIFUGXVthVQvAjBfZ1p2cgqvdUAACAASURBVIOaVpb2juJKTFqxx8HoC5elIqOV++fMKxuZOayJqmcWAM2hz9ONkgVABTRw880349ixY9bLMp599tkmLZaXl+Omm26yvt+7d2888MADbnm3LwB26tTJup1Ysind2BsfH48uXbrgkksuQatWTd8C9cILL+C3336z+n3vvfeavChEev9f//oX9uzZg8jISLzzzjtuxepOYxYA3aFla3uk8sTtp/bPMxe3w5ltWnhmkL1MRUDUiUtTSZLOw7x+YQ6kM6FOPvxj0FSS5hZgc6Xb8KM12s9opRO29dBxTP12r4PZt65MR9uWwUq7oj2FCFDTCoH8n5mGhgbctjQXB8trZcMjzmyFG7t7dka8stEZ35qoemYB0PjabG6ELAA2R6iZ96VbfqWLNKSne/fumDx58ml7jB071rqqTtomLG0XduexLwA21S8oKMi6cu/iiy922kS6PTg7O9u6WnHevHmndS+d/bdhwwZrmw8//BCSbVefkpKSZptGR0dbV0tKBcCioqJm2/u6gfSD/uTFK4cOHYJ0rqMvnx9yj0K6BezkExbkj4+u7ohAaekTHxJohoDe9KxEwp7/ZT9W7bZtBzujdRieHZKmhGnaEICAETUtAHaGqBIB6vn0YN9dfxBL/rYdgZIaE4JXrshQKRs0qwQBaloJio42PvjzED7bUiy/GNciEO+OyoI/twErD7uRRVH13Lp16yZ3K6oOjQ50QYAFQC/TUFZWhvHjx1ut9O3bF/fdd99pLUoXcJSWliIlJcV6AYc7j1QAlLbv9urVy7p1NzY21tpdKkZJq/rWrl0L6dsg6ZEuIpEuJGn8SKsO9+3bh6ioKOtFJKd7XnzxRaxZs8ba5N1330VEhOs3y7qyvXn27NnyGNzhwLYnCEz/8m8s//ugjKN/ZhyeH+neuZJkSQJGIvDLrmLcv2iTw5A+n9AHiVFhRhomx0ICJEACpiYgzXVHv/Mb8o9Wyhxu7pOK285X78I6UwPn4HVLIKeoHP+Y+7tDfG/9ozu6JfMSNN0mjYGRgI8JsADoZQKKi4txxx13WK30798fd91112kt3n777ZBWx0nLb1955RW3vB8/fhxhYWFNHu66fv16PPfcc9YVddIKP8m+tMrO/rn77rtRWFhoLbxJBbjTPa+++ip++uknaxN3i3UsALqVWrcbS5PfobNXo7iiRu77r0EdcHX3ZLdtsQMJGIVAbb0FQ17/BWVVdfKQ7uyfjhvOSzXKEDkOEiABEjA9gd0lFbh6zloHDh+M7Ykz4yNNz4YAzEfg/95bi9ziCnngY85JwkMXdzQfCI6YBEjAJQIsALqEqelGWq4AdCXURYsW4ZNPPrE2veaaazBq1CiHblqtAOQWYFey5Xmb/NJq3LF0l4OB2cMzkBwV4rlR9jQVAVG3LjSXpFfXFGBFzlG5WVpMCF7mtrDmsBnifaNq2hDJ4SDcJkA9N41M2vIobX08+cS2CMR7o7J4+6nbKtO2AzWtDu//bi7C/L9sRylFhQTg/TEdEMAjgdQB/j+rouqZW4BVlYUQxlkA9DJNWp4B6Eqo0vZiafuvtEKsa9eueOSRRxy6aXUGoCuxnmzDS0DcoXWi7Vc7j+CNPwrljq3CAjFnZAYnv+6jNG0PUQ8vbi5hmw5WYNr3+Q7NXr0iDSksjjeHTvj3japp4RPDAXhEgHpuGtukFXnYUVwlN7gsKxq39Yr3iDM7aUeAmlaH9YFjNdbLQOyf6Rclo3tiS3Uc0qqVgKh65iUgFDALgApoQKtbgF0NVTqTUFqZmJycDOnWX/tHOndQOitQengLsKtET7TT0w/6f/+8H7/uPSYPYEBqJO7vl+jegNja1AT0pGclE1FvacDNS3ZBuiX75HP1WbG49uzWSrqhLR0SMKqmdYiaIWlAgHp2Dln62X7johycOPH6xMNihwaCVMAFNa0AxCZMPPh1HrJLbEXxgemRuLcP/y5Qj7i+/i50Z5wsALpDy5htWQBUIK/Tp0/Htm3brOfuzZ07t8mbdXbu3CmvyBszZgxcOSfPk/BOFiSdFQD/+9//Wi8SkZ4nn3zSepmIs0dalSfdJizdWHzmmWdixowZnoTiUh+uAHQJk9zI0tCAcQtzUFZdL792d+94DM7ggb/ukTR3ayNPxN9ZV4hlO47ICU6KDMZrV6RxhazBJW9kTRs8dRyeEwLUs3NZfJNzFK+ttV2AFhboj3ljMhEU4E8d6ZwANa1egj7fdhhzNti2xbcI8sf7ozMRzM+FatBF1TMLgKpJQhjDLAAqkKqPPvoIS5YssVp66qmnkJWV5dSq1EZqKz3SVtyzzz5bAe+OJuy3AHfp0gXTpk1zaLBx40ZrjNLzz3/+EyNGjHAag32xUmojtVXrYQHQPbJ5R6pw7/I8h05vXZmOti2D3TPE1qYmIOrExZWk7SiuxKQVexyavjQ0Fakxoa50ZxtBCRhZ04KmhGF7QYB6dg7viR/ysa7AduFBv3YRmHRBkhek2VUrAtS0eqRLjtfi5sW7HFbGTu6fhD4pEeo5NbllUfXMAqDJhQuABUAFNJCTk4OpU6daLQ0ePNh6Bl/jx2KxYOLEidi/fz/Cw8Px9ttvIzAwUAHvjiak1X3SKj/p+b//+z+MHj3aoUFdXR2kLcLSjcJJSUnWLcJ+fn6nxPHWW2/hu+++s77+9NNPIzMzU/FYTxpkAdA9tEu3H8a7623f8rVtGYS3rsxwzwhbm56AqBMXVxInnYE6fskuFB/nNmBXeBmljZE1bZQccRyuE6CeT2VVXWfBdQuyUVNv2wD8QN8EXJgW5TpYtvQZAWpaXfQPf7cXWwqPy05YHFeXt6h6ZgFQXV2IYJ0FQIWydHIbcEBAgHW7bOOttUuXLsX8+fOt3pxt/926dau8zfbCCy/EnXfe6RDZoUOHUFFRgbS0tCYjXr9+PaQz/qQiX1BQEF555RW0atXqlPb224Cvu+46DB8+3KGNtPpPGo9UmOvUqRMee+wxhSg5N8MCoHt4n/pxH37fVy53GpwRhbt7J7hnhK1NT0DUiYuriXt3fSGWbuc2YFd5GaGd0TVthBxxDK4ToJ5PZfXHvnI8+eM++Q3pktMPRmchIiTAdbBs6TMC1LS66L/OPoLZv9suCAwO8LNuA24RxM+HGuRF1TMLgGqoQSybLAAqlK/du3dbt9tKtwKHhoZi5MiR6Ny5s/W/f/31V3k1XUJCAp555hmEhYU5eG6uAHjyfamw2KNHD6SmpiIqKsp6229hYSF+++036+Ue0n9Lz0033YQhQ4Y4HV1lZSUmT56MAwcOWN+XVi327dsXwcHBkPwsXrwYVVVV1v+WzgmUfKn5sADoOl3pgoOxC7JRUWuRO93fNwED+O236xDZ0kpA1ImLq+nbXlSJh77hNmBXeRmhndE1bYQccQyuE6CeT2U1+/eD+Dr7qPxG5zZhePri9q5DZUufEqCm1cUvnQ1+w8Js2C2QBf9GUI+5qHpmAVA9TYhimQVABTO1bt0666o7qcDm7JGKf1OmTEF8fPwpb7taAGwuXOkiknHjxlmLeqd7Dh48iJkzZ8pFwMZtpQLlPffcYy02qv2wAOg64eySSjz4tWNRY87IDMS2CHLdCFuSgAkKgNJlOdI24BJuAzaN3kWdjJsmQRyoWwSoZ0dc0hfc0g3v9j/Tx3VrjVGdYt3iysa+I0BNq8/+8R/ysd7ujMyeieGYdlGK+o5N6EFUPbMAaEKxNhoyC4AKa6CoqAjLly/Hhg0bcPjwYes5f1LBr3fv3tYVeVKBztnTXAFQKipKBUZpe25ubi6OHDmCY8eOWbfpSmcKpqSk4KyzzsKgQYOsKwNdeaRVfitWrLCuHpQKgtLW4djYWHTr1g1Dhw5F69atXTHjdRsWAF1HuGhrCd7/q0juIN1u+vqwdNcNsCUJ/I+AqBMXdxL4zvpCLLPbBpwcGYxXeRuwOwiFamsGTQuVEAbrFQHq2RHf7iNVuK/RBWivXJGGdlHO59VewWdnVQhQ06pgdTC6ancpXvz1xA4v6Qn0B94fnYWWwdwGrDR9UfXMAqDSShDPHguA4uXMcBGzAOh6Sh9bmY8/D9huv7ssKxq39Tp1RanrFtnSrAREnbi4k69tRccx+Zu9Dl1evjwN7aP5B6M7HEVpawZNi5ILxuk9AerZkeGnW4rx4cZi+UXpArQ3h6c7vcjOe/q0oAYBaloNqo42K2rqcf3CHNRZbBfl3NsnAQPTXVscon6ExvEgqp5ZADSOBj0dCQuAnpJjP8UIsADoGsra+gZct2Anqupsv9QnXZCIfu0iXTPAViRgR0DUiYs7SXS2Dfj/usTin121Wd3sTqxs6z0BM2jae0q0IAoB6tkxU5NW7MGOYtsRO5d3jMGEnm1FSSfjNMHRI3pJ8pOr9uGP/bbLAs9NCscjA7gNWOn8iPozmgVApZUgnj0WAMXLmeEiZgHQtZRuO3Qck791XM00b3QmIkMDXTPAViRgsgKgNFxn24Bf47Z5Q34WRJ2MGzIZHJTXBKhnG8LSqjqMW5gD29efwGMDU9AtIdxrzjSgHQFqWhvWP+SW4j9r7LcBn7gNmNuAleUvqp5ZAFRWByJaYwFQxKwZLGYWAF1L6H83F+OjTbbtL6nRIXjp8jTXOrMVCTQiIOrExd1EOtsG/MrlaWjHbcDuotR9e7NoWveJYICKEKCebRhX5pbiJbuCRmigH+aPyUJQgL8irGlEGwLUtDacuQ1YG86i6pkFQG30oWcvLADqOTsmiY0FQNcS/ch3e7G58LjceNgZMRjfg9tfXKPHVo0JiDpxcTeT1m3Ai3ehpLJO7npNl1j8g9uA3UWp+/Zm0bTuE8EAFSFAPdswzvp5P1bvPSa/cF5yS0y9MFkRzjSiHQFqWjvW3AasPmtR9cwCoPra0LsHFgD1niETxMcCYPNJrqm34J+fZqPW7lDfqRcm4bzkiOY7swUJOCEg6sTFk2S+s64Qy3YckbumREm3AfP2bE9Y6rmPmTSt5zwwNmUIUM8nOEqXGYxdkI3jtRYZ7F3nxePizGhlQNOKZgSoac1Qw9k24A9GZyKctwErlgRR9cwCoGISENYQC4DCps44gbMA2HwuNx2swLTv8+WG/n7AvDFZPM+jeXRs0QQBUScuniTU2fmZr1yRhnZRvA3YE5567WMmTes1B4xLOQLU8wmWjec/0mvvjcpEqzCef6yc2rSxRE1rw1ny4mwb8H19EnARbwNWLAmi6pkFQMUkIKwhFgCFTZ1xAmcBsPlcfrSpCP/dXCI3zGwViucvS22+I1uQAAuAcLYN+B9d4nBN1zjqw0AERJ2MGygFHIqCBKjnEzDnrC/E59ttK7gzWoXiBc5/FFSadqaoae1YS56eXJWPP/ZXyE7PTWqJRwZw67xSWRBVzywAKqUAce2wAChu7gwTOQuAzafy4e/2Yovd+X8jzmyFG7u3ab4jW5AAC4BWAm+vK8QXdtuA20UF4xVuAzbU50PUybihksDBKEaAej6B8o5ludhfViNz5RmuiklMc0PUtLbIuQ1YXd6i6pkFQHV1IYJ1FgBFyJLBY2QB8PQJrpXO//ssGzX1DXLDhy9MQi+e/2fwT4a6wxN14uIpFWfbgF+9Ig0p3AbsKVLd9TObpnWXAAakKAHqGSgoq8Hty3IduD43pD2yYsMUZU1j2hCgprXhfNILtwGry1tUPbMAqK4uRLDOAqAIWTJ4jCwAnj7BjQsXfgDmS+f/hQQYXBkcnpoERJ24eMrE6TbgrnG4pgu3AXvKVG/9zKZpvfFnPMoSoJ6BpdsP4931h2SwMaEBmDMqE/5+0kyIj2gEqGntM8ZtwOoxF1XPLACqpwlRLLMAKEqmDBwnC4CnT+6CLSWYt7FIbpQWE4L/DE0zsCI4NC0IiDpx8YZN423A7aNC8PIV/Cx5w1RPfc2oaT3xZyzKEqCegWnf78Wmg8dlsIMzonB37wRlQdOaZgSoac1Qy45W5pbipTUH5P8O9PcDbwNWJg+i6pkFQGXyL7IVFgBFzp5BYmcB8PSJfGxlPv48YDvE9/KOMZjQs61Bss9h+IqAqBMXb3j9feg4pny718HEa8PSkBzJ24C94aqXvmbUtF7YMw7lCZhdz8dr6zF2QTbqLDa2k/snoU9KhPKwaVETAmbXtCaQGzkpr6nHuIU5qLPYjhG6v28CBqRF+SIcQ/kUVc8sABpKhh4NhgVAj7Cxk5IEWABsmma9pcF6/l+V3Qx40gWJ6NcuUskU0JYJCYg6cfEmVdI24JsW78KRyjrZzNhzWmNM51hvzLKvTgiYUdM6Qc8wVCBgdj3/urcM//65QCYrrVyaNyYTLYJ4/IkKctPEpNk1rQlkJ064DVgd8qLqmQVAdfQgklUWAEXKlkFjZQGw6cRml1Tiwa/3ODR4f1QmosMCDaoGDksrAqJOXLzl88bvB/FV9lHZTFZsKJ4bkuqtWfbXAQGzaloH6BmCCgTMrmdp26K0ffHkc05COGYMTFGBNE1qRcDsmtaKc2M/3AasDnlR9cwCoDp6EMkqC4AiZcugsbIA2HRiP992GHM22A7ATooMxuvD0g2qBA5LSwKiTly8ZfTXgQpMX5nvYOadERloHR7krWn29zEBs2rax9jpXiUCZtaztFr7hkU5KK2ql+mO79EGw85opRJtmtWCgJk1rQXfpnyc2AbsuJ1+Yr9E9E/lbiJv8iKqnlkA9CbrxujLAqAx8ij0KFgAbDp9T/+4D2v3lcsNLs2Mxh3nxQudbwavDwKiTly8pSedgyNNhMtrbAdL8Q9Lb6nqo79ZNa0P+oxCaQJm1rOz3Q9vDE9HQkSw0phpT0MCZta0hpidunr8h3ysL7CdJ963XQQeuiDJ12EJ7V9UPbMAKLTsFAmeBUBFMNKINwRYAHROT/oG/PoF2ThmV6jgwb3eKI197QmIOnFRIosvrSnAytwy2dRZbVvgqcHtlDBNGz4kYGZN+xA7XatEwMx6/mRzMT7eVCyTTY4Mxmvc/aCS0rQza2ZNa0fZuadvco7itbUH5TdDA6XbgLMQEujv69CE9S+qnlkAFFZyigXOAqBiKGnIUwIsADonl3ekCvcuz3N4k1sVPVUZ+zUmIOrERYlMrs0/hqd/2i+b8vcD5o7KRFQoz9ZUgq+vbJhZ075iTr/qETCznietyMOO4ioZ7vAzYnBzj7bqwaZlTQiYWdOaAD6Nk6NVdbhxUQ7sLgPG1AuTcF4yb9X2NDei6pkFQE8zbpx+LAAaJ5fCjoQFQOep+3LHEby1rlB+s014EN4ekSFsnhm4vgiIOnFRgmJ1nQVjF2Sjur5BNnfXefG4ODNaCfO04SMCZta0j5DTrYoEzKrnsup66+4H209nWC//kC4B4SM2AbNqWi9Ze/jbPdhyqFIOZ2B6JO7tk6iX8ISLQ1Q9swAonNQUD5gFQMWR0qC7BFgAdE5s1s/7sXrvMfnNi9IicV9f/qJ2V19s75yAqBMXpfL575/341e7z1ePxHA8ehFvmFSKry/smF3TvmBOn+oRMKuef8orw/OrC2SwIQF+mH9VFoIDuFVRPbVpY9msmtaGbvNelm0/jHfW2y4WbBnsj/dHZyFQ2gbBx20CouqZBUC3U224DiwAGi6l4g2IBcBTc9bQ0GBdqn/E7gY8rlAST9t6jljUiYtSTBv/kSlNgOeNyUSLoAClXNCOxgTMrmmNcdOdygTMqucXfy3Aqt22M1p7JoZjGr+cUVlt2pg3q6a1odu8l6KKWoxfssuhIVfXNs+tqRai6pkFQM9zbpSeLAAaJZMCj4MFwFOTt7+sBncsy3V4gzfgCSxyHYYu6sRFKZQVNfW4fmE26myXAWNiv0T0T41UygXtaEzA7JrWGDfdqUzAjHqWLj+7YWEOSqvrZboTerbF5R1jVKZN81oQMKOmteDqjo8Hv85DdontfM3LsqJxW694d0yw7f8IiKpnFgApYRYAqQGfE2AB8NQUNL6tKyYsEO+NzICfH5fp+1ywBglA1ImLkvgf/yEf6wsqZJP92kVg0gVJSrqgLQ0JUNMawqYr1QmYUc/ZJZV48Os9DmzfHJ6O+Ihg1XnTgfoEzKhp9am652HB1hLM+6tI7hQTGoA5ozLhz78v3AMJQFQ9swDodqoN14EFQMOlVLwBsQB4as4ab4E5v30E/nU+CxPiqVu/EYs6cVGSaONCe2igHz4YnYWQQJ41pSRnrWxR01qRph8tCJhRz//dXIyPNhXLeBMjgjF7eLoWuOlDAwJm1LQGWN1y4WyH0TOXtMOZrVu4ZYeNWQCkBsQlwAKguLkzTOQsAJ6ayluW5OBQRZ38xq3ntsXQDtwCYxjR62AgnIgDR6vqrGdtWuyum5x6YRLOS47QQYYYgrsEqGl3ibG9ngmYUc+TVuzBjmLbLaXDOsZgfM+2ek4TY3ODgBk17QYezZre/UUu9pbWyP5GnNkKN3Zvo5l/ozgSVc9cAWgUBXo+DhYAPWfHngoRYAHQEWTJ8VrctNjxkN6XhqYiNSZUIeI0QwLifnOpdO6mfrsHWw/Z/uAcmB6Fe/skKO2G9jQgIOpkXAM0dCEgAbPp+Vj1iXNZ7b+QmX5RMronthQwewzZGQGzaVqvKvhwYxE+3VIih9e2ZRCkrfY8Zsi9jImqZxYA3cuzEVuzAGjErAo2JhYAHRP2y54yPPtLgfxieLA/5o/J4vkcgula7+GKOnFRmuuy7YfxzvpDstmIYH/MHZ0F6VZgPmIRoKbFyhejPT0Bs+m58c3swQF++PCqLAQH8EgGo3xWzKZpveYt93AV7v8qzyG8Fy9LRXorLjRwJ2ei6pkFQHeybMy2LAAaM69CjYoFQMd0vbWuEF/uOCK/2CMxHI9elCJUThms/gmIOnFRmmxRRS3GL3Fccfv4oBScHR+utCvaU5kANa0yYJrXlIDZ9PzSmgKszC3j3EdTlWnrzGya1pau694aGhpw69JcFJbXyp2uPisW157d2nUjbMlLQKgBYQmwAChs6owTOAuAjrl84Kvd2HW4Wn7x2rPjcPVZccZJOEeiCwKciNvSMPGrPOQcrpJfuCwrGrf1itdFnhiE6wSoaddZsaX+CZhJz5aGBut5rEer6uXETOjZFpd35NnH+leq6xGaSdOuU/FNyznrC/H5dttig3ZRwXjlCl644042RNUzVwC6k2VjtmUB0Jh5FWpULADa0lVZa8E/P9vpcAbOk4NT0KUtVyMJJWoBghV14qIG2s+2FGP+RtvNk63CAvHuyAxuu1cDtoo2qWkV4dK05gTMpOddh6vwQKMtiW8MT0dCRLDm3OlQPQJm0rR6FJWxvO3QcUz+dq+DsdeGpSE5MkQZByawIqqeWQA0gTibGSILgNSAzwmwAGhLwcaDFXj0+3z5hQA/4OOrOyAkkGfg+FyoBgtA1ImLGmnYV1qNO7/Y7WD635e0xxmtw9RwR5sqEaCmVQJLsz4hYCY9f7qlGB/afQmTEBGEN4Zn+IQ7napHwEyaVo+iMpalVbc3LcrBEbtVt2PPaY0xnWOVcWACK6LqmQVAE4iTBUAmWe8EWAC0ZeiTzcX4eJNtJVJWbCieG5Kq9xQyPgEJiDpxUQv1nctysa+sRjY/qlMrjOvWRi13tKsCAWpaBag06TMCZtLz5G/2YFuR7TZ2aeuvtAWYj7EImEnTImRu9u8H8XX2UTnUjnGhmHUp/+ZwNXei6pkFQFczbNx2XAFo3NwKMzIWAG2pmr4yH38dqJBfGHZGDMb34CRYGDELFKioExe1EM/7qwgLtpbI5pMjg/HaMJ6HoxZvNexS02pQpU1fETCLnsur6zF2YbbD0SePDkhGj6SWvkJPvyoRMIumVcKnuNkNBeWY8cM+2a4fgPdGZSImLFBxX0Y0KKqeWQA0ohrdGxMLgO7xYmsVCLAAeAJqvaUB136Wjco6i0x50gWJ6NcuUgXqNGl2AqJOXNTK247iSkxascfB/OvD0pEUyTOo1GKutF1qWmmitOdLAmbR8y97yvDsLwUy6uAAP8wfk8WjT3wpPpV8m0XTKuFT3GxtvQVjF+Q4/N1x53nxuCQzWnFfRjQoqp5ZADSiGt0bEwuA7vFiaxUIsAB4AuruI1W4b3meA2HpmzjpQgI+JKA0AVEnLkpzOGnP2Xk4N3RrjZGdeB6OWsyVtktNK02U9nxJwCx6fmnNAazMLZVRd08Ix/SBKb5ET98qETCLplXCp4rZWT/vx+q9x2Tb5yaF45EB/Py5AltUPbMA6Ep2jd2GBUBj51eI0bEAeCJNy3cewZt/FMo5a9syCG9dyUOwhRCxgEGKOnFRE/Vraw/gmxzbH6KdWodh5iXt1XRJ2woSoKYVhElTPidgBj07++JlfI82GHZGK5/zZwDKEzCDppWnpq7FVbtL8eKvB2Qn0grceWOyEMrLB5sFL6qeWQBsNrWGb8ACoOFTrP8BsgB4IkfPry7AT3llcsIGpEbi/n6J+k8gIxSSgKgTFzVhr9tfjidW2c7D8fcD5o7KRFQoV+GqyV0p29S0UiRpRw8EzKDn3MNVuP8rx50Ps4elI5FHL+hBgorHYAZNKw5NZYPOzuCc3D8JfVIiVPYsvnlR9cwCoPja83YELAB6S5D9vSbAAuAJhLcsycGhijqZ523ntsVlHWK85ksDJOCMgKgTFzWzWWM9DycbVXUNspu7e8djcAbPw1GTu1K2qWmlSNKOHgiYQc+fbSnG/I3FMu74lkF4kzsf9CA/VWIwg6ZVAaey0Wnf7cWmwuOyl4Hpkbi3DxcgNIddVD2zANhcZo3/PguAxs+x7kfIAiBQcrwWNy3e5ZCrly9PQ/voEN3njwGKSUDUiYvatJ/5aR/W5JfLbs5LbompFyar7Zb2FSBATSsAkSZ0Q8AMep7yzR78XVQpM7+8QzQmnBuvmxwwEGUJmEHTyhLTxtqy7YfxzvpDsrOIkAC8PyoTAdI2CD5NEhBVzywAUtQsAFIDPifAAiDQD+r5KwAAIABJREFU+Ba88GB/6y14/n785etzgRo0AFEnLmqnQzqMXjqU/uQT8r/zcEJ4Ho7a6L22T017jZAGdETA6Hour6m3rri22BZcY9qAZPRMaqmjLDAUJQkYXdNKstLSVmF5DSZ8nuvg8umL26FzmxZahiGcL1H1zAKgcFJTPGAWABVHSoPuEmABEHhrXSG+3HFERtcjMRyPXsRbuNzVEtu7TkDUiYvrI/SsZVlVHcYtynH4o/ThC5PQK5nn4XhGVLte1LR2rOlJfQJG1/PqvWWY9XOBDDLI3w8fXpUFftmivrZ85cHomvYVVyX83vvlbuQdrZZNjTizFW7s3kYJ04a1IaqeWQA0rCRdHhgLgC6jYkO1CLAACDzw1W7sOmz7xXvt2XG4+qw4tZDTLglA1ImLFqmb+u0ebD1k25Y2OCMKd/dO0MI1fXhBgJr2Ah676o6A0fX86m8H8O0u263r5ySEY8ZAfvGpOyEqGJDRNa0gKs1NfbixCJ9uKZH9JkQEQbqQx487kZrMhah6ZgFQ84+X7hyyAKi7lJgvILMXACtrLfjnZzsdVhw9OTgFXdqGm08MHLFmBESduGgB6PNthzFng+08nKjQAOttwNySrwV9z31Q056zY0/9ETCynhsaGnDLkl0oOm67+Oym7m1w5Zmt9JcIRqQYASNrWjFIPjKUU1KFiV873sj9yhVpaBfFs8ibSomoemYB0EcfMh25ZQFQR8kwayhmLwBuPFiBR7/Pl9Mf4Ad8fHUHboMx6wdCo3GLOnHRAs+BYzW4banjeTj/vqQ9zmgdpoV7+vCQADXtITh20yUBI+t5X2k17vxitwP3Vy5PQztefKZLLSoVlJE1rRQjX9mRivI3L96FkkpbUX7s2a0x5qxYX4Wke7+i6pkFQN1LS/UAWQBUHTEdNEfA7AXATzcX48NNxTKmrNhQPDcktTlsfJ8EvCIg6sTFq0G70fmuL3KRX1oj9xjVqRXGdeN5OG4g1LwpNa05cjpUkYCR9dz41tHYsEC8OzKD2w1V1JMeTBtZ03rg620Mb/x+EF9lH5XNdIwLxaxL+fdIU1xF1TMLgN5+UsTvzwKg+DkUfgRmLwA+8UM+1hVUyHkc1jEG43u2FT6vHIC+CYg6cdGK6ry/irBgq+08nOTIYLw2LF0r9/TjAQFq2gNo7KJbAkbW8+M/5GO93bxnUHoU7unDc1Z1K0aFAjOyphVC5FMzGwrKMeOHfXIMfgDeG5WJmLBAn8alV+ei6pkFQL0qSru4WADUjjU9NUHAzAVAacn92IU5OFZdL9OZ2C8R/VMjqRcSUJWAqBMXVaHYGd9RXIlJK/Y4uHt9WDqSIoO1CoF+3CRATbsJjM11TcCoeq6tt+Daz7JRXd/AeY+uFah8cEbVtPKkfGNR+myOXZCDyjqLHMCd58Xjksxo3wSkc6+i6pkFQJ0LS4PwWADUADJdnJ6AmQuABWU1uH2Z41ljb12ZjrYtWWTg50ZdAqJOXNSlYrNuaWjATYtycKTKVpy/oVtrjOzE83C0yoG7fqhpd4mxvZ4JGFXPmw5WYJrducfSKqMPRmciMpSrjPSsRyViM6qmlWCjFxuzft6P1XuPyeH0TAzHtIt4O7ez/IiqZxYA9fJp810cLAD6jj09/4+AmQuAP+SW4j9rDshaiP7fbaN+ftKUmA8JqEdA1ImLekROtfza2gP4JqdUfqNT6zDMvKS9liHQlxsEqGk3YLGp7gkYVc/v/3kIi/4+LPPPbBWK5y/jOWO6F6QCARpV0wqg0Y2JH3eX4oVfbX+XBPn7Yd6YLIQF+esmRr0EIqqeWQDUi4J8FwcLgL5jT88sAKLxgbvnJbfE1AuTqQ0SUJ2AqBMX1cHYOVi3vxxPrLKdh+PvB8wdlYkorlTRMg0u+6KmXUbFhgIQMKqe71u+G7uPVMsZuKpzLK47p7UAGWGI3hIwqqa95aKn/uXV9bh+YTbsduhjcv8k9EmJ0FOYuohFVD2zAKgL+fg0CBYAfYqfziUCZl4B+MBXu7HrsG0ifP05rTG6M7cY8pOhPgFRJy7qk7F5qKm34LpGZ1Xd0zsegzJ4Ho6WeXDVFzXtKim2E4GAEfV8tLIO4xblOOB/enA7dG7bQoSUMEYvCRhR014i0WX3ad/txabC43JsA9MjcW+fRF3G6sugRNUzC4C+VI0+fLMAqI88mDoKsxYAq+ssuObTnbDYzsHGU4Pb4SxOhE39edBq8KJOXLTic9LPzJ/24bf8ctktV+lqnQHX/VHTrrNiS/0TMKKeV+0uxYt22wvDAv0x/6osBErLq/kYnoARNW3EpC3bfhjvrD8kDy0yJMC6+yGAn1OHdIuqZxYAjfipdW9MLAC6x4utVSBg1gLg1kPHMfXbvTJR6ffqx1d3QGggz9lQQWY02YiAqBMXrRO5MrcUL9md0xka4IcP+oUiuK4aCAkFYuLgF8bVK1rnxZk/aloPWWAMShEwop5fXF2AVXll/EJFKZEIZseImhYsBS6FW1hegwmfO15Q+O9L2uOM1mEu9TdLI1H1zAKgWRTa9DhZAKQGfE7ArAXARVtL8P5fRTL/tJgQ/Gdoms/zwQDMQUDUiYvW2SmtqsO4hTmwW6iLaRvfQbcjO0+E4u8PdOsN/wFDgY5dwAt8tM6QzR817Tv29Kw8AaPpWbpZ/cZFOThqd7P6ree2xdAOMcrDo0VdEjCapnUJWaGg7v4iF3tLa2RrYzrHYizP6nSgK6qeWQBU6EMisBkWAAVOnlFCN2sBsPHWwiFZ0bi9V7xR0spx6JyAqBMXrbE27NmFh77dix1hCbLry/atxi05n58aSmI7+N90P/zaZ2gdJv1Za7H+iI8/8TP04MGDsFgs5EICwhIwmp5zD1fh/q/yHPLxxvB0JEQEC5sjBu4eAaNp2r3Ri9W68W3dqdEheOlyLlKwz6KoemYBUKzPohrRsgCoBlXadIuAGQuADf/7JvyI3Tfh9/ZJwMD0KLfYsTEJeEpA1ImLp+P1pF/D33/C8vpMLGjbBx+lXyabaFN5GLPXPgOnp1aFhML/jinw69TNE5fs4wUBatoLeOyqOwJG03PjXQ/xLYPw5pX8skR3wlMxIKNpWkVUPjf996HjmGJ3TJEU0DsjMtA6PMjnseklAFH1zAKgXhTkuzhYAPQde3r+HwEzFgCLKmoxfskuBw28PiwdSZH8JpwfDG0IiDpx0YYOIK38szw7BaiuQl54PB449wEH1//5/Xm0O17oPBypCPivmVwJqFWy/ueHmtYYON2pSsBoem58s+hlWdG4jbseVNWQ3owbTdN646tkPPWWBoxbmI1jNbaV9Led2xaXccu+jFlUPbMAqOQnRUxbLACKmTdDRW3GAuAve8rw7C8Fch5bBvtj/pgsnh9mKGXrezCiTly0oCqt0LU8djdQcOKSHun8v1t7T0FxqO2squt2Lceo/FVNh5PUHv7TX+ZnWouEsQCoIWW60oqAkX5GV9VZcO1n2aiz2E5TndI/Cb1TIrTCST86IGAkTesAp+ohvLC6AD/aXdrTMzEc0y5KUd2vKA5E1TMLgKIoTL04WQBUjy0tu0jAjAXAd9cXYun2IzKhHonheJS/VF1UDJspQUDUiYsSY2/ORsP2TbA8/4hDszezRmBFUl/5tTNKd+PpP2ef1pT/g0/Br2OX5tzxfYUIUNMKgaQZXRAwkp7X7S/HE6v2yVz9/YAPr8pCi6AAXbBmENoQMJKmtSHmWy8/5ZXh+dW2xQrBAX7WxQohgf6+DUwn3kXVMwuAOhGQD8NgAdCH8On6BAEzFgAnrcjDjuIqWQL/6BqHa7rEURIkoBkBUScuWgCqf+MZYP2vDq42tOqIJ7vebPsDtsGCOb8+jsja402G5NejH/xve0iLkOmDl4BQAwYjYKSf0e+sK8SyHbYvPTu1DsPMS9obLGMcTnMEjKTp5sZqhPePVdfj+oXZsFu4i0cuTMa5yS2NMDyvxyCqnlkA9Dr1whtgAVD4FIo/ALMVAGvrLbjmU8etMI8NTEG3hHDxk8kRCENA1ImL2oAbKo/Dct8/gUY3yNb4B2Jcv8dQHWA7p/PebR/jwsI/mw7J3x/+//kIfmEt1A6b9lkApAYMRsBIP6PvXJaLfWU1coau7RqHq/mlp8EU2/xwjKTp5kdrjBZTv92DrYcq5cFcmhmNO86LN8bgvByFqHpmAdDLxBugOwuABkii6EMwWwFwR3ElJq3YI6dNuklU2goTHsytMKJrWaT4RZ24qM24oWAvLNPvcupm5lnj8EdcZ/m9fof+wsS/PzptSP6Pvwa/BJ6Zo3beJPvUtBaU6UMrAkbRs7NLz569tD06xIVphZJ+dELAKJrWCU5Nwlj0dwne/7NI9hXbIhDvjsjg+cYCzzlYANTko6NrJywA6jo95gjObAXAZdsP4531h+TkpkQF49Ur0s2RbI5SNwQ4EXeeiobdO2F5+kGnb36b0AuzO46R32tRV4m5q2cgsMF2S17jjv5Tn4NfWgfd5N3IgVDTRs6u+cZmFD1/k3MUr609KCcwItgf74/OQoB0ECAfUxEwiqbNlLT80mrc9cVuhyH/Z2gq0mJCzYTB6VhF1TMLgKaXLlgAVEEDxcXFWL58Of78809I/w4MDER8fDz69OmDSy+9FCEhIR57rampwcaNG7F582bk5OTgwIEDqKqqQmhoKBITE3H22Wfj4osvRkyM7bZKZ84ee+wx/P333y7F8emnn7rUztNGZisAPvfLfvy855iMa3BGFO7uneApPvYjAY8IiDpx8WiwbnQ63QrAkuBI3NLX8XKQx/96A2cdzW3SA1cAugHfy6bUtJcA2V1XBIyi51k/78fqvbY5T792EZh0QZKuWDMYbQgYRdPa0NKHl4aGBty6NBeF5bVyQNeeHYerz+K55aLqmQVAfXy2fBkFC4AK09+wYQNefvllHD/u/GB4qUg3ZcoUSB8+d589e/bg0UcfRWWl7SwGZzbCwsJw6623om9f242VjduxAOgufeW2l92yZBcOVdh+kd55XjwuyYx2PyD2IAEvCIg6cfFiyC51beoMwJOdH+xxD3IjkmVbw/N/xA27vnRuOyAA/i9+yDMAXSLvfSNq2nuGtKAfAkbQc72lwXqJQHmNbZX03b3jMTiDcx79KE27SIygae1o6cfTW+sK8aXdJT4d40Ix69JU/QToo0hE1TMLgD4SjI7csgCoYDLy8vIwbdo0VFdXW1fkjRgxAmeddRakVXurV6/G999/b/WWlJSEmTNnWtu482zfvt1aAJSejh07okePHkhPT0dERATKysqwdu1arFy5EhaLxXoW0kMPPYRu3bo5dXGyAJiRkYHbb7/9tGG0a9fOnTDdbmumFYBHq+owbmGOA6OXhqYilUvp3dYNO3hHQNSJi3ejdq23s1uAT/b8JPVifJp6sWwo6fghvPL7c04N8xZg13gr1YqaVook7eiBgBH03PjMY4nruyMzENciSA+IGYPGBIygaY2R6cLdnwcq8NjKfDkWafP+3NGZiA4N1EV8vgpCVD2zAOgrxejHLwuACuZixowZ2Lp1KwICAiD9u0MHx3Ofli5divnz51s9Xn311RgzxnaWlCth7Nixw7q1+KqrrkJysm0Fin3fP/74A8899xykJdvSB1xajejnd+o5KycLgJ06dYL0b18+ZioArttfjidW7ZNxhwb64aOrOvAsHF8K0KS+RZ24aJGuhu2bYHnecavvSb/ZEcl4qMc9DmG8unYWEiuLTwnN/8Gn4NexixYh04fAB3IzeSTgjIARfkZ/srkYH2+y/Wzkmcfm1roRNG3GDNbWW3DdgmxU1TXIw7+3TwIGpkeZEYc8ZlH1zAKgqWVrHTwLgAppQDqPb+rUqVZrgwcPxoQJE06xLK3MmzhxIvbv34/w8HC8/fbb1vMBlX6ef/5562pA6fn3v/+NtLS0U1ywAOg+dSV+0H+0qQj/3VwiO+/UOgwzL2nvfjDsQQJeElBCz16GoNvu0hcolsfuBgr2nvpzHH4Y3+dhHA2JlN+7MWcZhu372bFtUnv4T3f+BYxuBy54YNS04Alk+A4EjKDnh1bswfZi27E1w8+Iwc093D8Ch9IwBgEjaNoYmXB/FDN/2off8svljn3bReAhk5/lKaqeWQB0X/9G68ECoEIZ/fjjj7F48WKrtaeeegpZWVlOLS9ZsgQfffSR9b1HHnkEXbt2VSgCm5mvv/4ac+bMsb7wwAMPoHfv3qf4YAHQfexK/KB//Id8rC+okJ2POLMVbuzexv1g2IMEvCSghJ69DEHX3Rv27ILl2SlAddUpcb7WcQy+T+glv97lSDZmbHzb1i4kFP7/mgm/9hm6HqPRgqOmjZZRc49HdD2X19Rj7IJsWGyLhjD9omR0T2xp7sSaePSia9rEqcO3OUfxqt1t3i2C/PHB6CwEBZj3Nm9R9cwCoJk/ySfGzgKgQhqYPn06tm3bZr3hd+7cudZtwM6enTt3Wgt/0iNtAZa2Aiv9fPHFF/jggw+sZqUVh+eddx4LgApA9vYHvbSqaOzCHByrrpej+df5iTi/vW0lkQJh0gQJuETAWz275ETwRg1//wnL6zNPKQKujeuMf581Th5dgKUec1fPQHh9FSAV/+6YAr9Ozs9fFRyJrsOnpnWdHgbnJgHR9bxm7zE88/N+edRB/n748KoshAT6u0mCzY1CQHRNGyUPnozjcGUdblzkeIb5E4NS0DU+3BNzhugjqp5ZADSE/LwaBAuAXuGzdb755ptx7NgxtG/fHs8++2yTVsvLy3HTTTdZ35dW5kkr9JR+Zs2ahXXr1lnNvvDCC07PCzy5AjAqKgpxcXHWbcnSWXzShSLSxSJS0bBfv36qbFFuPF6znAFYWF6DCZ/nOgz/rSvT0bZlsNISoD0SaJaAqBOXZgemcAPrSsA5LzpsB64MCMa4fo+hzt92hMODW+ehb3AZ/G+8jyv/FM6Bq+aoaVdJsZ0IBETX8+zfD+Lr7KMy6rPjW+DxQepeKidCXs0co+iaNnPupLFP/CoPOYdtuyLMvqVfVD2zAGj2TzJXACqiAOmW3+uuu85qq3v37pg8efJp7Y4dO9Z6U7C0TVjaLqzkI91ELPmXzhtMSUmBdB6gs+dkAfB0vqWLRqQCZVMXjpyub0mJ7Zy7ptpFR0dbV0pKBcCioiIlMahiS/pB36bNie26hw4dsjJ25/k5rxSz7L4NjwwJwPyrOji9pMUdu2xLAp4Q8FbPnvgUtY+0erdhx2ZYVn6Jhj/XABYLHu96M/5q1VEe0kWxFtx/WWd+nn2YZGrah/DpWnECouv51iU5KDhWI3O5oXsbjO4cpzgnGhSHgOiaFoe0OpF+vLEI0lnmJ5/EiGC8OSJTHWcCWBVVz61bt25yp6IA2BmiAgS4AlABiGVlZRg/frzVUt++fXHfffed1uott9yC0tLS0xboPAmrtrYWjz76KHbt2mXtPmnSJPTs2dOpKemWYukHV7du3ayrFqWVf5WVldi9eze+/fZb64pA6ZFWCM6cOdO6StCdx5WtzbNnz0ZsbKw7ZoVu++IP2fhoXb48hr5psXhpzNlCj4nBk4DZCFiOl6O+uAif/V2EFzfbDsSODgvC13eczxu9zSYIjpcESOAUAgdKKzH8rTUOr8+7/lyc0TaCtEiABAQlsO1gGa6fd2KH2clnwc290b5VC0FHxLBJwJwEWABUIO/FxcW44447rJb69++Pu+6667RWb7/9dkgr5KQluK+88ooCEZww8cYbb2DlypXWf1944YW48847m7RdUVFhvYnY2VNXV4c333wTP/74o/XtXr164cEHH3QrThYAT8U14eP1+HNfqfzGLX1TMaFfultc2ZgESEAfBApKK3Floz9w51zbA10So/QRIKMgARIgAR8RWLq5AE98vV32HhUaiG/uugD+fua9MMBHqaBbElCMgKWhAUNnr0ZJhW1l7wMDs/CPHimK+aAhEiAB9QmwAKgAYz2sAJRuIJZuIpYe6Qw/aYtvaGiox6OTtuVKRb+TKwGl4mKrVq1ctsctwI6o6i0N+L9PtqO63nYd3vSBKeiZxG/DXRYVGypKQNStC4pC8NLYHUt3Ib+0WrZyTdc4XHs2b/X2EqvH3alpj9Gxow4JiKznZ3/eh5/yymSq/dpHYnL/ZB1SZkhaEhBZ01py0rOv//y6H9/vsi1m6J4YjhmD2us5ZNViE1XP3AKsmiSEMcwCoAKp8vUZgNKW3bfffts6ksTERDz++OOIjPT+ZtmlS5di/vz5Vrv33HMPzj//fAVonWrCDJeA5B2pwr3L8xwG/8HoTEjfivMhAV8QEPXwYl+wasrnexsOYcm2w/Lbma1C8fxlqXoK0VSxUNOmSrfhByuqnqUzU8ctykFpVb2co9t7tcWQrBjD54wDPD0BUTXNvNoI/LKnDM/+UiC/YObbvUXVMy8B4SeaBUCFNOCrW4B/+eUX6zZiacIlVfSl4p9S5+pt2LABzzzzjJWQdMnJ8OHDFaLlaMYMBcBvc47i1bUH5YG3CQ/C2yMyVOFJoyTgCgFRJy6ujE2rNpsOVmDa97ZzPSW/74/KRHQYC/ta5cDeDzXtC+r0qRYBUfXs7AvPN4anIyEiWC1UtCsIAVE1LQheTcIsr67H2IXZsNg2NGHagGT0TGqpiX89ORFVzywA6klFvomFBUCFuE+fPh3btm1DSEgI5s6d2+TtOjt37sQjjzxi9TpmzBi4clZeUyGuW7fOesuvVECLiYmBdLFHfHy8QiMCWAB0ROnND/rX1x7EipyjssF+7SIw6YIkxXJFQyTgLgFv9OyuL6O2r61vwHULslFVZ7sR/N4+CRiYznMAfZFzatoX1OlTLQKi6vnzbYcxZ8MhGYv0hedbV6bzhnS1hCKQXVE1LRBiTUKd/M0ebCuqlH1d3iEaE85V7u9PTQahgBNR9cwCoALJF9wEC4AKJfCjjz7CkiVLrNaeeuopZGVlObUstZHaSs/DDz+Ms8/27BbYzZs3W1fnSTf/Sjf4Smf+paQoewir/Rbgu+++GxdccIFCtBzNmGEF4P3LdyP3iO2ssBu6tcbITua5AVkV4dCoVwREnbh4NWgVOs/8aR9+y7fdBszivgqQXTRJTbsIis2EICCqnp/4IR/rCipkxhdnROGu3glCMGeQ6hIQVdPqUhHP+mdbijF/Y7EceHzLILx5pfl2NYmqZxYAxfvMKR0xC4AKEc3JycHUqVOt1gYPHowJEyacYtlisWDixInWizWkG3ilc/sCA93fKrZjxw48+eSTqK6uRlhYGKTVh9LFH0o+jS8Bef311xEXF6ekC9mW0QuA1XUWXPPpTofl8k8PbofObVuowpNGScAVAqJOXFwZm5Ztvsk5itfstveHB/tj3ugsBPjztkst8yD5oqa1Jk5/ahIQUc91lgZc+9lOVNXZ9gdO7JeI/qnen0utJmva1oaAiJrWhoxYXnIPV+H+rxzPNZ89LB2Jkeba5i+qnlkAFOvzpka0LAAqSPXkNuCAgADrdtwOHTo4WLdfUeds++/WrVut/aTnwgsvxJ133nlKdHl5edY2FRUV1u3G0irCM844w61RbNmyBWlpadYipLOnrq4Ob775Jn788Ufr2z169MBDDz3klg93Ghu9ALi9qBIPfbNHRiLVBT66qgPCgvzdwcS2JKAoAVEnLopCUMBYyfFa3LR4l4OlmRe3Q6c2LPArgNctE9S0W7jYWOcERNTz34eOY8q3ex3Ivj86E9G88EznatMmPBE1rQ0ZsbxI587fuCgHR+wu+hnfow2GndFKrIF4Ga2oemYB0MvEG6A7C4AKJnH37t2YNm0apFuBQ0NDMXLkSHTu3Nn637/++iu+++47q7eEhATr9l1p9Z7901wB8ODBg1b7paUnrl8fN24cunTpctoRREVFQfqf/fPaa69h7dq16NmzJzp16mS9ObhFixaoqqpCbm4upFuFpVWK0iP1lbY0t2nTRkFSjqaMXgBctv0w3llvOw+nfVQIXr4iTTWeNEwCrhAQdeLiyti0bnPvl7uRd9S2xX9M51iMPae11mGY3h81bXoJGAqAiHr+eFMRPtlcIuchLSYE/xnK+Y6hhOnFYETUtBfDNXTXl9YcwMrcE3+PSk/3hHBMH6jsUVR6ByiqnlkA1Luy1I+PBUCFGUsXc0i38lZW2g5HtXchFf+mTJni9LKO5gqAq1atgrQV153H2UpDqQB4cnXf6Wy1a9cO9913H5KTk91x6XZboxcAn19dgJ/yymQug9KjcE8fnofjtlDYQVECok5cFIWgkLEP/jyEhX8f5h+9CvH01Aw17Sk59tMjARH1POWbPfjb7nKAEWe2wo3d1fsCWY95Y0xNExBR08yncwK/7CnDs78UyG8G+fvhw6uyEBJont1NouqZBUB+qlkAVEEDRUVFWL58ufUW3cOHD1vP+ZNu5+3duzeGDBli3brr7NGqALhv3z5s3LgR0o3E0r/LyspQXl6OoKAg64q/jIwMa6y9evWynqmk9mP0AuDtS3eh4FitjPG2c9visg4xamOlfRI4LQFRJy56TOvWQ8cxtdG2tzkjMxDbIkiP4Ro2JmrasKk15cBE0/Px2npc91k26m3H/+HRAcnokdTSlPnjoE8lIJqmmcOmCZRX12PswmyH882nDUhGTxN93kXVMwuA/GSzAEgN+JyAkQuA0i/IaxdkOzB+4bJUZLQK9Tl3BmBuAqJOXPSYtXpLA8YuyEZFrUUO767z4nFxZrQewzVsTNS0YVNryoGJpud1+8vxxKp9cq6khUDzx/C8Y1OKt4lBi6Zp5u70BCZ/swfb7Fb8Xt4hGhPOjTcNNlH1zAKgaSTa5EBZAKQGfE7AyAXAvw5UYPrKfJmxtET+k//rgEDeEOpz3Zk9AFEnLnrN26yf92P13mNyeH1SWmJyf3WPT9ArC1/FRU37ijz9qkFAND2/s74Qy7YfkVF0bhOGpy80IXq1AAAgAElEQVRurwYa2hSUgGiaFhSzZmF/uqUYH24slv3FtwzCm1dmaObf145E1TMLgL5Wju/9swDo+xyYPgIjFwA/21KM+Xa/HDvGhWLWpammzzkB+J6AqBMX35NzHsH3u47i5d8Oym+GBfpj3pgsBAX46TVkw8VFTRsupaYekGh6vufL3dhjdxnSP7rG4ZoucabOIQfvSEA0TTN/pyew63AVHvgqz6HR7GHpSIwMNgU6UfXMAqAp5HnaQbIASA34nICRC4DP/LQPa/LLZcZmWx7vc3ExgCYJiDpx0WtKj1TW4YZFOQ7hPTEoBV3jw/UasuHioqYNl1JTD0gkPTv7+ffMJe1wZusWps4hB88CoJE1YGlowI2LcnC0ql4e5vgebTDsjFZGHrY8NpF+RtsnhAVAU8iTBUCmWd8EjFwAHL84B0XH6+QE3NM7HoMyeC6YvhVpjuhEnbjoOTvSN+HSN+Inn5FntsINvAFTs5RR05qhpiMNCIik5x93l+KFXw/IVKQV0POvyuJxJxroRCQXImlaJK6+jPWlNQewMrdUDqF7QjimD0zxZUia+RZVzywAaiYR3TriCkDdpsY8gRm1AFhWVYexCx1XBL00NBWpMbwAxDzq1u9IRZ246Jco8OHGIny6pUQOsV1UMF65Il3PIRsqNmraUOk0/WBE0vMrvx3Ad7tsRYBzk1rikQE8A9X0Im4EQCRNM3euEfhlTxme/aVAbhwc4If5Y7IQIt0CZPBHVD2zAGhwYbowPBYAXYDEJuoSMGoBcENBOWb8YLsRT/ql+MnVHRDAC0DUFRStu0RA1ImLS4PzUaMdxZWYtGKPg/e3r8xAm5ZBPorIXG6paXPl2+ijFUXPDQ0NGL9kF4rtdjuYaRug0XWo5PhE0bSSYza6rfLqeoxdmA1Lg22kjw5IRo+klkYfOkTVMwuAhpdmswNkAbBZRGygNgGjFgBPvQAkDLMu5Y14auuJ9l0jIOrExbXR+aZVvaUB4xbl4Fi17Tyc285ti8s6xPgmIJN5paZNlnCDD1cUPReU1eD2ZbkO2Xjl8jS0iw4xeIY4PHcJiKJpd8dl9vaTv9mDbUWVMobLO8ZgQs+2hsciqp5ZADS8NJsdIAuAzSJiA7UJGLUAyAtA1FYO7XtDQNSJizdj1qLv86sL8FNemeyKW+G0oH7CBzWtHWt6Up+AKHr+aucRvPFHoQwkJjQA743KhJ8fb0BXXyVieRBF02JR9X20n24pxocbi+VAEiKC8MbwDN8HpnIEouqZBUCVhSGAeRYABUiS0UM0agHwliU5OFTBC0CMrl9RxyfqxEXvvFftLsWLdofhhwT44cOrshAUYPzzcHydG2ra1xmgfyUJiKLnZ37ajzX5x+ShD0iNxP39EpVEQVsGISCKpg2CW7NhSJefSZeg2T+zh6UjMTJYsxh84UhUPbMA6Au16MsnC4D6yocpozFiAZAXgJhSykINWtSJi94hS5/96xfmwO44HMwYmIJzEsL1Hrrw8VHTwqeQA7AjIIKepWMPrl+YjfIaixz5Pb3jMSgjmrkkgVMIiKBpps19ApaGBty4KAdHq2zHn5jhHFBR9cwCoPsaN1oPFgCNllEBx2PEAiAvABFQiCYLWdSJiwhpmrQiDzuKq+RQh50Rg/E9jH8ejq9zQ037OgP0ryQBEfScXVKJB792vPjonREZaB3Oi4+U1IJRbImgaaOw1nocL60pwMpc2/EnPRPDMe2iFK3D0NSfqHpmAVBTmejSGQuAukyLuYIyYgHw1AtAQjHr0lRzJZaj1TUBUScuuob6v+A+2VyMjzfZzsNJjAjG7OHpIoQudIzUtNDpY/CNCIig5wVbSzDvryI58qTIYLw+jD/rKGbnBETQNHPnGQHp7GPpDOSTjxmOPxFVzywAeqZxI/ViAdBI2RR0LEYsADa+AGRoh2jcem68oBli2EYkIOrERYRcOFsV88bwdCREGPs8HF/nhpr2dQboX0kCIuj50e/3YuPB4/KwL8uKxm29ONdRUgdGsiWCpo3EW8uxODv+5IlBKegab9zjT0TVMwuAWn4y9OmLBUB95sVUURmxANj4ApC7e8djMM/EMZWu9T5YUScueucqxSedh3PDohyU2p2HM6FnW1zeMUaE8IWN8f/ZO+/4Kqptj//SCwkEQiC0AAmhiCCKBURRAaUpIIJXkWIXu1iuoCKiKNgLFhQVEVCvFBEbKGJBBQuIKCIkgQBphARIQkg/eZ85PubkhIScMmXvmd/8866cmbXX+q7fmbfzOzN7U9PSto6J10FAdD2XVTpw1dIUVDhcK55O7d8GfdtFs58kUCcB0TXNtvlH4J4v0pF60LX8yeiTmmHSqS38Cyrw1bLqmQagwKIyKDUagAaB5jD1E7CaAVhYVoUJy1LcCn5xWAd0aBpOGZCAMARknbgIA7CBRF74KQvf7Hath3NGm0Z46Hxrr4djdm+oabM7wPG1JCC6nv/IKcbDX+9TSw4MABZdloyosCAtMTCWhQiIrmkLoTalFGU5AGVZgGNHx6ZheGFYR1NyMWJQWfVMA9AIdYg9Bg1Asftji+ysZgD+nl2MR9a5JsWhQQH44PLOCFJmxzxIQBACsk5cBMHXYBrf7S7Acz9lq+eFBwdg8ZhkhAQFNngtT/CNADXtGzdeJSYB0fVc+4/95NhwPDOEax2LqSYxshJd02JQkjeLbfuP4oG1e90KWDi6E2IiguUt6gSZy6pnGoCWlKNXRdEA9AoXT9aDgNUMwGV/5WPRH65Fsbs05wYgeuiGMf0jIOvExb+qjbu6oLQSk5anwvVyHGD19XCMo1v3SNS02R3g+FoSEF3P965OR0q+63W/Md1jMaFXnJYIGMtiBETXtMVwG15ORVU1xi9LQWmlQx17ytmtcH7HJobnYsSAsuqZBqAR6hB7DBqAYvfHFtlZzQDkBiC2kK30Rco6cZEJfO0/kC/t1gxXn2bd9XDM7g01bXYHOL6WBETW85GyKucf+vyBQ8uOWz+WyJq2Pn1jKnz8uwz8knFEHez8jo0x5ezWxgxu8Ciy6pkGoMFCEXA4GoACNsVuKVnNAOQGIHZTsJz1yjpxkYn2kj8O4MO/XOvhtI8Jw0vDrbsejtm9oabN7gDH15KAyHresLcIc9ZnquUqS50sGZuMUC5xoKUELBdLZE1bDrZJBX2+8xBe/3W/OnpMeBAWjO6EwADrLYMkq55pAJr05RBoWBqAAjXDrqlYyQDkBiB2VbF8dcs6cZGJ9Pbco5j6lft6OG9fmoTYyBCZypAmV2pamlYxUQ8IiKzneb/k4IuUw2oVveIjMXNgggdV8RQ7ExBZ03bui5a1ZxeVY/KqXW4hnx/aAYnNrLcRoqx6pgGopeLljEUDUM6+WSprKxmA3ADEUtK0dDGyTlxkakqVo9q5I3hxhWs9nNv7xGNQUoxMZUiTKzUtTauYqAcERNbzzat2IauoXK1iYq84XNY91oOqeIqdCYisaTv3Revab/o4DTlHKtSwk3rFYbQF7w+y6pkGoNaKly8eDUD5ema5jK1kANbeAKRzbDie5q54ltOsFQqSdeIiG/sn12fip71Fatr9EqLx33PbyFaGFPlS01K0iUl6SEBUPR8orsD1K9Pcqnh2SAd0irXeEz4etoqneUhAVE17mD5P85BA7SeEe7aMxGODrPeEsKx6pgHooZAtfBoNQAs3V5bSrGQAzvk+Exv2uf7YH5ocg8lnxsvSCuZpIwKyTlxka9FXqYfx8s85atpRoYF497JkBAVabz0cs3tDTZvdAY6vJQFR9bw27TDmbnTd06JDA7GQ9zQtW2/ZWKJq2rLATSps474izP7etUZocOC/a4SGBwealJE+w8qqZxqA+uhBpqg0AGXqlkVztZIBeMPKNOQWux575+t+FhWtBcqSdeIiG/q8oxW47iP3p2WevKg9usZFyFaK8PlS08K3iAl6QUBUPT/3Yxa+Sy9UK+nbLhpT+/OpZi9aa9tTRdW0bRuiU+FHK6pw1dIUOGpsEz79/LY4vU2UTiOaE1ZWPdMANEcvIo1KA1Ckbtg0F6sYgEVlVRi/LMWtiy8M64COTflajE2lLXTZsk5chIZaT3K3f7oLewtc62Vd0SMWV/aMk7EUoXOmpoVuD5PzkoCIeq6ursbVK1JxuLRKrWbyGS0xtHNTL6vj6XYkIKKm7dgHI2qe9uUe/H2gRB3q4i5NccPpLY0Y2rAxZNUzDUDDJCLsQDQAhW2NfRKzigG4NacY07/epzYuJDAAH/ynM5RH33mQgGgEZJ24iMbRk3wWbM7Fyu0H1VO5Nqgn1Lw/h5r2nhmvEJeAiHrec7gMd3y22w3avBGJaBUdKi5IZiYMARE1LQwciyXy4Z95WLI1T62qTeNQvHpJoqWqlFXPNAAtJUOfiqEB6BM2XqQlAasYgCu352PB5gMqmqRm4XhuaActUTEWCWhGQNaJi2YADAy0JbsYM9a5fhxQfhJ4d0wyGocFGZiF9Yeipq3fYztVKKKeP/nnIN7clKu2oUWjYLwxMgkBAfyh007a9LVWETXtay287sQEUvJLcO/qPW4nzR+ZhBZRIZZBJ6ueaQBaRoI+F0ID0Gd0vFArAlYxAGuvi3NhUhPc1qeVVpgYhwQ0JSDrxEVTCAYFK69yONfDKa9yLYhzT7/W6N+hsUEZ2GMYatoefbZLlSLqeda3+/BrZrHagkFJTXA75zl2kaTfdYqoab+LYoA6CVQ5qjFpeQqKyh3q57eeFY+LOsVYhpiseqYBaBkJ+lwIDUCf0fFCrQhYxQCsvc7XTWe0xDCui6OVTBhHYwKyTlw0xmBYuEe/2YdNWa4/nAckNsGdffkDgZYNoKa1pMlYZhMQTc+VjmrnDxmlla4/6PlDhtkqkWt80TQtFz35sn36h0z8sKdITfzshGjcf651NgySVc80AOX7LmmdMQ1ArYkyntcErGAAllU6cMWHO912vJpzUQK6xUV6zYMXkIARBGSduBjBRo8xPt1xEPN/c7061zQ8CAtGd+KrcxrCpqY1hMlQphMQTc/bc49i6ld73bgsHN0JMRHBprNiAnIQEE3TclCTN8u1aYcxd2OOWkCj0EAsuiwZQRZZG11WPdMAlPc7pVXmNAC1Isk4PhOwggG4M68E961xrXWhrIbz/uWdERES6DMXXkgCehKQdeKiJxM9Y2cVluPmT3a5DcFdwrUlTk1ry5PRzCUgmp4/+DMP79dY1L9DTBheHN7RXEgcXSoComlaKngSJpt3tALXfZTmlvmTF7VH17gICas5PmVZ9UwD0BLy86sIGoB+4ePFWhCwggG4OuUQXvtlv4rDirtdadFrxhCHgKwTF3EIepdJdXU1Jq/ahZwjFeqFE3vF4bLusd4F4tn1EqCmKQ4rERBNz9O+3IO/D5SoiEd0bYrrere0EnLWojMB0TStc7kMD6D28khX9miOK3o2twQbWfVMA9AS8vOrCBqAfuHjxVoQsIIB+OrPOViTeljFcW77aNx7jnXWudCiz4whFgFZJy5iUfQum3m/5OCLFNd9okfLSMwalOBdEJ5NA5AasAUBke7RJRXKRkY7UWMfI0w/vy1ObxNli16wSG0IiKRpbSpilIYIvLVpP1b9c0g9rUvzCDw1uH1Dl0nxuax6pgEohbx0TZIGoK54GdwTAlYwAO9dnY6U/FK13Em94jCaT/Z40n6eYxIBWScuJuHSZNifM4rwxHeZaqzgQGDRmGREhgRpEt/uQahpuyvAWvWLpOffMo/gsW8zVMBBAcCSsVzmxFqK078akTStf7UcQSGwOesIZn7juncoy/8tHpOMRqHyz3tk1TMNQH43aQBSA6YTkN0AVLa6VzYAKa/x0/jMAe3Qq1Uj09kyARKoj4CsExeZO3q0ogoTlqWgxiaaeOC8NjirbbTMZQmTOzUtTCuYiAYERNLz25v24+MaT/GcFBeB2RdZ4ykeDVrFEB4SEEnTHqbM0/wkoGySOG6pMu+pViNZZd4jq55pAPopagtcTgPQAk2UvQTZDcC9h8tw+2e73dqw6LJOaBzOnfFk16aV85d14iJ7Tx5auxd/7j+qljE0OQaTz4yXvSwh8qemhWgDk9CIgEh6vvOz3Ug/XKZWZqV1vDRqF8N4QEAkTXuQLk/RiEDtec/wLk1x4+nyrx8qq55pAGokbInD0ACUuHlWSV12A/Db3QV4/qdstR2xkcF4+9JOVmkP67AoAVknLrK3Y/m2fLy75YBaRsuoELw+IhEBAcre4Tz8IUBN+0OP14pGQBQ9Hy6txKTlqW545lyYgG4tIkVDxnwEJyCKpgXHZLn0lv6Vh8V/5Kl1tW0cilcuSZS+Tln1TANQeun5XQANQL8RMoC/BGQ3ABdszsXK7QdVDGe0icJD57f1FwuvJwFdCcg6cdEVigHBdx8qxV2fp7uN9NoliWjdONSA0a09BDVt7f7arTpR9Px9eiGe/TFLxR8eHIglY5MRrCzmxYMEvCAgiqa9SJmnakBgZ14J7luzxy3SW5cmoXlkiAbRzQshq55pAJqnGVFGpgEoSidsnIfsBuD0tXuxtcYrff/pEYtxPeNs3FGWLgMBWScuMrA9UY7V1dW4ZkUqDpVWqafdcHoLXNylmeylmZ4/NW16C5iAhgRE0fPcjdlYm1agVnZ660aYfkE7DStlKLsQEEXTduEtSp3KWukTlqeguNyhpnRn31YYkNhElBR9ykNWPdMA9KndlrqIBqCl2ilnMTIbgMof8+OXpeBIjf+nNq1/G/Rpx0X95VSjfbKWdeJihQ69uCEb63a5/qDu3boRHuYf1H63lpr2GyEDCERABD0rc5wbVqbhwNFKlcx1vVtgRFf+YCGQVKRJRQRNSwPLYonO+T4DG/YdUas6v0NjTOnXWuoqZdUzDUCpZadJ8jQANcHIIP4QkNkAzD1SgRs+TnMrf/7IJLSIkvuxdn/6yWvlICDrxEUOuifOsvYrdaFBAc5X6kKDAq1Qnmk1UNOmoefAOhAQQc/ZReWYvGqXW3UvDe+I9jFhOlTMkFYnIIKmrc5Y1Pq+2HkI837dr6bXNDwIC0Z3knr9Y1n1TANQ1G+JcXnRADSONUeqh4DMBuDGfUWY/X2mWllUaCAWj0mW+v+hUaj2ICDrxMUK3Sksq8LEZSmorlHMzAHt0KtVIyuUZ1oN1LRp6DmwDgRE0PPqlEN47RfXH+0x4UF4R/I/2nVoFUN6SEAETXuYKk/TmEBWYTlu/sRaPybIqmcagBqLW8JwNAAlbJrVUpbZAHxv6wH87898tSU9WkZi1qAEq7WI9ViQgKwTF6u04r7V6diZX6qWM6pbM1xzWgurlGdKHdS0Kdg5qE4ERNDzk+sz8dPeIrXC/h0a4x7JX9vTqV0M6wEBETTtQZo8RQcCynICN36chtxi6ywnIKueaQDqIHDJQtIAlKxhVkxXZgNw1rcZ+DXTtabFyK5NcW3vllZsE2uyGAFZJy5WacP7Ww/ggxo/HiQ0CcXcixOtUp4pdVDTpmDnoDoRMFvPysL9k5anoKjGGse394nHoKQYnSpmWKsTMFvTVucren21NxSSff1jWfVMA1D0b4r++dEA1J8xR2iAgMwG4LUfpSK/xuLYU85uhfM7yr2rFQVrDwKyTlys0p0deSX475o9buW8OSoJcY24fqivPaamfSXH60QkYLaeU/NLcc/qdN6jRBSHpDmZrWlJsVkm7drrH4cHB2DxmM4ICQqQskZZ9UwDUEq5aZo0DUBNcTKYLwRkNQAPHy3HhOWpbiXPHd4RCVwc2xcZ8BqDCcg6cTEYk27DKU/XTFzuvoP4bWfF48JOfLrGV+jUtK/keJ2IBMzW84pt+Vi45YCKpnV0KF4bwaeURdSKLDmZrWlZOFk1z4LSSkys9XfTExcmoHuLSClLllXPNACllJumSdMA1BQng/lCQFYDcHNmEWas26eWrOzk+cHlnREUKOcvWb70jtfIS0DWiYu8xI/P/Kn1mfixxvpa/RKi8d9z21ipRENroaYNxc3BdCZgtp5nfL0XW3KOqlUOTY7B5DPjda6a4a1MwGxNW5mtLLXd9flu7D5Upqb7nx6xGNczTpb03fKUVc80AKWUm6ZJ0wDUFCeD+UJAVgNw2V8HsPB316/jybHheGZIB18Q8BoSMJyArBMXw0HpOOBXqYfx8s856gjRoYFYeFkyf0TwkTk17SM4XiYkATP1XF7lwFVLU1Be5dqrfOq5bdA3IVpIVkxKDgJmaloOQtbPcsHmXKzcflAttEvzCDw1uL2UhcuqZxqAUspN06RpAGqKk8F8ISCrAfjM+gx8l16oljy4UwxuOYu/jvuiAV5jPAFZJy7Gk9JvxAPFFbh+ZZrbAM8MaY/k2Aj9BrVwZGraws21YWlm6nlrTjGmf+16w0F5r2HxmGREhQXZsBMsWSsCZmpaqxoYxz8Cm7OOYOY3GWoQ5aUp5d7SKFS+e4useqYB6J+GrXA1DUArdFHyGmQ1AG9blYY9Ba7H2G86oyWGdW4qeTeYvl0IyDpxsVp/bv1kFzIKy9WyrurZHJf3aG61Mg2ph5o2BDMHMYiAmXpetOUAlm3LVyvt1Cwczw7lGw4Gtd6yw5ipactClaywskoHxi1NQaXD9XTxA+e1wVlt5Xu6WFY90wCU7EujQ7o0AHWAypDeEZDRANyXmYWx7/+DGm/HYM6FCegm6UK23nWMZ1uBgKwTFyuwr1nD/N/249Mdh9R/OikuArMvkvN1GLN7Q02b3QGOryUBM/V87+p0pOSXquVcdlIzTDy1hZblMZYNCZipaRviFrbkh9buxZ/7XeuLDu/SFDee3lLYfOtLTFY90wCUTmqaJ0wDUHOkDOgtARkNwB//3o27PtvtVur7lycjMkS+R9i97RfPtwYBWScu1qDvquK3zCN47FvX6zBByuswY3kv8aXP1LQv1HiNqATM0vOR8ipMWJaCGg/o4NGB7XBKfCNRUTEvSQiYpWlJ8NgmzaV/5WHxH3lqvW0bh+KVS+TbYVxWPdMAtM1Xrd5CaQBSA6YTkNEAXPLjP3jhpyyVXXxUCF4fmWQ6SyZAAp4SkHXi4ml9spxXWqkstr8TlQ5XxrK+DmM2c2ra7A5wfC0JmKXnjfuKMPv7TLWU0KAALBmbjNCgQC3LYywbEjBL0zZELXTJO/NKcN+aPW45vnVpEppHhgidd+3kZNUzDUCpZKZLsjQAdcHKoN4QkNEAnPXpFnxcYxerPu2iMK1/W2/K5rkkYCoBWScupkLTafDar8MMTY7B5DO5oZC3uKlpb4nxfJEJmKXn13/Nwec7D6toesZH4rGBCSKjYm6SEDBL05LgsU2aVY5qTFieguJy1y+fd/ZthQGJTaRiIKueaQBKJTNdkqUBqAtWBvWGgIwG4HWLNmJrjmv9iit6xOLKnnHelM1zScBUArJOXEyFptPgymL7yqL7x45W0SGYN4JPFHuLm5r2lhjPF5mAWXq+5ZNdyKyxMdGEXnEY0z1WZFTMTRICZmlaEjy2SnPO9xnYsO+IWvP5HRpjSr/WUjGQVc80AKWSmS7J0gDUBSuDekNANgOwuroaA+d+j6KyKrXMqf3boG87+Xaw8qZPPNdaBGSduFirC/9Ws+tgKaZ8ke5W2usjEhEfHWrFcnWriZrWDS0Dm0DADD3nHa3AdR+luVX7zJD2SI6NMIEAh7QaATM0bTWGVqnni52HMO/X/Wo5TcODsGB0JwQEBEhToqx6pgEojcR0S5QGoG5oGdhTArIZgLlFZRg+70f+se5pg3mekARknbgICdPPpBzV1bh6eSoKavyocPOZLTEkuamfke11OTVtr35bvVoz9LxuVwFe3JCtoo0KDcS7lyUjKFCeP8qtrguZ6zND0zLzsnLu2UXlmLxql1uJLw3viPYxYdKULaueaQBKIzHdEqUBqBtaBvaUgGwG4I+78nDX8q1qeRHBgXjv8mQESvSrlae94XnWJSDrxMWqHXn2xyx8n16olte3XRSmcl1Rr9pNTXuFiycLTsAMPT//Yxa+5X1IcGXIm54ZmpaXlrUzV96muvHjNOQWV6qFXte7BUZ0bSZN4bLqmQagNBLTLVEagLqhZWBPCchmAC7YmI5X17t+teoWF4E5F7X3tFyeRwJCEJB14iIEPB2SqP3kTaOQQCwawydvvEFNTXtDi+eKTsBoPSt/kF+zIhWHSl3Lm0w+oyWGduaTyKJrRZb8jNa0LFzsmufcjdlYm1agln9660aYfkE7aXDIqmcagNJITLdEaQDqhpaBPSUgmwH44Cd/4ct/ctXyuGOnp53meSIRkHXiIhJDLXPJP1qBa2utvTXnogR0i4vUchhLx6KmLd1e2xVntJ73FpTh9k93u3F+7ZJEtG7MtUhtJz6dCjZa0zqVwbAaEVDeelDefjh2hAcHYPGYzggJkmPJAVn1TANQIwFLHIYGoMTNs0rqshmAl7+9EbvzXTsAc60uqyjRXnXIOnGxcpfu+Gw39hwuU0vk7uLedZua9o4XzxabgNF6/uSfg3hzk+vHzeaRwXhzVJJUi/KL3VFmZ7SmSVxsAgWllZi4PNUtyTkXJqBbCzl++JRVzzQAxf5eGJEdDUAjKHOMExKQyQCMiY3DeS9+B0e1q6SnBrdHl+bcIY8yl4uArBMXuSh7l+2CzblYuf2gepFyX1HuLzw8I0BNe8aJZ8lBwGg9z/o2A79mHlHhDExsgjv6tpIDFrOUgoDRmpYCis2TvPOz3Uiv8cPnuJ7N8Z8ezaWgIqueaQBKIS9dk6QBqDHevLw8fP755/j999+h/O/g4GDEx8ejb9++GDx4MMLCtNndaMuWLVi7di1SU1NRWFiIxo0bo1OnThg0aBB69erlUVWK8bZu3Tr88MMPyMjIQGlpKZo1a4YePXpg2LBhaNu2rUdx/D1JFgMwoKwUBwrKcN1Xrh3ylIfUP/hPZ4QHB/qLgdeTgKEEZJ24GArJ4MF+z43TJEYAACAASURBVC7GI+v2qaMqG28uuiwZUWFBBmci53DUtJx9Y9Z1EzBSz1WOaly1NAUllQ41mbvPboXzOjZhe0hAMwJGalqzpBlIVwJvbtqPT/45pI5xcstIPD4oQdcxtQouq55pAGqlAHnj0ADUsHebN2/GSy+9hKNHXa+H1gzfunVrTJs2DcoXz9dDWaR5/vz5TvOvvkMxAW+44YYTvrZRVFSEOXPmICUlpc4wISEhuO666zBgwABfU/X4OpENQIU3dvwJxzefA1s2Ym2L3ni161i1tlaOI3jtjFCgSw++JuNxx3miCARknbiIwE6vHMoqHRi/LAXlVa5HjO8/tzXOTmis15CWiktNW6qdti/GSD3/c6AE93+5x435wtGdEBMRbPs+EIB2BIzUtHZZM5KeBH7JKMLj32WqQwQHBuC9sckIk+DBCln1TANQT0XLEZsGoEZ9Sk9Px/Tp01FWVobw8HCMGjUKJ598MsrLy/Hjjz/i66+/do7Upk0bzJ4923mOL8f777+Pjz76yHlpx44dMWLECKehuH//fqxatQq7d/+7gPPo0aNxxRVX1DmEw+HAzJkzsX37dufnZ555pvPJwaioKKchuGLFChQUFEC5sU2dOtXjJwp9qUe5RlQDsHpPGhxvPw9k7VVLe7PTCHze9hz1v/vmbsV9fy8GWicg8NopCGif5CsGXkcChhKQdeJiKCQTBpuxbh+2ZBerIw/uFINbzoo3IRP5hqSm5esZM66fgJF6/t+feXhva56aTPsmYXjp4o5sDwloSsBITWuaOIPpRqC4vMr5w2fNpZUeHdgOp8Q30m1MrQLLqmcagFopQN44NAA16p1iqG3btg1BQUFOc61z585ukRVzbvHixc5/u/zyyzFmzBivR87JycGUKVOchllSUpJznNBQ1+5sivn4yCOPIC0tzZnH888/73z9uPbx7bff4tVXX3X+80UXXYTrr7/e7RRlnPvvvx8lJSVo1aoVnnvuOWc8vQ4RDcDqv3+H49XZQFmpW9nTe92EbTEuk+/K3asxds+6f88JC0fgLdMQcNKpeqFiXBLQjICsExfNAAgaaOX2fCzYfEDNrkWjYLwxkgvxe9IuatoTSjxHFgJG6vmBr/ZgW26JiuaSrk1xfW/f31aRhTHzNJaAkZo2tjKO5g+Be1enIyXf9ffWmO6xmNArzp+Qhlwrq55pABoiD6EHoQGoQXuUdfgeeOABZyTlSbobb7zxuKjKU3f33HMPMjMz0ahRI+drvMr6gN4cb775Jr788kvnJbNmzTrOZFT+fefOnXjooYec5wwZMgTXXnvtcUPcfffdzjX/lDzmzZtX57qEK1euxHvvvee8Vjm/T58+3qTq1bmiGYDOJ/+ennac+ae8lDex3yMoDnHtTjX1z3dwZv7frnoVE/C+2XwS0CsF8GQzCMg6cTGDlZFjph8qxZ2fp7sN+eoliWjT2PVjj5H5yDQWNS1Tt5hrQwSM0nNppQNXLd2JGsv/Yfr5bXF6m6iGUuTnJOAVAaM07VVSPNl0Au/+novlf9fcAC0cTw3uYHpeDSUgq55pADbUWet/TgNQgx7XfC338ccfR3Jycp1Ra5pqiknXs2dPj0dX1qK7+eabcfDgQedrxMrTffUdd911F7KyshAbG+t80i8gQNmq4t8jOzsbd955p/N/X3jhhc61Aus6Dh8+rBqZ55xzDu644w6Pc/X2RJEMQIWz45Hb3V77PVbPgbAY3NT3X6P32DFvwxNoUXbYveQ27RE44yWuCeitEHi+oQRknbgYCsmEwZR70DUfpeFQSaU6+o2nt8TwLk1NyEauIalpufrFbE9MwCg9b846gpnfZKjJBAUAi8cmIzJEvzc/2Ht7EjBK0/akK2/VyrInyvInxw5lA7QlEtyDZNUzDUB5vytaZU4DUAOSM2bMcK6np+zw+84779T7umzNp/OUV4CVV4E9PZQ1/m6//Xbn6fU9ZXgs1htvvKFuEvLyyy+jRYsW6jDKrr/KU3/KoRiB/fr1qzcF5XPFMGzevLn6yrCn+XpznlAG4D9b4Xj23ycoax+/xnbD7B7XqP/cqOIo3v3xEbjsVdcVgfc+joAuPbzBwHNJwFACsk5cDIVk0mAvbsjCul2F6uhntInCQ+cbsyu7SSVrMiw1rQlGBhGEgFF6XrA5Fyu3u56+6RYXgTkXtReEAtOwEgGjNG0lZnaoRdkAbZyETyHLqmcagHb4Vp24RhqAGmhA2S1X2VW3ffv2ePrpp+uNeOTIEfWVXOWVWuXVWk8PZYdhZdde5Zg0aRKGDx9e76Wffvop3n33XefnyiYep512mnruokWL8Mknnzj/+6mnnkKHDvU/Yq18/ttvvzmfZFu4cKHPG5c0VKNIBmDVvDnApp/qTHlp+wF4v+MQ9bOTDu/CrC3/mqm1j4De/RA4+f6GSufnJGAaAVknLqYBM3Dg73YX4LmfstURw4MDsXhMMkKUR3N41EuAmqY4rETAKD3f9flu7D5UpqK7okcsruwp/vpbVuq1XWoxStN24WmlOmuvQzqqWzNcc5rrARYRa5VVzzQARVSTsTnRAPSTt7LL7/jx451RFKNNMdxOdEyYMMG5U7DymrDyurCnh7L2n7IGoHI0tCbfxo0bnRt3KIfyiq/yqu+x44UXXsBPP/1rcCnxGjduXG8Kb731FtasWeP8XLmudevWnqaL/Pz8Bs+NiYlxPi2pGIAHDrgWvW/wQp1OqC45iso7rgAcjjpHePqk8djQwvXa9rCMH3B96qq6swkMRPBLHyAgwrVeoE5pMywJ+ERAmbgcezo4NzcXyjqlPMQgcLikEhOW7XRL5omL2qNHS/F3xTOTIDVtJn2OrTUBI/RcUFqJ8Uvd7zVzBndA9xacu2jdT8YDjNA0OctJ4P0/DuC9ra6/BRObhePF4YlCFyOrnuPi4nTd3FPopjE5JwEagH4KobCwUN1F9+yzz4ay/t6JDsWQKygoQLt27fDss896PHrNXYSVDUd69epV77W///47Zs+e7fxcMRwvueQS9Vzl35XPlUPZlbjmLsK1AyqfK+Mqh/L0YWKi5zdiT15vfu2115zrFIpyVOzdhZyb638t+7Yz70NWpOtX8Vv+WYpBOb/Wm378a0sRktBRlPKYBwmQgEQExi/8BTtyj6gZX9OnPW4517UDuUSlMFUSIAFBCXz5z348+Mk2NbuIkCB8ffu5CAkKFDRjpkUCJGBFAr9nHMaN729WS1Ped/jytnMRExFixXJZEwmYSoAGoJ/48/LycMsttzij9O/fH7fddtsJIyobeShPxymP386dO9fj0ZctW4YPP/zQef7DDz+Mk08+ud5r//rrLzz66KPOz//zn//gsssuU89V/l35XDk++OAD569x9R3/+9//sHz5cufHynVdu3b1OF8ZDcCyHX8h9+6r66yxNDAEV537GKoDXLye3PQSkotcC2fXvrDFc+8grEv9ffIYJk8kARKwHYGXv0/Dwp/3qHV3i4/GuxPOsB0HFkwCJKAfgVlrtuPjra7lBvolxuKFy07Rb0BGJgESIIE6CFRUOXDBS99DWQ/w2PHkyJMxoLPYrwGzmSQgIwEagH52jU8A1g1QyleAs/aicvq/Zm7tY2d0O0zt/e8mLMoRWO3AkvUPIczh2qmz9jXBj72GgNbt/FQYLycBfQjI+uqCPjTEi7o1pxgPfuUyAJVfwxeN7Ywm4cHiJStIRtS0II1gGpoQMELP161IQW5xhZrvdb1bYtRJ4ryZoQlIBhGGgBGaFqZYJuI1gYfX7sHv2cXqdcO7NMXkM1t5HceoC2TVM18BNkoh4o5DA9DP3nANQD8BAs41AJVdjs0+lDUAHXeNq3MNwOLgcGxrkoj0qNZIj2qFssAQTP/z7fpTDgpC4PNLuAag2U3l+PUSkHXxYru0VPk1/KqlKSirqlZLvqdfa/TvUP+6rXZhU1+d1LTdFWCt+vXWc05ROW5atcsN2ovDOqBD03BrgWQ1whDQW9PCFMpEfCKwfFs+3t3iWgewbeNQvHKJ58tP+TSoHxfJqmduAuJH0y1yKQ1ADRppxC7AmzZtwpNPPunM1p9dgJXdgZVdgpWDuwAf3/wT7QLsjVS4C7A3tHiuGQRknbiYwcqsMR/9Zh82Zbl+DR+Y2AR39BX313CzOB0bl5o2uwMcX0sCeut5TcphvPpLjppyk/AgLBzdCQEB3G1cyz4ylouA3poma7kJpOSX4N7VrjcflGoWjO6EZhFivvkgq55pAMr9PdEiexqAGlCcMWMGtm/fjrCwMLzzzjv17qyzc+dOPPTQQ84Rx4wZA0/WyTuWnvKE3O23//sK6qBBg3DjjTfWm/kbb7yBtWvXOj9/+eWX1Z0+lf9et24d5s2b5/zszjvvRL9+/eqNo3yenZ2N5s2b49VXX9WAVN0hRHkCUMmu+p+tcDz7b4/8OQLvfRwBXXr4E4LXkoCuBGSduOgKRbDgn/xzEG9uylWzio0IxluXJvEP9Hr6RE0LJmCm4xcBvfX81PpM/Li3SM2xf/vGuOec1n7lzItJ4EQE9NY06ctNoMpRjQnLUlBc4VoH8O6zW+G8jk2ELExWPdMAFFJOhiZFA1AD3O+99x5WrlzpjPT4448jOTm5zqjKOcq5yvHggw/ilFM8X2i5uroakydPxqFDh9CmTRs8//zz9WY+ZcoUZGZmolmzZlB22q35a25WVpa6U/GFF14IZVfiuo7Dhw+rJqNiEipmoF6HUAZgdTUcj9wOZO31vdw27RE44yX+ke47QV5pAAFZJy4GoBFmiIyCMtz66W63fOZe3BEJTcKEyVGkRKhpkbrBXPwloKeeHdXVmLg8FUVlVWqat/eJx6CkGH/T5vUkUC8BPTVN7NYg8Ph3Gfgl44hazKCkJri9j5hvPsiqZxqA1viu+FMFDUB/6P3/tampqXjggQec/1Xf03kOhwP33HOP05hr1KgR5s+fj+Bg7x5pfvPNN/Hll186x5k1axY6d+58XPY1nzK86KKLcP311x93zjGDMCoqymkQKk8u1j5qmpXK+X379tWAVN0hRDIAlQyr96TB8fQ0oKzU+5rDwhF432wEtE/y/lpeQQIGEpB14mIgItOHUn74uX5lGvKOujYbuva0FhjZrZnpuYmYADUtYleYk68E9NTzroOlmPJFultqb45KQlyjEF/T5XUk0CABPTXd4OA8QQoCtd98aBkVgjdGivk3lax6pgEoxVdB1yRpAGqE99hrwEFBQZg5c+Zx5tyqVauwePFi52h1vf67bds253XKcd555+HWW289LjPl6T3FRFQMs6SkJOf5oaGh6nnKhiRKHmlpac7XkJ977jm0anX8ryY1XwMePHgwlDUMax45OTm4//77UVJSAuUm8cILL9T7WrMW+EQzAJWaqv/+HY5XZ3tnAirm3y3TEHDSqVpgYQwS0JWArBMXXaEIGHzuxmysTStQMzutVSPMGMDdxetqFTUtoICZks8E9NTzir/zsfB312L7raJDMG+EmH9k+wyQFwpHQE9NC1csE/KJQPqhUtz5ufuPE2+MTETLKNffuz4F1uEiWfVMA1AHMUgWkgagRg3bvXs3pk+fDsWECw8Px6WXXoru3bs7//unn35S1+RTDLk5c+YgIiLCbWRPDEDlgpqvG3fs2BEjR450mnTKGoEff/wxlDyUY9SoURg3blyd1SlPIypG4Y4dO5yfn3XWWRg4cCCUJwKVpxmXL1+OgoIC5yusU6dOxamn6mtoiWgAOk1A5UnAt5/37HVg5bXfa+7ik38afZ8YRn8Csk5c9Ccj1gg/7CnE0z9kqUmFBgVgydhkhAYFipWoANlQ0wI0gSloRkBPPc9Ytw9bsl0bDA1JjsHNZ8ZrljsDkUBdBPTUNIlbg4CyPMHVy1NRIMHyBLLqmQagNb4r/lRBA9AferWu/e233zB37lznk3N1HYr5N23aNMTHHz/J8tQAVMy7119/Hd988029mQ8YMMC5fp9yY6rvKCwsxOzZs51PC9Z1KK8nX3vttc5XmvU+RDUAnSZgdTWw8y84vvkM+H0j4HAtTIugIAT06oOAC4YBnU/mmn96C4XxNSUg68RFUwgSBFPW6FIWxa6ukeujA9vhlPhGEmRvbIrUtLG8OZq+BPTSc0WVA+OWpqC8ynVXuf/c1jg7obG+BTG67QnopWnbg7UYgNobFJ3XoTHu7ifeBkWy6pkGoMW+MD6UQwPQB2gnuuTAgQP4/PPPsXnzZhw8eNC5zp9i+PXp0wdDhgypc709JZ6nBuCxsZX4yk6/ioFXVFSE6Oho52vBysYenj6xpxhvX3/9NX744Qfn2oSlpaXOjUNOPvlkDBs2DO3aGfOamcgGYM1eB5SVonlQABwlxThYXAJHk6YIiIjUWEEMRwLGEJB14mIMHbFGuXd1OlLyXWuSXtqtGa4+rYVYSQqQDTUtQBOYgmYE9NLzn/uL8dDafWqeAQAWjUlGdFiQZrkzEAnURUAvTZO2tQisTjmE137ZrxbVNCIYCy5NEu5BC1n1TAPQWt8XX6qhAegLNV6jKQFZDEBZb/SaNovBLEOAepanlUv+OIAP/8pXE+7YNAwvDOsoTwEGZUpNGwSawxhCQC89L95yAEu3ue4nSc3C8dzQDobUxEHsTUAvTdubqvWqzyosx82f7HIr7JWLO6Jtk+M3rTSzeln1TAPQTNWIMTYNQDH6YOssaADauv0s3iQCsk5cTMJl6rDbco/iga/2uuXwzuhOUH4V5+EiQE1TDVYioJee71udjp01nigefVIzTDqVTxRbSTui1qKXpkWtl3n5RkBZfum6lWnIP1qpBrjpjJYY1rmpbwF1ukpWPdMA1EkQEoWlAShRs6yaKg1Aq3aWdYlMQNaJi8hM9cqt0lGN8UtTUFLpWoN0ytmtcH7HJnoNKWVcalrKtjHpegjooefi8iqMX5YCR41FRWcOaIderbimKIWoPwE9NK1/1hzBDAIv/JSFb3YXqkP3bReNqf3bmJFKvWPKqmcagELJyJRkaACagp2D1iRAA5B6IAHjCcg6cTGelBgjPvFdBn7OOKImc37HxphytniLYptJi5o2kz7H1pqAHnr+eV8Rnvg+U001JPDfXcXDgrmruNb9Y7zjCeihaXK2JoF1uwrw4oZstbjo0EC8OyYZgQHKqqViHLLqmQagGPoxMwsagGbS59hOAjQAKQQSMJ6ArBMX40mJMeLnOw/h9V9di2LHhAdhwehOQk2GzSZFTZvdAY6vJQE99PzGrzn4bOdhNc2eLSPx2KAELdNmLBKol4AemiZuaxI4UFyB61emuRX3/NAOSGwWLkzBsuqZBqAwEjItERqApqHnwMcI0ACkFkjAeAKyTlyMJyXGiNlF5Zi8yn1R7BeGdUDHpuJMhs0mRU2b3QGOryUBPfR86ye7kFFYrqY54ZQ4jDk5Vsu0GYsEaABSA5oQmLwqDdlFFWqs63q3wIiuzTSJrUUQPe7RWuTVUAwagA0Rsv7nNACt32PhK6QBKHyLmKAFCcg6cbFgKzwu6aaP05BzxDUZnnRqHEafxD/ejwGkpj2WEk+UgIDWes4/WoFrP3J/ouaZIe2RHBshAQ2maAUCWmvaCkxYQ/0EXt6Yja/SCtQTzmobhQfOaysMMln1TANQGAmZlggNQNPQc+BjBGgAUgskYDwBWScuxpMSZ8TXfsnB6hTX63unxEfi0YF8fY8GoDgaZSbaEdD6Hl17Ta1GoYFYdFkyggLFWVNLO3qMJCIBrTUtYo3MSTsC3+4uwPM/udYBjFLuWQKtAyirnmkAaqdRWSPRAJS1cxbKmwaghZrJUqQhIOvERRrAOiS6YV8R5nAB/3rJUtM6iI4hTSOgtZ6f/ykL39bYVbNPuyhM6y/O0zSmgebAhhHQWtOGJc6BTCGQd7QC19V6almkdQBl1TMNQFPkLNSgNACFaoc9k6EBaM++s2pzCcg6cTGXmrmjHymvwoRlKXBUu/KYcUFbnNY6ytzEBBmdmhakEUxDEwJa6rm6uhrXfJSGQyWVam43ndESwzo31SRXBiEBTwhoqWlPxuM58hMQeR1AWfVMA1D+74W/FdAA9Jcgr/ebAA1AvxEyAAl4TUDWiYvXhVrsgvvX7ME/eSVqVSO7NsW1vVtarErfyqGmfePGq8QkoKWe9xWU4bZPd7sV+solHdG2cZiYxTMrSxLQUtOWBMSijiMg8jqAsuqZBiC/aDQAqQHTCdAANL0FTMCGBGSduNiwVW4lf7A1D+//maf+W/smYXjp4o52x+Ksn5qmDKxEQEs9f7rjIOb/lqviiY0MxlujkhAQwPX/rKQZ0WvRUtOi18r8tCEg8jqAsuqZBqA22pQ5Cg1AmbtnkdxpAFqkkSxDKgKyTlykgqxDsv8cKMH9X+5xi/z2pUmIjQzRYTS5QlLTcvWL2Z6YgJZ6fvy7DPyScUQdcEBiE9zZtxVbQAKGEtBS04YmzsFMIyDyOoCy6pkGoGlyFmZgGoDCtMK+idAAtG/vWbl5BGSduJhHTIyRqxzVznUAiyscakLKH/LKH/R2P6hpuyvAWvVrpWflnjF+WQqO1rhnTDm7Fc7vyHuGtRQjfjVaaVr8SpmhlgREXQdQVj3TANRSnXLGogEoZ98slTUNQEu1k8VIQkDWiYskeHVNc873Gdiwz/U0T/8OjXFPv9a6jilDcGpahi4xR08JaKXnHXkl+O8a96eGF4zuhGYRwZ6mwvNIQBMCWmlak2QYRBoCoq4DKKueaQBKI33dEqUBqBtaBvaUAA1AT0nxPBLQjoCsExftCMgbaXXKIbz2y361gCZhQXjnsk4ItPl6XtS0vJpm5scT0ErPH/6ZhyVbXeuGJjQJxdyLE4mcBAwnoJWmDU+cA5pKQNR1AGXVMw1AU+UsxOA0AIVog72ToAFo7/6zenMIyDpxMYeWWKPuP1KOGz/e5ZbUc0M7IKlZuFiJGpwNNW0wcA6nKwGt9PzgV3vwV65r5/BLujTF9adz53Bdm8fgdRLQStPEay8Coq4DKKueaQDa6/tTV7U0AKkB0wnQADS9BUzAhgRknbjYsFV1lnzzqjRkFVWon03oFYcx3WNtjYeatnX7LVe8FnourXTgqqUpqHRUq3weOq8tzmgbZTleLEh8AlpoWvwqmaEeBERcB1BWPdMA1EOhcsWkAShXvyyZLQ1AS7aVRQlOQNaJi+BYDUvv9V9z8PnOw+p4PVpGYtagBMPGF3EgalrErjAnXwlooefNWUcw85sMNYXAAGDJ2GREhgT5mhavIwGfCWihaZ8H54VSExBxHUBZ9UwDUOqvgibJ0wDUBCOD+EOABqA/9HgtCfhGQNaJi2/VWu+qnzOK8MR3mWphwYHKH/adEa78D5se1LRNG2/RsrXQ84LNuVi5/aBKqGvzCDw5uL1FibEs0QlooWnRa2R++hAQcR1AWfVMA1AfjcoUlQagTN2yaK40AC3aWJYlNAFZJy5CQzUwuaMVVRi/NAVVrjf7MP38tji9jX1f7aOmDRQgh9KdgBZ6vuvz3dh9qEzN9T89YjGuZ5zuuXMAEqiLgBaaJll7EhBxHUBZ9UwD0J7foZpV0wCkBkwnQAPQ9BYwARsSkHXiYsNW1VvytC/34O8DXNz/GCBqmt8OKxHwV8+FpZWYsDzVDckTgxLQvWWklTCxFokI+KtpiUplqjoQEG0dQFn1TANQB3FKFpIGoGQNs2K6NACt2FXWJDoBWScuonM1Mr8P/8zDkq156pBtG4filUsSjUxBqLGoaaHawWT8JOCvnn/YU4inf8hSswgLCnAuExASFOBnZrycBHwj4K+mfRuVV1mFgGjrAMqqZxqAVvlG+F4HDUDf2fFKjQjQANQIJMOQgBcEZJ24eFGi5U/dmVeC+9bscavzzVFJiGsUYvna6yqQmrZl2y1btL96fuXnbHyZWqDy6d26ER6+oJ1lebEw8Qn4q2nxK2SGehIQbR1AWfVMA1BPlcoRmwagHH2ydJY0AC3dXhYnKAFZJy6C4jQlrSpHNSYuT8GRcoc6/u194jEoKcaUfMwelJo2uwMcX0sC/ui5uroaN368C7nFFWpK157WAiO7NdMyRcYiAa8I+KNprwbiyZYkINo6gLLqmQagJb8eXhVFA9ArXDxZDwI0APWgypgkcGICsk5c2Fd3Ak+tz8SPe4vUfzynfTTuO6eNLTFR07Zsu2WL9kfP2UXlmLxqlxubF4d1QIem4ZblxcLEJ+CPpsWvjhkaQeCmj9OQc8T1w8Z1vVtgRFdzftiQVc80AI1Qqthj0AAUuz+2yI4GoC3azCIFIyDrxEUwjKan82XqYbzyc46aR3RoIBZeloygQPut80VNmy5HJqAhAX/0vDrlEF77Zb+aTZPwICwc3QkBAfa7L2jYEobyk4A/mvZzaF5uEQJzN2ZjbZpraYOz2kbhgfPamlKdrHqmAWiKXIQalAagUO2wZzI0AO3Zd1ZtLgFZJy7mUhNv9APFFbh+ZZpbYs8MaY/k2AjxktU5I2paZ8AMbygBf/T85PpM/FTjyeD+HRrjnn6tDc2fg5FAbQL+aJo0SUAhINI6gLLqmQYgv0s0AKkB0wnQADS9BUzAhgRknbjYsFUNlnzrJ7uQUViunjf+lOYYe3LzBq+z2gnUtNU6au96fNWzsjbopOUpKOLaoPYWkIDV+6ppAUthSiYRqOtHz+eHdkBiM+OXN5BVzzQATRKvQMPSABSoGXZNhQagXTvPus0kIOvExUxmoo49/7f9+HTHITW97i0i8MSF7UVNV7e8qGnd0DKwCQR81XNqfinuWZ3ulrGddwc3oXUcsh4CvmqaQEmgJgFR1gGUVc80APl9ogFIDZhOgAag6S1gAjYkIOvExYatarDk3zKP4LFvM9TzggKAxWOTERkS1OC1VjqBmrZSN1mLr3pevi0f7245oAJsHR2K10YkEigJmE7AV02bnjgTEIqAKOsAyqpnGoBC6kJwQgAAIABJREFUydmUZGgAmoKdg9YkQAOQeiAB4wnIOnExnpT4I5ZUODB+2U5UOly5PnheG5zZNlr85DXMkJrWECZDmU7AVz0//PVe/JFzVM1/aHIMJp8Zb3o9TIAEfNU0yZFATQKirAMoq55pAPL7RAOQGjCdAA1A01vABGxIQNaJiw1b5VHJD67di7/2u/7oH945BjeeYa8/+qlpj6TCkyQh4IueyyoduGppCioc1WqV0/q3QZ929voxQJIW2y5NXzRtO0gsuEECoqwDKKueaQA2KDHLn0AD0PItFr9AGoDi94gZWo+ArBMX63VCm4qW/ZWPRX/Y+7U/alobLTGKGAR80fOW7GLMWLdPLSAwAFg0JhlRofZaDkCMDjKL2gR80TQpkkBdBERYB1BWPdMA5HeKBiA1YDoBGoCmt4AJ2JCArBMXG7bKo5LrWvj/jZGJaBkV6tH1VjiJmrZCF1nDMQK+6Hnh77lY8fdBFWLn2HA8PaQDoZKAEAR80bQQiTMJ4QjUXgewT7soTOvf1tA8ZdUzDUBDZSLkYDQAhWyLvZKiAWivfrNaMQjIOnERg554WTiqqzFxeSqKyqrU5G49Kx4XdYoRL1mdMqKmdQLLsKYQ8EXPd3+RjrSDpWq+Y7vHYnyvOFPy56AkUJuAL5omRRKoi8C6XQV4cUO2+lF0WBAWXdYJAQEBhgGTVc80AA2TiLAD0QAUtjX2SYwGoH16zUrFISDrxEUcguJl8swPmVi/p0hN7OyEaNx/bhvxEtUpI2paJ7AMawoBb/VcWFaFictS4Fr9D5g1qB16tGxkSv4clARoAFIDehHYf6QcN368yy383Is7IqFJmF5DHhfX23u0YYk1MBANQFE6YV4eNADNY8+R/58ADUBKgQSMJyDrxMV4UvKMuDbtMOZuzFETbhQaiEWXJSNIWQjMBgc1bYMm26hEb/X8495CPLU+SyUUGhSA98YmIyQo0EbUWKrIBLzVtMi1MDdzCVRXV+P6lWnIO1qpJjL5jJYY2rmpYYnJqmcagIZJRNiBaAAK2xr7JEYD0D69ZqXiEJB14iIOQfEyyTtages+SnNL7KnB7dGleYR4yeqQETWtA1SGNI2At3p+9eccrEk9rOZ7aqtGeGRAO9Py58AkUJuAt5omQRI4EYHnfszCd+mF6innto/GvecY99aDrHqmAcjvFQ1AasB0AjQATW8BE7AhAVknLjZslVcl3/bpLuwrKFevGdezOf7To7lXMWQ9mZqWtXPMuy4C3uq59q6YV58ah0tPiiVcEhCGgLeaFiZxJiIkgS9TD+OVn11vPTSLCMbblyYZtg6grHqmASiknA1Nigagobg5WF0EaABSFyRgPAFZJy7Gk5JrxLc27ceqfw6pSZ8UF4HZF7WXqwgfs6WmfQTHy4Qk4I2e61oP6/mhHZDYLFzI2piUPQl4o2l7EmLV3hDIKCzDrZ/sdrtk3ohEtIoO9SaMz+fKqmcagD633DIX0gC0TCvlLYQGoLy9Y+byEpB14iIvcWMy35x1BDO/yVAHU5b/WzI2GZEhQcYkYOIo1LSJ8Dm05gS80XPtJ2GahAXhncs6IdDAHTE1B8CAliPgjaYtVzwL0pyAsg7gpBWpKCitUmPf3iceg5JiNB+rroCy6pkGoCHyEHoQGoBCt8ceydEAtEefWaVYBGSduIhFUbxsyiodGLc0BZUO116g0/q3QZ920eIlq3FG1LTGQBnOVALe6Pmp9Zn4ca9rB3Cj18IyFRQHl4aAN5qWpigmaiqBJ9dn4qca974BiU1wZ99WhuQkq55pABoiD6EHoQEodHvskRwNQHv0mVWKRUDWiYtYFMXMZvrXe7E156ia3NDkGEw+M17MZDXMiprWECZDmU7AUz07qqsxcXkqispcT8HcdlY8LuxkzFMwpoNiAtIQ8FTT0hTERE0n8OmOg5j/W66aR3xUCF4fmWRIXrLqmQagIfIQehAagEK3xx7J0QC0R59ZpVgEZJ24iEVRzGxWbMvHwi0HTJkQm0mEmjaTPsfWmoCnet51sBRTvkh3G37+yCS0iArROiXGIwG/CHiqab8G4cW2IrD7UCnu+tz9/vfWpUloHqn//U9WPdMAtNVXpM5iaQBSA6YToAFoeguYgA0JyDpxsWGrvC65LkPAyIWxvU5YowuoaY1AMowQBDzV84q/87Hwd5fh3yo6BPNGGPMEjBCgmIQ0BDzVtDQFMVHTCVQ5qjFheQqKyx1qLnef3QrndWyie26y6pkGoO7SEH4AGoDCt8j6CdIAtH6PWaF4BGSduIhHUryMlFcCr661MPbkM1piaOem4iWrYUbUtIYwGcp0Ap7qeca6fdiSXazmOyQ5Bjfb4JV/0xvEBLwm4KmmvQ7MC2xNYNa3Gfg184jKYHCnGNxylv7LnsiqZxqAtv66OIunAUgNmE6ABqDpLWACNiQg68TFhq3yqeTnfszCd+mF6rV92kVhWv+2PsWS5SJqWpZOMU9PCHii5/IqB65amoLyKtemP/ef2xpnJzT2ZAieQwKGEvBE04YmxMEsQeCjv/PxTo2noNs2DsUrlyTqXpuseqYBqLs0hB+ABqDwLbJ+gjQArd9jVigeAVknLuKRFDOjdbsK8OKGbDW5yJBALB6TjKDAADET1iAraloDiAwhDAFP9Lw1pxjTv96n5qx8uxeNSUZ0WJAwdTAREjhGwBNNkxYJeEtgZ14J7luzx+2yhZd1Qkx4sLehvDpfVj3TAPSqzZY8mQagJdsqV1E0AOXqF7O1BgFZJy7WoK9/FQdLKnHNilS3geZclIBucZH6D27SCNS0SeA5rC4EPNHzoi0HsGxbvjp+cmw4nhnSQZd8GJQE/CXgiab9HYPX249ApaMaVy3didJK15PQU89tg74J0brCkFXPNAB1lYUUwWkAStEmaydJA9Da/WV1YhKQdeIiJk0xs7rjs93Yc7hMTe6KHrG4smecmMlqkBU1rQFEhhCGgCd6vnd1OlLyS9Wcx3SPxYRe1v2OC9McJuITAU807VNgXmR7AjO+3ostOUdVDhd3aYobTm+pKxdZ9UwDUFdZSBGcBqAUbbJ2kjQArd1fVicmAVknLmLSFDOrBZtzsXL7QTW5Ls0j8NTg9mImq0FW1LQGEBlCGAIN6flIWRXGL0uB65kX4LGB7dAzvpEwNTAREqhJoCFNkxYJ+Ergwz/zsGRrnnp5x6ZheGFYR1/DeXSdrHqmAehRey19Eg1AS7dXjuJoAMrRJ2ZpLQKyTlys1QV9q1F2BlV2CD12KMv/KeuDRYVac30walpfPTG6sQQa0vOGvUWYsz5TTSo0KABLxiYjNCjQ2EQ5Ggl4SKAhTXsYhqeRwHEEtu0/igfW7lX/XVkPdfFYfec7suqZBiC/QDQAqQHTCdAANL0FTMCGBGSduNiwVT6XXFbpcD4hVHOHUCPWxfE5YT8vpKb9BMjLhSLQkJ7n/ZKDL1IOqzn3io/EzIEJQtXAZEigJoGGNE1aJOArAWVH9HEfpqDC4Xomevr5bXF6myhfQzZ4nax6pgHYYGstfwINQMu3WPwCaQCK3yNmaD0Csk5crNcJfStSngBUngQ8dgzuFINbzorXd1CTolPTJoHnsLoQaEjPN69KQ1ZRhTr2pF5xGN09VpdcGJQEtCDQkKa1GIMx7Evgga/2YFtuiQpg9EnNMOnUFroBkVXPNAB1k4Q0gWkAStMq6yZKA9C6vWVl4hKQdeIiLlExM1u5PR8LNh9Qk2vRKARvjExEQIDygoy1DmraWv20ezUn0nPukQrc8HGaG6LnhnZAUrNwu2Nj/QIT4D1a4OZYILUlfxzAh3+5dkXv0jwcTw3Wb1d0WfVMA9ACYvezBBqAfgLk5f4ToAHoP0NGIAFvCcg6cfG2Trufn36oFHd+nu6G4bVLEtG6cajl0FDTlmuprQs6kZ7Xph3G3I05Kp/osCC8e1knBFrQ2Le1CCxWPO/RFmuoYOXUXvc4KAB47/LOCA/WZ11UWfVMA1Aw4ZqQDg1AE6BzSHcCNACpCBIwnoCsExfjSck9YnV1Na5ZkYpDpVVqITee3hLDuzSVu7A6sqemLddSWxd0Ij0/+0MWvt9TqPLplxCN/57bxta8WLz4BHiPFr9HMmdYUuHAuKU7UWMZQMwc0A69WumzM7qseqYBKLPKtcmdBqA2HBnFDwI0AP2Ax0tJwEcCsk5cfCzX1pe98FMWvtntMgvObBuFB89razkm1LTlWmrrgurTs6O6GlevSEVBDVP/1rPicVGnGFvzYvHiE+A9WvweyZ7hvavTkZJfqpZx+cmxuOqUOF3KklXPNAB1kYNUQWkAStUuayZLA9CafWVVYhOQdeIiNlUxs/t2dwGe/ylbTU55HWbJ2GQEB1prHUBqWkz9MSvfCNSn510HSzHlC/fX+l8fkYj4aOu91u8bOV4lKgHeo0XtjHXyWrA5Fyu3H1QLOrlFBB6/sL0uBcqqZxqAushBqqA0AKVqlzWTpQFozb6yKrEJyDpxEZuqmNkdLqnEpBWpbsk9cWECureIFDNhH7Oipn0Ex8uEJFCfnldsy8fCLa6NfeKjQvD6yCQha2BSJFCTAO/R1IPeBH7NOIJZ32Wow4QEBuD9y5MREqT9OoCy6pkGoN4qFD8+DUDxe2T5DGkAWr7FLFBAArJOXAREKUVKd32+G7sPlam56vlajFlAqGmzyHNcPQjUp+eHv96LP3KOqkMOTY7B5DPj9UiBMUlAUwK8R2uKk8HqIHCkrArjl6WgusZnsy9MwEk6/OApq55pAPKrQwOQGjCdAA1A01vABGxIQNaJiw1bpUnJC3/PxYq/Xa/FJMeG45khHTSJLUoQalqUTjAPLQjUpeeySgeuWpqCihqr3E/r3wZ92kVrMSRjkICuBHiP1hUvg/8/gdo/eI4/pTnGntxccz6y6pkGoOZSkC4gDUDpWma9hGkAWq+nrEh8ArJOXMQnK2aGW3OKMf3rfWpyyup/i8YkIzosSMyEfciKmvYBGi8RlkBdet6cdQQzv3G93qYs47l4TDIahVrneyxsQ5iY3wR4j/YbIQN4QOCN3/bjsx2H1DOVXYCV3YC1PmTVMw1ArZUgXzwagBr2rKysDGvWrMGGDRuQk5ODyspKNG/eHKeeeiqGDRvm/N/+HNXV1dixYwf++OMP5//NyMhAUVERQkNDERsbi5NOOgmDBg1Chw4nfqrjww8/xLJlyzxKZcaMGejevbtH5/p6Eg1AX8nxOhLwnYCsExffK7b3lRVVDoxbmoLyKteLMf89pzX6tW9sGTDUtGVayUIA1KXntzftx8f/uP6w7do8Ak8O1meBezaBBLQmwHu01kQZry4CP+4pxFM/ZKkfRfz/xmdBGm98JqueaQDye0MDUCMNKIbfnDlzkJXluuHUDB0ZGYk77rgDp512ms8j3nLLLcjLyzvh9QEBAbjkkktw1VVXQfnfdR00AH1rgaw3et+q5VVWJ0A9W73Dx9f36Df7sCmrWP3gwqQmuK1PK8uAoKYt00oWUo8BeMenu7GnwLWW55U9muOKnv79uEzYJGAUAd6jjSJt73EOllTimlobnz0/tAMSm4VrCkZWPdMA1FQGUgajAahB20pLSzFt2jRkZmY6ow0cOBD9+vVzPpn3119/YeXKlVDOCQsLw6xZs9C+vW+/1l5xxRVwOByIj4/HWWedhS5duqBZs2YoLy93jvPZZ5+huPjfP+5GjRqFcePGNWgAPvPMMyck0KJFC4SHa3vDrD0gnwDUQIQMQQJeEpB14uJlmTy9BoFV/xzEW5ty1X+JiwzG/FFJ9f5YJBs8alq2jjHfExGoree84vLj/qh98qL26BoXQZAkIAUB3qOlaJMlkrzp4zTkHKlQa7nh9Ba4uEszTWuTVc80ADWVgZTBaABq0LaaT9SNHz8eI0aMcIu6c+dOKK/SKkaX8jqt8r99OR566CGMGTMGp5xySp1/sClPISrnFBYWIigoCC+88AKUL3nto2a+yv82+6ABaHYHOL4dCcg6cbFjr7SqeW9BGW7/dLdbuFcu6Yi2jcO0GsLUONS0qfg5uMYEaut5beohvLghWx2lUUigcx1PrV9r07gMhiMBlQDv0RSDUQSUe+W6XQXqcP0SovHfc9toOryseqYBqKkMpAxGA9DPtinr/N1www3OJ+/atGmDZ5991rluS+3jjTfewNq1a53/rLwqnJiY6OfIdV++evVqvP32284PJ06ciIsvvvi4E2kA+oZe1hu9b9XyKqsToJ6t3uHj61PWkb3uozTkl1SqH+rxq7hZZKlps8hzXD0I1NbzM+sz8F16oTpUn3ZRmNa/rR5DMyYJ6EKA92hdsDJoHQS+Sj2Ml3/OUT9pGhGMBZdq+8aDrHqmAcivDA1APzWwdetW52u9yqG8cqu8elvXoTwFqDydpxyXXnoprrzySj9Hrvvyffv24Z577nF+OHjwYFx33XXHnUgD0Df0st7ofauWV1mdAPVs9Q7XXd9LG7LxdY1fxU9v3QjTL9B+dzwz6FLTZlDnmHoRqKnnrOxsTFy2EwWlVepwk89oiaGdm+o1POOSgOYEeI/WHCkD1kMgs7Act3yyy+3TeSMS0So6VDNmsuqZBqBmEpA2EA1AP1v3v//9D8uXL3dGUYzAzp071xlRec316quvhrJTcLdu3TBz5kw/R6778l27dmHq1KnOD4cMGYJrr72WBqBGpGW90WtUPsNYjAD1bLGGeljO9+mFePZH12ZVYUEBWDI2GSFBxz+57mFIYU6jpoVpBRPRgEBNPW/4Ox13fOb+x+zrIxIRr+EfsxqkzBAkcEICvEdTIEYRUN54mLQ8FQVlrh9N7uzbCgMSm2iWgqx6pgGomQSkDUQD0M/WPffcc9i4caMzyoIFC9CoUaN6I953333Ys2cPGjdujDfffNPPkeu+/NNPP8W7777r/FB5+k95CrD2UfMJwB49emD37t0oKSlx5t62bVv06tULgwYNQlRUlC451g7KNQANwcxBSMCNgKwTF7bRPwKFpZWYuDwV1TXCzBrUDj1a1v//u/wb0birqWnjWHMk/QnU1POrX/+FBZtdG/jER4Xg9ZFJ+ifBEUhAQwK8R2sIk6EaJDD7+wxs3HdEPe/CpCa4rU+rBq/z9ARZ9UwD0NMOW/c8GoB+9vbBBx9ESkqKc4ffRYsWnTCasvbf5s2bnecsWbIEISEhfo7ufrnydOGUKVOQl5eH4OBgvPzyy85dgmsfNQ3A+hJQzMBbbrkFZ5xxhk855ufnN3hdTEyMc7MSxQA8cOBAg+ebfYJyo1d2RVaO3Nxc547MPEhAVgLUs6yd8z/vKZ/tQurBUjXQ2JNjMfHU4zeM8n8kYyNQ08by5mj6Eqip5xsW/4wt2cXqgMqrv7ecpd0fsvpWwugk8C8B3qOpBCMJrPw7H29t2q8O2aZxKOaN7KRZCrLqOS4uzvn3Nw/7EqAB6Gfv7777bmRkZKBJkyaYP3/+CaM9//zz2LBhg/Oct956C9HR0X6O7n65svmHsgmIcgwfPhyTJk2qM75iAP7yyy9Oc69Tp05o2rSp04TLysrCDz/8gD/++EP9f9T3338/Tj31VK/zvPzyyxu85rXXXkNsbGyD5/EEEiABEiAB7Qi8uj4NCzbuUQN2axmNdyf69mOPdlkxEgmQQF0ESiuqMHDuepRXuX50fGpkD1zQOY7ASIAESIAE6iGwLbsQVy/+ze3TL289B00jtVsHkPBJQEYCNAD97Nrtt9+O/fv3O40sxdA60aE8kff99987T9Ha/Fq/fj3mzp3rjK3sRvzkk08iNLTuG5yyY/GJXlX+6quvVDNTMQeVuPXFqq9eGoB+CouXkwAJkIBOBDbtO4TJH/yuRg8AsIaTYp1oMywJ+Edg4+583L7s3x9mlSMoIABf3XYOosO1fYvEvyx5NQmQAAmIRaDS4cCAl9ajpMK1DiB/PBGrR8zGHAK2MQCVJ9y02HlXeS32/PPPV7slwhOA27ZtwxNPPIGKigqnsffYY4851/Lz55g3bx7WrVvnDKGYnOeee65X4fgKsFe4eDIJGE5A1lcXDAdlwQErqqox7sN/UFrpWgnwvnPaoH9H7RbHNgMbNW0GdY6pF4Fjen7hmxQs+W2fOkzXuAg8PaSjXsMyLgnoRoD3aN3QMnA9BB76ag/+yHEtnzCqWzNcd3q8Jrxk1TNfAdak/VIHoQHoZftqG4BmrwGYlpaGRx991LmJh7IO4fTp0+vdidibUpW406ZNc14ycOBA3HTTTd5c7tW53ATEK1w8mQQ0ISDr4sWaFM8gmPXtPvya6ZoUD0xsgjv6yr2mGDVNYVuJwDE9X7ngZ6Tmub6rV/SIxZU9+fqvlXptl1p4j7ZLp8Wp8/2tB/DBn6516ZNjw/HMkA6aJCirnrkJiCbtlzqIbQxApUuZmZl+N0t5JTYyMlKN8+yzz+Lnn392/rfRuwDv27cPjzzyCIqKipwbiijr9fXs2dPvGpUAyoYiEyZMcMZS1gA8ZgZqErxWEBqAelBlTBI4MQFZJy7sqzYEPt1xEPN/c+0qGhsRjLcuTUJAgPJCsJwHNS1n35h13QQUPQdHNcXQ1350O2HORQnoFueah5IfCchCgPdoWTplnTyVp/8e/tr1BHVQAPDe5Z0RHhzod5Gy6pkGoN+tlz6ArQxAPbr1v//9D8uXL3eGnjVrVr1P3ykm19VXX+001rp164aZM2f6lU5OTg5mzJiBQ4cOOXfyUV5F9nXH3roSKS0txcSJE2kA1oAj643eL6HxYssSoJ4t21qPCssoLMOtn+x2O3fuxR2R0CTMo+tFPImaFrErzMlXAoqeN+dXY8bn29UQkSGBWDwmGUGB8hr1vvLgdfIT4D1a/h7KVkFJhQPjlu6Ew7XiCR4b2A494xv5XYqseqYB6HfrpQ9AA9DPFio75j7++OPOKOPGjcOoUaPqjLhz50489NBDzs+Uc5RzfT2U9fUefvhhHDhwwPm0hrJG3znnnONruDqvS01NxQMPPOD8bMCAAZg8ebKm8WsG4xOAuqFlYBKol4CsExe2VBsC1dXVuGFlGg4crVQDXte7BUZ0babNACZEoaZNgM4hdSOg6PnVTfn44u/96hh92kVhWn//1njWLWEGJoEGCPAeTYmYQeDe1elIyS9Vh76yZ3Nc0aO536nIqmcagH63XvoANAD9bGFlZSWuv/56HD161Ln77nPPPVfnK1RvvPEG1q5d6xxN2bCjU6dOPo1cUFDgfPIvKyvLef2NN96IQYMG+RTrRBfV3ATktttuQ//+/TUf41hAGoC6oWVgEqiXgKwTF7ZUOwIvb8zGV2kFasDerRvh4QvaaTeAwZGoaYOBczh9CQQE4JoVaTh4tFwdZ/IZLTG0c1N9x2V0EtCJAO/ROoFl2BMSeGvTfqz655B6zinxkXh0YILf1GTVMw1Av1svfQAagBq0sOZrwOPHj8eIESPcoipP/ymmnWJ0nXTSSc51++o6Lr/8cuc/K7vzvPLKK8edUlxc7Hx1OD093fnZpEmTMHz4cK8q2Lt3L0JDQxEfX/8OSF999RXmz5/vjBsTE4OXXnoJ4eHhXo3jzck0AL2hxXNJQBsCsk5ctKmeURQCP+4pxFM//PtjknKEBgXgvbHJCAnyf20cMwhT02ZQ55h6EdhzuBx3fLbLLfy8EYloFR2q15CMSwK6EuA9Wle8DF4PgQ17izBnvWsfgPBgZa7T2e+lFGTVMw1AflVoAGqgAWUH3qlTpyI7O9sZTXki7+yzz3Yabdu2bcNHH30EZU095b+VdQI7dKh796ETGYAVFRXO3X537NjhHEN55be+142PlaSYdi1atHCr8Ntvv4XydF/37t2dm3skJCQgKioKDofDuUnK+vXrsXXrVuc1yo3t3nvvxemnn64BpfpD0ADUFS+Dk0CdBGSduLCd2hEoKqvChGUpqLE0Dh4d2A6naLA2jnZZeh6JmvacFc8Un8DK7QexYLNro574qBC8PjJJ/MSZIQnUQ4D3aErDDAKHSysxaXmq29DPDGmP5NgIv9KRVc80AP1quyUupgGoURuVTTlmz56tmoC1w0ZEROCOO+5A79696x3xRAZgbm4ulFdxvTnqetpQMQBfffXVBsNER0c71/3TcmOR+galAdhgO3gCCWhOQNaJi+YgbB6w9to4o09qhkmnuv9wJAsialqWTjFPTwjMWLcPW7KL1VOHJMfg5jPrf3vDk5g8hwTMJMB7tJn07T32zat2IavItZyCFmsey6pnGoD2/i4o1dMA1FADylN+a9aswcaNG6EYgsr6gLGxsc4n7YYNG+Z8tfdEhxEGoLKG4KZNm6C8lqy8Sqz8d1FREZQF4ZUnAZWnE0855RScf/75iIyM1JBO/aFoABqCmYOQgBsBWScubKO2BJb8cQAf/pWvBu3YNAwvDOuo7SAGRaOmDQLNYXQnUFbpwFVLU1BRY+vKqee2Qd+EaN3H5gAkoBcB3qP1Isu4DRGYuzEba2usedy3XTSm9m/T0GUn/FxWPdMA9KvtlriYBqAl2ih3ETQA5e4fs5eTgKwTFzlpi5v137lHMe2rvW4JLhzdCTERweImXU9m1LR0LWPC9RD4PbsYj6zbp34aGAAsGpOMqNAgMiMBaQnwHi1t66RP/Ou0w3hpY45aR5PwIChznYCAAJ9rk1XPNAB9brllLqQBaJlWylsIDUB5e8fM5SUg68RFXuJiZl7pqMb4pSkoqXSoCU45uxXO79hEzIRPkBU1LV3LmHA9BJS1/5Q1AI8dXeMi8ORF7cmLBKQmwHu01O2TOvnsonJMXuW+qdJrlySidWPfN1WSVc80AKWWsibJ0wDUBCOD+EOABqA/9HgtCfhGQNaJi2/V8qoTEXjiuwz8nHFEPeX8Do0xpV9r6aBR09K1jAnXQ+DOz3Yj/XCZ+umVPZvjih7NyYsEpCbAe7TU7ZM6eWWpq2tWpOJQaZVax+194jFTOocKAAAgAElEQVQoKcbnumTVMw1An1tumQtpAFqmlfIWQgNQ3t4xc3kJyDpxkZe4uJl/vvMQXv91v5qg8mrMO6M7IdCPV2PMqJaaNoM6x9SawMGSSucfqjWPJwd3QNfm4VoPxXgkYCgB3qMNxc3BahF4cn0mftpbpP7rwMQmuKNvK585yapnGoA+t9wyF9IAtEwr5S2EBqC8vWPm8hKQdeIiL3FxM88pKsdNtV6NeW5oByQ1k8twoKbF1Rgz85zAul0FeHFDtnpBo9AgLB7bGYGo9jwIzyQBAQnwHi1gU2yU0if/HMSbm3LViltHh+C1EUk+E5BVzzQAfW65ZS6kAWiZVspbCA1AeXvHzOUlIOvERV7iYmd+86pdyCoqV5Mcf0pzjD1ZrlcOqWmxNcbsPCPwzA+ZWL/H9ZTKBclxuLtPHBwO1zqdnkXiWSQgFgHeo8Xqh92ySTtYiru/SHcrW3nboamPm57JqmcagHZT/vH10gCkBkwnQAPQ9BYwARsSkHXiYsNWGVLy/N/249Mdh9SxToqLwGzJNh2gpg2RCgfRkUCVoxqTlqegqNxl9j1wURf0bRlEA1BH7gxtDAHeo43hzFHqJqDcX8ctTUFpjU3P7j+3Nc5OaOwTMln1TAPQp3Zb6iIagJZqp5zF0ACUs2/MWm4Csk5c5KYubvabMo/g0W8z1AQDA4DFY5KhvH4oy0FNy9Ip5lkfgR15Jfjvmj1uH39y09nA0cM0ACkb6QnwHi19C6UvYMa6fdiSXazWcUnXpri+d0uf6pJVzzQAfWq3pS6iAWipdspZDA1AOfvGrOUmIOvERW7q4mZfVunAVUtTUOFwrTPmzy/jZlRKTZtBnWNqSeCDP/Pw/tY8NWTH2Eh8eG0f5OTk0ADUEjRjmUKA92hTsHPQGgT+92ce3qtxj1XWOlbWPPblkFXPNAB96ba1rqEBaK1+SlkNDUAp28akJScg68RFcuxCp1/7l/ELk5rgtj6+75BndLHUtNHEOZ7WBJSn/5SnAI8d43q3w5QByTQAtQbNeKYQ4D3aFOwctAaBP/cX46G1+9R/Ud52WDI2GZEh3r/tIKueaQDyK0EDkBownQANQNNbwARsSEDWiYsNW2VYyR9vP4i3N7t2yIuNDMZbo5IQEBBgWA7+DERN+0OP15pNoKisChOXp6DGQ7iYO+YU9OkYSwPQ7OZwfE0I8B6tCUYG8YOA8rbDlR/uRFWNTdVnDmiHXq0aeR1VVj3TAPS61Za7gAag5VoqX0E0AOXrGTOWn4CsExf5yYtbwb6CMtz26W63BOcO74iEmDBxk66RGTUtRZuYZD0EfthTiKd/yFI/DQ0KwLo7+iMsOIgGIFVjCQK8R1uijdIXcd/qdOzML1Xr+E+PWIzrGed1XbLqmQag16223AU0AC3XUvkKogEoX8+YsfwEZJ24yE9e3Aqqq6tx48dpyC2uVJO85rQ4jOoWK27SNACl6A2TbJjASxuy8fWuAvXE3q2jMO+qM53/zTUAG+bHM8QnwHmH+D2yQ4YLNudi5faDaqk9WkZi1qAEr0uXVc80AL1uteUuoAFouZbKVxANQPl6xozlJyDrxEV+8mJX8OrPOViTelhN8pT4SDw60PuJsRlVUtNmUOeYWhBQzPdrPkrDoRKX+X7D6S1x4wXdaQBqAZgxhCDAe7QQbbB9Ej/vK8IT32eqHMKCAvDe5Z0RrCwI6MUhq55pAHrRZIueSgPQoo2VqSwagDJ1i7lahYCsExer8Be1jo37ijC7xsRYmRAvHpOMiJBAUVNW86KmhW8RE6yHQPqhUtz5ebrbp/NGJqF35/Y0AKkayxDgPdoyrZS6kILSSkxcnupWw7NDOqBTbLhXdcmqZxqAXrXZkifTALRkW+UqigagXP1ittYgIOvExRr0xa3iaEUVxi9NcVsg+6Hz2uKMtlHiJv3/mVHTwreICdZDYMW2fCzcckD9tGVUCOaP6oRWrf7dhZuvAFM6ViDAe7QVumiNGm5etQtZReVqMdf3boFLujbzqjhZ9UwD0Ks2W/JkGoCWbKtcRdEAlKtfzNYaBGSduFiDvthVPPjVHvyVW6ImOaxzDG46I17spAFQ08K3iAnWQ+ChtXvx5/6j6qdDkmNwa5/WiI//93tHA5DSsQIB3qOt0EVr1FB7zdV+CdH477ltvCpOVj3TAPSqzZY8mQagJdsqV1E0AOXqF7O1BgFZJy7WoC92Fcu25WNRjaeR4qNC8PrIJLGTpgEofH+YYN0ESiocGL9sJyodrs8f6N8Gfds3oQFI0ViKAOcdlmqn1MV8mXoYr/yco9YQGxGMty5NQkCA5+sAyqpnGoBSS1eT5GkAaoKRQfwhQAPQH3q8lgR8IyDrxMW3anmVNwR2HyrFXbXXIxuRiFbRod6EMfxcatpw5BxQAwK/ZBTh8e9cC9IHBQCLxyYjKiyEBqAGfBlCHAK8R4vTC7tnsq+gDLd9utsNw5ujkhDXKMRjNLLqmQagxy227Ik0AC3bWnkKowEoT6+YqXUIyDpxsU4HxK3EuSPpilQcKq1Sk7zx9JYY3qWpuEnzCUChe8Pk6icw75ccfJHi2nn75JaReHxQAl9pp2gsR4DzDsu1VNqCHNXVmLgsBUXlrkev7+nXGv07NPa4Jln1TAPQ4xZb9kQagJZtrTyF0QCUp1fM1DoEZJ24WKcDYlfy4oZsrNtVoCbZu3UjPHxBO6GTpqaFbg+Tq4OAYrbftGoX9h+pUD+d2CsOl3WPpQFIxViOAO/Rlmup1AXN+nYffs0sVmvwdr1jWfVMA1Bq2WqSPA1ATTAyiD8EaAD6Q4/XkoBvBGSduPhWLa/ylsD69EI882OWelloUACWjE1GaFCgt6EMO5+aNgw1B9KIQFZhOW7+ZJdbtBeGdUDHpuE0ADVizDDiEOA9WpxeMBNg2V/5WPSHa/f1jk3D8MKwjh6jkVXPNAA9brFlT6QBaNnWylMYDUB5esVMrUNA1omLdTogdiWFZVWYtDwFjmpXnjMHtEOvVo2ETZyaFrY1TKweAp/uOIj5v+WqnzYND8KC0Z2cC9FTz5SN1QhQ01brqNz1bNt/FA+s3asWERgA5w+dkSFBHhUmq55pAHrUXkufRAPQ0u2VozgagHL0iVlai4CsExdrdUHsav67Jh078krVJEd2bYpre7cUNmlqWtjWMLF6CDz6zT5synK9gjYgsTHu7NvaeTb1TNlYjQA1bbWOyl1PWaUD45a678DuzQ+dsuqZBqDcutUiexqAWlBkDL8I0AD0Cx8vJgGfCMg6cfGpWF7kE4EPtubh/T/z1GvbNQnFyxcn+hTLiIuoaSMocwytCJRXOXDV0hSUV7kes625CD31rBVpxhGFADUtSieYxzEC961Ox8581w+dV/Zojit6NvcIkKx6pgHoUXstfRINQEu3V47iaADK0SdmaS0Csk5crNUFsavZmVeC+9bscUvyzVFJiGsUImTi1LSQbWFS9RDYkl2MGev2qZ8GAHh3TDIah/37+hn1TOlYjQA1bbWOyl/P25v24+N/DqmF9IqPxMyBCR4VJqueaQB61F5Ln0QD0NLtlaM4GoBy9IlZWouArBMXa3VB7GqqHNWYtCIVRWVVaqK3nBmPwckxQiZOTQvZFiZVD4EFm3OxcvtB9dPOseF4ekgH9b+pZ0rHagSoaat1VP56ftpbiCf/j73zAI+qSt/4m0lPCAFC6BBK6ItSVUQRFRsKCxZ2dS3YWRVsWMCCBcUCImBbsa7r7l8XRexYkFUUVETFhkACCaRACCWQnsz8nzvInQzMJHdm7tx7zrnvfZ59VjLnnO/7ft/reHhz7z1f+A48S45zed8DGKu9ELCJS1Y90wBsqrPqf04DUP0eC18hDUDhW8QEFSQg68ZFwVYIXdLclYX4PK9Mz/GYzs0wfWQnIXOmpoVsC5MKQmDKu7nI31ujf/rXARk4/4hMGoBUjLIE+B2tbGulLWx3ZR0mvbnJL/+DJ7E3VZSseqYB2FRn1f+cBqD6PRa+QhqAwreICSpIQNaNi4KtELqk5bl7MX9VkZ6j9tvxf53XE3EGfjtudWHUtNXEGS9cAiXltbjirRy/6Y+cloXerZNpAIYLlfOEJ8DvaOFb5MgEr16ag+L9tXrtVw9rizG9WjbJQlY90wBssrXKD6ABqHyLxS+QBqD4PWKG6hGQdeOiXifErijQb8cfHN0F/dumCJc4NS1cS5hQEAIfbdqDJ78u1j9tluDCP8/xf+yMeqZ8VCNATavWUTXqmfdVIVZs9j3pMLJrc2gHMjV1yapnGoBNdVb9z2kAqt9j4SukASh8i5igggRk3bgo2ArhS7rx/c3I3V2t53lu/wxcNND3qKIoBVDTonSCeTRF4MH/bcPX2/brw0Z0ScOtx3f0m0Y9N0WRn8tGgJqWrWPOyPeDDbvxzLfb9WLbpMZh0fjsJouXVc80AJtsrfIDaAAq32LxC6QBKH6PmKF6BGTduKjXCfEreuWHEiz+pVRPtHvLRMwb0024xKlp4VrChAIQqK1348LFG1FV59E/vX54e5zUPZ0GIBWjNAF+RyvdXmmL27K7Cte/v8Uv/xcm9EBGSnyjNcmqZxqA0krVtMRpAJqGkguFS4AGYLjkOI8Ewicg68Yl/Io5M1wCv+yowIyP8/2mv3R2Nlomx4W7ZFTmUdNRwcpFTSbwQ1E5Zi7fqq+qnTX50jnZaJHk/+8T9WwyeC5nOwFq2vYWMIEABNweDy7870aU17r1T289rgNGZDWnAUjFKEmABqCSbZWrKBqAcvWL2apBgBtxNfpoRRV1bg8uWrwRFQ02x4HuWLIil8ZiUNN2d4DxjRB4/rvteHv9bn1oz4wkzDm962FTqWcjNDlGJgLUtEzdclau9y7firVF5XrRY3u3xBVD29IAdJYMHFMtDUDHtFrcQmkAitsbZqYuAW7E1e1tNCp76PNtWLXV986y47LScMtx/u8si0bcUNakpkOhxbF2Efj727ko3Fejhz9/QGv89YjWNADtagjjWkaA39GWoWagEAm8/tNOvLpupz4ru1US5p5x+C9mGi4rq575CHCI4lBwOA1ABZsqW0k0AGXrGPNVgYCsGxcV2MtYw6GnlqYmuPDKIaeW2l0XNW13Bxi/KQJF+2ow+e1cv2FzTs9Cz4xkGoBNwePn0hPgd7T0LVS2gHXF5bjrU9+rGVwxwH8m9kJSnCtozbLqmQagsjI2XBgNQMOoODBaBGgARoss1yWB4ARk3biwp/YQKK2oxWVLcvyCzz6lC/q1SbEnoQBRqWlhWsFEghB4Z/0uPPfdDv3TFkmxePHsbLhitDcB+l/UM2WkGgFqWrWOqlNPVZ0b57++AW7f2UyYNbozBrRNpQGoTptZyR8EaABSCrYToAFoewuYgAMJcCPuwKZHWPIN72/G5t3V+irn9GuFiwe1iXBV86ZT0+ax5ErRIXDP8q34vsF7prSTf7X3aQa6qOfo9ICr2keAmraPPSM3TeCmD7YgZ1eVPvBvR7bGxD8d/nqGgwNk1TPvAGxaC6qPoAGoeoclqI8GoARNYorKEZB146JcIyQq6JUfSrD4l1I9464tEjH/zG7CVEBNC9MKJhKAgHaHiXbSZG2DW0waO2mSeqaMVCNATavWUbXqWbRmO9793XdA05AOqbj7xM5Bi5RVzzQA1dJtONXQAAyHGueYSoAGoKk4uRgJGCIg68bFUHEcFBUCv+2owO0f5/ut/dz4HshMjY9KvFAXpaZDJcbxVhL4Zts+PPC/Aj2k9o6pV87tiWYJsQHToJ6t7A5jWUGAmraCMmOES+CLLWWY82WhPl171/G/zu0Z8BUN2iBZ9UwDMFyFqDOPBqA6vZS2EhqA0raOiUtMQNaNi8TIpU+93u3BxW9sxP4at17LNUe1w2k9WwhRGzUtRBuYRBACT39TjA837tE//VObZDxwSlZQXtQzpaQaAWpatY6qVc/Oilpcfsi7jhee2Q1dWiQq9UsaGoBq6TacamgAhkONc0wlQAPQVJxcjAQMEeBG3BAmDjqEwJyVBfgib5/+06M7NcOMEzoJwYmaFqINTCIAAY/HgyveysHOijr900sGZuLs/hk0AKkYxxDgd7RjWi1toVcs2YSSBt/Tjf2SU1Y90wCUVp6mJU4D0DSUXChcAjQAwyXHeSQQPgFZNy7hV8yZZhBYsXkv5n1VpC+VFBfjfUQmPtZlxvIRrUFNR4SPk6NIIG9PNaa+t9kvQmN3lmgDqecoNoRL20KAmrYFO4OGQGDuykJ8nlemzzixW3PccGyHgCvIqmcagCEIQtGhNAAVbaxMZdEAlKlbzFUVArJuXFThL2sde6vqcMkbm+BpUMC9J3XGwPaptpdETdveAiYQhMCbv5Ti5R9K9E8zU+KwaHwPxMTEBGVGPVNOqhGgplXrqHr1vPf7bjy7ZrteWPu0eDwzrgcNQPVa7eiKaAA6uv1iFE8DUIw+MAtnEeBG3Fn9NrPaW5dtwe87q/Qlx/ZpiSuGtDUzRFhrUdNhYeMkCwjM+DgPv+yo1COd3rMF/n5Uu0YjU88WNIYhLCVATVuKm8HCIJC7qwo3frDFb+bLZ2ejRXLcYavJqmfeARiGMBSbQgNQsYbKWA4NQBm7xpxlJyDrxkV27irk/9pPO/HvdTv1UjqkxePpIL8ht7JeatpK2oxllMD+mnpctHgj3A1um73zhE4Y1qkZDUCjEDlOCQL8jlaijUoXoR12dsF/N6KqznfY2e0jO2J45zQagEp33lnF0QB0Vr+FrJYGoJBtYVKKE+BGXPEGR7G8TaVVuPlD/9+QPz22Ozo0T4hi1KaXpqabZsQR1hNYmVeGR1cW6oHjXTH413k9kRTX+HszqWfre8WI0SVATUeXL1c3h8Ddn+bjx+IKfbHxfVvh0sFtaACag5erCECABqAATXB6CjQAna4A1m8HAW7E7aCuRky3x4PL3tyE3VX1ekFXDGmDsX1a2VogNW0rfgYPQmD+qkIsz/W9VH5w+1TMPKlzk7yo5yYRcYBkBKhpyRrm0HT/s64E//dTqV5979ZJeOS0rjQAHaoHFcumAahiVyWriQagZA1jukoQ4EZciTbaVsSCVUX4NHevHl87BEQ7DMTOi5q2kz5jByKgmeWT3tyEvQ3M8iuHtsFZvZs2y6lnako1AtS0ah1Vs57vi8pxz/KtenHazdr/mdgLCbH+d23Lqme+A1BN3YZSFQ3AUGhxbFQI0ACMClYuSgKNEpB148K2ikHgy/wyPPKF77HGOFcMXjXwWGM0s6emo0mXa4dDYGNpJaZ9mOc39Zlx3dE+renH5anncIhzjsgEqGmRu8PcDhKoqK3HBa9vRIPXtuKhU7ugb2aKHyRZ9UwDkFqnAUgN2E6ABqDtLWACDiQg68bFga0SsuTyPw42qG+wQ55xQkcc3enwF2VbVQA1bRVpxjFK4P/W7cR/fvIdmNOxeQKeGtvd0HTq2RAmDpKIADUtUbMcnurU9zYjb0+1TuHSwZkY3zeDBqDDdaFK+TQAVemkxHXQAJS4eUxdWgLciEvbOmESv+OTfPy83fei7NOyW+Cao9vZlh81bRt6Bg5C4OYPtmDTrir903F9WuLyIW0N8aKeDWHiIIkIUNMSNcvhqT71dTGWbdqjU9BOAdZOA254yapn3gHocHEDoAFIDdhOgAag7S1gAg4kIOvGxYGtErbkN38txcvfl+j5tU6Jw3PjeyAmJsaWnKlpW7AzaBACpRW1uGxJjt+n953cGUe2SzXEjHo2hImDJCJATUvULIen+mnOHixYXaxTaJkchxcn+O9vZNUzDUCHi5sGIAUgAgEagCJ0gTk4jYCsGxen9UnkevP3VmPKu5v9Upw/piu6tkyyJW1q2hbsDBqEwLKNe/DUN76/QKbEu/DPc3oiPtaYQU49U1qqEaCmVeuouvVsK6vGte/4728W/bkH2jSL14uWVc80ANXVrdHKeAegUVIcFzUCNACjhpYLk0BQArJuXNhScQh4PB5ctTQHO8rr9KQuHpiJc/r7vyfHqoypaatIM44RArNWbMW3BeX60OOy0nDLcf6PkDW2DvVshDLHyESAmpapW87OVdvfXLR4I/bVuHUQN4/ogJFdm9MAdLY0lKieBqASbZS7CBqAcveP2ctJgBtxOfsmWtbPfFOMDzb63pPTLzMZs0/NsiVNatoW7AwagEB1nRsXLt6Imgan5Nx4bHuM6pZumBf1bBgVB0pCgJqWpFFM00vg/s+2Yk2h75c4Z/VuiSuH+t7hKqueeQcgBU4DkBqwnQANQNtbwAQcSEDWjYsDWyV0yWsK9uP+Fdt8vxGPAV45pyeaJcZanjc1bTlyBgxC4Jtt+/DA/wr8/r3QHv9NC+HfC+qZ8lKNADWtWkfVruf1n3fi1R99p7j3zEjCnNO7+r7XXS60a3fg4LPi4mK43b67BUUmQwNQ5O5YkxsNQGs4M0ojBGgAUh4kYD0BbsStZ65ixEB3Ot1yXAccl+V7TMaquqlpq0gzTlMEnvy6CB9t2qsP698mGQ+eEtqdsdRzU5T5uWwEqGnZOubsfNcVl+OuT7fqELTXt/5nYi8kxrm8P5NVzzQAna1rrXoagNSA7QRoANreAibgQAKyblwc2CrhS77vs634rsFjMid2a44bju1ged7UtOXIGTAAAbfH4z39d3el792YkwZlYkK/0N6NST1TXqoRoKZV66ja9VTWunHBfzfA7fHV+eApXdC/TQoNQLVbr3x1NACVb7H4BdIAFL9HzFA9AtyIq9dTuyp67/fdeHbNdj18emIsXjw7G7EuY6edmpU3NW0WSa4TCYGNpZWY9mGe3xJPju2GTs0TQ1qWeg4JFwdLQICalqBJTNGPwA3vb8bm3dX6zy4ZmImz/zjoTFY98w5AipwGIDVgOwEagLa3gAk4kICsGxcHtkr4krfvr8FVS3P98nz41Cz0yUy2NHdq2lLcDBaEwKs/luD1n0v1TzukJeDpcd1D5kU9h4yMEwQnQE0L3iCmdxiBQw86O7pTM8w4oZN3nKx6pgFIodMApAZsJ0AD0PYWMAEHEpB14+LAVklR8pR3c5G/t0bP9dz+GbhoYKaluVPTluJmsCAEDr1jZHzfVrh0cJuQeVHPISPjBMEJUNOCN4jpHUbgs9y9eHxVkf7zFkmxeOnsbMTExNAApF6kJUADUNrWqZM4DUB1eslK5CHAjbg8vZIh039+vwNv/LpLTzUrPRELzupmaerUtKW4GSwAgZLyWlzxVo7fJw+M7oI/tT3wzqhQLuo5FFocKwMBalqGLjHHhgSK9tVg8tv+Tzj8Y1x3tEtLoAFIqUhLgAagtK1TJ3EagOr0kpXIQ4AbcXl6JUOmv+2owO0f5/ul+uyfu6NtswTL0qemLUPNQEEIfLBhN5751vc+zGYJLvzznJ5hvQ+TeqbMVCNATavWUfXr8Xg8uPiNTSirrteLvfHY9hjVLZ0GoPrtV7ZCGoAmtra6uhrLli3DqlWrUFxcjLq6OrRu3RqDBg3CmDFjvP8cybVjxw5cd911hpY44YQTcO211zY59ssvv8SKFSuQl5eH8vJytGjRAn369MFpp52GXr16NTnfjAE0AM2gyDVIIDQC3IiHxoujGydQ7/Zg0pv+m+Qrh7bBWb1bWYaOmrYMNQMFIXDoidgjuzbHzSPCOxGbeqbMVCNATavWUWfUM2vFNnxbsF8vdkyvFrh6WDsagM5ov5JV0gA0qa2a4ffQQw+hsLAw4IopKSmYOnUqBg8eHHZEMw3AmpoaPPbYY1i7dm3AfLR3G5x33nk499xzw87X6EQagEZJcRwJmEeAG3HzWHKlAwQe/6oQn20u03EMbJeCe0/uYhkeatoy1AwUgEBlrRsXLt6IOrdH/1Qz/zQTMJyLeg6HGueITICaFrk7zC0YgcW/lOKVH0r0j3u0SsRjZ3SjAUjJSEuABqAJrauqqsL06dNRUFDgXe3kk0/GiBEjkJCQgJ9//hlvvfUWtDGJiYmYNWsWsrKywora0AD861//iqFDhwZdp1mzZmjVKvidFwsWLMDKlSu98/v37++9Q7Fly5bIz8/HkiVLsH37gUdYrr76am890bxoAEaTLtcmgcAEuBGnMswm8GV+GR75wvdLsDgX8Mq5PZESH2t2qIDrUdOWYGaQIARWbd2Hhz4/sA/UrtgY4J/n9kSzhPD0Tz1TaqoRoKZV66gz6vl5ewXu+MT3ihNXDPCfib2QkhCHdu3aeSFoNwK53W4pgPAUYCnaFNUkaQCagPf111/H4sWLvStdeOGFGDdunN+qGzZswMyZM6EZXZrZpv1zOFdDA/Caa67BqFGjwlkGv/76K+655x7v3CFDhuCWW27x/hbj4FVWVobbb78dO3fuRGpqKp544gnv/0frogEYLbJclwSCE+BGnOowm0BFbT0u8t4B5Vv5tuM74Ngu4d0BFWp+1HSoxDjeTAILVhXh09y9+pJHtE3B/aPDvwOWejazO1xLBALUtAhdYA6hEqiqc+P81zegwc3dmDW6M45sn0YDMFSYHC8EARqAEbZBe8/flVde6X1/XseOHTF37lw/M+3g8s8++yw++eQT7x+1R4W7d+8ecmSzDMDZs2fj+++/9+b55JNPIiMj47BctHcDzp8/3/vziy66CGPHjg05X6MTaAAaJcVxJGAeAW7EzWPJlXwEZn6ajx+KK/QfnNS9Oa4fHt470ELlSk2HSozjzSLg9hx4B+beKt+L4i8f0gbj+oT/Dkzq2azucB1RCFDTonSCeYRK4KYPNiNnV7U+7aIjMzHxiEwagKGC5HghCNAAjLAN69at8z7Wq10XXHABxo8fH3BF7S7AO++80/vZhAkTcP7554cc2QwDUHsU+fLLL0dtbS0GDhyIGTNmBMxDMza1cZWVlejduzfuv//+kPM1OoEGoFFSHEcC5hHgRtw8llzJR+Dd33dh0Zod+g+aJ8bipbOzwzoFNVSu1DCAnWQAACAASURBVHSoxDjeLAK/lVTg9o/8T8F+Zlx3tE8L/xRs6tms7nAdUQhQ06J0gnmESuAf3xbj/Q179GnDOjbD3Sd1oQEYKkiOF4IADcAI2/Daa6/hjTfe8K6iGYHBTs7VTK5JkyZBOym4b9++uPfee0OObIYBqL2T8L777vPGbsyw1D5/4IEH8OOPPyI2NhavvPIK4uLiQs7ZyAQagEYocQwJmEuAG3FzeXK1AwS276/BVUtz/XA8dGoX9M1MiToiajrqiBkgCIGX1u7Akt926Z92Tk/AE2eF/qRHw+WpZ8pNNQLUtGoddU49/9u8F499VaQXrP1y81/n9UL79u29P+M7AJ2jBRUqpQEYYRe1k3RXr17tXeXFF19s9F152rv28vLy0Lx5czz33HMhR25oAHbr1g379+/H7t27ER8f732Mt0+fPhg9enSjjxd/+OGHeOGFF7yxp02bhqOOOipoHlo9H3zwgfdzrc5OnTqFnLORCTQAjVDiGBIwlwA34uby5Go+AlPezUX+3hr9B+f0a4WLB7WJOiJqOuqIGSAAAY/Hg7+/k4uifbX6p+f1z8CFAzMj4kU9R4SPkwUkQE0L2BSmZIhAoF9u/uPP2Rjc68B7XmkAGsLIQYIQoAEYYSPuuOMObNy40XvCr3aXXGOX9u6/tWvXeoe8+uqrXuMulKuhAdjYPM0EvPTSSwOur8VdunSpd7r2LsAePXoEXertt9/Gv/71L+/n2qPC2iPDRq/S0tImh7Zo0cJ7d6FmAJaU+I5Xb3KiTQO0jUubNgf+Eqv1QpbTnmzCxbCCE6CeBW+QxOm9vHY7Fv/i+29Al/REPDku+H9rzCqVmjaLJNcJhUDenipc947/Xa+PjemGnhnJoSxz2FjqOSJ8nCwgAWpawKYwJUMEtF/0XLx4A/Y0eM/rTcd1xPnDe0v398LMzEzv3795OZcADcAIe3/TTTdh27ZtSE9Px6JFixpdbd68eVi1apV3zPPPP4+0tLSQomum02233YZhw4Z5TxPWbjvWTETtLkDtXYTLly+H9o4/7TruuOMwderUw9bX7jz86KOPvD/X8tEOLgl2aeMO3qmo1XnMMccYznfixIlNjn366acDHkDS5EQOIAESIAESEJbAjwV7ccW/v/PL760rh6Nji8gMEWELZmKOJvDCqi14eqXPAGyTloh3rz4WMTExjubC4kmABEhAJQK3LFmHFZt26iWdc2RH3H7qAQOQFwnIRIAGYITdmjJlCrZv3+41sjRDq7HriSeewOeff+4dEo75pR3Mod0tp91tGOgqKiryHtaxc+eBL6dbb70VQ4cO9Ruqxf3ss8+8P1u4cCHatm0bNGXNUHzmmWe8n1933XUYOXKkYVo0AA2j4kASIAESUIpAvduD059aiT2Vvkcip53cE38Z3FmpOlkMCWgELn7lW/xWvE+HMXFQJ9wyuhfhkAAJkAAJKETglW/ysOB/OXpFPTOb4d+Tgr9KS6HSWYpiBBxjAGrGWTgn7x7a72uuuQajRo3Sf2zlHYBGtLd+/Xrcfffd3qEDBgzAXXfd5TfNqjsA+QiwkW5xDAnYR4CP4tjH3gmR531ZgOW5e/VSB7ZPxf2js6JaOjUdVbxcPACBkvJaXPbmRr9PZo3OwpHtUyPmRT1HjJALCEaAmhasIUwnJAK/7KjA7cu26HNcMcDyqSORmhAn1auh+AhwSG1XcjANwBDbeqgBaOU7AI2mevPNN2Pr1q3ex4O19xJq/8E9eFn1DkCjuWrjeAhIKLQ4lgTMIcCXcZvDkasEJvBVfhke/qJQ/zDOBbxybk+kxEfvvTPUNNVoNYH3ft+NZ9ds18M2S3Dh5XN6Ik77m2GEF/UcIUBOF44ANS1cS5hQCASq69w4//UNqPf4Jj05cSCOymrFQ0BC4Mih9hNwjAGooS4oKIiYeMuWLZGSkqKvM3fuXHz99dfeP0f7FGCjyTc8mVi74087dfjgxVOAjVI8fBw3LuGz40zxCFDP4vVEpYwqautx0eKNqHP7qrr1+A4Y0cX33yOz66WmzSbK9QIR8FRWALt3AtVVuPs3YN1un8hHdWuOG4/tYAo46tkUjFxEIALUtEDNYCphEZj24RZsLD3wvn3tmnxcN1w+vBsNwLBocpJdBBxlAEYD8muvvYY33njDu/SsWbPQq1fg975od7lNmjQJ1dXV6Nu3L+69995opONdszED8Oeff8Z9993nHXfBBRdg/PjxQfN44IEH8OOPP3pPCtLuJIyLi4tKzrwDMCpYuSgJNEqAG3EKJNoEZn6ajx+KK/QwJ3ZrjhtMMkcC5U5NR7ujzl1fOwESv/8E92fvAz+sBtxu7ItLxqUj7oY7xndX6+3Hd8Bwk0xu6tm5elO1cmpa1c46p65Fa7bj3d936wWP6J6Bx885kgagcySgRKU0ACNso2aQaUZZU4bahg0bcOedd3rHaaabZr5F6zr4XsJAjwBXVlbi8ssvh3agyMCBAzFjxoyAaWifa+O08ZqpqZmb0bpoAEaLLNclgeAEuBGnOqJN4N3fd2HRmh16mOaJsXjp7GzEmvB4JA3AaHeP6x8k4MnLgfuFeUBhvh+UFW0HY0Hfv+o/S6ivxUu5zyPl0imIyeoRMUB+R0eMkAsIRoCaFqwhTCdkAl9sKcOcL32vN2me4MJ7p2Vgd0Ul3OmtEJPse0ow5MUtmqAdAKrd3MPLuQRoAEbYe80ou+KKK1BRUYGOHTt6776LiTn83S/PPvssPvnkE2+0Bx98ENnZ2RFGDjy9qUNAtFmzZ8/G999/7/2XXzuZWDvB+NDryy+/xPz5870/vvDCCzFu3Lio5KstSgMwami5MAkEJcCNOMURbQLb99fgqqW5fmEePKUL+reJzgaZmo52R523vufX7+F+arb3cd9Dr0f6X4TVmQP0Hw/b+Qum//wykJgE1zXTEdNvUETAqOeI8HGygASoaQGbwpRCIrBjfw2uPGRfs/DrR9GxsgTQ3rk/6Bi4Ro0Beg8I6AeEFCxKg2kARgmsRMvSADShWQ0fAw5klml3/82cOdNrdPXr1w/33HNPwKgTJ070/lw7nefJJ588bMw333yDYcOGBf1CKS4u9j7eu3PnTu9c7TCQo48++rB1Gj4GPHToUEybNs3voJCysjLcfvvt3nVSU1OxcOFCNGvWzARSgZegARg1tFyYBIIS4Eac4rCCwNT3NiNvT7UeanzfVrh0cJuohKamo4LVsYt67/x7dHpA86/aFYdJI+5BdWyCzue69a/hpOLvDvxZMwFvmR3RnYDUs2Olp2zh1LSyrXVEYdp/E+pfmIcrsy7CrsR0veZr17+Ok4vX+DPo0AWuy26M6L8B0YJKAzBaZOVZlwagCb3SHpPVDLOioiLvaqNHj8axxx6LhIQE/PLLL1iyZAmqqqq8f9Yepe3atWvAqE0ZgNrn7dq1w1FHHeW9g1C7c097zHfXrl1Yt24dPv30U+87BrVr+PDhuPHGG4NW9/jjj+Orr77yft6/f3+ceeaZ0A44yc/Px5tvvont2w+canfllVfilFNOMYFS8CVoAEYVLxcngYAEuBGnMKwg8OqPJXj951I9VLtm8XhmXPeo/Gacmraio86Iob3zz33PlMMe+z1Y/TcZ/fDQgEk6DJfHjRe+ug/Na33vvETHLLhmLghb69SzM7TmpCqpaSd1W61aG94N/kj/C7E68wi9wFMKv8bfNxw4D8DvMulucLNJ0gA0m6h869EANKln2t132qO1B03AQ5dNTk7G1KlTMWTIkKARjRiARtI99dRTcckll3jNwWBXTU0NtBOMtUeBA13aY8znnHMODuZkJG64Y2gAhkuO80ggfALciIfPjjONE8jZVYWbPtjiN2Hhmd3QpUWi8UUMjqSmDYLisCYJeNavg3vugfc2B7qe6H0elrcfpn/Uf08O7v/hH4cNdU17ADG9fY8JNxm4wQDqORRaHCsDAWpahi4xx0MJHHo3+NJOI/Fy9ln6sC77i/D4mnmBwZlwN7jZHaEBaDZR+dajAWhiz7S7/JYtW4bVq1d7TwPS3g+o3aU3aNAgjBkzxvtob2NXUwbgmjVroD1OvGnTJpSUlGDfvn3eO/40c1H7l7lPnz448cQT0aVLF8NVrVy5EitWrEBeXh7Ky8uRnp7uPaX49NNPD3qiseHFDQ6kAWgQFIeRgIkEuBE3ESaXCkpAu5PqirdysLOiTh/ztyNbY+KfWptOjZo2HaljF6x/5iHguwNPSRx61ce4cNmxd2FffKr+0WUbl+Ksgi8PGxszZARck28LiyP1HBY2ThKYADUtcHOYWkACge4G/715F0wffJ0+Psbjxj9X3oPU+sPfFesdFOHd4Ga3hgag2UTlW48GoHw9Uy5jGoDKtZQFSUCAG3EJmqRIis+u2Y73ft+tV5PdKglzzwj8KoxISqamI6HHuQcJeCor4L7hAsDtDgjll/TuuGvQZL/Pnlk9G22qfBrXP3S54Hr832GdDEk9U5OqEaCmVeuo+vUEuhu8NiYWfzv+ftS54nQAd/+4CAN3bwwKJJK7wc2mTAPQbKLyrUcDUL6eKZcxDUDlWsqCJCDAjbgETVIkxXXF5bjr061+1Tw3vgcyU4O/piKc0qnpcKhxzqEEPIX5cM/03d1x6OfPZ4/Fe52O13/cbV8B5n43P/hf/O57EjHtO4cMmnoOGRknCE6Amha8QUzvMALB7ga/fdC12JCepY//y+aP8Je8T4ISjORucLPbQgPQbKLyrUcDUL6eKZcxDUDlWsqCJCDAjbgETVIkxTq3Bxe/sRHlNb47qq4a2hZn9m5paoXUtKk4HbuYZ/MGuB+cFrB+N2Jw1fDp2JXYQv/8r5s/wsRG/uLnmjEHMd16hcyTeg4ZGScIToCaFrxBTM+PQGN3g7/Y4yy803mkPn7grt9x97rngxOM4G5ws9tCA9BsovKtRwNQvp4plzENQOVayoIkIMCNuARNUijFeV8WYsWWMr2iI9ul4L6Tjb+v1ggKatoIJY5pikBjdwAe+u4nba3538xB54odQZd18Q7AppDzc4cQ4He0QxqtSJmN/bfgq8wBmNP/Ir3SlLpK73sAXfCY/t8Cs3HSADSbqHzr0QCUr2fKZUwDULmWsiAJCHAjLkGTFErxq/wyPPxFoV5RbAzwz3N7ollCrGlVUtOmoXT0QqHc9dG5vBjzv30sOK/YWLjmvcp3ADpaUSz+IAF+R1MLMhFo7G7wnYnpuGr4HX7lNPnLoDDvBjebGQ1As4nKtx4NQPl6plzGNACVaykLkoAAN+ISNEmhFCtr3bho8UbUun2/Hb/p2PY4oVu6aVVS06ahdPxCgd77pCn36mOmY2eS79H1iVs+xl+3fByUVyTvfaKeHS9D5QBQ08q1VOmCmnof7FV//Pcgqb4a2WVbcXHu+8jety0ok3DvBjcbMg1As4nKtx4NQPl6plzGNACVaykLkoAAN+ISNEmxFGet2IpvC8r1qkZ0ScOtx3c0rUpq2jSUjl8o0MmPG9M64bYhU/3YzPv2MWSVFwf/C9+0BxDTe0BYPKnnsLBxksAEqGmBm8PUDiPQ1InwP7TsifTa/ehSvh2xnsCnxuuLRnA3uNmtoQFoNlH51qMBKF/PlMuYBqByLWVBEhDgRlyCJimW4seb9uCJr31mSVKcC6+cm42EWJcplVLTpmDkIgA8Hg/c90wBCvN1Hv/sfgbe6nKi/ucOFSVY+M2jiAlGrGMWXDMXICYm6IhGWVPPlKJqBKhp1Tqqfj3BTgEOtfJI7gYPNVZT42kANkVI/c9pAKrfY+ErpAEofIuYoIIEuBFXsKmCl7Snqg6T3tjk94rsu0Z1wtCOzUzJnJo2BSMX+YOAJy8H7kenA9VVXs1ec/Rt2J6cofM5J+9T/G3zssC8EpPgumU2YrJ6hM2Teg4bHScKSoCaFrQxTCsogUB3g4eDyxXB3eDhxGtsDg1As4nKtx4NQPl6plzGNACVaykLkoAAN+ISNEnBFKd/lIdfSyr1yk7NTse1R7c3pVJq2hSMXKQBAc+v38P91GzkxGfglqHX+7GZs+ZxdN/vO9hG/1Az/66Zjph+gyJiST1HhI+TBSRATQvYFKbUKIFAd4OHjCzCu8FDjtfEBBqAZhOVbz0agPL1TLmMaQAq11IWJAEBbsQlaJKCKb71WyleXFuiV5aeFIsXJ2Qj1hXeY5INEVHTCgpGgJK0OwH/uXQV3swYqmfTtrIUT3398OGP/2p/0bv0hoju/DsYhHoWoPlMwVQC1LSpOLmYRQQa3g0eckgT7gYPOSYNQLORKbceDUDlWipfQTQA5esZM5afADfi8vdQxgqK9tVg8tu5fqk/dGoX9M1MibgcajpihFwgAAHtDpC/v52Lov21+qfj8z/DxbkfHPhzbCxiBh6DmBPHAL3+FPY7/w4NTT1TjqoRoKZV66hz6jl4N7j2SgjDl0l3gxuOZ3Ag7wA0CErhYTQAFW6uLKXRAJSlU8xTJQLciKvUTblqmfJuLvL31uhJT+jbCpMGt4m4CGo6YoRcIACBLburcP37W/w+mTM0CdkJNUBSMtAiAzHJkRvYNAApP9UJ8Dta9Q6rXZ/3TsAX5vkdDhW0YhPvBjebKg1As4nKtx4NQPl6plzGNACVaykLkoAAN+ISNEnRFP/1Qwn++0upXl2HtHg8NbZ7xHdOUdOKCsbmsl79sQSv/+zTa5vUODz75x4R67Wpsqjnpgjxc9kIUNOydYz5HkpAuyMcG36G+7P3gO9XA263b0iU7gY3uws0AM0mKt96NADl65lyGdMAVK6lLEgCAtyIS9AkRVPcWFqJaR/m+VX3xFnd0Dk9MaKKqemI8HFyAALaX/aue3cztpX57lgd37cVLjXhjtWmgFPPTRHi57IRoKZl6xjzbYxATHUVWsfGwF1Zjl3llXCnt4zK3eBmd4EGoNlE5VuPBqB8PVMuYxqAyrWUBUlAgBtxCZqkaIqaqXL5khyUVtbpFf7tyNaY+KfWEVVMTUeEj5MDEMjfU40p7232++SR07LQu3Vy1HlRz1FHzAAWE6CmLQbOcFElIKueaQBGVRZSLE4DUIo2qZ0kDUC1+8vqxCQg68ZFTJrMKlQC//i2GO9v2KNP694yEfPGdAt1Gb/x1HRE+Dg5AIH/W7cT//lpp/5JRkocnhvfA66YyE+tbgo49dwUIX4uGwFqWraOMd/GCMiqZxqA1DUNQGrAdgI0AG1vARNwIAFZNy4ObJWSJa8rLsddn271q+0f47qjXVpC2PVS02Gj48QgBA49sGZs75a4YmhbS3hRz5ZgZhALCVDTFsJmqKgTkFXPNACjLg3hA9AAFL5F6idIA1D9HrNC8QjIunERjyQzCodAvduDSW9uQll1vT590qBMTOiXEc5y3jnUdNjoODEAgbw91Zh6yOO/D57SBf3bmH/ib6AGUM+UpWoEqGnVOursemTVMw1AZ+tWq54GIDVgOwEagLa3gAk4kICsGxcHtkrZkp/8uggfbdqr19crIwmPnt417Hqp6bDRcWIAAoee/puRHIfnJljz+C8NbUpSRQL8jlaxq86tSVY90wB0rmYPVk4DkBqwnQANQNtbwAQcSEDWjYsDW6VsyWsL9+Pez7b51ff8hB5onRIfVs3UdFjYOCkAAe2gmr+/k4uifbX6p3/u0xKXDbHm8V8agJSligT4Ha1iV51bk6x6pgHoXM3SAGTvhSFAA1CYVjARBxGQdePioBYpX2ptvQeXvLkR5TVuvdYrhrTB2D6twqqdmg4LGycFILCptAo3f7jF75M5p2ehZ0b0T/89GJR6pjRVI0BNq9ZRZ9cjq55pADpbt1r1vAOQGrCdAA1A21vABBxIQNaNiwNbpXTJ81cVYnlumV5jv8xkzD41K6yaqemwsHFSAAIvrt2Bt37bpX/Srlk8nhnXHTEWnP5LA5CSVJUAv6NV7awz65JVzzQAnanXhlXTAKQGbCdAA9D2FjABBxKQdePiwFYpXfI32/bhgf8V6DXGAHjx7Gy0TI4LuW5qOmRknBCAgNvjwZVv5WBnRZ3+6bn9M3DRwExLeVHPluJmMAsIUNMWQGYIywjIqmcagJZJRNhANACFbY1zEqMB6Jxes1JxCMi6cRGHIDMxg0BNvRsXLd6EqjrfY8CTh7XFGb1ahrw8NR0yMk4IQOC3HRW4/eN8v0/mj+mKri2TLOVFPVuKm8EsIEBNWwCZISwjIKueaQBaJhFhA9EAFLY1zkmMBqBzes1KxSEg68ZFHILMxCwCc1cW4vM832PAR7RLwf0ndwl5eWo6ZGScEIDAP74txvsb9uifdElPwMKzulvOinq2HDkDRpkANR1lwFzeUgKy6pkGoKUyETIYDUAh2+KspGgAOqvfrFYMArJuXMSgxyzMJPBVfhke/qJQX9IVA7x8djaaJ4X2GDA1bWZXnLlWvduDS5dswt6qeh3A345ojYkDWlsOhHq2HDkDRpkANR1lwFzeUgKy6pkGoKUyETIYDUAh2+KspGgAOqvfrFYMArJuXMSgxyzMJKA9/nvR4o2oqffoy153dDuckt0ipDDUdEi4ODgAgR+KyjFz+Va/T54e2x0dmidYzot6thw5A0aZADUdZcBc3lICsuqZBqClMhEyGA1AIdvirKRoADqr36xWDAKyblzEoMcszCbw0OcFWLV1n77skA6puPvEziGFoaZDwsXBAQgsXF2ET3L26p/0aJWEx87oagsr6tkW7AwaRQLUdBThcmnLCciqZxqAlktFuIA0AIVrifMSogHovJ6zYvsJyLpxsZ8cM4gGgc+3lGHul77HgONcwMvn9ESzhFjD4ahpw6g4MACB2noPLnlzI8prfAfSTBqUiQn9MmzhRT3bgp1Bo0iAmo4iXC5tOQFZ9UwD0HKpCBeQBqBwLXFeQjQAnddzVmw/AVk3LvaTYwbRIFBRW+89DbjO7XsM+Ibh7XFi93TD4ahpw6g4MACBb7ftx6z/bfP75LnxPZCZGm8LL+rZFuwMGkUC1HQU4XJpywnIqmcagJZLRbiANACFa4nzEqIB6Lyes2L7Cci6cbGfHDOIFoFZK7bh24L9+vJHd2qGGSd0MhyOmjaMigMDEHh0ZQFW5vkeQ++bmYyHTs2yjRX1bBt6Bo4SAWo6SmC5rC0EZNUzDUBb5CJUUBqAQrXDmcnQAHRm31m1vQRk3bjYS43Ro0lgee5ezF9VpIeId8Xgn+dmIyXe2GPA1HQ0u6P22todqJe8scnvIJqrhrbFmb1b2lY49WwbegaOEgFqOkpguawtBGTVMw1AW+QiVFAagEK1w5nJ0AB0Zt9Ztb0EZN242EuN0aNJYH91vfcdbHW+V7AhlMeAqelodkfttT/N2YMFq4v1ImNjgJfOzkbzpDjbCqeebUPPwFEiQE1HCSyXtYWArHqmAWiLXIQKSgNQqHY4MxkagM7sO6u2l4CsGxd7qTF6tAnMWrEV3xaU62GGdkjFXQZPA6amo90ddde/69N8rCuu0Asc1rEZ7hxl/PHzaJChnqNBlWvaSYCatpM+Y5tNQFY90wA0WwnyrUcDUL6eKZcxDUDlWsqCJCAg68ZFArRMMQICKzbvxbyvfI8Ba3diaacBpyU2/RgwNR0BeAdPLa2oxeVLcuA7fga49bgOGJHV3FYq1LOt+Bk8CgSo6ShA5ZK2EZBVzzQAbZOMMIFpAArTCucmQgPQub1n5fYRkHXjYh8xRraCgPYutosXb0Jtg9OArzu6HU7JbtFkeGq6SUQcEIDAm7+W4uXvS/RPUuJd3sd/E+NctvKinm3Fz+BRIEBNRwEql7SNgKx6pgFom2SECUwDUJhWODcRGoDO7T0rt4+ArBsX+4gxslUEHvp8G1Zt9Z0GPLBdCu49uUuT4anpJhFxQAAC17+3GVv2VOufjO6RjinHtLedFfVsewuYgMkEqGmTgXI5WwnIqmcagLbKRojgNACFaIOzk6AB6Oz+s3p7CMi6cbGHFqNaSWBlXhkeXVmoh3TFAC+enY0WTRzIQE1b2SU1Ym3ZXYXr39/iV8z9J3fGEe1SbS+Qera9BUzAZALUtMlAuZytBGTVMw1AW2UjRHAagEK0wdlJ0AB0dv9ZvT0EZN242EOLUa0kUFXnxsWLN6K63vdWtsnD2uKMXi0bTYOatrJLasR6+fsdePPXXXoxGSlxeG58D7hiYmwvkHq2vQVMwGQC1LTJQLmcrQRk1TMNQFtlI0RwGoBCtMHZSdAAdHb/Wb09BGTduNhDi1GtJvDoygKszNunh/1Tm2Q8cEoWDUCrG6FwPLfHgyuW5KC0sk6v8ux+rXDJoDZCVM3vaCHawCRMJEBNmwiTS9lOQFY90wC0XTq2J0AD0PYWMAEagNQACVhPQNaNi/WkGNEOAqu37sPszwv00Nr9WM9P6IGMlPig6VDTdnRK3pjristx16db/QpYcGY3ZLVIFKIo6lmINjAJEwlQ0ybC5FK2E5BVzzQAbZeO7QnQALS9BUyABiA1QALWE5B142I9KUa0g0BNvRuXvLEJFbVuPfwVQ9pgbJ9WNADtaIiCMResKsKnuXv1yrq1TMTjY7oJUym/o4VpBRMxiQA1bRJILiMEAVn1TANQCPnYmgQNQFvxM7hGgAYgdUAC1hOQdeNiPSlGtIvAvK8KsWJzmR6+d+tkPHJa8MeAqWm7OiVf3Oq6AwZzZZ3PYJ40KBMT+mUIUwz1LEwrmIhJBKhpk0ByGSEIyKpnGoBCyMfWJGgA2oqfwWkAUgMkYA8BWTcu9tBiVDsIrCnYj/tXbPMLvejPPdCmWeDHgKlpO7okZ8wVm/di3ldFevJGHjG3ulLq2WrijBdtAtR0tAlzfSsJyKpnGoBWqkTMWDQAxeyLo7LiHYCOajeLFYSArBsXQfAxDQsI1NZ7MOnNjdhf47tL65JBmTg7yF1a1LQFTVEkxF2f5GPd9gq9mkHtU3HPSZ2Fqo56FqodTMYEAtS0CRC5yGyu1wAAIABJREFUhDAEZNUzDUBhJGRbIjQAbUPPwAcJ0ACkFkjAegKyblysJ8WIdhJYuLoIn+T43tPWo1USHjuja8CUqGk7OyVP7O37a3DV0ly/hKeN6IDjuzYXqgjqWah2MBkTCFDTJkDkEsIQkFXPNACFkZBtidAAtA09A9MApAZIwD4Csm5c7CPGyHYQ+KGoHDOX+5/U+sy47miflnBYOtS0HR2SL+b//bQT/1m3U088NcGFl87ORkKsS6hiqGeh2sFkTCBATZsAkUsIQ0BWPdMAFEZCtiVCA9A29AxMA5AaIAH7CMi6cbGPGCPbQaDe7cGlb27C3up6Pfz5R7TGXwe0pgFoR0Mkj+n2eDD57Vxs31+rV3JGzxaYfFQ74Srjd7RwLWFCERKgpiMEyOlCEZBVzzQAhZKRLcnQALQFO4M2JMBHgKkHErCegKwbF+tJMaLdBP7xbTHe37BHT6NDWgKeGtsNMTHa0Q2+i5q2u1Pix/9peznu/MT/jtI5p2ehZ0aycMlTz8K1hAlFSICajhAgpwtFQFY90wAUSka2JEMD0BbsDEoDkBogAXsJyLpxsZcao9tB4Pedlbh1WZ5f6ECmDTVtR3fkijl/VSGW55bpSXdOT8DCMw83k0WoinoWoQvMwUwC1LSZNLmW3QRk1TMNQLuVY398GoD298DxGfAOQMdLgABsICDrxsUGVAxpMwHPH49tFjd4bPOs3i1x5dC2fplR0zY3SvDwFbX1mPTGJlTXe/RMJw3KxIQgp0rbXQ71bHcHGN9sAtS02US5np0EZNUzDUA7VSNGbBqAYvTB0VnQAHR0+1m8TQRk3bjYhIthbSbw73UleO2nUj2L9KRYvDghG7Eu32PA1LTNTRI8/Cc5e7BwdbGepSadFyZko2VynJCZU89CtoVJRUCAmo4AHqcKR0BWPdMAFE5KlidEA9By5Ax4KAEagNQECVhPQNaNi/WkGFEEAgVlNbjmnVy/VGae2AmDOzTzGTouF9q1O3CYQ3FxMdxutwipMwdBCEz/KA+/llTq2QzrmIo7R3UWJLvD0+B3tLCtYWJhEqCmwwTHaUISkFXPNACFlJOlSdEAtBQ3gwUiQAOQuiAB6wnIunGxnhQjikJg2odbsLG0Sk/nhK7NcdOIDjQARWmQwHkU7avxnv7b8Lr9+I4Y3iVN2Kz5HS1sa5hYmASo6TDBcZqQBGTVMw1AIeVkaVI0AC3FzWA0AKkBEhCDgKwbFzHoMQs7CLyzfhee+26HHjoxNgYvn9MTyfEu78+oaTu6IkfMV34oweJffI+QpyUeeIQ8Ptb/JGmRqqGeReoGczGDADVtBkWuIQoBWfVMA1AUBdmXBw1A+9gz8h8EeAcgpUAC1hOQdeNiPSlGFIXAnso6XLpkE9y+Mxxw47HtMapbOg1AUZokYB51bg8uX7IJe6rq9ewCHSIjWur8jhatI8wnUgLUdKQEOV8kArLqmQagSCqyJxcagPZwZ9QGBGgAUg4kYD0BWTcu1pNiRJEI3PfZVnxXWK6nNLh9KmaedOA9btS0SJ0SJ5dV+fvw0BcFfgktOLMbslokipNkgEyoZ6Hbw+TCIEBNhwGNU4QlIKueaQAKKynLEqMBaBlqBgpGgAYgtUEC1hOQdeNiPSlGFInAis17Me+rIj0l7SRX7VHOFslxNABFapRAudy7fCvWFvlM4z6tk/HwaVkCZRg4FX5HC98iJhgiAWo6RGAcLjQBWfVMA1BoWVmSHA1ASzAzSGMEaABSHyRgPQFZNy7Wk2JEkQhU1blxyRsbUVXnew74iiFtMLZPKxqAIjVKkFy276/B1Utz0eCpcVw/vD1O6n7gsXGRL35Hi9wd5hYOAWo6HGqcIyoBWfVMA1BURVmXFw1A61gzUhACNAApDRKwnoCsGxfrSTGiaATmfVmIFVvK9LR6tErCY2d0pQEoWqMEyOfVH0vw+s++wz9S41148exsJMYdODhG5Ivf0SJ3h7mFQ4CaDoca54hKQFY90wAUVVHW5UUD0DrWjEQDkBogAWEIyLpxEQYgE7GNwNrC/bj3s21+8bV3unVrlYx27dp5f15cXAy3221bjgxsP4F67fCPt3Kwu7JOT+bMXi1w1bADGhH94ne06B1ifqESoKZDJcbxIhOQVc80AEVWlTW50QC0hjOjNEKAdwBSHiRgPQFZNy7Wk2JE0Qhoxs4Vb+VgVwNjZ3zfVrh8aDsagKI1y8Z8vt66Dw9+7n/4x/wxXdG1ZZKNWRkPze9o46w4Ug4C1LQcfWKWxgjIqmcagMb6q/IoGoAqd1eS2mgAStIopqkUAVk3Lko1gcWETeDl73fgzV936fNbJMXixXN6oVOH9t6f8Q7AsNEqM/HQE6N7t07CI6d1laY+fkdL0yomapAANW0QFIdJQUBWPdMAlEJeUU2SBqCJeKurq7Fs2TKsWrXK+5ePuro6tG7dGoMGDcKYMWO8/xzJde2116KkpCSkJZ544gm0adPGb87rr7+OxYsXG1pn5syZ6N+/v6Gx4Q6iARguOc4jgfAJyLpxCb9izlSJwLa91bj23c1+Jd11YmeMG9qTBqBKjQ6zlpLyWlz5Vo7f4R9TjmmH0T1ahLmi9dP4HW09c0aMLgFqOrp8ubq1BGTVMw1Aa3UiYjQagCZ1RTP8HnroIRQWFgZcMSUlBVOnTsXgwYPDjhiqAajFfPbZZ5GQkEADMGzqvomyftGbUDqXUJAA9axgUx1W0q3LtuD3nVV61cO7pGHBX4bRAHSYDgKV++91JXjtJ9/hHyl/HP6RJMHhHwfr4Xc0hawaAWpatY46ux5Z9UwD0Nm61aqnAWiCBqqqqjB9+nQUFBx418zJJ5+MESNGeI23n3/+GW+99Ra0MYmJiZg1axaysrLCiqqZi9pdhY1dP/30E15++WU9j6uvvvqw4Q3vAJwzZ06j62l3DyYlRfd9ObwDMCw5cBIJRERA1o1LREVzslIEPty4G09/s12vSfN2Pvj7cWiRksBHgJXqdGjFaO+I1O7+K23wjsgzerbA5KPkOPyDBmBo/eZoeQhw3yFPr5hp0wRk1TMNwKZ7q/oIGoAmdLihoXbhhRdi3Lhxfqtu2LAB2qO0mtGlPU6r/XO0rnnz5nkfQdau++67D3369GnUANRyt/uiAWh3BxjfiQRk3bg4sVesOTCB/TX1uPTNTaip9+gDbj6pJ/46pDMNQAeL5qv8Mjz8hf/TGPPO6IruraL7y0yzkfM72myiXM9uAtS03R1gfDMJyKpnGoBmqkDOtWgARtg37Y68K6+8EuXl5ejYsSPmzp0L7Qvh0Et7FPeTTz7x/lh7VLh79+4RRj58ekVFhTeX2tpaaP9yL1y4MGCMhoYlDUDjbZD1i954hRzpJALUs5O6rW6tc1cW4vO8Mr3A3m2a4V+XHEUDUN2WN1nZHZ/k4+ftFT5NtE7GI6eF9+RFk8GiOIDf0VGEy6VtIUBN24KdQaNEQFY90wCMkiAkWpYGYITNWrdunfexXu264IILMH78+IArancB3nnnnd7PJkyYgPPPPz/CyIdP1wxGzWjUrvPOO8/7v0AXDcDw0Mv6RR9etZylOgHqWfUOO6O+74vKcc/yrX7FvnrJMDR3l8PtdjsDAqvUCeTtqcbU9/wPh7nx2PYY1S1dOkr8jpauZUy4CQLUNCWiEgFZ9UwDUCUVhlcLDcDwuOmzXnvtNbzxxhveP2tGYK9evQKuqD3mOmnSJGgnBfft2xf33ntvhJEPn3733Xdj/fr1iImJwYIFC7x3AdIANA+zrF/05hHgSioRoJ5V6qZza/G+721pDkorfO/HPX9IZ1zQL40GoANl8cw3xfhg4x698vSkWDw/vgfiYw9/MkN0PPyOFr1DzC9UAtR0qMQ4XmQCsuqZBqDIqrImNxqAEXJ+7LHHsHr1au8qL774IlJTU4OueMsttyAvLw/NmzfHc889F2Fk/+k7duzAlClT4PF4mjQYG94BOGDAAGzevBmVlZXe3Dt16oSBAwdi9OjRaNasmak5BluM7wC0BDODkIAfAVk3LmwjCRxK4JUfSrD4F9+Jry2S4/HChGzExvjeDUhq6hMor6nHZUs2oarO1/eJf8rA347MlLJ4fkdL2TYm3QgBapryUImArHqmAaiSCsOrhQZgeNz0WXfccQc2btzoPeH3lVdeaXQ17d1/a9eu9Y559dVXER8fH2F03/T//ve/0P6nXdrJv9pJxMGuhgZgsDGaGXjNNddg2LBhYeVYWur7y1iwBVq0aIHY2Fjv4SglJSVhxbFykvZFr52KrF2a4crHy6ykz1hmE6CezSbK9ewiUFBWjclLc/zCzxjVGcM7p9mVEuPaQODt30qxaI3vVGhXDPD8hJ5onWreXsvKsvgdbSVtxrKCADVtBWXGsIqArHrOzMz0/v2bl3MJ0ACMsPc33XQTtm3bhvT0dCxatKjR1Rqe0Pv8888jLc28v5xMnTrV+9LzhIQE73sAU1JSGjUAv/nmG6+5l52djZYtW3pNuMLCQqxcuRI//vijd672xXbbbbdh0KBBIVOaOHFik3OefvppZGRkNDmOA0iABEiABEigMQKXv/od1hXu1YcM79YKC84dSGgOIeD2eHDe818jf7fv8I+TemXi4T8PcAgBlkkCJEACJEACJEACTROgAdg0o0ZHaI/dbt++3WtkaYZWY9cTTzyBzz//3DvETPPr999/x1133eVd99hjj8UNN9zQaB7aicWNPar88ccf62amZg5qpwlrxmIoFw3AUGhxLAmQAAmQQCQE3vm5CPd98Ju+RAyAt64ajg7pyZEsy7mSEPh6yy5c998f/LJ95i+DMKRLS0kqYJokQAIkQAIkQAIkEH0CjjEAtTvczDh5V3ssdtSoUXpnRLgDULvjTzsBWLtmzJjhfYdfpNczzzyD5cuXe5fRTM7jjz8+pCX5CHBIuDiYBCwnIOujC5aDYkApCFTVuTFp8QaU1/pO/v3LgNa4cOCB1zbwUpvArM/y8fW2/XqRXdIT8cTY7t5D0WS9+B0ta+eYdzAC1DS1oRIBWfXMR4BVUmF4tdAADJHboQag3e8ArK2txVVXXQXtrj7tnXqacad9IUV65eTkYPr06d5ltPcJau8VjNbFQ0CiRZbrkkBwArK+vJg9JYFgBJ5dsx3v/b5b/7hlcpz3BNhY7WVwvJQlsH1/Da5emouGR75MHtYWZ/SS++4/fkcrK1nHFkZNO7b1ShYuq555CIiScgypKMcYgBqVgoKCkOAEGqw9Etvw/Xpz587F119/7R1qxynA2gnE2knE2nXWWWfh4osvjrhGbYHq6mpcdNFF3rW0dwAeNANNWfyQRWgARoMq1ySBxgnIunFhX0kgGIH8vTWY8m6u38czRnbE0TwMRGnRvLh2B976bZdeY0q8y3sKdHJ85L8MtRMcv6PtpM/Y0SBATUeDKte0i4CseqYBaJdixInrKAMwGthfe+01vPHGG96lZ82ahV69egUMo5lckyZN8hprffv2xb333mtKOg8//DC+++4771pz5sxBly5dTFm3qqpKNxNpAB5AKusXvSmC4CLKEaCelWup4wvSND3jk234qahMZzGkQyruPrGz49moCqCith6XL8lBRYNHv8/s3RJXDW0rfcn8jpa+hSzgEALUNCWhEgFZ9UwDUCUVhlcLDcDwuOmztBNzH3jgAe+fL7jgAowfPz7gihs2bMCdd97p/Uwbo42N9CorK/M+mquZi127dsUjjzwS6ZL6/E2bNnnfJ6hdJ510EiZPnmza2ocuxDsAo4aWC5NAUAKyblzYUhIIRkDT9Dclbtz/4Xp9iPbw77N/7oE2zeIJTkECb6/fhee/2+HX76fHdUf7tNAOLhMRDb+jRewKc4qEADUdCT3OFY2ArHqmASiakqzPhwZghMzr6upwxRVXoKKiAh07dvQ+jhvopdMND+p48MEHkZ2dHWFk4P3338dLL73kXeeSSy7BmWeeGfGaBxdoeAjIddddh5EjR5q2Ng3AqKHkwiRgmICsGxfDBXKg4whomk5vlYkznl6J8pp6vf6Jf8rA347MdBwP1Quud3sw+e0c7Civ00s9pnMzTB/ZSYnS+R2tRBtZRAMC1DTloBIBWfVMA1AlFYZXCw3A8Lj5zWr4GPCFF16IcePG+X2u3f03c+ZM7516/fr1wz333BMw6sSJE70/107nefLJJ5vM7Pbbb0dubi5iY2O9h3+kp6c3OSc/Px8JCQlo165d0LEff/wxFi1a5P1cO1hkwYIFSEpKanLtcAfwDsBwyXEeCYRPQNaNS/gVc6bqBA5q+uGPf8fiH3zv/G2VHIfneBiIcu3/Mq8Mj6ws9Ktr9ild0K9NihK18jtaiTayCBqA1ICiBGT9jqYBqKggQyiLBmAIsIINrayshGbGFRUVeYeMHj0axx57rNdo++WXX7BkyRJo79TT/qy9J1B7XDfQFYoBuG3bNtx0003eZQYPHuyNb+RasWKF1yzs37+/93AP7Z2BzZo1g9vt9h6S8sUXX2DdunXepbQvtmnTpmHo0KFGlg57DA3AsNFxIgmETUDWjUvYBXOi8gQOanrDjn3428vf+tU744SOOLpTmvIMnFKgx+PBrcvysKG0Si+5Z0YSHj0tK+BTGDJy4Xe0jF1jzo0RoKapD5UIyKpnGoAqqTC8WmgAhsftsFnFxcWYPXu2bgIeOiA5ORlTp07FkCFDgkYMxQB89dVXsXTpUu9aN954I4YPH26oEs0AfOqpp5ocm5aW5n3v37Bhw5ocG+kAGoCREuR8EgidgKwbl9Ar5QynEGio6b+98JWfOcTDQNRSwW8lFbj9o3y/om45rgOOy2quTKH8jlamlSzkDwLUNKWgEgFZ9UwDUCUVhlcLDcDwuAWcpd3lt2zZMqxevRqaIai9HzAjI8N7p92YMWO8j/Y2dhk1ALW79a699lqUlpYiNTUV2vsF4+ONveB879693lODtceSt2zZAu3P+/btg/bbdO1OQO3uxCOPPBKjRo1CSoo1j9HQADRRhFyKBAwSkHXjYrA8DnMggYaa/ucXv2Hh6gN35WuXdhiIKodDOLC1h5X80OfbsGrrfv3nbVLj8My4Hoh1aZ1W4+J3tBp9ZBU+AtQ01aASAVn1TANQJRWGVwsNwPC4cZaJBGgAmgiTS5GAQQKyblwMlsdhDiTQUNNbthZi0hsbUF7r1kmM79sKlw5u40AyapVctK8Gf387F54GZV02uA3+3LeVUoXyO1qpdrKYP14tdPAd5NqNEtoNDbxIQFYCsn5H0wCUVXHm5U0D0DyWXClMAjQAwwTHaSQQAQFZNy4RlMypihM4VNOLvi3C2+t361WnJrjw4oRsJMa5FCehdnnPrtmO93739TUl3oXnJ/RASnysUoXzO1qpdrIYGoDUgGIEZP2OpgGomBDDKIcGYBjQOMVcAjQAzeXJ1UjACAFZNy5GauMYZxI4VNMFe6sw+e1cPxjXHt0Op2a3cCYgBaouq67HlW9tQlWd7/4/Ve/s5He0AoJlCX4EqGkKQiUCsuqZBqBKKgyvFhqA4XHjLBMJ0AA0ESaXIgGDBGTduBgsj8McSCCQpu/7bCu+KyzXaXRrmYh5Z3RV5qRYp7X5P+tK8H8/lepla6/8+8e4HmjTzNh7kGXixe9ombrFXI0QoKaNUOIYWQjIqmcagLIoLHp50gCMHluubJAADUCDoDiMBEwkIOvGxUQEXEoxAoE0/V3Bfty3YptfpQ+e0gX921hzyJViiG0tp6JWu/svB/trfO8NG9W1OW4c0cHWvKIVnN/R0SLLde0iQE3bRZ5xo0FAVj3TAIyGGuRakwagXP1SMlsagEq2lUUJTkDWjYvgWJmejQQCadrt8XgPjCjeX6tnNqJLGm49vqONmTJ0OATe+q0UL64t8Zu68Mxu6NIiMZzlhJ/D72jhW8QEQyRATYcIjMOFJiCrnmkACi0rS5KjAWgJZgZpjAANQOqDBKwnIOvGxXpSjCgLgWCaXvrbLrywdodeRmwMsGh8D2SkqPfYqCy9CjXP2no3rlyai92VdfrUozs1w4wTOoW6lDTj+R0tTauYqEEC1LRBUBwmBQFZ9UwDUAp5RTVJGoBRxcvFjRCgAWiEEseQgLkEZN24mEuBq6lEIJim91fX47Ilm1Bd7zs44tz+GbhoYKZK5Stdy7KNe/DUN8V+NT5yWhZ6t05Wtm5+RyvbWscWRk07tvVKFi6rnmkAKinHkIqiARgSLg6OBgEagNGgyjVJoHECsm5c2FcSCEagMU0/9XUxlm3ao09NS3DhuQnZSIpzEajgBOrdHlzzjv9j3Ee0TcH9o7sInnlk6fE7OjJ+nC0eAWpavJ4wo/AJyKpnGoDh91yVmTQAVemkxHXQAJS4eUxdWgKyblykBc7Eo06gMU1v3VuN697d7JfD5GFtcUavllHPiwEiI/C/zXvx2FdFfovce1JnDGyfGtnCgs/md7TgDWJ6IROgpkNGxgkCE5BVzzQABRaVRanRALQINMMEJ0ADkOogAesJyLpxsZ4UI8pCoClN3/fZVnxXWK6X0yEtHk+O7Q5XTIwsJTouT+3uv6nvbca2shq99uxWSZhzehZiFO9bU3p2nBhYsPQEqGnpW8gCGhCQVc80ACljGoDUgO0EaADa3gIm4EACsm5cHNgqlmyQQFOaXldcjrs+3eq32owTOuLoTmkGI3CY1QQ+31KGuV8W+oW9fWRHDO+sfs+a0rPVvWA8EoiUADUdKUHOF4mArHqmASiSiuzJhQagPdwZtQEBGoCUAwlYT0DWjYv1pBhRFgJNadrj8eDGD7Zg8+5qvaQ/tUnGA6dkyVKio/IMdPdft5aJeOyMro64a7MpPTtKDCxWCQLUtBJtZBF/EJBVzzQAKWEagNSA7QRoANreAibgQAKyblwc2CqWbJCAEU1/lrsXj6/yf5/c3NO7IjsjyWAUDrOKQKB3/00f2RHHOODuP42xET1b1QvGIQEzCFDTZlDkGqIQkFXPNABFUZB9edAAtI89I/9BgAYgpUAC1hOQdeNiPSlGlIWAEU3X1ntw1dIc7Kqs08sa2bU5bh7RQZYyHZGndvfflPc2o6DBu/+0u//mndFV+Xf/HWywET07QgwsUhkC1LQyrWQhEv+ShgYg5UsDkBqwnQANQNtbwAQcSIAbcQc2XfGSjWp68S+leOWHEp2GKwZ4Zlx3tG2WoDghecpbsXkv5h1y8u+MkR1xtEPu/tM6ZVTP8nSVmTqdADXtdAWoVb+seqYBqJYOw6mGBmA41DjHVAI0AE3FycVIwBABWTcuhorjIEcSMKrpfdX1uHzJJlTXe3ROZ/RsgclHtXMkN9GK1u7+u+7dzSjc5zv5t/sf7/5T/eTfhr0wqmfR+sd8SCAYAWqa2lCJgKx6pgGokgrDq4UGYHjcOMtEAjQATYTJpUjAIAFZNy4Gy+MwBxIIRdPPf7cdb6/frVOKd8Xg2fE90Co5zoHkxCr5k5w9WLi62C8pJ57WHIqexeogsyGBwASoaSpDJQKy6pkGoEoqDK8WGoDhceMsEwnQADQRJpciAYMEZN24GCyPwxxIIBRNl1bUet8FWOf2gZrQtxUmDW7jQHLilFxT78bf387FzgrfOxp7tEqEdlCLk+7+0zoSip7F6SAzIYHgBKhpqkMlArLqmQagSioMrxYagOFx4ywTCdAANBEmlyIBgwRk3bgYLI/DHEggVE0/+XURPtq0VyeVFOfCc+N7IC0x1oH0xCj5rd9K8eJa3/sZtaxmntgJgzs0EyNBC7MIVc8WpsZQJBAWAWo6LGycJCgBWfVMA1BQQVmYFg1AC2EzVGACNACpDBKwnoCsGxfrSTGiLARC1XTRvhpc804u3L5XAeL8I1rjrwNay1KyUnmW19Tj6qU52Ffjuy1zQNsU3H9yZ8fd/ac1NlQ9KyUGFqMkAWpaybY6tihZ9UwD0LGS1QunAUgN2E6ABqDtLWACDiQg68bFga1iyQYJhKPpuSsL8XlemR4hLcGFReOzkRzvMhiVw8wi8K8fSvDfX0r9lnvktCz0bp1sVgip1glHz1IVyGQdR4CadlzLlS5YVj3TAFRaloaKowFoCBMHRZMADcBo0uXaJBCYgKwbF/aTBIIRCEfTW3ZX4fr3t/gtOWlQJib0yyBoCwnsqqzD5KU5ficzD+/cDLeP7GRhFmKFCkfPYlXAbEjAnwA1TUWoREBWPdMAVEmF4dVCAzA8bpxlIgEagCbC5FIkYJCArBsXg+VxmAMJhKvpWSu24duC/Tqx9MRY/OPPPXgXoIUaeuabYnywcY8e0RUDLDizGzqnJ1qYhVihwtWzWFUwGxLwEaCmqQaVCMiqZxqAKqkwvFpoAIbHjbNMJEAD0ESYXIoEDBKQdeNisDwOcyCBcDX9+85K3Losz4/YRQMzcW5/3gVohYzy9lTjhvc3+72LcXSPdEw5pr0V4YWNEa6ehS2IiTmeADXteAkoBUBWPdMAVEqGYRVDAzAsbJxkJgEagGbS5FokYIyArBsXY9VxlBMJRKLp+z/bijWF5To27V2Az47vgZR4nggcTS15PB7c89k2/FDkY58QG4Onx3VH65T4aIYWfu1I9Cx8cUzQkQSoaUe2XdmiZdUzDUBlJWm4MBqAhlFxYLQI0ACMFlmuSwLBCci6cWFPSSAYgUg0nbOrCjd94P8uQJ4IHH2trSnYj/tXbPMLNPFPGfjbkZnRDy54hEj0LHhpTM+hBKhphzZe0bJl1TMNQEUFGUJZNABDgMWh0SFAAzA6XLkqCTRGQNaNC7tKAtEwALU1Z3++Dau3+t4FmBLvwrN/7oG0RN4FGA3V1bk9mPreZhSU1ejLt0qOw1Nju/P9iwD4HR0N1XFNOwlQ03bSZ2yzCciqZxqAZitBvvVoAMrXM+UypgGoXEtZkAQEZN24SICWKdpEIFJNaycC3/D+Fnga5K+9B1B7HyAv8wm8s34Xnvtuh98bMJKiAAAgAElEQVTC1w9vj5O6p5sfTMIVI9WzhCUzZcUJUNOKN9hh5cmqZxqADhNqgHJpAFIDthOgAWh7C5iAAwnIunFxYKtYskECZmh6zsoCfJG3T4+YFBfjPRG4RVKcwSw4zAiBsup6/P3tHOyvcevDs1sl4dHTs+CKiTGyhPJjzNCz8pBYoFQEqGmp2sVkmyAgq55pAFLaNACpAdsJ0AC0vQVMwIEEZN24OLBVLNkgATM0va2sGlPe9T+R9oyeLTD5qHYGs+AwIwSe/LoIH23a6zf0oVO6oG+bFCPTHTHGDD07AhSLlIYANS1Nq5ioAQKy6pkGoIHmKj6EBqDiDZahPBqAMnSJOapGQNaNi2p9YD3mETBL0/NXFWJ5bpmemCsGWHhmN3RKTzQvWQevtL6kErd9lOdHYESXNNx6fEcHUzm8dLP0TKgkIAoBalqUTjAPMwjIqmcagGZ0X+41aADK3T8lsqcBqEQbWYRkBGTduEiGmelaSMAsTZeU1+Kad3JRU+97G+BRnZrhjhM6WViNmqHq3R7c/OEWbN5drReoPWb9xFndkZkar2bRYVZllp7DDM9pJGA6AWradKRc0EYCsuqZBqCNohEkNA1AQRrh5DRoADq5+6zdLgKyblzs4sW44hMwU9Ov/FCCxb+U+hU9a3RnDGibCk9lBbB7J1BdBSQmAS1bIyaZj64aUcjb63fh+UMO/pg0KBMT+mUYme6oMWbq2VHgWKywBKhpYVvDxMIgIKueaQCG0WzFptAAVKyhMpZDA1DGrjFn2QnIunGRnTvzjx4BMzVdUVuPyW/nYm9VvZ5w9xQ3Hil+G64fVgNu3+EVcLmAQcfANWoM0HsAYniIRcAml1Zod1ZuRlWdj11WeiIeG9MVcdpz1rz8CJipZ6IlAREIUNMidIE5mEVAVj3TADRLAfKuQwNQ3t4pkzkNQGVayUIkIiDrxkUixEzVYgJma/qDDbvxzLfb/aq4/rf/4ITt3wevrEMXuC67ETFZPSyuXvxwj3xRgC/zfScsaxnz4I/gfTNbz+IrhBmqToCaVr3DzqpPVj3TAHSWTgNVSwOQGrCdAA1A21vABBxIQNaNiwNbxZINEjBb09r76qa++Ru2Vbv0DFpV78XCb+Ygud73DrvD0ktMguua6YjpN8hg5uoPW5W/Dw99UeBX6Oge6ZhyTHv1iw+zQrP1HGYanEYCphGgpk1DyYUEICCrnmkACiAem1OgAWhzAxgeoAFIFZCA9QRk3bhYT4oRZSFgtqY9eTn4ZtGLeLDvhX4Ixm79HJfmvNs4Fs0EvGU27wQEUFZdj+ve9X+cOi3BhafGdkfzpDhZ5GV5nmbr2fICGJAEDiFATVMSKhGQVc80AFVSYXi10AAMjxtnmUiABqCJMLkUCRgkIOvGxWB5HOZAAmZq2uPxwH3PFHgK83H/EZfjh1a9daIuTz3mrJmPruXFjVPumAXXzAWOfyfg3C8L8fmWMj9WNx7bHqO6pTtQpcZLNlPPxqNyJAlEjwA1HT22XNl6ArLqmQag9VoRLSINQNE64sB8aAA6sOks2XYCsm5cbAfHBIQlYKamPevXwT33Tm+tRckZuGHYTah1xeu19967BQ98/zRc8DTKwzXtAcT0HiAss2gn9vXWfXjwc/9Hf4d1bIY7TujoeGO0KfZm6rmpWPycBKwgQE1bQZkxrCIgq55pAFqlEHHj0AAUtzeOyYwGoGNazUIFIiDrxkUghExFMAJmarr+mYeA777SK/y/rqfg9a6n+FV87frXcXLxmkYpxAwZAdfk2wQjZU06+6rrMeXdXOxucJJyaoILC8/showUn5lqTTbyRTFTz/JVz4xVJEBNq9hV59Ykq55pADpXswcrpwFIDdhOgAag7S1gAg4kIOvGxYGtYskGCZilaU9lBdw3XAC43Xrkalccbhx2E4qTW+s/a16z33sgSFpdRfAMXS64Hv83YpJTDFahxjDtEepHVxYedurv9cPb46TufPTXSJfN0rORWBxDAlYQoKatoMwYVhGQVc80AK1SiLhxaACK2xvHZEYD0DGtZqECEZB14yIQQqYiGAGzNK29988987rDqlvbqjdmHXG5389PKP4O169/rVESrvueREz7zoLRim46n+TswcLV/u9IHNIhFXeN6sRHfw2iN0vPBsNxGAlEnQA1HXXEDGAhAVn1TAPQQpEIGooGoKCNcVJaNACd1G3WKgoBWTcuovBjHuIRMEvTns0b4H5wWsACH+l/IVZnHuH32fSfXsSw0t+CAnHNmIOYbr3EAxaljLaVVeOm97egut73fsRmCS7MP7MbWvPRX8PUzdKz4YAcSAJRJkBNRxkwl7eUgKx6pgFoqUyEDEYDUMi2OCspGoDO6jerFYOArBsXMegxCxEJmKXpYHcAajWXJjTH9UfdjIq4ZB1Bi+oyzP92LtLqKgNicdIdgLX1bty6LA+5u6v9WNw+siOGd04TUTbC5mSWnoUtkIk5jgA17biWK12wrHqmAai0LA0VRwPQECYOiiYBGoDRpMu1SSAwAVk3LuwnCQQjYJamA70DsGHM5e2G4Ik+f/FLY+T2tbjht/87PLXYWLjmveqYdwC+8N12LF2/24/DadktcM3R7SjcEAmYpecQw3I4CUSNADUdNbRc2AYCsuqZBqANYhEsJA1AwRrixHRoADqx66zZbgKyblzs5sb44hIwU9OHngLcsGrtwdYHBlyKtRl9/WDc9OurOG7Hj34/c9IpwKvy9+GhLwr86u+cnoC5p3dFYpxLXOEImpmZeha0RKblMALUtMMarni5suqZBqDiwjRQHg1AA5A4JLoEaABGly9XJ4FABGTduLCbJBCMgJma9qxfB/fcO4PCDvQocEpdJeaueRxtq3x3wLmmPYCY3gOUb1r+3mrc8mEequp8JyfHu2Iw5/QsdG2ZpHz90SjQTD1HIz+uSQKhEqCmQyXG8SITkFXPNABFVpU1udEAtIYzozRCgAYg5UEC1hOQdeNiPSlGlIWAmZr2eDxw3zMFKMwPWv7/2g7C/L7n+33ea28eZv3wNOI8bqBjFlwzFyh/6m15TT2mfbgFhftq/VhcPawtxvRqKYt8hMvTTD0LVxwTciQBatqRbVe2aFn1TANQWUkaLowGoGFUHBgtAjQAo0WW65JAcAKyblzYUxIIRsBsTXvycuB+dDpQXRUU+vw+f8H/2g3x+/zsvOW4sHAFXLfMRkxWD6Ub5vZ48OD/CvBtwX6/Ok/q3hxTj2mvvPkZzeaaredo5sq1ScAIAWraCCWOkYWArHqmASiLwqKXJw3A6LHlygYJ0AA0CIrDSMBEArJuXExEwKUUIxANTXt+/R7up2YHNQErYxMxbcj1KEpp7Ufztm7VOPbYIxUjfHg5r/5Ygtd/LvX7oEerJMw+pQvf+xdh96Oh5whT4nQSiIgANR0RPk4WjICseqYBKJiQbEiHBqAN0BnSnwANQCqCBKwnIOvGxXpSjCgLgWhp2nsn4Avzgj4OvCmtE6YPuhb1rlgdVVKcC4+enoUu6Ymy4As5z09y9mDh6mK/ec0TY/HYGV2RmRof8nqc4E8gWnomZxKwiwA1bRd5xo0GAVn1TAMwGmqQa00agHL1S8lsaQAq2VYWJTgBWTcugmNlejYSiKamtXcCYsPPcH/2HvD9asDtO+wCsbH4YNj5WJR0hF/1HdLi8ejpXdEswWcM2ojH1NDfF5Xj/s+2ol47EvmPyxUD3HtSZxzRLtXUWE5dLJp6dipT1m0vAWraXv6Mbi4BWfVMA9BcHci4Gg1AGbumWM40ABVrKMuRgoCsGxcp4DJJWwhYpWlPZQWwpxSoqgSSkoEWGd7/X7C6CMtzy/xqP6JtCu4+sTPiY2NsYRKNoDm7qnDHx/mobHDirxZn8rC2OIOHfpiG3Co9m5YwFyKBJghQ05SISgRk1TMNQJVUGF4tNADD48ZZJhKgAWgiTC5FAgYJyLpxMVgehzmQgN2arq5zY/rHecjZVe1Hf1S35rhhuBoHYuTtqcYdn+RjX3W9X41n92uFSwa1caDqoley3XqOXmVc2akEqGmndl7NumXVMw1ANfUYSlU0AEOhxbFRIUADMCpYuSgJNEpA1o0L20oCwQiIoOmS8lpM+3AL9lT5G2Tn9s/ARQMzpW5eYVmN1+A8tLbjstJw84gOcMWoc5ejCI0SQc8icGAO6hCgptXpJSsBZNUzDUCqlwYgNWA7ARqAtreACTiQgKwbFwe2iiUbJCCKpjeWVnofka1u+II8wGsAakagjFdBWQ3u+jQfpRV1fulrjzjfdWInJMS6ZCxL6JxF0bPQkJicVASoaanaxWSbICCrnmkAUto0AKkB2wnQALS9BUzAgQRk3bg4sFUs2SABkTS9pmA/HvjfNrgbHJKhlTFpUCYm9JPLBNyyuwp3L9+KvYfc1dindTLuOakzkuNp/hmUaEjDRNJzSIlzMAkEIUBNUxoqEZBVzzQAVVJheLXQAAyPG2eZSIAGoIkwuRQJGCQg68bFYHkc5kAComn6o0178OTXxYd1QiYT8Pedlbj3s60or2lw6jGAHq2ScP/JnZGq4AnHovyrI5qeReHCPOQlQE3L2ztmfjgBWfVMA5BqpgFIDdhOgAag7S1gAg4kIOvGxYGtYskGCYio6XfW78Jz3+04rILxfbVDMzKFfm/eyrwyzF9VhJpDHmXObpWEmSd1RvPEWIOd4bBwCIio53Dq4BwSOEiAmqYWVCIgq55pAKqkwvBqoQEYHjfOMpEADUATYXIpEjBIQNaNi8HyOMyBBETV9NLfduGFtYebgKO6Nsd1x7RHfKxYh2d4PB68/nMp/r1u52Eq6t8mGXeO6oSUeJp/0f5XTFQ9R7turq8uAWpa3d46sTJZ9UwD0Ilq9a+ZBiA1YDsBGoC2t4AJOJCArBsXB7aKJRskILKml/xaipe+Lzmskt6tk3Hb8R2QkRJvsMroDttXXY8Fq4vwzbb9hwUa3D4Vt4/siMQ4vvMvul04sLrIeraifsZQjwA1rV5PnVyRrHqmAehk1R6onQYgNWA7ARqAtreACTiQgKwbFwe2iiUbJCC6ppfn7sXC1UWHHQySnhSLaSM64Ih2qQYrjc6w30oqMGdlIXYectKvFu207Ba4alhbxLnEulsxOiTEWFV0PYtBiVnIRICalqlbzLUpArLqmQZgU51V/3MagOr3WPgKaQAK3yImqCABWTcuCraCJZlEQAZNf1ewHw9/UYDqQ96rp9lqY/u0xIVHZlp+h11VnRuv/liCd3/ffZg5qeV12ZA2GNu7JWJiaP6ZJFVDy8igZ0OFcBAJ/EGAmqYUVCIgq55pAKqkwvBqoQEYHje/WVVVVcjNzcWmTZu8/8vJyUFJyYFHfTIzM/Hkk0+aEMV/iQ0bNmDZsv9v706gpKiuBo5fdoZFBoYAAgENCAoTQSFKhI8gBCEaERGI8ZNEWRQFQgBNWAQBQYggyBIIAlEDyDnGBNFIokFBD2DkyJaALAYVcGEZdoZ9+c595/R8wzA109XT1d3v1f+dw4lDV1e9+7uXTs3tqlfvyLZt2+TIkSNSvnx5qVu3rrRp00ZatmwZ9fFWr14tK1eulF27dkl2drakp6fL9ddfLx06dJAGDRpEvZ+ibEgDsCh6vBeB2ARsPXGJLVreFQYBW2r680OnTRNw74lzV6SlZsVS8tgtNRJyNaCu9ae3+upDSvZnXzmXSmVKyK9vu1purlkhDOWTcjHaUs8pB8eEUlaAmk7Z1DCxGARsrWcagDEk27G30ACMQ0LHjBkjW7ZsyXdPQTQAX3/9dfnzn/8sevKe32jWrJkMGjRISpcu7Rnd2bNnZcqUKbJ+/fp8t9Fv+rt16yZdu3aNg1DBu6ABGDgxB0DgCgFbT1xIJQJeAjbV9IkzF2Tqmm/kk2+y8w2nec3y8subqkmd9DKBJPzT/SfllQ0HZFvWqXz3n1m9nAy+7eqUWZswEIQU36lN9ZzilEwvRQSo6RRJBNOIi4Ct9UwDMC7pt3onNADjkL7Ro0fLp59+avakV+LVq1dP9Ao9vTIw3g3A9957T+bMmWOOpf+A7733XqlTp44cPnxYli1bltOIbNWqlfzqV7/yjG769OmyatUq83rjxo3lzjvvlMqVK8vu3btlyZIlsm/fPvPao48+Ku3atYuDkvcuaAAGysvOEchXwNYTF9KJgAsNQI3h4qVL8sbWQ/Lqpiw5d/HKL/T0httbalcwtwZnVitX5Ftwz1+8JP/ac1ze3HZYtns0/koVLyb331hV7r2hipRgvb+k/mPjMzqp/Bw8AAFqOgBUdpk0AVvrmQZg0komZQ5MAzAOqVi+fLmULVtW6tevLzVq1DB77Nevn7kNOJ4NQL1Ft3///uZW3apVq8rEiRPlqquuyong4sWLMmnSJFm3bp35O21MNmrU6IoItVmpr+nQqwWffPJJ87S5yDh27JgMHTpUsrKyTENz5syZ5n+DGjQAg5Jlvwh4C9h64kJOEXClARiJ46ujZ8yTd7dnnfZMbq2rSstt360ot9WpKNdULiPFo1yP78z5i7L1wClZs/u4af4dPXPB8xiZ1dLk8VuvFj0WI/kCfEYnPwfMIL4C1HR8PdlbcgVsrWcagMmtm1Q4Og3AgLIQRAPwzTfflIULF5oZDxw4MN+1/g4ePGiaj9oMvPnmm00jL++YMGGCbNiwwTT9dH3CjIyMK7bRtQGnTZtm/r5Hjx5y9913ByQlQgMwMFp2jICngK0nLqQUAdcagBrPhYuX5J87j8jif2fJkdPeTTrdtnyp4lI/o6xcW7msVEkraf6ULFHMLAty5vwlyTp5Tg5kn5edh07LF4dPS57njVzBV71CKfnfG6vK/1xzVdSNRaoweAE+o4M35giJFaCmE+vN0YIVsLWeaQAGWxc27J0GYEBZCqIBOHLkSNm+fbukpaXJ/PnzpWTJkvnOfvz48bJp0yYpVaqU2U6vTowMvS25V69ecu7cOWnatKkMHz48332cP3/ebHfq1Clp2LChPPPMMwFJ0QAMDJYdI1CAgK0nLiQVARcbgJGYTp67YG4LfmvbYTl57mKgyc5IKyn3NqoiHa9Ll1Il/v8ugEAPys6jFuAzOmoqNrREgJq2JFFMMyoBW+uZBmBU6XV6IxqAAaU33g1AbcjplXh6tVyTJk1kxIgRnjPXNfwWL15sXh81apRkZmbmbLt582YZO3as+fmBBx6Qzp07e+4n0kgsUaKELFiwwLPhWFRCrgAsqiDvR8C/gK0nLv4j5R1hEXCpprURuOLzY/LW9kPy7fErn9BblJw2rJomdzesLD+sU1FKss5fUSgDfa9L9RwoFDu3RoCatiZVTDQKAVvrmQZgFMl1fBMagAElON4NwD179siQIUPMbPWBHQ899JDnzNeuXSuTJ082r+tVfB06dMjZ9h//+If88Y9/ND8/8cQTcsstt3ju56WXXpK///3v5nV9YnDt2rUD0aIBGAgrO0WgQAFbT1xIKwJeAi7WtD4o5LODp3PW8Nt7wn8zUHt89aqUNWsIatPv6oqs8WfDvyIX69kGd+YYnAA1HZwte068gK31TAMw8bWSakekARhQRuLdANy4caM8++yzZrYPPvigdOrUyXPmO3fulGHDhpnX9Qo/vdIvMhYtWiRLly41P+pagPrEYq+Re81BvVVYbxmOduhahIWN9PR00asLtQGoD0xJ9aEf9NWqVTPT3L9/v1lnkYGArQLUs62ZY95eAmGo6YMnz8mOrFPy2cFTsv/EOTl46rwcPnXekOhTg/XJvRnlSsp3ypWS6hVLi17td11GmqSV4hZf2/7lhKGebcsJ8y2aADVdND/enVoCttazPqBUf/9mhFeABmBAuY93A/Cjjz6SqVOnmtn27t1b7rjjDs+Zf/XVVzJ48GDzeseOHaVnz545286bN0/effdd87Pur1atWp770e10ex26vxYtWkSt1b1790K3nT17dr4PICn0jWyAAAIIIIAAAggggAACCCCAAAIIIBC1AA3AqKn8bRjvBuCHH34oM2fONJPo27evtG3b1nNC+/btkwEDBpjXdTvdPjK06bZixQrz44wZM0QvA/Ya77//vvzhD38wL/fv319at24dNQINwKip2BABBBBAAAEEEEAAAQQQQAABBBAIVCA0DUC9zfTnP/95kTEff/xxadOmTaH7iXcD0LYrALkFuNASYQMEkipg660LSUXj4CktQE2ndHqYnE8B6tknGJunvAA1nfIpYoI+BGytZ24B9pFkRzelAegzsclqANq2BqAfVh4C4keLbRGIj4CtixfHJ3r24qIANe1iVsMbE/Uc3ty7Gjk17WpmwxmXrfXMQ0DCWa+5ow5NA1CD/vrrr4uc8cqVK0u5cuUK3U+8rwDcvXu3eWqvDp4CXCh/IBvY+kEfCAY7tV6AerY+hQSQR4CapiRcEqCeXcomsagANU0duCRgaz3TAHSpCmOLJVQNwNiIYntXvBuA58+fN0//1SfPNmnSREaMGOE5sSVLlsjixYvN66NGjZLMzMycbTdv3ixjx441P+vTgfUpwV5j/PjxsmnTJvOkoAULFkjJkiVjwyjkXVwBGAgrO0WgQAFbT1xIKwJeAtQ0teGSAPXsUjaJhQYgNeCagK2f0TQAXatE//HQAPRvFtU74t0A1IM+9dRTsmPHDklLS5P58+d7NuQijbtSpUqZp/jq9pFx6tQp6dWrl2hDsWnTpjJ8+PB849HXdTvdvkGDBjJu3Lio4o5lIxqAsajxHgSKJmDriUvRoubdLgtQ0y5nN3yxUc/hy7nrEVPTrmc4XPHZWs80AMNVp/lFSwMwoBoIogG4dOlSWbRokZnxwIEDpWXLllfMXh++ocfWKwVvuukmGTZs2BXbTJgwQTZs2GCu7NMnC2dkZFyxzerVq2XatGnm7/XKw06dOgUkJUIDMDBadoyAp4CtJy6kFAEvAWqa2nBJgHp2KZvEogLUNHXgkoCt9UwD0KUqjC0WGoCxuRX6Lr8NwP3790v//v3Nfhs1aiSjR4++4hgnTpww25w8eVL0CT4TJ06UihUr5mynTb9JkybJunXrzN/lvf03smHu24CbN29u1hbUD7HIOHbsmAwdOlSysrKkfPnyMmPGDKlQoUKhMce6AQ3AWOV4HwKxC9h64hJ7xLzTdQFq2vUMhys+6jlc+Q5DtNR0GLIcnhhtrWcagOGpUa9IaQDGoQb27t0r27Ztu2xPumbe8ePHTYOuR48el72mt96mp6df9nfRNAD1Df/85z9l7ty55r36D7hLly5Sp04dOXz4sLz99tuyZcsW85peHahXCXqNF154QdasWWNebty4sdx1112iDzjRh4389a9/lX379pnX+vTpI+3bt4+DkvcuaAAGysvOEchXwNYTF9KJgJcANU1tuCRAPbuUTWJRAWqaOnBJwNZ6pgHoUhXGFgsNwNjcLnvXypUrZdasWVHv6emnnzZNt9wj2gagvue1116Tv/zlL3Lp0qV8j6m3/g4ZMkRKly7tOaezZ8/K888/b24Fzm8UK1ZM7rvvPunevXvUccW6IQ3AWOV4HwKxC9h64hJ7xLzTdQFq2vUMhys+6jlc+Q5DtNR0GLIcnhhtrWcagOGpUa9IaQDGoQYS3QDUKW/fvl3eeecd2bp1qxw9etTcqlu3bl1p06aNtGrVKuqoVq1aJTr/Xbt2SXZ2tlSqVEluuOEG6dixo3n4RyIGDcBEKHMMBC4XsPXEhTwi4CVATVMbLglQzy5lk1hUgJqmDlwSsLWeaQC6VIWxxUIDMDY33hVHARqAccRkVwhEKWDriUuU4bFZCAWo6RAm3eGQqWeHkxvS0KjpkCbe0bBtrWcagI4WpI+waAD6wGLTYARoAAbjyl4RKEjA1hMXsoqAlwA1TW24JEA9u5RNYlEBapo6cEnA1nqmAehSFcYWCw3A2Nx4VxwFaADGEZNdIRClgK0nLlGGx2YhFKCmQ5h0h0Omnh1ObkhDo6ZDmnhHw7a1nmkAOlqQPsKiAegDi02DEaABGIwre0WgIAFbT1zIKgJeAtQ0teGSAPXsUjaJRQWoaerAJQFb65kGoEtVGFssNABjc+NdcRSgARhHTHaFQJQCtp64RBkem4VQgJoOYdIdDpl6dji5IQ2Nmg5p4h0N29Z6pgHoaEH6CIsGoA8sNg1GgAZgMK7sFYGCBGw9cSGrCHgJUNPUhksC1LNL2SQWFaCmqQOXBGytZxqALlVhbLHQAIzNjXfFUYAGYBwx2RUCUQrYeuISZXhsFkIBajqESXc4ZOrZ4eSGNDRqOqSJdzRsW+uZBqCjBekjLBqAPrDYNBgBGoDBuLJXBAoSsPXEhawi4CVATVMbLglQzy5lk1hUgJqmDlwSsLWeaQC6VIWxxUIDMDY33hVHARqAccRkVwhEKWDriUuU4bFZCAWo6RAm3eGQqWeHkxvS0KjpkCbe0bBtrWcagI4WpI+waAD6wGLTYARoAAbjyl4RKEjA1hMXsoqAlwA1TW24JEA9u5RNYlEBapo6cEnA1nqmAehSFcYWCw3A2Nx4VxwFaADGEZNdIRClgK0nLlGGx2YhFKCmQ5h0h0Omnh1ObkhDo6ZDmnhHw7a1nmkAOlqQPsKiAegDi02DEaABGIwre0WgIAFbT1zIKgJeAtQ0teGSAPXsUjaJRQWoaerAJQFb65kGoEtVGFssNABjc+NdcRSgARhHTHaFQJQCtp64RBkem4VQgJoOYdIdDpl6dji5IQ2Nmg5p4h0N29Z6pgHoaEH6CIsGoA8sNg1GgAZgMK7sFYGCBGw9cSGrCHgJUNPUhksC1LNL2SQWFaCmqQOXBGytZxqALlVhbLHQAIzNjXfFUYAGYBwx2RUCUQrYeuISZXhsFkIBajqESXc4ZOrZ4eSGNDRqOqSJdzRsW+uZBqCjBekjLBqAPrDYNBgBGoDBuLJXBAoSsPXEhawi4CVATVMbLglQz9GLetsAABs6SURBVC5lk1hUgJqmDlwSsLWeaQC6VIWxxUIDMDY33hVHARqAccRkVwhEKWDriUuU4bFZCAWo6RAm3eGQqWeHkxvS0KjpkCbe0bBtrWcagI4WpI+waAD6wGLTYARoAAbjyl4RKEjA1hMXsoqAlwA1TW24JEA9u5RNYlEBapo6cEnA1nqmAehSFcYWCw3A2Nx4VxwFLl26JBcvXozjHoPbVYkSJczOtWnJQMB2AerZ9gwy/7wC1DQ14ZIA9exSNolFBahp6sAlARvrWRuXxYoVcykNxOJTgAagTzA2RwABBBBAAAEEEEAAAQQQQAABBBBAwCYBGoA2ZYu5JlVAr/o7cuSImUN6enrOt5hJnRQHRyBGAeo5RjjelrIC1HTKpoaJxSBAPceAxltSWoCaTun0MDmfAtSzTzA2TxkBGoApkwomkuoCBw8elMcee8xMc/bs2ZKRkZHqU2Z+CHgKUM8Uh2sC1LRrGQ13PNRzuPPvYvTUtItZDW9M1HN4c2975DQAbc8g80+YAB/0CaPmQAkQoJ4TgMwhEipATSeUm4MFLEA9BwzM7hMuQE0nnJwDBihAPQeIy64DFaABGCgvO3dJgA96l7JJLNQzNeCaADXtWkbDHQ/1HO78uxg9Ne1iVsMbE/Uc3tzbHjkNQNszyPwTJsAHfcKoOVACBKjnBCBziIQKUNMJ5eZgAQtQzwEDs/uEC1DTCSfngAEKUM8B4rLrQAVoAAbKy85dEuCD3qVsEgv1TA24JkBNu5bRcMdDPYc7/y5GT027mNXwxkQ9hzf3tkdOA9D2DDL/hAnwQZ8wag6UAAHqOQHIHCKhAtR0Qrk5WMAC1HPAwOw+4QLUdMLJOWCAAtRzgLjsOlABGoCB8rJzlwT4oHcpm8RCPVMDrglQ065lNNzxUM/hzr+L0VPTLmY1vDFRz+HNve2R0wC0PYPMP2ECfNAnjJoDJUCAek4AModIqAA1nVBuDhawAPUcMDC7T7gANZ1wcg4YoAD1HCAuuw5UgAZgoLzsHAEEEEAAAQQQQAABBBBAAAEEEEAAgeQK0ABMrj9HRwABBBBAAAEEEEAAAQQQQAABBBBAIFABGoCB8rJzBBBAAAEEEEAAAQQQQAABBBBAAAEEkitAAzC5/hwdAQQQQAABBBBAAAEEEEAAAQQQQACBQAVoAAbKy84RQAABBBBAAAEEEEAAAQQQQAABBBBIrgANwOT6c3QEEEAAAQQQQAABBBBAAAEEEEAAAQQCFaABGCgvO0cAAQQQQAABBBBAAAEEEEAAAQQQQCC5AjQAk+vP0RFAAAEEEEAAAQQQQAABBBBAAAEEEAhUgAZgoLzsHAEEEEAAAQQQQAABBBBAAAEEEEAAgeQK0ABMrj9HRwABBBBAAAEEEEAAAQQQQAABBBBAIFABGoCB8rJzBBBAAAEEEEAAAQQQQAABBBBAAAEEkitAAzC5/hzdEoGsrCxZtmyZbNiwQfS/S5YsKTVq1JAf/vCH0qFDBylTpowlkTDNMAt8/vnnsnHjRtm2bZvs2bNHjh49KiVKlJAqVapIgwYNpG3btnLDDTeEmYjYHRBYuHChvPnmmzmRPP3009K4cWMHIiOEsAgcO3ZMVqxYIZ988ons3btXsrOzpWLFipKRkWE+o2+99Vbzmc1AwAaB8+fPy4cffigfffSR7Nq1S06cOJFz7tGwYUP58Y9/TD3bkEiH56jnw//973/Nn507d5o/x48fNxH/6Ec/kn79+vmKXs+1ly9fbvann+dXXXWV1K9f39R606ZNfe2LjRGItwANwHiLsj/nBNavXy/Tp0+XkydP5htbzZo1ZdiwYVK9enXnYicgdwS0CbJ169ZCA2rdurX07dvXNLkZCNgm8OWXX5rP4wsXLtAAtC15zNcIaJNk3rx5Ob985sfSvHlz+c1vfoMYAikvoF+aT5w4UXbv3l3gXO+66y75xS9+IcWKFUv5mJigewLdu3f3DMpPA/DSpUsyd+5c0/zzGtoE7NOnD7XuXhlZExENQGtSxUSTIaC/TI4cOVLOnDkjZcuWlc6dO0tmZqacPXtWVq9eLe+9956ZVq1atWTChAlmGwYCqSgwYMAA2bdvn1SuXNlcuXr99ddL1apV5eLFi7Jjxw7529/+JocOHTJTb9mypQwcODAVw2BOCHgKaC2PGDHCfHNfqVIlc4WrDq4ApGhsEfjggw9k1qxZor9Eag23b9/efFZXqFBBjhw5Yj7D161bJ+XKlZPBgwfbEhbzDKmAfhHz29/+Nqf5V7duXdFGn35xfvr0aXM3wltvvWXOsXU8+OCD0qlTp5BqEXYyBXI3APVK69q1a8umTZvMlPw0ABcvXixLliwx77v22mtNPesFIvrZrXcmfPHFF+a1Ll26yP3335/MkDl2iAVoAIY4+YReuMCYMWNky5Yt5lYF/e+8t9zoh7nebqZD/8+ja9euhe+ULRBIgoB+A69X97Vo0UKKFy9+xQz0FgVtdn/77bfmNa13bgdOQqI4ZMwCb7/9trzyyivmC5kf/OAH8sYbb5h90QCMmZQ3JlDgq6++Ms2Sc+fOmc9e/W9t9OU39JZKrtJOYHI4VEwC//rXv2TKlCnmvXr+PHbs2CvOP3RpEv3iRpuF5cuXN1e/6jk3A4FECrz22mtSr1498yc9PV32798v/fv3N1OItgGoyzUMGjTI1LLuR8+jS5cunROGNrpHjx5tvqTUGp86dapZToqBQKIFaAAmWpzjWSOg6zYMHz7czFcv137kkUeumLtecTJkyBD5+uuvzYmLXvbNSbk1KWaieQT0ypLf/e535m9/8pOfyMMPP4wRAlYI6G1mekWUXlWiDT/94ub11183c6cBaEUKQz/JZ555Rv7zn/+Ytf70F0NdM4qBgM0C+oWMfjGjQ29Z11vX8xuTJ0+WtWvXmpf0v+vUqWNz2MzdAYFYGoDavH733XdN9OPGjct3XUu94+app54y23Ts2FF69uzpgBYh2CZAA9C2jDHfhAnkvox7/Pjxct111+V7bL3K5NVXXzWv6Yf6jTfemLA5ciAE4imgzRNdg0fHzTffLEOHDo3n7tkXAoEJ6BWuul5r5Jt6/TafBmBg3Ow4zgL6JaJeOaKjW7du5g8DAdsF5s+fL++8844J4/nnn5fvfve7+Ya0YMECcyuwDv0s/973vmd76MzfcgG/DUBdtuGxxx4zS+noXQj6JY7X+PWvfy3ffPONeaiTLvnAupeWF4uF06cBaGHSmHJiBCIPTdAn/L788suetyTk/jZHbwEuaCHZxMycoyAQm4A+mS/ybWSzZs3MLWgMBFJdYM2aNfLCCy+YddL0f/XKKRqAqZ415pdbQJvVWrM69JZJXX9Kh34m65Motbb1ykAGAjYJLFu2zJw/64jmCkBthLz00kuet77bFDtztVvAbwNQ1/jTtbZ1eN01FhF58cUXcx4SMnPmTKlWrZrdWMzeOgEagNaljAknSqBXr17mxFsXLZ40aZLnYXM3TXR9NRbmTlSGOE68BfQWHL39RocuXKwLcjMQSGWB7Oxsc+WUPiDh0UcflXbt2pnp0gBM5awxt7wC+hCxDRs2mMaHNkBWrVplFozftWtXzqb6S6Je4Xr33XfzwDFKyAoBXVtYmyKnTp2Shg0bmjXR8q5BrA9F0DUAdV1LHkBmRVpDMUm/DUC9A0GvXtXxy1/+0jzsxmvoQ/f+9Kc/mZf1Thu944aBQCIFaAAmUptjWSOgT/mNND+iuRWyR48e5ilmepuw3i7MQMA2AV3PUm9h17UvdegvpLqIMQOBVBaYM2eOeRq7/nKpC8xHbqWhAZjKWWNueQX69esnBw4cMF846lN/I7dN5ielt1Fqw6RKlSpAIpDyAvrF4vTp00XPq/WpqHfeeadcffXVZr3W7du3izZDtEF4zTXXmHW39QEMDASSLeC3Aahr/+kagDr0QhC9IMRr5H44Tp8+fczT3hkIJFKABmAitTmWNQL6rWXv3r3NfG+77TbR9RoKGvoBfvToUbO+ia5zwkDANgFdf0fX4dFxyy23yBNPPGFbCMw3ZALbtm0zD/jQK0r04TW5F46nARiyYrA8XL1iRJsgpUqVMk8B1oeKPfDAA3LrrbdKWlqa7N6921zVqlcJ6vC6mspyBqbvqIA+4VobfStWrBBdKy33qFSpktxzzz3mtsmyZcs6KkBYtgn4bQDqFdsLFy40YWoju2nTpp4h6+e4fsmuQy8g0au6GQgkUoAGYCK1OZY1AvpEyccff9zMt3Xr1jmPgvcKQBd+PXjwoFSvXl1mzJhhTZxMFAEV+PTTT0WfQHnhwgXRk3G95Z1v4amNVBbQ28WefPJJ8wT2/G5XpwGYytljbnkF7r//ftGrsHVoQ1uvZm3QoMFlm+nr2uiONAELu8oEZQRSQUA/q3WNS71SW78oz2/o3Qb64BtuhUyFjDEHFfDbAMy9juuoUaMkMzPTE3Lz5s3mM17Hz372M7nvvvtARyChAjQAE8rNwWwR4ApAWzLFPIsqsGfPHtGTFV1LTa8+0VvLGjVqVNTd8n4EAhWINPiqVq1qHpqQ98oRGoCB8rPzOAtElhHR3RZ014F+Xg8ZMsQcnSu145wEdhd3Ab3NV6902rp1q2ls//SnP5Xbb7/dfFmutwTrkiPaONGruXX5Br0SVm8RZiCQbAG/DUCuAEx2xji+HwEagH602DY0AqwBGJpUhzpQPcEZOXKkHD582Jyc6xUl+kslA4FUFtCr/vTqP72yxOvJkjQAUzmDzC2vwCOPPGIeZKND1wPUh314jb59+8qhQ4ckIyNDZs+eDSYCKSugDzrQW3916F01bdq0uWKueufBuHHjZMuWLaYJ+Nxzz5m1MBkIJFPAbwOQNQCTmS2O7VeABqBfMbYPjQBPAQ5NqkMZqP4Cqeun7du3z5x068l5Qb90hhKJoFNS4MUXX5Tly5ebq0j01sn8hi6y/fHHH5uX9Paa2rVrm/9u1qwZ60ylZFbDPalhw4bJzp07DUJht4/pVdqfffaZuWJ70aJF4YYj+pQV0LX+9Dz6xIkT5qEf06ZN85yrXgGoda9DrwB86KGHUjYuJhYOAb8NwHXr1pklGnTwFOBw1IjNUdIAtDl7zD1QAW2O6G0LZcqUkZdffllKlCiR7/F27Nhhnp6qo2vXrtK9e/dA58XOESiqgN7iPnr0aNGFuXX07NlTOnbsWNTd8n4EEiLw+9//Xj744IOYjjVz5kypVq1aTO/lTQgEJTBr1ixZuXKl2b2eT9x4442eh4o0C/XcJPLgpqDmxX4RiFVAr2jVK1t1FPYwvdx33ejDE/QhCgwEkingtwGoX6YPGDDATFkfaBOp/fxiiHyJqa9xTpLMLIf32DQAw5t7Ii9E4NVXX5U33njDbDV+/Hi57rrr8n2HbqPb6tBv5ps0aYItAikrcPLkSRkzZox88cUXZo76pMnOnTun7HyZGAJ5BWgAUhOuCejTUSO38/bu3VvuuOMOzxAjdycUdlWVa0bEY5dA7rW09WnWkbUr84tCn4CtV03p0AeBDB061K5gma1zAn4bgHrFqy7PoEvq1KpVS6ZOneppMmjQIPMAsypVqpjPfb0Lh4FAIgVoACZSm2NZJaCLE0e+hfT6NkefyqcnNfpBXr58eZk7d66ULFnSqjiZbHgEzpw5Y9ba2b59uwm6S5cunrdQhkeFSF0UYA1AF7PqbkzHjx83V4zoemh69V/kroK8EesT2/XqbR1t27Y1v3AyEEhFAT0/fvjhh0Wbe5UrVxa9ytXrTprct0/q3Qh6VwIDgWQK+G0A6lznzZsnuhagDj3Xzvskd/373HeN6Rc9+oUPA4FEC9AATLQ4x7NKIHIbsJ606FVTeT/Mcz/1idt/rUpt6CarD0zQ9Uk2bdpkYmedndCVQKgCpgEYqnQ7EWzuXx4HDhwoLVu2vCwubaToOcmXX35p/v7ZZ5+V+vXrOxE7QbgpoOv+rV692gTXrVs38yfv0DUCdf2/yJIk3EnjZi3YFlUsDcBvvvnGXBSiX+TUq1fP/N5YunTpnND1Vnf9DNf1XvX3yilTppj1MRkIJFqABmCixTmeVQJ6m6Q+JVU/tMuWLSv33nuvNG7c2Py8Zs0asxC9Dv0AnzhxoqSlpVkVH5MNj8DkyZNl7dq1JuDMzMxCF9nWK1lr1qwZHiAidUqABqBT6QxFMHrLpN76mJWVZX45bN++vXkqe7ly5WT37t2ydOlSc7eBDq4cCUVJWB+k1qvWtN59oEMfwqQPG9MHOJ07d85cDbVs2TJT8zq+//3vm3NuBgKJFtAH0ezduzfnsPp5vHDhQvNzw4YNpV27dpdNKb8nWusGuZePuvbaa+Wee+4x9a5rBOpneGT5HV16R5fgYSCQDAEagMlQ55hWCXzyyScyY8YMcxtDfkObf7ood40aNayKi8mGS8Dvw2m+853viK61xkDARgEagDZmjTnrVVDPPffcZb+I5lW5/fbbpU+fPiw3QrlYIfDvf//bPAFYb3MvaOgXk4MHD5YKFSpYEReTdEvA79rCeo6R39Bb3+fMmSO6rqvX0OUbdMmH4sWLu4VINNYI0AC0JlVMNJkCBw4cMN9Srl+/Xg4dOmROvLXh16JFC/P0VH0aHwOBVBagAZjK2WFu8RagARhvUfaXKIHTp0+bdaQ+/vhj+fbbb0V/rlSpkrkKRdcj1kYJAwGbBLT59/7778vGjRtlz549kp2dba5yTU9PN7dKtmrVSpo3b87DEGxKqmNzjVcDMMKivy/qXWJ6u6/Wf8WKFU2t65XdN910k2N6hGObAA1A2zLGfBFAAAEEEEAAAQQQQAABBBBAAAEEEPAhQAPQBxabIoAAAggggAACCCCAAAIIIIAAAgggYJsADUDbMsZ8EUAAAQQQQAABBBBAAAEEEEAAAQQQ8CFAA9AHFpsigAACCCCAAAIIIIAAAggggAACCCBgmwANQNsyxnwRQAABBBBAAAEEEEAAAQQQQAABBBDwIUAD0AcWmyKAAAIIIIAAAggggAACCCCAAAIIIGCbAA1A2zLGfBFAAAEEEEAAAQQQQAABBBBAAAEEEPAhQAPQBxabIoAAAggggAACCCCAAAIIIIAAAgggYJsADUDbMsZ8EUAAAQQQQAABBBBAAAEEEEAAAQQQ8CFAA9AHFpsigAACCCCAAAIIIIAAAggggAACCCBgmwANQNsyxnwRQAABBBBAAAEEEEAAAQQQQAABBBDwIUAD0AcWmyKAAAIIIIAAAggggAACCCCAAAIIIGCbAA1A2zLGfBFAAAEEEEAAAQQQQAABBBBAAAEEEPAhQAPQBxabIoAAAggggAACCCCAAAIIIIAAAgggYJsADUDbMsZ8EUAAAQQQQAABBBBAAAEEEEAAAQQQ8CFAA9AHFpsigAACCCCAAAIIIIAAAggggAACCCBgmwANQNsyxnwRQAABBBBAAAEEEEAAAQQQQAABBBDwIUAD0AcWmyKAAAIIIIAAAggggAACCCCAAAIIIGCbAA1A2zLGfBFAAAEEEEAAAQQQQAABBBBAAAEEEPAhQAPQBxabIoAAAggggAACCCCAAAIIIIAAAgggYJsADUDbMsZ8EUAAAQQQQAABBBBAAAEEEEAAAQQQ8CFAA9AHFpsigAACCCCAAAIIIIAAAggggAACCCBgmwANQNsyxnwRQAABBBBAAAEEEEAAAQQQQAABBBDwIUAD0AcWmyKAAAIIIIAAAggggAACCCCAAAIIIGCbAA1A2zLGfBFAAAEEEEAAAQQQQAABBBBAAAEEEPAhQAPQBxabIoAAAggggAACCCCAAAIIIIAAAgggYJsADUDbMsZ8EUAAAQQQQAABBBBAAAEEEEAAAQQQ8CFAA9AHFpsigAACCCCAAAIIIIAAAggggAACCCBgmwANQNsyxnwRQAABBBBAAAEEEEAAAQQQQAABBBDwIUAD0AcWmyKAAAIIIIAAAggggAACCCCAAAIIIGCbAA1A2zLGfBFAAAEEEEAAAQQQQAABBBBAAAEEEPAhQAPQBxabIoAAAggggAACCCCAAAIIIIAAAgggYJsADUDbMsZ8EUAAAQQQQAABBBBAAAEEEEAAAQQQ8CFAA9AHFpsigAACCCCAAAIIIIAAAggggAACCCBgmwANQNsyxnwRQAABBBBAAAEEEEAAAQQQQAABBBDwIUAD0AcWmyKAAAIIIIAAAggggAACCCCAAAIIIGCbAA1A2zLGfBFAAAEEEEAAAQQQQAABBBBAAAEEEPAhQAPQBxabIoAAAggggAACCCCAAAIIIIAAAgggYJsADUDbMsZ8EUAAAQQQQAABBBBAAAEEEEAAAQQQ8CFAA9AHFpsigAACCCCAAAIIIIAAAggggAACCCBgmwANQNsyxnwRQAABBBBAAAEEEEAAAQQQQAABBBDwIUAD0AcWmyKAAAIIIIAAAggggAACCCCAAAIIIGCbAA1A2zLGfBFAAAEEEEAAAQQQQAABBBBAAAEEEPAhQAPQBxabIoAAAggggAACCCCAAAIIIIAAAgggYJsADUDbMsZ8EUAAAQQQQAABBBBAAAEEEEAAAQQQ8CFAA9AHFpsigAACCCCAAAIIIIAAAggggAACCCBgmwANQNsyxnwRQAABBBBAAAEEEEAAAQQQQAABBBDwIUAD0AcWmyKAAAIIIIAAAggggAACCCCAAAIIIGCbAA1A2zLGfBFAAAEEEEAAAQQQQAABBBBAAAEEEPAhQAPQBxabIoAAAggggAACCCCAAAIIIIAAAgggYJsADUDbMsZ8EUAAAQQQQAABBBBAAAEEEEAAAQQQ8CFAA9AHFpsigAACCCCAAAIIIIAAAggggAACCCBgmwANQNsyxnwRQAABBBBAAAEEEEAAAQQQQAABBBDwIUAD0AcWmyKAAAIIIIAAAggggAACCCCAAAIIIGCbAA1A2zLGfBFAAAEEEEAAAQQQQAABBBBAAAEEEPAhQAPQBxabIoAAAggggAACCCCAAAIIIIAAAgggYJsADUDbMsZ8EUAAAQQQQAABBBBAAAEEEEAAAQQQ8CFAA9AHFpsigAACCCCAAAIIIIAAAggggAACCCBgmwANQNsyxnwRQAABBBBAAAEEEEAAAQQQQAABBBDwIUAD0AcWmyKAAAIIIIAAAggggAACCCCAAAIIIGCbAA1A2zLGfBFAAAEEEEAAAQQQQAABBBBAAAEEEPAhQAPQBxabIoAAAggggAACCCCAAAIIIIAAAgggYJsADUDbMsZ8EUAAAQQQQAABBBBAAAEEEEAAAQQQ8CFAA9AHFpsigAACCCCAAAIIIIAAAggggAACCCBgm8D/AZZXZv9rqulAAAAAAElFTkSuQmCC\" width=\"640\">"
      ],
      "text/plain": [
       "<IPython.core.display.HTML object>"
      ]
     },
     "metadata": {},
     "output_type": "display_data"
    }
   ],
   "source": [
    "# SciPy #\n",
    "from scipy import interpolate\n",
    "\n",
    "# choose eight points between 0 and 10\n",
    "x = np.linspace(0, 10, 8)\n",
    "y = np.sin(x)\n",
    "\n",
    "# create a cubic interpolation function\n",
    "func = interpolate.interp1d(x, y, kind='cubic')\n",
    "\n",
    "# interpolate on a grid of 1,000 points\n",
    "x_interp = np.linspace(0, 10, 1000)\n",
    "y_interp = func(x_interp)\n",
    "\n",
    "# plot the results\n",
    "plt.figure() # new figure\n",
    "plt.plot(x, y, 'o')\n",
    "plt.plot(x_interp, y_interp);"
   ]
  },
  {
   "cell_type": "code",
   "execution_count": null,
   "metadata": {},
   "outputs": [],
   "source": []
  }
 ],
 "metadata": {
  "kernelspec": {
   "display_name": "Python 3",
   "language": "python",
   "name": "python3"
  },
  "language_info": {
   "codemirror_mode": {
    "name": "ipython",
    "version": 3
   },
   "file_extension": ".py",
   "mimetype": "text/x-python",
   "name": "python",
   "nbconvert_exporter": "python",
   "pygments_lexer": "ipython3",
   "version": "3.7.3"
  }
 },
 "nbformat": 4,
 "nbformat_minor": 2
}
